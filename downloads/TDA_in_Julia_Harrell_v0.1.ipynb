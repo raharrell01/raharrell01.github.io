{
 "cells": [
  {
   "cell_type": "markdown",
   "id": "f069fc93",
   "metadata": {},
   "source": [
    "# Topological Data Analysis in Julia\n",
    "### Demonstrating different TDA Packages\n",
    "#### R. Avery Harrell"
   ]
  },
  {
   "cell_type": "markdown",
   "id": "abc4fe87",
   "metadata": {},
   "source": [
    "There are many packages one can use to perform TDA in the Julia language. These include Ripserer.jl, TDA.jl, PersistenceDiagrams.jl, Hodge.jl and ComputationalHomology.jl. \n",
    "\n",
    "This notebook will demonstrate the capabilities of Ripserer.jl, PersistenceDiagrams.jl, and Hodge.jl.\n",
    "\n",
    "The data used in this notebook come from an August, 2019 REU supervised by Dr. Markus Pflaum concerning geological properties of meteorites."
   ]
  },
  {
   "cell_type": "markdown",
   "id": "197c9e23",
   "metadata": {},
   "source": [
    "### Data\n",
    "We will use the CSV.jl package to import and process the meteorite data from a csv file.\n",
    "source: https://csv.juliadata.org/stable/"
   ]
  },
  {
   "cell_type": "raw",
   "id": "cd1e0b84",
   "metadata": {},
   "source": [
    "] add CSV"
   ]
  },
  {
   "cell_type": "raw",
   "id": "a4c356d8",
   "metadata": {},
   "source": [
    "] add DataFrames"
   ]
  },
  {
   "cell_type": "raw",
   "id": "2590e67a",
   "metadata": {},
   "source": [
    "] add Plots"
   ]
  },
  {
   "cell_type": "raw",
   "id": "b2978317",
   "metadata": {},
   "source": [
    "] add Distances"
   ]
  },
  {
   "cell_type": "code",
   "execution_count": 105,
   "id": "7b20d175",
   "metadata": {
    "scrolled": true
   },
   "outputs": [
    {
     "data": {
      "text/html": [
       "<div><div style = \"float: left;\"><span>328×14 DataFrame</span></div><div style = \"float: right;\"><span style = \"font-style: italic;\">303 rows omitted</span></div><div style = \"clear: both;\"></div></div><div class = \"data-frame\" style = \"overflow-x: scroll;\"><table class = \"data-frame\" style = \"margin-bottom: 6px;\"><thead><tr class = \"header\"><th class = \"rowNumber\" style = \"font-weight: bold; text-align: right;\">Row</th><th style = \"text-align: left;\">Column1</th><th style = \"text-align: left;\">Name</th><th style = \"text-align: left;\">Class</th><th style = \"text-align: left;\">Subtype</th><th style = \"text-align: left;\">D170</th><th style = \"text-align: left;\">d30Si</th><th style = \"text-align: left;\">d51V</th><th style = \"text-align: left;\">e53Cr</th><th style = \"text-align: left;\">e54Cr</th><th style = \"text-align: left;\">D170_2se</th><th style = \"text-align: left;\">d30Si_2se</th><th style = \"text-align: left;\">d51V_2se</th><th style = \"text-align: left;\">e53Cr_2se</th><th style = \"text-align: left;\">e54Cr_2se</th></tr><tr class = \"subheader headerLastRow\"><th class = \"rowNumber\" style = \"font-weight: bold; text-align: right;\"></th><th title = \"Int64\" style = \"text-align: left;\">Int64</th><th title = \"String31\" style = \"text-align: left;\">String31</th><th title = \"String31\" style = \"text-align: left;\">String31</th><th title = \"String\" style = \"text-align: left;\">String</th><th title = \"Union{Missing, Float64}\" style = \"text-align: left;\">Float64?</th><th title = \"Union{Missing, Float64}\" style = \"text-align: left;\">Float64?</th><th title = \"Union{Missing, Float64}\" style = \"text-align: left;\">Float64?</th><th title = \"Union{Missing, Float64}\" style = \"text-align: left;\">Float64?</th><th title = \"Union{Missing, Float64}\" style = \"text-align: left;\">Float64?</th><th title = \"Union{Missing, Float64}\" style = \"text-align: left;\">Float64?</th><th title = \"Union{Missing, Float64}\" style = \"text-align: left;\">Float64?</th><th title = \"Union{Missing, Float64}\" style = \"text-align: left;\">Float64?</th><th title = \"Union{Missing, Float64}\" style = \"text-align: left;\">Float64?</th><th title = \"Union{Missing, Float64}\" style = \"text-align: left;\">Float64?</th></tr></thead><tbody><tr><td class = \"rowNumber\" style = \"font-weight: bold; text-align: right;\">1</td><td style = \"text-align: right;\">0</td><td style = \"text-align: left;\">10049</td><td style = \"text-align: left;\">Moon</td><td style = \"text-align: left;\">None</td><td style = \"font-style: italic; text-align: right;\">missing</td><td style = \"text-align: right;\">-0.28</td><td style = \"font-style: italic; text-align: right;\">missing</td><td style = \"font-style: italic; text-align: right;\">missing</td><td style = \"font-style: italic; text-align: right;\">missing</td><td style = \"font-style: italic; text-align: right;\">missing</td><td style = \"text-align: right;\">0.03</td><td style = \"font-style: italic; text-align: right;\">missing</td><td style = \"font-style: italic; text-align: right;\">missing</td><td style = \"font-style: italic; text-align: right;\">missing</td></tr><tr><td class = \"rowNumber\" style = \"font-weight: bold; text-align: right;\">2</td><td style = \"text-align: right;\">1</td><td style = \"text-align: left;\">12054</td><td style = \"text-align: left;\">Moon</td><td style = \"text-align: left;\">Ilmenitebasalt1969 ...</td><td style = \"font-style: italic; text-align: right;\">missing</td><td style = \"text-align: right;\">-0.29</td><td style = \"font-style: italic; text-align: right;\">missing</td><td style = \"font-style: italic; text-align: right;\">missing</td><td style = \"font-style: italic; text-align: right;\">missing</td><td style = \"font-style: italic; text-align: right;\">missing</td><td style = \"text-align: right;\">0.05</td><td style = \"font-style: italic; text-align: right;\">missing</td><td style = \"font-style: italic; text-align: right;\">missing</td><td style = \"font-style: italic; text-align: right;\">missing</td></tr><tr><td class = \"rowNumber\" style = \"font-weight: bold; text-align: right;\">3</td><td style = \"text-align: right;\">2</td><td style = \"text-align: left;\">12061</td><td style = \"text-align: left;\">Moon</td><td style = \"text-align: left;\">None</td><td style = \"font-style: italic; text-align: right;\">missing</td><td style = \"font-style: italic; text-align: right;\">missing</td><td style = \"font-style: italic; text-align: right;\">missing</td><td style = \"text-align: right;\">0.22</td><td style = \"text-align: right;\">0.1</td><td style = \"font-style: italic; text-align: right;\">missing</td><td style = \"font-style: italic; text-align: right;\">missing</td><td style = \"font-style: italic; text-align: right;\">missing</td><td style = \"text-align: right;\">0.1</td><td style = \"text-align: right;\">0.06</td></tr><tr><td class = \"rowNumber\" style = \"font-weight: bold; text-align: right;\">4</td><td style = \"text-align: right;\">3</td><td style = \"text-align: left;\">14053</td><td style = \"text-align: left;\">Moon</td><td style = \"text-align: left;\">None</td><td style = \"font-style: italic; text-align: right;\">missing</td><td style = \"text-align: right;\">-0.27</td><td style = \"font-style: italic; text-align: right;\">missing</td><td style = \"font-style: italic; text-align: right;\">missing</td><td style = \"font-style: italic; text-align: right;\">missing</td><td style = \"font-style: italic; text-align: right;\">missing</td><td style = \"text-align: right;\">0.07</td><td style = \"font-style: italic; text-align: right;\">missing</td><td style = \"font-style: italic; text-align: right;\">missing</td><td style = \"font-style: italic; text-align: right;\">missing</td></tr><tr><td class = \"rowNumber\" style = \"font-weight: bold; text-align: right;\">5</td><td style = \"text-align: right;\">4</td><td style = \"text-align: left;\">15555</td><td style = \"text-align: left;\">Moon</td><td style = \"text-align: left;\">None</td><td style = \"font-style: italic; text-align: right;\">missing</td><td style = \"text-align: right;\">-0.28</td><td style = \"font-style: italic; text-align: right;\">missing</td><td style = \"font-style: italic; text-align: right;\">missing</td><td style = \"font-style: italic; text-align: right;\">missing</td><td style = \"font-style: italic; text-align: right;\">missing</td><td style = \"text-align: right;\">0.04</td><td style = \"font-style: italic; text-align: right;\">missing</td><td style = \"font-style: italic; text-align: right;\">missing</td><td style = \"font-style: italic; text-align: right;\">missing</td></tr><tr><td class = \"rowNumber\" style = \"font-weight: bold; text-align: right;\">6</td><td style = \"text-align: right;\">5</td><td style = \"text-align: left;\">70017</td><td style = \"text-align: left;\">Moon</td><td style = \"text-align: left;\">None</td><td style = \"font-style: italic; text-align: right;\">missing</td><td style = \"font-style: italic; text-align: right;\">missing</td><td style = \"font-style: italic; text-align: right;\">missing</td><td style = \"text-align: right;\">0.08</td><td style = \"text-align: right;\">0.03</td><td style = \"font-style: italic; text-align: right;\">missing</td><td style = \"font-style: italic; text-align: right;\">missing</td><td style = \"font-style: italic; text-align: right;\">missing</td><td style = \"text-align: right;\">0.12</td><td style = \"text-align: right;\">0.06</td></tr><tr><td class = \"rowNumber\" style = \"font-weight: bold; text-align: right;\">7</td><td style = \"text-align: right;\">6</td><td style = \"text-align: left;\">77215</td><td style = \"text-align: left;\">Moon</td><td style = \"text-align: left;\">None</td><td style = \"font-style: italic; text-align: right;\">missing</td><td style = \"text-align: right;\">-0.24</td><td style = \"font-style: italic; text-align: right;\">missing</td><td style = \"font-style: italic; text-align: right;\">missing</td><td style = \"font-style: italic; text-align: right;\">missing</td><td style = \"font-style: italic; text-align: right;\">missing</td><td style = \"text-align: right;\">0.04</td><td style = \"font-style: italic; text-align: right;\">missing</td><td style = \"font-style: italic; text-align: right;\">missing</td><td style = \"font-style: italic; text-align: right;\">missing</td></tr><tr><td class = \"rowNumber\" style = \"font-weight: bold; text-align: right;\">8</td><td style = \"text-align: right;\">7</td><td style = \"text-align: left;\">A881334</td><td style = \"text-align: left;\">Carbonaceous Chondrites</td><td style = \"text-align: left;\">CM2 ...</td><td style = \"text-align: right;\">-4.16</td><td style = \"font-style: italic; text-align: right;\">missing</td><td style = \"font-style: italic; text-align: right;\">missing</td><td style = \"font-style: italic; text-align: right;\">missing</td><td style = \"font-style: italic; text-align: right;\">missing</td><td style = \"text-align: right;\">0.07</td><td style = \"font-style: italic; text-align: right;\">missing</td><td style = \"font-style: italic; text-align: right;\">missing</td><td style = \"font-style: italic; text-align: right;\">missing</td><td style = \"font-style: italic; text-align: right;\">missing</td></tr><tr><td class = \"rowNumber\" style = \"font-weight: bold; text-align: right;\">9</td><td style = \"text-align: right;\">8</td><td style = \"text-align: left;\">A881594</td><td style = \"text-align: left;\">Carbonaceous Chondrites</td><td style = \"text-align: left;\">CM2 ...</td><td style = \"text-align: right;\">-2.49</td><td style = \"font-style: italic; text-align: right;\">missing</td><td style = \"font-style: italic; text-align: right;\">missing</td><td style = \"font-style: italic; text-align: right;\">missing</td><td style = \"font-style: italic; text-align: right;\">missing</td><td style = \"text-align: right;\">0.07</td><td style = \"font-style: italic; text-align: right;\">missing</td><td style = \"font-style: italic; text-align: right;\">missing</td><td style = \"font-style: italic; text-align: right;\">missing</td><td style = \"font-style: italic; text-align: right;\">missing</td></tr><tr><td class = \"rowNumber\" style = \"font-weight: bold; text-align: right;\">10</td><td style = \"text-align: right;\">9</td><td style = \"text-align: left;\">A881655</td><td style = \"text-align: left;\">Carbonaceous Chondrites</td><td style = \"text-align: left;\">CM2 ...</td><td style = \"text-align: right;\">-2.37</td><td style = \"font-style: italic; text-align: right;\">missing</td><td style = \"font-style: italic; text-align: right;\">missing</td><td style = \"font-style: italic; text-align: right;\">missing</td><td style = \"font-style: italic; text-align: right;\">missing</td><td style = \"text-align: right;\">0.07</td><td style = \"font-style: italic; text-align: right;\">missing</td><td style = \"font-style: italic; text-align: right;\">missing</td><td style = \"font-style: italic; text-align: right;\">missing</td><td style = \"font-style: italic; text-align: right;\">missing</td></tr><tr><td class = \"rowNumber\" style = \"font-weight: bold; text-align: right;\">11</td><td style = \"text-align: right;\">10</td><td style = \"text-align: left;\">A881955</td><td style = \"text-align: left;\">Carbonaceous Chondrites</td><td style = \"text-align: left;\">CM2 ...</td><td style = \"text-align: right;\">-2.58</td><td style = \"font-style: italic; text-align: right;\">missing</td><td style = \"font-style: italic; text-align: right;\">missing</td><td style = \"font-style: italic; text-align: right;\">missing</td><td style = \"font-style: italic; text-align: right;\">missing</td><td style = \"text-align: right;\">0.07</td><td style = \"font-style: italic; text-align: right;\">missing</td><td style = \"font-style: italic; text-align: right;\">missing</td><td style = \"font-style: italic; text-align: right;\">missing</td><td style = \"font-style: italic; text-align: right;\">missing</td></tr><tr><td class = \"rowNumber\" style = \"font-weight: bold; text-align: right;\">12</td><td style = \"text-align: right;\">11</td><td style = \"text-align: left;\">ALH76005.17</td><td style = \"text-align: left;\">Vesta</td><td style = \"text-align: left;\">Eucrite ...</td><td style = \"text-align: right;\">0.34</td><td style = \"font-style: italic; text-align: right;\">missing</td><td style = \"font-style: italic; text-align: right;\">missing</td><td style = \"font-style: italic; text-align: right;\">missing</td><td style = \"font-style: italic; text-align: right;\">missing</td><td style = \"text-align: right;\">0.07</td><td style = \"font-style: italic; text-align: right;\">missing</td><td style = \"font-style: italic; text-align: right;\">missing</td><td style = \"font-style: italic; text-align: right;\">missing</td><td style = \"font-style: italic; text-align: right;\">missing</td></tr><tr><td class = \"rowNumber\" style = \"font-weight: bold; text-align: right;\">13</td><td style = \"text-align: right;\">12</td><td style = \"text-align: left;\">ALH76005.20</td><td style = \"text-align: left;\">Vesta</td><td style = \"text-align: left;\">Eucrite ...</td><td style = \"text-align: right;\">0.33</td><td style = \"font-style: italic; text-align: right;\">missing</td><td style = \"font-style: italic; text-align: right;\">missing</td><td style = \"font-style: italic; text-align: right;\">missing</td><td style = \"font-style: italic; text-align: right;\">missing</td><td style = \"text-align: right;\">0.07</td><td style = \"font-style: italic; text-align: right;\">missing</td><td style = \"font-style: italic; text-align: right;\">missing</td><td style = \"font-style: italic; text-align: right;\">missing</td><td style = \"font-style: italic; text-align: right;\">missing</td></tr><tr><td style = \"text-align: right;\">&vellip;</td><td style = \"text-align: right;\">&vellip;</td><td style = \"text-align: right;\">&vellip;</td><td style = \"text-align: right;\">&vellip;</td><td style = \"text-align: right;\">&vellip;</td><td style = \"text-align: right;\">&vellip;</td><td style = \"text-align: right;\">&vellip;</td><td style = \"text-align: right;\">&vellip;</td><td style = \"text-align: right;\">&vellip;</td><td style = \"text-align: right;\">&vellip;</td><td style = \"text-align: right;\">&vellip;</td><td style = \"text-align: right;\">&vellip;</td><td style = \"text-align: right;\">&vellip;</td><td style = \"text-align: right;\">&vellip;</td><td style = \"text-align: right;\">&vellip;</td></tr><tr><td class = \"rowNumber\" style = \"font-weight: bold; text-align: right;\">317</td><td style = \"text-align: right;\">316</td><td style = \"text-align: left;\">Y793595</td><td style = \"text-align: left;\">Carbonaceous Chondrites</td><td style = \"text-align: left;\">CM2 ...</td><td style = \"text-align: right;\">-2.45</td><td style = \"font-style: italic; text-align: right;\">missing</td><td style = \"font-style: italic; text-align: right;\">missing</td><td style = \"font-style: italic; text-align: right;\">missing</td><td style = \"font-style: italic; text-align: right;\">missing</td><td style = \"text-align: right;\">0.07</td><td style = \"font-style: italic; text-align: right;\">missing</td><td style = \"font-style: italic; text-align: right;\">missing</td><td style = \"font-style: italic; text-align: right;\">missing</td><td style = \"font-style: italic; text-align: right;\">missing</td></tr><tr><td class = \"rowNumber\" style = \"font-weight: bold; text-align: right;\">318</td><td style = \"text-align: right;\">317</td><td style = \"text-align: left;\">Y82042</td><td style = \"text-align: left;\">Carbonaceous Chondrites</td><td style = \"text-align: left;\">CM1/2 ...</td><td style = \"text-align: right;\">-2.02</td><td style = \"font-style: italic; text-align: right;\">missing</td><td style = \"font-style: italic; text-align: right;\">missing</td><td style = \"font-style: italic; text-align: right;\">missing</td><td style = \"font-style: italic; text-align: right;\">missing</td><td style = \"text-align: right;\">0.07</td><td style = \"font-style: italic; text-align: right;\">missing</td><td style = \"font-style: italic; text-align: right;\">missing</td><td style = \"font-style: italic; text-align: right;\">missing</td><td style = \"font-style: italic; text-align: right;\">missing</td></tr><tr><td class = \"rowNumber\" style = \"font-weight: bold; text-align: right;\">319</td><td style = \"text-align: right;\">318</td><td style = \"text-align: left;\">Y82054</td><td style = \"text-align: left;\">Carbonaceous Chondrites</td><td style = \"text-align: left;\">CM2 ...</td><td style = \"text-align: right;\">-4.84</td><td style = \"font-style: italic; text-align: right;\">missing</td><td style = \"font-style: italic; text-align: right;\">missing</td><td style = \"font-style: italic; text-align: right;\">missing</td><td style = \"font-style: italic; text-align: right;\">missing</td><td style = \"text-align: right;\">0.07</td><td style = \"font-style: italic; text-align: right;\">missing</td><td style = \"font-style: italic; text-align: right;\">missing</td><td style = \"font-style: italic; text-align: right;\">missing</td><td style = \"font-style: italic; text-align: right;\">missing</td></tr><tr><td class = \"rowNumber\" style = \"font-weight: bold; text-align: right;\">320</td><td style = \"text-align: right;\">319</td><td style = \"text-align: left;\">Y82098</td><td style = \"text-align: left;\">Carbonaceous Chondrites</td><td style = \"text-align: left;\">CM2 ...</td><td style = \"text-align: right;\">-3.81</td><td style = \"font-style: italic; text-align: right;\">missing</td><td style = \"font-style: italic; text-align: right;\">missing</td><td style = \"font-style: italic; text-align: right;\">missing</td><td style = \"font-style: italic; text-align: right;\">missing</td><td style = \"text-align: right;\">0.07</td><td style = \"font-style: italic; text-align: right;\">missing</td><td style = \"font-style: italic; text-align: right;\">missing</td><td style = \"font-style: italic; text-align: right;\">missing</td><td style = \"font-style: italic; text-align: right;\">missing</td></tr><tr><td class = \"rowNumber\" style = \"font-weight: bold; text-align: right;\">321</td><td style = \"text-align: right;\">320</td><td style = \"text-align: left;\">Y82104</td><td style = \"text-align: left;\">Carbonaceous Chondrites</td><td style = \"text-align: left;\">CK5 ...</td><td style = \"text-align: right;\">-4.3</td><td style = \"font-style: italic; text-align: right;\">missing</td><td style = \"font-style: italic; text-align: right;\">missing</td><td style = \"font-style: italic; text-align: right;\">missing</td><td style = \"font-style: italic; text-align: right;\">missing</td><td style = \"text-align: right;\">0.07</td><td style = \"font-style: italic; text-align: right;\">missing</td><td style = \"font-style: italic; text-align: right;\">missing</td><td style = \"font-style: italic; text-align: right;\">missing</td><td style = \"font-style: italic; text-align: right;\">missing</td></tr><tr><td class = \"rowNumber\" style = \"font-weight: bold; text-align: right;\">322</td><td style = \"text-align: right;\">321</td><td style = \"text-align: left;\">Y82162</td><td style = \"text-align: left;\">Carbonaceous Chondrites</td><td style = \"text-align: left;\">C1/2-un ...</td><td style = \"text-align: right;\">0.38</td><td style = \"font-style: italic; text-align: right;\">missing</td><td style = \"font-style: italic; text-align: right;\">missing</td><td style = \"font-style: italic; text-align: right;\">missing</td><td style = \"font-style: italic; text-align: right;\">missing</td><td style = \"text-align: right;\">0.07</td><td style = \"font-style: italic; text-align: right;\">missing</td><td style = \"font-style: italic; text-align: right;\">missing</td><td style = \"font-style: italic; text-align: right;\">missing</td><td style = \"font-style: italic; text-align: right;\">missing</td></tr><tr><td class = \"rowNumber\" style = \"font-weight: bold; text-align: right;\">323</td><td style = \"text-align: right;\">322</td><td style = \"text-align: left;\">Y8449</td><td style = \"text-align: left;\">Carbonaceous Chondrites</td><td style = \"text-align: left;\">CR2 ...</td><td style = \"font-style: italic; text-align: right;\">-2.16</td><td style = \"font-style: italic; text-align: right;\">missing</td><td style = \"text-align: right;\">missing</td><td style = \"font-style: italic; text-align: right;\">missing</td><td style = \"font-style: italic; text-align: right;\">missing</td><td style = \"font-style: italic; text-align: right;\">0.07</td><td style = \"font-style: italic; text-align: right;\">missing</td><td style = \"text-align: right;\">missing</td><td style = \"font-style: italic; text-align: right;\">missing</td><td style = \"font-style: italic; text-align: right;\">missing</td></tr><tr><td class = \"rowNumber\" style = \"font-weight: bold; text-align: right;\">324</td><td style = \"text-align: right;\">323</td><td style = \"text-align: left;\">Y86695</td><td style = \"text-align: left;\">Carbonaceous Chondrites</td><td style = \"text-align: left;\">CM2 ...</td><td style = \"font-style: italic; text-align: right;\">-4.14</td><td style = \"font-style: italic; text-align: right;\">missing</td><td style = \"text-align: right;\">missing</td><td style = \"font-style: italic; text-align: right;\">missing</td><td style = \"font-style: italic; text-align: right;\">missing</td><td style = \"font-style: italic; text-align: right;\">0.07</td><td style = \"font-style: italic; text-align: right;\">missing</td><td style = \"text-align: right;\">missing</td><td style = \"font-style: italic; text-align: right;\">missing</td><td style = \"font-style: italic; text-align: right;\">missing</td></tr><tr><td class = \"rowNumber\" style = \"font-weight: bold; text-align: right;\">325</td><td style = \"text-align: right;\">324</td><td style = \"text-align: left;\">Y86720</td><td style = \"text-align: left;\">Carbonaceous Chondrites</td><td style = \"text-align: left;\">C2-un ...</td><td style = \"text-align: right;\">-0.01</td><td style = \"font-style: italic; text-align: right;\">missing</td><td style = \"font-style: italic; text-align: right;\">missing</td><td style = \"font-style: italic; text-align: right;\">missing</td><td style = \"font-style: italic; text-align: right;\">missing</td><td style = \"text-align: right;\">0.07</td><td style = \"font-style: italic; text-align: right;\">missing</td><td style = \"font-style: italic; text-align: right;\">missing</td><td style = \"font-style: italic; text-align: right;\">missing</td><td style = \"font-style: italic; text-align: right;\">missing</td></tr><tr><td class = \"rowNumber\" style = \"font-weight: bold; text-align: right;\">326</td><td style = \"text-align: right;\">325</td><td style = \"text-align: left;\">Y86789</td><td style = \"text-align: left;\">Carbonaceous Chondrites</td><td style = \"text-align: left;\">C2-un ...</td><td style = \"font-style: italic; text-align: right;\">-0.06</td><td style = \"text-align: right;\">missing</td><td style = \"font-style: italic; text-align: right;\">missing</td><td style = \"font-style: italic; text-align: right;\">missing</td><td style = \"font-style: italic; text-align: right;\">missing</td><td style = \"font-style: italic; text-align: right;\">0.07</td><td style = \"text-align: right;\">missing</td><td style = \"font-style: italic; text-align: right;\">missing</td><td style = \"font-style: italic; text-align: right;\">missing</td><td style = \"font-style: italic; text-align: right;\">missing</td></tr><tr><td class = \"rowNumber\" style = \"font-weight: bold; text-align: right;\">327</td><td style = \"text-align: right;\">326</td><td style = \"text-align: left;\">Zagami</td><td style = \"text-align: left;\">Mars</td><td style = \"text-align: left;\">Shergottite_basalt ...</td><td style = \"font-style: italic; text-align: right;\">0.343</td><td style = \"font-style: italic; text-align: right;\">-0.49</td><td style = \"font-style: italic; text-align: right;\">missing</td><td style = \"text-align: right;\">missing</td><td style = \"text-align: right;\">missing</td><td style = \"font-style: italic; text-align: right;\">0.056</td><td style = \"font-style: italic; text-align: right;\">0.05</td><td style = \"font-style: italic; text-align: right;\">missing</td><td style = \"text-align: right;\">missing</td><td style = \"text-align: right;\">missing</td></tr><tr><td class = \"rowNumber\" style = \"font-weight: bold; text-align: right;\">328</td><td style = \"text-align: right;\">327</td><td style = \"text-align: left;\">Zhovtnevyi</td><td style = \"text-align: left;\">Ordinary Chondrites</td><td style = \"text-align: left;\">H5 ...</td><td style = \"font-style: italic; text-align: right;\">0.86</td><td style = \"text-align: right;\">missing</td><td style = \"font-style: italic; text-align: right;\">missing</td><td style = \"text-align: right;\">missing</td><td style = \"text-align: right;\">missing</td><td style = \"font-style: italic; text-align: right;\">0.07</td><td style = \"text-align: right;\">missing</td><td style = \"font-style: italic; text-align: right;\">missing</td><td style = \"text-align: right;\">missing</td><td style = \"text-align: right;\">missing</td></tr></tbody></table></div>"
      ],
      "text/latex": [
       "\\begin{tabular}{r|cccccc}\n",
       "\t& Column1 & Name & Class & Subtype & D170 & \\\\\n",
       "\t\\hline\n",
       "\t& Int64 & String31 & String31 & String & Float64? & \\\\\n",
       "\t\\hline\n",
       "\t1 & 0 & 10049 & Moon & None & \\emph{missing} & $\\dots$ \\\\\n",
       "\t2 & 1 & 12054 & Moon & Ilmenitebasalt1969 ... & \\emph{missing} & $\\dots$ \\\\\n",
       "\t3 & 2 & 12061 & Moon & None & \\emph{missing} & $\\dots$ \\\\\n",
       "\t4 & 3 & 14053 & Moon & None & \\emph{missing} & $\\dots$ \\\\\n",
       "\t5 & 4 & 15555 & Moon & None & \\emph{missing} & $\\dots$ \\\\\n",
       "\t6 & 5 & 70017 & Moon & None & \\emph{missing} & $\\dots$ \\\\\n",
       "\t7 & 6 & 77215 & Moon & None & \\emph{missing} & $\\dots$ \\\\\n",
       "\t8 & 7 & A881334 & Carbonaceous Chondrites & CM2 ... & -4.16 & $\\dots$ \\\\\n",
       "\t9 & 8 & A881594 & Carbonaceous Chondrites & CM2 ... & -2.49 & $\\dots$ \\\\\n",
       "\t10 & 9 & A881655 & Carbonaceous Chondrites & CM2 ... & -2.37 & $\\dots$ \\\\\n",
       "\t11 & 10 & A881955 & Carbonaceous Chondrites & CM2 ... & -2.58 & $\\dots$ \\\\\n",
       "\t12 & 11 & ALH76005.17 & Vesta & Eucrite ... & 0.34 & $\\dots$ \\\\\n",
       "\t13 & 12 & ALH76005.20 & Vesta & Eucrite ... & 0.33 & $\\dots$ \\\\\n",
       "\t14 & 13 & ALH77055 & Mars & None & 0.326 & $\\dots$ \\\\\n",
       "\t15 & 14 & ALH77302.27 & Vesta & Eucrite ... & 0.53 & $\\dots$ \\\\\n",
       "\t16 & 15 & ALH77307 & Carbonaceous Chondrites & CO3 ... & -4.47 & $\\dots$ \\\\\n",
       "\t17 & 16 & ALH78132.50 & Vesta & Eucrite ... & 0.29 & $\\dots$ \\\\\n",
       "\t18 & 17 & ALH82135 & Carbonaceous Chondrites & CK4 ... & -4.17 & $\\dots$ \\\\\n",
       "\t19 & 18 & ALH83100 & Carbonaceous Chondrites & CM1/2 ... & -2.5 & $\\dots$ \\\\\n",
       "\t20 & 19 & ALH83100.202 & Carbonaceous Chondrites & CM2 ... & \\emph{missing} & $\\dots$ \\\\\n",
       "\t21 & 20 & ALH83108.40 & Carbonaceous Chondrites & CO3.5 ... & \\emph{missing} & $\\dots$ \\\\\n",
       "\t22 & 21 & ALH85085 & Carbonaceous Chondrites & CH3 ... & -1.62 & $\\dots$ \\\\\n",
       "\t23 & 22 & ALHA-78132 & Vesta & Eucrite ... & \\emph{missing} & $\\dots$ \\\\\n",
       "\t24 & 23 & ALHA77295 & Enstatite Chondrites & EH3 ... & \\emph{missing} & $\\dots$ \\\\\n",
       "\t25 & 24 & Abee & Enstatite Chondrites & EH4 ... & \\emph{missing} & $\\dots$ \\\\\n",
       "\t26 & 25 & Abee EH4 & Enstatite Chondrites & EH4 ... & \\emph{missing} & $\\dots$ \\\\\n",
       "\t27 & 26 & Acfer-380 & Ordinary Chondrites & H5 ... & \\emph{missing} & $\\dots$ \\\\\n",
       "\t28 & 27 & Acfer082 & Carbonaceous Chondrites & CV3 ... & -3.73 & $\\dots$ \\\\\n",
       "\t29 & 28 & Acfer086 & Carbonaceous Chondrites & CV3 ... & -3.4 & $\\dots$ \\\\\n",
       "\t30 & 29 & Acfer094 & Carbonaceous Chondrites & C2-un ... & -4.52 & $\\dots$ \\\\\n",
       "\t$\\dots$ & $\\dots$ & $\\dots$ & $\\dots$ & $\\dots$ & $\\dots$ &  \\\\\n",
       "\\end{tabular}\n"
      ],
      "text/plain": [
       "\u001b[1m328×14 DataFrame\u001b[0m\n",
       "\u001b[1m Row \u001b[0m│\u001b[1m Column1 \u001b[0m\u001b[1m Name        \u001b[0m\u001b[1m Class                   \u001b[0m\u001b[1m Subtype                \u001b[0m\u001b[1m \u001b[0m ⋯\n",
       "     │\u001b[90m Int64   \u001b[0m\u001b[90m String31    \u001b[0m\u001b[90m String31                \u001b[0m\u001b[90m String                 \u001b[0m\u001b[90m \u001b[0m ⋯\n",
       "─────┼──────────────────────────────────────────────────────────────────────────\n",
       "   1 │       0  10049        Moon                     None                   \u001b[90m \u001b[0m ⋯\n",
       "   2 │       1  12054        Moon                     Ilmenitebasalt1969 ... \u001b[90m \u001b[0m\n",
       "   3 │       2  12061        Moon                     None                   \u001b[90m \u001b[0m\n",
       "   4 │       3  14053        Moon                     None                   \u001b[90m \u001b[0m\n",
       "   5 │       4  15555        Moon                     None                   \u001b[90m \u001b[0m ⋯\n",
       "   6 │       5  70017        Moon                     None                   \u001b[90m \u001b[0m\n",
       "   7 │       6  77215        Moon                     None                   \u001b[90m \u001b[0m\n",
       "   8 │       7  A881334      Carbonaceous Chondrites  CM2 ...\n",
       "   9 │       8  A881594      Carbonaceous Chondrites  CM2 ...                  ⋯\n",
       "  10 │       9  A881655      Carbonaceous Chondrites  CM2 ...\n",
       "  11 │      10  A881955      Carbonaceous Chondrites  CM2 ...\n",
       "  ⋮  │    ⋮          ⋮                  ⋮                       ⋮              ⋱\n",
       " 319 │     318  Y82054       Carbonaceous Chondrites  CM2 ...\n",
       " 320 │     319  Y82098       Carbonaceous Chondrites  CM2 ...                  ⋯\n",
       " 321 │     320  Y82104       Carbonaceous Chondrites  CK5 ...\n",
       " 322 │     321  Y82162       Carbonaceous Chondrites  C1/2-un ...\n",
       " 323 │     322  Y8449        Carbonaceous Chondrites  CR2 ...\n",
       " 324 │     323  Y86695       Carbonaceous Chondrites  CM2 ...                  ⋯\n",
       " 325 │     324  Y86720       Carbonaceous Chondrites  C2-un ...\n",
       " 326 │     325  Y86789       Carbonaceous Chondrites  C2-un ...\n",
       " 327 │     326  Zagami       Mars                     Shergottite_basalt ...\n",
       " 328 │     327  Zhovtnevyi   Ordinary Chondrites      H5 ...                   ⋯\n",
       "\u001b[36m                                                 10 columns and 307 rows omitted\u001b[0m"
      ]
     },
     "execution_count": 105,
     "metadata": {},
     "output_type": "execute_result"
    }
   ],
   "source": [
    "using CSV\n",
    "using DataFrames\n",
    "file=CSV.read(\"meteorites-table.csv\",DataFrame,missingstring=\"NaN\")\n",
    "## the conjunction of the CSV and DataFrames package allows \n",
    "## csv data to be processed into a DataFrame that is \n",
    "## similar to that used in the pandas library of Python."
   ]
  },
  {
   "cell_type": "code",
   "execution_count": 106,
   "id": "edac67b8",
   "metadata": {
    "scrolled": true
   },
   "outputs": [
    {
     "data": {
      "text/plain": [
       "328-element SentinelArrays.SentinelVector{Float64, Float64, Missing, Vector{Float64}}:\n",
       "   missing\n",
       "   missing\n",
       "   missing\n",
       "   missing\n",
       "   missing\n",
       "   missing\n",
       "   missing\n",
       " -4.16\n",
       " -2.49\n",
       " -2.37\n",
       " -2.58\n",
       "  0.34\n",
       "  0.33\n",
       "  ⋮\n",
       " -2.45\n",
       " -2.02\n",
       " -4.84\n",
       " -3.81\n",
       " -4.3\n",
       "  0.38\n",
       " -2.16\n",
       " -4.14\n",
       " -0.01\n",
       " -0.06\n",
       "  0.343\n",
       "  0.86"
      ]
     },
     "execution_count": 106,
     "metadata": {},
     "output_type": "execute_result"
    }
   ],
   "source": [
    "dataD17O=file[!,\"D170\"]"
   ]
  },
  {
   "cell_type": "code",
   "execution_count": 107,
   "id": "58191081",
   "metadata": {
    "scrolled": true
   },
   "outputs": [
    {
     "data": {
      "text/plain": [
       "185-element Vector{Union{Missing, Float64}}:\n",
       "   missing\n",
       " -4.16\n",
       " -2.49\n",
       " -2.37\n",
       " -2.58\n",
       "  0.34\n",
       "  0.33\n",
       "  0.326\n",
       "  0.53\n",
       " -4.47\n",
       "  0.29\n",
       " -4.17\n",
       " -2.5\n",
       "  ⋮\n",
       " -2.94\n",
       " -1.63\n",
       " -2.02\n",
       " -4.84\n",
       " -3.81\n",
       " -4.3\n",
       "  0.38\n",
       " -2.16\n",
       " -0.01\n",
       " -0.06\n",
       "  0.343\n",
       "  0.86"
      ]
     },
     "execution_count": 107,
     "metadata": {},
     "output_type": "execute_result"
    }
   ],
   "source": [
    "d170=union(dataD17O)"
   ]
  },
  {
   "cell_type": "code",
   "execution_count": 108,
   "id": "f4100ed5",
   "metadata": {
    "scrolled": true
   },
   "outputs": [
    {
     "data": {
      "text/html": [
       "<div><div style = \"float: left;\"><span>328×10 DataFrame</span></div><div style = \"float: right;\"><span style = \"font-style: italic;\">303 rows omitted</span></div><div style = \"clear: both;\"></div></div><div class = \"data-frame\" style = \"overflow-x: scroll;\"><table class = \"data-frame\" style = \"margin-bottom: 6px;\"><thead><tr class = \"header\"><th class = \"rowNumber\" style = \"font-weight: bold; text-align: right;\">Row</th><th style = \"text-align: left;\">D170</th><th style = \"text-align: left;\">d30Si</th><th style = \"text-align: left;\">d51V</th><th style = \"text-align: left;\">e53Cr</th><th style = \"text-align: left;\">e54Cr</th><th style = \"text-align: left;\">D170_2se</th><th style = \"text-align: left;\">d30Si_2se</th><th style = \"text-align: left;\">d51V_2se</th><th style = \"text-align: left;\">e53Cr_2se</th><th style = \"text-align: left;\">e54Cr_2se</th></tr><tr class = \"subheader headerLastRow\"><th class = \"rowNumber\" style = \"font-weight: bold; text-align: right;\"></th><th title = \"Union{Missing, Float64}\" style = \"text-align: left;\">Float64?</th><th title = \"Union{Missing, Float64}\" style = \"text-align: left;\">Float64?</th><th title = \"Union{Missing, Float64}\" style = \"text-align: left;\">Float64?</th><th title = \"Union{Missing, Float64}\" style = \"text-align: left;\">Float64?</th><th title = \"Union{Missing, Float64}\" style = \"text-align: left;\">Float64?</th><th title = \"Union{Missing, Float64}\" style = \"text-align: left;\">Float64?</th><th title = \"Union{Missing, Float64}\" style = \"text-align: left;\">Float64?</th><th title = \"Union{Missing, Float64}\" style = \"text-align: left;\">Float64?</th><th title = \"Union{Missing, Float64}\" style = \"text-align: left;\">Float64?</th><th title = \"Union{Missing, Float64}\" style = \"text-align: left;\">Float64?</th></tr></thead><tbody><tr><td class = \"rowNumber\" style = \"font-weight: bold; text-align: right;\">1</td><td style = \"font-style: italic; text-align: right;\">missing</td><td style = \"text-align: right;\">-0.28</td><td style = \"font-style: italic; text-align: right;\">missing</td><td style = \"font-style: italic; text-align: right;\">missing</td><td style = \"font-style: italic; text-align: right;\">missing</td><td style = \"font-style: italic; text-align: right;\">missing</td><td style = \"text-align: right;\">0.03</td><td style = \"font-style: italic; text-align: right;\">missing</td><td style = \"font-style: italic; text-align: right;\">missing</td><td style = \"font-style: italic; text-align: right;\">missing</td></tr><tr><td class = \"rowNumber\" style = \"font-weight: bold; text-align: right;\">2</td><td style = \"font-style: italic; text-align: right;\">missing</td><td style = \"text-align: right;\">-0.29</td><td style = \"font-style: italic; text-align: right;\">missing</td><td style = \"font-style: italic; text-align: right;\">missing</td><td style = \"font-style: italic; text-align: right;\">missing</td><td style = \"font-style: italic; text-align: right;\">missing</td><td style = \"text-align: right;\">0.05</td><td style = \"font-style: italic; text-align: right;\">missing</td><td style = \"font-style: italic; text-align: right;\">missing</td><td style = \"font-style: italic; text-align: right;\">missing</td></tr><tr><td class = \"rowNumber\" style = \"font-weight: bold; text-align: right;\">3</td><td style = \"font-style: italic; text-align: right;\">missing</td><td style = \"font-style: italic; text-align: right;\">missing</td><td style = \"font-style: italic; text-align: right;\">missing</td><td style = \"text-align: right;\">0.22</td><td style = \"text-align: right;\">0.1</td><td style = \"font-style: italic; text-align: right;\">missing</td><td style = \"font-style: italic; text-align: right;\">missing</td><td style = \"font-style: italic; text-align: right;\">missing</td><td style = \"text-align: right;\">0.1</td><td style = \"text-align: right;\">0.06</td></tr><tr><td class = \"rowNumber\" style = \"font-weight: bold; text-align: right;\">4</td><td style = \"font-style: italic; text-align: right;\">missing</td><td style = \"text-align: right;\">-0.27</td><td style = \"font-style: italic; text-align: right;\">missing</td><td style = \"font-style: italic; text-align: right;\">missing</td><td style = \"font-style: italic; text-align: right;\">missing</td><td style = \"font-style: italic; text-align: right;\">missing</td><td style = \"text-align: right;\">0.07</td><td style = \"font-style: italic; text-align: right;\">missing</td><td style = \"font-style: italic; text-align: right;\">missing</td><td style = \"font-style: italic; text-align: right;\">missing</td></tr><tr><td class = \"rowNumber\" style = \"font-weight: bold; text-align: right;\">5</td><td style = \"font-style: italic; text-align: right;\">missing</td><td style = \"text-align: right;\">-0.28</td><td style = \"font-style: italic; text-align: right;\">missing</td><td style = \"font-style: italic; text-align: right;\">missing</td><td style = \"font-style: italic; text-align: right;\">missing</td><td style = \"font-style: italic; text-align: right;\">missing</td><td style = \"text-align: right;\">0.04</td><td style = \"font-style: italic; text-align: right;\">missing</td><td style = \"font-style: italic; text-align: right;\">missing</td><td style = \"font-style: italic; text-align: right;\">missing</td></tr><tr><td class = \"rowNumber\" style = \"font-weight: bold; text-align: right;\">6</td><td style = \"font-style: italic; text-align: right;\">missing</td><td style = \"font-style: italic; text-align: right;\">missing</td><td style = \"font-style: italic; text-align: right;\">missing</td><td style = \"text-align: right;\">0.08</td><td style = \"text-align: right;\">0.03</td><td style = \"font-style: italic; text-align: right;\">missing</td><td style = \"font-style: italic; text-align: right;\">missing</td><td style = \"font-style: italic; text-align: right;\">missing</td><td style = \"text-align: right;\">0.12</td><td style = \"text-align: right;\">0.06</td></tr><tr><td class = \"rowNumber\" style = \"font-weight: bold; text-align: right;\">7</td><td style = \"font-style: italic; text-align: right;\">missing</td><td style = \"text-align: right;\">-0.24</td><td style = \"font-style: italic; text-align: right;\">missing</td><td style = \"font-style: italic; text-align: right;\">missing</td><td style = \"font-style: italic; text-align: right;\">missing</td><td style = \"font-style: italic; text-align: right;\">missing</td><td style = \"text-align: right;\">0.04</td><td style = \"font-style: italic; text-align: right;\">missing</td><td style = \"font-style: italic; text-align: right;\">missing</td><td style = \"font-style: italic; text-align: right;\">missing</td></tr><tr><td class = \"rowNumber\" style = \"font-weight: bold; text-align: right;\">8</td><td style = \"text-align: right;\">-4.16</td><td style = \"font-style: italic; text-align: right;\">missing</td><td style = \"font-style: italic; text-align: right;\">missing</td><td style = \"font-style: italic; text-align: right;\">missing</td><td style = \"font-style: italic; text-align: right;\">missing</td><td style = \"text-align: right;\">0.07</td><td style = \"font-style: italic; text-align: right;\">missing</td><td style = \"font-style: italic; text-align: right;\">missing</td><td style = \"font-style: italic; text-align: right;\">missing</td><td style = \"font-style: italic; text-align: right;\">missing</td></tr><tr><td class = \"rowNumber\" style = \"font-weight: bold; text-align: right;\">9</td><td style = \"text-align: right;\">-2.49</td><td style = \"font-style: italic; text-align: right;\">missing</td><td style = \"font-style: italic; text-align: right;\">missing</td><td style = \"font-style: italic; text-align: right;\">missing</td><td style = \"font-style: italic; text-align: right;\">missing</td><td style = \"text-align: right;\">0.07</td><td style = \"font-style: italic; text-align: right;\">missing</td><td style = \"font-style: italic; text-align: right;\">missing</td><td style = \"font-style: italic; text-align: right;\">missing</td><td style = \"font-style: italic; text-align: right;\">missing</td></tr><tr><td class = \"rowNumber\" style = \"font-weight: bold; text-align: right;\">10</td><td style = \"text-align: right;\">-2.37</td><td style = \"font-style: italic; text-align: right;\">missing</td><td style = \"font-style: italic; text-align: right;\">missing</td><td style = \"font-style: italic; text-align: right;\">missing</td><td style = \"font-style: italic; text-align: right;\">missing</td><td style = \"text-align: right;\">0.07</td><td style = \"font-style: italic; text-align: right;\">missing</td><td style = \"font-style: italic; text-align: right;\">missing</td><td style = \"font-style: italic; text-align: right;\">missing</td><td style = \"font-style: italic; text-align: right;\">missing</td></tr><tr><td class = \"rowNumber\" style = \"font-weight: bold; text-align: right;\">11</td><td style = \"text-align: right;\">-2.58</td><td style = \"font-style: italic; text-align: right;\">missing</td><td style = \"font-style: italic; text-align: right;\">missing</td><td style = \"font-style: italic; text-align: right;\">missing</td><td style = \"font-style: italic; text-align: right;\">missing</td><td style = \"text-align: right;\">0.07</td><td style = \"font-style: italic; text-align: right;\">missing</td><td style = \"font-style: italic; text-align: right;\">missing</td><td style = \"font-style: italic; text-align: right;\">missing</td><td style = \"font-style: italic; text-align: right;\">missing</td></tr><tr><td class = \"rowNumber\" style = \"font-weight: bold; text-align: right;\">12</td><td style = \"text-align: right;\">0.34</td><td style = \"font-style: italic; text-align: right;\">missing</td><td style = \"font-style: italic; text-align: right;\">missing</td><td style = \"font-style: italic; text-align: right;\">missing</td><td style = \"font-style: italic; text-align: right;\">missing</td><td style = \"text-align: right;\">0.07</td><td style = \"font-style: italic; text-align: right;\">missing</td><td style = \"font-style: italic; text-align: right;\">missing</td><td style = \"font-style: italic; text-align: right;\">missing</td><td style = \"font-style: italic; text-align: right;\">missing</td></tr><tr><td class = \"rowNumber\" style = \"font-weight: bold; text-align: right;\">13</td><td style = \"text-align: right;\">0.33</td><td style = \"font-style: italic; text-align: right;\">missing</td><td style = \"font-style: italic; text-align: right;\">missing</td><td style = \"font-style: italic; text-align: right;\">missing</td><td style = \"font-style: italic; text-align: right;\">missing</td><td style = \"text-align: right;\">0.07</td><td style = \"font-style: italic; text-align: right;\">missing</td><td style = \"font-style: italic; text-align: right;\">missing</td><td style = \"font-style: italic; text-align: right;\">missing</td><td style = \"font-style: italic; text-align: right;\">missing</td></tr><tr><td style = \"text-align: right;\">&vellip;</td><td style = \"text-align: right;\">&vellip;</td><td style = \"text-align: right;\">&vellip;</td><td style = \"text-align: right;\">&vellip;</td><td style = \"text-align: right;\">&vellip;</td><td style = \"text-align: right;\">&vellip;</td><td style = \"text-align: right;\">&vellip;</td><td style = \"text-align: right;\">&vellip;</td><td style = \"text-align: right;\">&vellip;</td><td style = \"text-align: right;\">&vellip;</td><td style = \"text-align: right;\">&vellip;</td></tr><tr><td class = \"rowNumber\" style = \"font-weight: bold; text-align: right;\">317</td><td style = \"text-align: right;\">-2.45</td><td style = \"font-style: italic; text-align: right;\">missing</td><td style = \"font-style: italic; text-align: right;\">missing</td><td style = \"font-style: italic; text-align: right;\">missing</td><td style = \"font-style: italic; text-align: right;\">missing</td><td style = \"text-align: right;\">0.07</td><td style = \"font-style: italic; text-align: right;\">missing</td><td style = \"font-style: italic; text-align: right;\">missing</td><td style = \"font-style: italic; text-align: right;\">missing</td><td style = \"font-style: italic; text-align: right;\">missing</td></tr><tr><td class = \"rowNumber\" style = \"font-weight: bold; text-align: right;\">318</td><td style = \"text-align: right;\">-2.02</td><td style = \"font-style: italic; text-align: right;\">missing</td><td style = \"font-style: italic; text-align: right;\">missing</td><td style = \"font-style: italic; text-align: right;\">missing</td><td style = \"font-style: italic; text-align: right;\">missing</td><td style = \"text-align: right;\">0.07</td><td style = \"font-style: italic; text-align: right;\">missing</td><td style = \"font-style: italic; text-align: right;\">missing</td><td style = \"font-style: italic; text-align: right;\">missing</td><td style = \"font-style: italic; text-align: right;\">missing</td></tr><tr><td class = \"rowNumber\" style = \"font-weight: bold; text-align: right;\">319</td><td style = \"text-align: right;\">-4.84</td><td style = \"font-style: italic; text-align: right;\">missing</td><td style = \"font-style: italic; text-align: right;\">missing</td><td style = \"font-style: italic; text-align: right;\">missing</td><td style = \"font-style: italic; text-align: right;\">missing</td><td style = \"text-align: right;\">0.07</td><td style = \"font-style: italic; text-align: right;\">missing</td><td style = \"font-style: italic; text-align: right;\">missing</td><td style = \"font-style: italic; text-align: right;\">missing</td><td style = \"font-style: italic; text-align: right;\">missing</td></tr><tr><td class = \"rowNumber\" style = \"font-weight: bold; text-align: right;\">320</td><td style = \"text-align: right;\">-3.81</td><td style = \"font-style: italic; text-align: right;\">missing</td><td style = \"font-style: italic; text-align: right;\">missing</td><td style = \"font-style: italic; text-align: right;\">missing</td><td style = \"font-style: italic; text-align: right;\">missing</td><td style = \"text-align: right;\">0.07</td><td style = \"font-style: italic; text-align: right;\">missing</td><td style = \"font-style: italic; text-align: right;\">missing</td><td style = \"font-style: italic; text-align: right;\">missing</td><td style = \"font-style: italic; text-align: right;\">missing</td></tr><tr><td class = \"rowNumber\" style = \"font-weight: bold; text-align: right;\">321</td><td style = \"text-align: right;\">-4.3</td><td style = \"font-style: italic; text-align: right;\">missing</td><td style = \"font-style: italic; text-align: right;\">missing</td><td style = \"font-style: italic; text-align: right;\">missing</td><td style = \"font-style: italic; text-align: right;\">missing</td><td style = \"text-align: right;\">0.07</td><td style = \"font-style: italic; text-align: right;\">missing</td><td style = \"font-style: italic; text-align: right;\">missing</td><td style = \"font-style: italic; text-align: right;\">missing</td><td style = \"font-style: italic; text-align: right;\">missing</td></tr><tr><td class = \"rowNumber\" style = \"font-weight: bold; text-align: right;\">322</td><td style = \"text-align: right;\">0.38</td><td style = \"font-style: italic; text-align: right;\">missing</td><td style = \"font-style: italic; text-align: right;\">missing</td><td style = \"font-style: italic; text-align: right;\">missing</td><td style = \"font-style: italic; text-align: right;\">missing</td><td style = \"text-align: right;\">0.07</td><td style = \"font-style: italic; text-align: right;\">missing</td><td style = \"font-style: italic; text-align: right;\">missing</td><td style = \"font-style: italic; text-align: right;\">missing</td><td style = \"font-style: italic; text-align: right;\">missing</td></tr><tr><td class = \"rowNumber\" style = \"font-weight: bold; text-align: right;\">323</td><td style = \"font-style: italic; text-align: right;\">-2.16</td><td style = \"font-style: italic; text-align: right;\">missing</td><td style = \"text-align: right;\">missing</td><td style = \"font-style: italic; text-align: right;\">missing</td><td style = \"font-style: italic; text-align: right;\">missing</td><td style = \"font-style: italic; text-align: right;\">0.07</td><td style = \"font-style: italic; text-align: right;\">missing</td><td style = \"text-align: right;\">missing</td><td style = \"font-style: italic; text-align: right;\">missing</td><td style = \"font-style: italic; text-align: right;\">missing</td></tr><tr><td class = \"rowNumber\" style = \"font-weight: bold; text-align: right;\">324</td><td style = \"font-style: italic; text-align: right;\">-4.14</td><td style = \"font-style: italic; text-align: right;\">missing</td><td style = \"text-align: right;\">missing</td><td style = \"font-style: italic; text-align: right;\">missing</td><td style = \"font-style: italic; text-align: right;\">missing</td><td style = \"font-style: italic; text-align: right;\">0.07</td><td style = \"font-style: italic; text-align: right;\">missing</td><td style = \"text-align: right;\">missing</td><td style = \"font-style: italic; text-align: right;\">missing</td><td style = \"font-style: italic; text-align: right;\">missing</td></tr><tr><td class = \"rowNumber\" style = \"font-weight: bold; text-align: right;\">325</td><td style = \"text-align: right;\">-0.01</td><td style = \"font-style: italic; text-align: right;\">missing</td><td style = \"font-style: italic; text-align: right;\">missing</td><td style = \"font-style: italic; text-align: right;\">missing</td><td style = \"font-style: italic; text-align: right;\">missing</td><td style = \"text-align: right;\">0.07</td><td style = \"font-style: italic; text-align: right;\">missing</td><td style = \"font-style: italic; text-align: right;\">missing</td><td style = \"font-style: italic; text-align: right;\">missing</td><td style = \"font-style: italic; text-align: right;\">missing</td></tr><tr><td class = \"rowNumber\" style = \"font-weight: bold; text-align: right;\">326</td><td style = \"font-style: italic; text-align: right;\">-0.06</td><td style = \"text-align: right;\">missing</td><td style = \"font-style: italic; text-align: right;\">missing</td><td style = \"font-style: italic; text-align: right;\">missing</td><td style = \"font-style: italic; text-align: right;\">missing</td><td style = \"font-style: italic; text-align: right;\">0.07</td><td style = \"text-align: right;\">missing</td><td style = \"font-style: italic; text-align: right;\">missing</td><td style = \"font-style: italic; text-align: right;\">missing</td><td style = \"font-style: italic; text-align: right;\">missing</td></tr><tr><td class = \"rowNumber\" style = \"font-weight: bold; text-align: right;\">327</td><td style = \"font-style: italic; text-align: right;\">0.343</td><td style = \"font-style: italic; text-align: right;\">-0.49</td><td style = \"font-style: italic; text-align: right;\">missing</td><td style = \"text-align: right;\">missing</td><td style = \"text-align: right;\">missing</td><td style = \"font-style: italic; text-align: right;\">0.056</td><td style = \"font-style: italic; text-align: right;\">0.05</td><td style = \"font-style: italic; text-align: right;\">missing</td><td style = \"text-align: right;\">missing</td><td style = \"text-align: right;\">missing</td></tr><tr><td class = \"rowNumber\" style = \"font-weight: bold; text-align: right;\">328</td><td style = \"font-style: italic; text-align: right;\">0.86</td><td style = \"text-align: right;\">missing</td><td style = \"font-style: italic; text-align: right;\">missing</td><td style = \"text-align: right;\">missing</td><td style = \"text-align: right;\">missing</td><td style = \"font-style: italic; text-align: right;\">0.07</td><td style = \"text-align: right;\">missing</td><td style = \"font-style: italic; text-align: right;\">missing</td><td style = \"text-align: right;\">missing</td><td style = \"text-align: right;\">missing</td></tr></tbody></table></div>"
      ],
      "text/latex": [
       "\\begin{tabular}{r|ccccccccc}\n",
       "\t& D170 & d30Si & d51V & e53Cr & e54Cr & D170\\_2se & d30Si\\_2se & d51V\\_2se & \\\\\n",
       "\t\\hline\n",
       "\t& Float64? & Float64? & Float64? & Float64? & Float64? & Float64? & Float64? & Float64? & \\\\\n",
       "\t\\hline\n",
       "\t1 & \\emph{missing} & -0.28 & \\emph{missing} & \\emph{missing} & \\emph{missing} & \\emph{missing} & 0.03 & \\emph{missing} & $\\dots$ \\\\\n",
       "\t2 & \\emph{missing} & -0.29 & \\emph{missing} & \\emph{missing} & \\emph{missing} & \\emph{missing} & 0.05 & \\emph{missing} & $\\dots$ \\\\\n",
       "\t3 & \\emph{missing} & \\emph{missing} & \\emph{missing} & 0.22 & 0.1 & \\emph{missing} & \\emph{missing} & \\emph{missing} & $\\dots$ \\\\\n",
       "\t4 & \\emph{missing} & -0.27 & \\emph{missing} & \\emph{missing} & \\emph{missing} & \\emph{missing} & 0.07 & \\emph{missing} & $\\dots$ \\\\\n",
       "\t5 & \\emph{missing} & -0.28 & \\emph{missing} & \\emph{missing} & \\emph{missing} & \\emph{missing} & 0.04 & \\emph{missing} & $\\dots$ \\\\\n",
       "\t6 & \\emph{missing} & \\emph{missing} & \\emph{missing} & 0.08 & 0.03 & \\emph{missing} & \\emph{missing} & \\emph{missing} & $\\dots$ \\\\\n",
       "\t7 & \\emph{missing} & -0.24 & \\emph{missing} & \\emph{missing} & \\emph{missing} & \\emph{missing} & 0.04 & \\emph{missing} & $\\dots$ \\\\\n",
       "\t8 & -4.16 & \\emph{missing} & \\emph{missing} & \\emph{missing} & \\emph{missing} & 0.07 & \\emph{missing} & \\emph{missing} & $\\dots$ \\\\\n",
       "\t9 & -2.49 & \\emph{missing} & \\emph{missing} & \\emph{missing} & \\emph{missing} & 0.07 & \\emph{missing} & \\emph{missing} & $\\dots$ \\\\\n",
       "\t10 & -2.37 & \\emph{missing} & \\emph{missing} & \\emph{missing} & \\emph{missing} & 0.07 & \\emph{missing} & \\emph{missing} & $\\dots$ \\\\\n",
       "\t11 & -2.58 & \\emph{missing} & \\emph{missing} & \\emph{missing} & \\emph{missing} & 0.07 & \\emph{missing} & \\emph{missing} & $\\dots$ \\\\\n",
       "\t12 & 0.34 & \\emph{missing} & \\emph{missing} & \\emph{missing} & \\emph{missing} & 0.07 & \\emph{missing} & \\emph{missing} & $\\dots$ \\\\\n",
       "\t13 & 0.33 & \\emph{missing} & \\emph{missing} & \\emph{missing} & \\emph{missing} & 0.07 & \\emph{missing} & \\emph{missing} & $\\dots$ \\\\\n",
       "\t14 & 0.326 & \\emph{missing} & \\emph{missing} & \\emph{missing} & \\emph{missing} & 0.068 & \\emph{missing} & \\emph{missing} & $\\dots$ \\\\\n",
       "\t15 & 0.53 & \\emph{missing} & \\emph{missing} & \\emph{missing} & \\emph{missing} & 0.07 & \\emph{missing} & \\emph{missing} & $\\dots$ \\\\\n",
       "\t16 & -4.47 & \\emph{missing} & \\emph{missing} & \\emph{missing} & \\emph{missing} & 0.07 & \\emph{missing} & \\emph{missing} & $\\dots$ \\\\\n",
       "\t17 & 0.29 & \\emph{missing} & \\emph{missing} & \\emph{missing} & \\emph{missing} & 0.07 & \\emph{missing} & \\emph{missing} & $\\dots$ \\\\\n",
       "\t18 & -4.17 & \\emph{missing} & \\emph{missing} & \\emph{missing} & \\emph{missing} & 0.07 & \\emph{missing} & \\emph{missing} & $\\dots$ \\\\\n",
       "\t19 & -2.5 & \\emph{missing} & \\emph{missing} & \\emph{missing} & \\emph{missing} & 0.07 & \\emph{missing} & \\emph{missing} & $\\dots$ \\\\\n",
       "\t20 & \\emph{missing} & \\emph{missing} & -2.0 & \\emph{missing} & \\emph{missing} & \\emph{missing} & \\emph{missing} & 0.4 & $\\dots$ \\\\\n",
       "\t21 & \\emph{missing} & \\emph{missing} & -1.8 & \\emph{missing} & \\emph{missing} & \\emph{missing} & \\emph{missing} & 0.2 & $\\dots$ \\\\\n",
       "\t22 & -1.62 & \\emph{missing} & \\emph{missing} & \\emph{missing} & \\emph{missing} & 0.07 & \\emph{missing} & \\emph{missing} & $\\dots$ \\\\\n",
       "\t23 & \\emph{missing} & -0.42 & \\emph{missing} & \\emph{missing} & \\emph{missing} & \\emph{missing} & 0.03 & \\emph{missing} & $\\dots$ \\\\\n",
       "\t24 & \\emph{missing} & \\emph{missing} & \\emph{missing} & 0.14 & 0.05 & \\emph{missing} & \\emph{missing} & \\emph{missing} & $\\dots$ \\\\\n",
       "\t25 & \\emph{missing} & -0.64 & \\emph{missing} & 0.26 & -0.06 & \\emph{missing} & 0.04 & \\emph{missing} & $\\dots$ \\\\\n",
       "\t26 & \\emph{missing} & -0.71 & \\emph{missing} & \\emph{missing} & \\emph{missing} & \\emph{missing} & 0.1 & \\emph{missing} & $\\dots$ \\\\\n",
       "\t27 & \\emph{missing} & \\emph{missing} & \\emph{missing} & \\emph{missing} & \\emph{missing} & \\emph{missing} & \\emph{missing} & \\emph{missing} & $\\dots$ \\\\\n",
       "\t28 & -3.73 & \\emph{missing} & \\emph{missing} & \\emph{missing} & \\emph{missing} & 0.07 & \\emph{missing} & \\emph{missing} & $\\dots$ \\\\\n",
       "\t29 & -3.4 & \\emph{missing} & \\emph{missing} & \\emph{missing} & \\emph{missing} & 0.07 & \\emph{missing} & \\emph{missing} & $\\dots$ \\\\\n",
       "\t30 & -4.52 & \\emph{missing} & \\emph{missing} & \\emph{missing} & \\emph{missing} & 0.07 & \\emph{missing} & \\emph{missing} & $\\dots$ \\\\\n",
       "\t$\\dots$ & $\\dots$ & $\\dots$ & $\\dots$ & $\\dots$ & $\\dots$ & $\\dots$ & $\\dots$ & $\\dots$ &  \\\\\n",
       "\\end{tabular}\n"
      ],
      "text/plain": [
       "\u001b[1m328×10 DataFrame\u001b[0m\n",
       "\u001b[1m Row \u001b[0m│\u001b[1m D170        \u001b[0m\u001b[1m d30Si      \u001b[0m\u001b[1m d51V     \u001b[0m\u001b[1m e53Cr      \u001b[0m\u001b[1m e54Cr      \u001b[0m\u001b[1m D170_2se    \u001b[0m\u001b[1m\u001b[0m ⋯\n",
       "     │\u001b[90m Float64?    \u001b[0m\u001b[90m Float64?   \u001b[0m\u001b[90m Float64? \u001b[0m\u001b[90m Float64?   \u001b[0m\u001b[90m Float64?   \u001b[0m\u001b[90m Float64?    \u001b[0m\u001b[90m\u001b[0m ⋯\n",
       "─────┼──────────────────────────────────────────────────────────────────────────\n",
       "   1 │\u001b[90m missing     \u001b[0m      -0.28 \u001b[90m  missing \u001b[0m\u001b[90m missing    \u001b[0m\u001b[90m missing    \u001b[0m\u001b[90m missing     \u001b[0m ⋯\n",
       "   2 │\u001b[90m missing     \u001b[0m      -0.29 \u001b[90m  missing \u001b[0m\u001b[90m missing    \u001b[0m\u001b[90m missing    \u001b[0m\u001b[90m missing     \u001b[0m\n",
       "   3 │\u001b[90m missing     \u001b[0m\u001b[90m missing    \u001b[0m\u001b[90m  missing \u001b[0m       0.22        0.1  \u001b[90m missing     \u001b[0m\u001b[90m\u001b[0m\n",
       "   4 │\u001b[90m missing     \u001b[0m      -0.27 \u001b[90m  missing \u001b[0m\u001b[90m missing    \u001b[0m\u001b[90m missing    \u001b[0m\u001b[90m missing     \u001b[0m\n",
       "   5 │\u001b[90m missing     \u001b[0m      -0.28 \u001b[90m  missing \u001b[0m\u001b[90m missing    \u001b[0m\u001b[90m missing    \u001b[0m\u001b[90m missing     \u001b[0m ⋯\n",
       "   6 │\u001b[90m missing     \u001b[0m\u001b[90m missing    \u001b[0m\u001b[90m  missing \u001b[0m       0.08        0.03 \u001b[90m missing     \u001b[0m\u001b[90m\u001b[0m\n",
       "   7 │\u001b[90m missing     \u001b[0m      -0.24 \u001b[90m  missing \u001b[0m\u001b[90m missing    \u001b[0m\u001b[90m missing    \u001b[0m\u001b[90m missing     \u001b[0m\n",
       "   8 │      -4.16  \u001b[90m missing    \u001b[0m\u001b[90m  missing \u001b[0m\u001b[90m missing    \u001b[0m\u001b[90m missing    \u001b[0m       0.07  \u001b[90m\u001b[0m\n",
       "   9 │      -2.49  \u001b[90m missing    \u001b[0m\u001b[90m  missing \u001b[0m\u001b[90m missing    \u001b[0m\u001b[90m missing    \u001b[0m       0.07  \u001b[90m\u001b[0m ⋯\n",
       "  10 │      -2.37  \u001b[90m missing    \u001b[0m\u001b[90m  missing \u001b[0m\u001b[90m missing    \u001b[0m\u001b[90m missing    \u001b[0m       0.07  \u001b[90m\u001b[0m\n",
       "  11 │      -2.58  \u001b[90m missing    \u001b[0m\u001b[90m  missing \u001b[0m\u001b[90m missing    \u001b[0m\u001b[90m missing    \u001b[0m       0.07  \u001b[90m\u001b[0m\n",
       "  ⋮  │      ⋮           ⋮          ⋮          ⋮           ⋮            ⋮       ⋱\n",
       " 319 │      -4.84  \u001b[90m missing    \u001b[0m\u001b[90m  missing \u001b[0m\u001b[90m missing    \u001b[0m\u001b[90m missing    \u001b[0m       0.07  \u001b[90m\u001b[0m\n",
       " 320 │      -3.81  \u001b[90m missing    \u001b[0m\u001b[90m  missing \u001b[0m\u001b[90m missing    \u001b[0m\u001b[90m missing    \u001b[0m       0.07  \u001b[90m\u001b[0m ⋯\n",
       " 321 │      -4.3   \u001b[90m missing    \u001b[0m\u001b[90m  missing \u001b[0m\u001b[90m missing    \u001b[0m\u001b[90m missing    \u001b[0m       0.07  \u001b[90m\u001b[0m\n",
       " 322 │       0.38  \u001b[90m missing    \u001b[0m\u001b[90m  missing \u001b[0m\u001b[90m missing    \u001b[0m\u001b[90m missing    \u001b[0m       0.07  \u001b[90m\u001b[0m\n",
       " 323 │      -2.16  \u001b[90m missing    \u001b[0m\u001b[90m  missing \u001b[0m\u001b[90m missing    \u001b[0m\u001b[90m missing    \u001b[0m       0.07  \u001b[90m\u001b[0m\n",
       " 324 │      -4.14  \u001b[90m missing    \u001b[0m\u001b[90m  missing \u001b[0m\u001b[90m missing    \u001b[0m\u001b[90m missing    \u001b[0m       0.07  \u001b[90m\u001b[0m ⋯\n",
       " 325 │      -0.01  \u001b[90m missing    \u001b[0m\u001b[90m  missing \u001b[0m\u001b[90m missing    \u001b[0m\u001b[90m missing    \u001b[0m       0.07  \u001b[90m\u001b[0m\n",
       " 326 │      -0.06  \u001b[90m missing    \u001b[0m\u001b[90m  missing \u001b[0m\u001b[90m missing    \u001b[0m\u001b[90m missing    \u001b[0m       0.07  \u001b[90m\u001b[0m\n",
       " 327 │       0.343       -0.49 \u001b[90m  missing \u001b[0m\u001b[90m missing    \u001b[0m\u001b[90m missing    \u001b[0m       0.056\n",
       " 328 │       0.86  \u001b[90m missing    \u001b[0m\u001b[90m  missing \u001b[0m\u001b[90m missing    \u001b[0m\u001b[90m missing    \u001b[0m       0.07  \u001b[90m\u001b[0m ⋯\n",
       "\u001b[36m                                                  4 columns and 307 rows omitted\u001b[0m"
      ]
     },
     "execution_count": 108,
     "metadata": {},
     "output_type": "execute_result"
    }
   ],
   "source": [
    "data=file[!,[\"D170\",\"d30Si\",\"d51V\",\"e53Cr\",\"e54Cr\",\"D170_2se\",\"d30Si_2se\",\"d51V_2se\",\"e53Cr_2se\",\"e54Cr_2se\"]]"
   ]
  },
  {
   "cell_type": "code",
   "execution_count": 109,
   "id": "56ae47aa",
   "metadata": {
    "scrolled": true
   },
   "outputs": [
    {
     "data": {
      "text/html": [
       "<div><div style = \"float: left;\"><span>328×2 DataFrame</span></div><div style = \"float: right;\"><span style = \"font-style: italic;\">303 rows omitted</span></div><div style = \"clear: both;\"></div></div><div class = \"data-frame\" style = \"overflow-x: scroll;\"><table class = \"data-frame\" style = \"margin-bottom: 6px;\"><thead><tr class = \"header\"><th class = \"rowNumber\" style = \"font-weight: bold; text-align: right;\">Row</th><th style = \"text-align: left;\">D170</th><th style = \"text-align: left;\">e54Cr</th></tr><tr class = \"subheader headerLastRow\"><th class = \"rowNumber\" style = \"font-weight: bold; text-align: right;\"></th><th title = \"Union{Missing, Float64}\" style = \"text-align: left;\">Float64?</th><th title = \"Union{Missing, Float64}\" style = \"text-align: left;\">Float64?</th></tr></thead><tbody><tr><td class = \"rowNumber\" style = \"font-weight: bold; text-align: right;\">1</td><td style = \"font-style: italic; text-align: right;\">missing</td><td style = \"font-style: italic; text-align: right;\">missing</td></tr><tr><td class = \"rowNumber\" style = \"font-weight: bold; text-align: right;\">2</td><td style = \"font-style: italic; text-align: right;\">missing</td><td style = \"font-style: italic; text-align: right;\">missing</td></tr><tr><td class = \"rowNumber\" style = \"font-weight: bold; text-align: right;\">3</td><td style = \"font-style: italic; text-align: right;\">missing</td><td style = \"text-align: right;\">0.1</td></tr><tr><td class = \"rowNumber\" style = \"font-weight: bold; text-align: right;\">4</td><td style = \"font-style: italic; text-align: right;\">missing</td><td style = \"font-style: italic; text-align: right;\">missing</td></tr><tr><td class = \"rowNumber\" style = \"font-weight: bold; text-align: right;\">5</td><td style = \"font-style: italic; text-align: right;\">missing</td><td style = \"font-style: italic; text-align: right;\">missing</td></tr><tr><td class = \"rowNumber\" style = \"font-weight: bold; text-align: right;\">6</td><td style = \"font-style: italic; text-align: right;\">missing</td><td style = \"text-align: right;\">0.03</td></tr><tr><td class = \"rowNumber\" style = \"font-weight: bold; text-align: right;\">7</td><td style = \"font-style: italic; text-align: right;\">missing</td><td style = \"font-style: italic; text-align: right;\">missing</td></tr><tr><td class = \"rowNumber\" style = \"font-weight: bold; text-align: right;\">8</td><td style = \"text-align: right;\">-4.16</td><td style = \"font-style: italic; text-align: right;\">missing</td></tr><tr><td class = \"rowNumber\" style = \"font-weight: bold; text-align: right;\">9</td><td style = \"text-align: right;\">-2.49</td><td style = \"font-style: italic; text-align: right;\">missing</td></tr><tr><td class = \"rowNumber\" style = \"font-weight: bold; text-align: right;\">10</td><td style = \"text-align: right;\">-2.37</td><td style = \"font-style: italic; text-align: right;\">missing</td></tr><tr><td class = \"rowNumber\" style = \"font-weight: bold; text-align: right;\">11</td><td style = \"text-align: right;\">-2.58</td><td style = \"font-style: italic; text-align: right;\">missing</td></tr><tr><td class = \"rowNumber\" style = \"font-weight: bold; text-align: right;\">12</td><td style = \"text-align: right;\">0.34</td><td style = \"font-style: italic; text-align: right;\">missing</td></tr><tr><td class = \"rowNumber\" style = \"font-weight: bold; text-align: right;\">13</td><td style = \"text-align: right;\">0.33</td><td style = \"font-style: italic; text-align: right;\">missing</td></tr><tr><td style = \"text-align: right;\">&vellip;</td><td style = \"text-align: right;\">&vellip;</td><td style = \"text-align: right;\">&vellip;</td></tr><tr><td class = \"rowNumber\" style = \"font-weight: bold; text-align: right;\">317</td><td style = \"text-align: right;\">-2.45</td><td style = \"font-style: italic; text-align: right;\">missing</td></tr><tr><td class = \"rowNumber\" style = \"font-weight: bold; text-align: right;\">318</td><td style = \"text-align: right;\">-2.02</td><td style = \"font-style: italic; text-align: right;\">missing</td></tr><tr><td class = \"rowNumber\" style = \"font-weight: bold; text-align: right;\">319</td><td style = \"text-align: right;\">-4.84</td><td style = \"font-style: italic; text-align: right;\">missing</td></tr><tr><td class = \"rowNumber\" style = \"font-weight: bold; text-align: right;\">320</td><td style = \"text-align: right;\">-3.81</td><td style = \"font-style: italic; text-align: right;\">missing</td></tr><tr><td class = \"rowNumber\" style = \"font-weight: bold; text-align: right;\">321</td><td style = \"text-align: right;\">-4.3</td><td style = \"font-style: italic; text-align: right;\">missing</td></tr><tr><td class = \"rowNumber\" style = \"font-weight: bold; text-align: right;\">322</td><td style = \"text-align: right;\">0.38</td><td style = \"font-style: italic; text-align: right;\">missing</td></tr><tr><td class = \"rowNumber\" style = \"font-weight: bold; text-align: right;\">323</td><td style = \"font-style: italic; text-align: right;\">-2.16</td><td style = \"font-style: italic; text-align: right;\">missing</td></tr><tr><td class = \"rowNumber\" style = \"font-weight: bold; text-align: right;\">324</td><td style = \"font-style: italic; text-align: right;\">-4.14</td><td style = \"font-style: italic; text-align: right;\">missing</td></tr><tr><td class = \"rowNumber\" style = \"font-weight: bold; text-align: right;\">325</td><td style = \"text-align: right;\">-0.01</td><td style = \"font-style: italic; text-align: right;\">missing</td></tr><tr><td class = \"rowNumber\" style = \"font-weight: bold; text-align: right;\">326</td><td style = \"font-style: italic; text-align: right;\">-0.06</td><td style = \"font-style: italic; text-align: right;\">missing</td></tr><tr><td class = \"rowNumber\" style = \"font-weight: bold; text-align: right;\">327</td><td style = \"font-style: italic; text-align: right;\">0.343</td><td style = \"text-align: right;\">missing</td></tr><tr><td class = \"rowNumber\" style = \"font-weight: bold; text-align: right;\">328</td><td style = \"font-style: italic; text-align: right;\">0.86</td><td style = \"text-align: right;\">missing</td></tr></tbody></table></div>"
      ],
      "text/latex": [
       "\\begin{tabular}{r|cc}\n",
       "\t& D170 & e54Cr\\\\\n",
       "\t\\hline\n",
       "\t& Float64? & Float64?\\\\\n",
       "\t\\hline\n",
       "\t1 & \\emph{missing} & \\emph{missing} \\\\\n",
       "\t2 & \\emph{missing} & \\emph{missing} \\\\\n",
       "\t3 & \\emph{missing} & 0.1 \\\\\n",
       "\t4 & \\emph{missing} & \\emph{missing} \\\\\n",
       "\t5 & \\emph{missing} & \\emph{missing} \\\\\n",
       "\t6 & \\emph{missing} & 0.03 \\\\\n",
       "\t7 & \\emph{missing} & \\emph{missing} \\\\\n",
       "\t8 & -4.16 & \\emph{missing} \\\\\n",
       "\t9 & -2.49 & \\emph{missing} \\\\\n",
       "\t10 & -2.37 & \\emph{missing} \\\\\n",
       "\t11 & -2.58 & \\emph{missing} \\\\\n",
       "\t12 & 0.34 & \\emph{missing} \\\\\n",
       "\t13 & 0.33 & \\emph{missing} \\\\\n",
       "\t14 & 0.326 & \\emph{missing} \\\\\n",
       "\t15 & 0.53 & \\emph{missing} \\\\\n",
       "\t16 & -4.47 & \\emph{missing} \\\\\n",
       "\t17 & 0.29 & \\emph{missing} \\\\\n",
       "\t18 & -4.17 & \\emph{missing} \\\\\n",
       "\t19 & -2.5 & \\emph{missing} \\\\\n",
       "\t20 & \\emph{missing} & \\emph{missing} \\\\\n",
       "\t21 & \\emph{missing} & \\emph{missing} \\\\\n",
       "\t22 & -1.62 & \\emph{missing} \\\\\n",
       "\t23 & \\emph{missing} & \\emph{missing} \\\\\n",
       "\t24 & \\emph{missing} & 0.05 \\\\\n",
       "\t25 & \\emph{missing} & -0.06 \\\\\n",
       "\t26 & \\emph{missing} & \\emph{missing} \\\\\n",
       "\t27 & \\emph{missing} & \\emph{missing} \\\\\n",
       "\t28 & -3.73 & \\emph{missing} \\\\\n",
       "\t29 & -3.4 & \\emph{missing} \\\\\n",
       "\t30 & -4.52 & \\emph{missing} \\\\\n",
       "\t$\\dots$ & $\\dots$ & $\\dots$ \\\\\n",
       "\\end{tabular}\n"
      ],
      "text/plain": [
       "\u001b[1m328×2 DataFrame\u001b[0m\n",
       "\u001b[1m Row \u001b[0m│\u001b[1m D170        \u001b[0m\u001b[1m e54Cr      \u001b[0m\n",
       "     │\u001b[90m Float64?    \u001b[0m\u001b[90m Float64?   \u001b[0m\n",
       "─────┼─────────────────────────\n",
       "   1 │\u001b[90m missing     \u001b[0m\u001b[90m missing    \u001b[0m\n",
       "   2 │\u001b[90m missing     \u001b[0m\u001b[90m missing    \u001b[0m\n",
       "   3 │\u001b[90m missing     \u001b[0m       0.1\n",
       "   4 │\u001b[90m missing     \u001b[0m\u001b[90m missing    \u001b[0m\n",
       "   5 │\u001b[90m missing     \u001b[0m\u001b[90m missing    \u001b[0m\n",
       "   6 │\u001b[90m missing     \u001b[0m       0.03\n",
       "   7 │\u001b[90m missing     \u001b[0m\u001b[90m missing    \u001b[0m\n",
       "   8 │      -4.16  \u001b[90m missing    \u001b[0m\n",
       "   9 │      -2.49  \u001b[90m missing    \u001b[0m\n",
       "  10 │      -2.37  \u001b[90m missing    \u001b[0m\n",
       "  11 │      -2.58  \u001b[90m missing    \u001b[0m\n",
       "  ⋮  │      ⋮           ⋮\n",
       " 319 │      -4.84  \u001b[90m missing    \u001b[0m\n",
       " 320 │      -3.81  \u001b[90m missing    \u001b[0m\n",
       " 321 │      -4.3   \u001b[90m missing    \u001b[0m\n",
       " 322 │       0.38  \u001b[90m missing    \u001b[0m\n",
       " 323 │      -2.16  \u001b[90m missing    \u001b[0m\n",
       " 324 │      -4.14  \u001b[90m missing    \u001b[0m\n",
       " 325 │      -0.01  \u001b[90m missing    \u001b[0m\n",
       " 326 │      -0.06  \u001b[90m missing    \u001b[0m\n",
       " 327 │       0.343 \u001b[90m missing    \u001b[0m\n",
       " 328 │       0.86  \u001b[90m missing    \u001b[0m\n",
       "\u001b[36m               307 rows omitted\u001b[0m"
      ]
     },
     "execution_count": 109,
     "metadata": {},
     "output_type": "execute_result"
    }
   ],
   "source": [
    "dataOxCr=data[!,[\"D170\",\"e54Cr\"]]"
   ]
  },
  {
   "cell_type": "code",
   "execution_count": 110,
   "id": "ea14fab8",
   "metadata": {
    "scrolled": true
   },
   "outputs": [
    {
     "data": {
      "text/html": [
       "<div><div style = \"float: left;\"><span>27×2 DataFrame</span></div><div style = \"float: right;\"><span style = \"font-style: italic;\">2 rows omitted</span></div><div style = \"clear: both;\"></div></div><div class = \"data-frame\" style = \"overflow-x: scroll;\"><table class = \"data-frame\" style = \"margin-bottom: 6px;\"><thead><tr class = \"header\"><th class = \"rowNumber\" style = \"font-weight: bold; text-align: right;\">Row</th><th style = \"text-align: left;\">D170</th><th style = \"text-align: left;\">e54Cr</th></tr><tr class = \"subheader headerLastRow\"><th class = \"rowNumber\" style = \"font-weight: bold; text-align: right;\"></th><th title = \"Float64\" style = \"text-align: left;\">Float64</th><th title = \"Float64\" style = \"text-align: left;\">Float64</th></tr></thead><tbody><tr><td class = \"rowNumber\" style = \"font-weight: bold; text-align: right;\">1</td><td style = \"text-align: right;\">-3.52</td><td style = \"text-align: right;\">0.98</td></tr><tr><td class = \"rowNumber\" style = \"font-weight: bold; text-align: right;\">2</td><td style = \"text-align: right;\">-2.27</td><td style = \"text-align: right;\">1.13</td></tr><tr><td class = \"rowNumber\" style = \"font-weight: bold; text-align: right;\">3</td><td style = \"text-align: right;\">0.3</td><td style = \"text-align: right;\">-0.21</td></tr><tr><td class = \"rowNumber\" style = \"font-weight: bold; text-align: right;\">4</td><td style = \"text-align: right;\">-4.59</td><td style = \"text-align: right;\">0.63</td></tr><tr><td class = \"rowNumber\" style = \"font-weight: bold; text-align: right;\">5</td><td style = \"text-align: right;\">0.07</td><td style = \"text-align: right;\">-0.01</td></tr><tr><td class = \"rowNumber\" style = \"font-weight: bold; text-align: right;\">6</td><td style = \"text-align: right;\">0.12</td><td style = \"text-align: right;\">0.05</td></tr><tr><td class = \"rowNumber\" style = \"font-weight: bold; text-align: right;\">7</td><td style = \"text-align: right;\">0.58</td><td style = \"text-align: right;\">-0.55</td></tr><tr><td class = \"rowNumber\" style = \"font-weight: bold; text-align: right;\">8</td><td style = \"text-align: right;\">-4.72</td><td style = \"text-align: right;\">0.87</td></tr><tr><td class = \"rowNumber\" style = \"font-weight: bold; text-align: right;\">9</td><td style = \"text-align: right;\">-4.48</td><td style = \"text-align: right;\">0.63</td></tr><tr><td class = \"rowNumber\" style = \"font-weight: bold; text-align: right;\">10</td><td style = \"text-align: right;\">0.78</td><td style = \"text-align: right;\">-0.37</td></tr><tr><td class = \"rowNumber\" style = \"font-weight: bold; text-align: right;\">11</td><td style = \"text-align: right;\">0.1</td><td style = \"text-align: right;\">0.14</td></tr><tr><td class = \"rowNumber\" style = \"font-weight: bold; text-align: right;\">12</td><td style = \"text-align: right;\">1.05</td><td style = \"text-align: right;\">-0.38</td></tr><tr><td class = \"rowNumber\" style = \"font-weight: bold; text-align: right;\">13</td><td style = \"text-align: right;\">-0.15</td><td style = \"text-align: right;\">0.08</td></tr><tr><td style = \"text-align: right;\">&vellip;</td><td style = \"text-align: right;\">&vellip;</td><td style = \"text-align: right;\">&vellip;</td></tr><tr><td class = \"rowNumber\" style = \"font-weight: bold; text-align: right;\">16</td><td style = \"text-align: right;\">-2.6</td><td style = \"text-align: right;\">0.89</td></tr><tr><td class = \"rowNumber\" style = \"font-weight: bold; text-align: right;\">17</td><td style = \"text-align: right;\">0.305</td><td style = \"text-align: right;\">-0.35</td></tr><tr><td class = \"rowNumber\" style = \"font-weight: bold; text-align: right;\">18</td><td style = \"text-align: right;\">0.39</td><td style = \"text-align: right;\">1.62</td></tr><tr><td class = \"rowNumber\" style = \"font-weight: bold; text-align: right;\">19</td><td style = \"text-align: right;\">-4.45</td><td style = \"text-align: right;\">1.03</td></tr><tr><td class = \"rowNumber\" style = \"font-weight: bold; text-align: right;\">20</td><td style = \"text-align: right;\">0.31</td><td style = \"text-align: right;\">-0.45</td></tr><tr><td class = \"rowNumber\" style = \"font-weight: bold; text-align: right;\">21</td><td style = \"text-align: right;\">0.02</td><td style = \"text-align: right;\">0.09</td></tr><tr><td class = \"rowNumber\" style = \"font-weight: bold; text-align: right;\">22</td><td style = \"text-align: right;\">-0.03</td><td style = \"text-align: right;\">-0.02</td></tr><tr><td class = \"rowNumber\" style = \"font-weight: bold; text-align: right;\">23</td><td style = \"text-align: right;\">-0.96</td><td style = \"text-align: right;\">1.3</td></tr><tr><td class = \"rowNumber\" style = \"font-weight: bold; text-align: right;\">24</td><td style = \"text-align: right;\">0.335</td><td style = \"text-align: right;\">-0.18</td></tr><tr><td class = \"rowNumber\" style = \"font-weight: bold; text-align: right;\">25</td><td style = \"text-align: right;\">1.16</td><td style = \"text-align: right;\">-0.41</td></tr><tr><td class = \"rowNumber\" style = \"font-weight: bold; text-align: right;\">26</td><td style = \"text-align: right;\">-0.87</td><td style = \"text-align: right;\">1.19</td></tr><tr><td class = \"rowNumber\" style = \"font-weight: bold; text-align: right;\">27</td><td style = \"text-align: right;\">-4.23</td><td style = \"text-align: right;\">0.865</td></tr></tbody></table></div>"
      ],
      "text/latex": [
       "\\begin{tabular}{r|cc}\n",
       "\t& D170 & e54Cr\\\\\n",
       "\t\\hline\n",
       "\t& Float64 & Float64\\\\\n",
       "\t\\hline\n",
       "\t1 & -3.52 & 0.98 \\\\\n",
       "\t2 & -2.27 & 1.13 \\\\\n",
       "\t3 & 0.3 & -0.21 \\\\\n",
       "\t4 & -4.59 & 0.63 \\\\\n",
       "\t5 & 0.07 & -0.01 \\\\\n",
       "\t6 & 0.12 & 0.05 \\\\\n",
       "\t7 & 0.58 & -0.55 \\\\\n",
       "\t8 & -4.72 & 0.87 \\\\\n",
       "\t9 & -4.48 & 0.63 \\\\\n",
       "\t10 & 0.78 & -0.37 \\\\\n",
       "\t11 & 0.1 & 0.14 \\\\\n",
       "\t12 & 1.05 & -0.38 \\\\\n",
       "\t13 & -0.15 & 0.08 \\\\\n",
       "\t14 & -4.35 & 0.57 \\\\\n",
       "\t15 & -4.73 & 0.71 \\\\\n",
       "\t16 & -2.6 & 0.89 \\\\\n",
       "\t17 & 0.305 & -0.35 \\\\\n",
       "\t18 & 0.39 & 1.62 \\\\\n",
       "\t19 & -4.45 & 1.03 \\\\\n",
       "\t20 & 0.31 & -0.45 \\\\\n",
       "\t21 & 0.02 & 0.09 \\\\\n",
       "\t22 & -0.03 & -0.02 \\\\\n",
       "\t23 & -0.96 & 1.3 \\\\\n",
       "\t24 & 0.335 & -0.18 \\\\\n",
       "\t25 & 1.16 & -0.41 \\\\\n",
       "\t26 & -0.87 & 1.19 \\\\\n",
       "\t27 & -4.23 & 0.865 \\\\\n",
       "\\end{tabular}\n"
      ],
      "text/plain": [
       "\u001b[1m27×2 DataFrame\u001b[0m\n",
       "\u001b[1m Row \u001b[0m│\u001b[1m D170    \u001b[0m\u001b[1m e54Cr   \u001b[0m\n",
       "     │\u001b[90m Float64 \u001b[0m\u001b[90m Float64 \u001b[0m\n",
       "─────┼──────────────────\n",
       "   1 │  -3.52     0.98\n",
       "   2 │  -2.27     1.13\n",
       "   3 │   0.3     -0.21\n",
       "   4 │  -4.59     0.63\n",
       "   5 │   0.07    -0.01\n",
       "   6 │   0.12     0.05\n",
       "   7 │   0.58    -0.55\n",
       "   8 │  -4.72     0.87\n",
       "   9 │  -4.48     0.63\n",
       "  10 │   0.78    -0.37\n",
       "  11 │   0.1      0.14\n",
       "  ⋮  │    ⋮        ⋮\n",
       "  18 │   0.39     1.62\n",
       "  19 │  -4.45     1.03\n",
       "  20 │   0.31    -0.45\n",
       "  21 │   0.02     0.09\n",
       "  22 │  -0.03    -0.02\n",
       "  23 │  -0.96     1.3\n",
       "  24 │   0.335   -0.18\n",
       "  25 │   1.16    -0.41\n",
       "  26 │  -0.87     1.19\n",
       "  27 │  -4.23     0.865\n",
       "\u001b[36m          6 rows omitted\u001b[0m"
      ]
     },
     "execution_count": 110,
     "metadata": {},
     "output_type": "execute_result"
    }
   ],
   "source": [
    "dataOxCr=dropmissing(dataOxCr)"
   ]
  },
  {
   "cell_type": "code",
   "execution_count": 111,
   "id": "afe9e442",
   "metadata": {},
   "outputs": [
    {
     "data": {
      "image/png": "[encoded data removed]",
      "image/svg+xml": [
       "<?xml version=\"1.0\" encoding=\"utf-8\"?>\n",
       "<svg xmlns=\"http://www.w3.org/2000/svg\" xmlns:xlink=\"http://www.w3.org/1999/xlink\" width=\"600\" height=\"400\" viewBox=\"0 0 2400 1600\">\n",
       "<defs>\n",
       "  <clipPath id=\"clip610\">\n",
       "    <rect x=\"0\" y=\"0\" width=\"2400\" height=\"1600\"/>\n",
       "  </clipPath>\n",
       "</defs>\n",
       "<path clip-path=\"url(#clip610)\" d=\"M0 1600 L2400 1600 L2400 0 L0 0  Z\" fill=\"#ffffff\" fill-rule=\"evenodd\" fill-opacity=\"1\"/>\n",
       "<defs>\n",
       "  <clipPath id=\"clip611\">\n",
       "    <rect x=\"480\" y=\"0\" width=\"1681\" height=\"1600\"/>\n",
       "  </clipPath>\n",
       "</defs>\n",
       "<path clip-path=\"url(#clip610)\" d=\"M192.941 1486.45 L2352.76 1486.45 L2352.76 123.472 L192.941 123.472  Z\" fill=\"#ffffff\" fill-rule=\"evenodd\" fill-opacity=\"1\"/>\n",
       "<defs>\n",
       "  <clipPath id=\"clip612\">\n",
       "    <rect x=\"192\" y=\"123\" width=\"2161\" height=\"1364\"/>\n",
       "  </clipPath>\n",
       "</defs>\n",
       "<polyline clip-path=\"url(#clip612)\" style=\"stroke:#000000; stroke-linecap:round; stroke-linejoin:round; stroke-width:2; stroke-opacity:0.1; fill:none\" points=\"506.601,1486.45 506.601,123.472 \"/>\n",
       "<polyline clip-path=\"url(#clip612)\" style=\"stroke:#000000; stroke-linecap:round; stroke-linejoin:round; stroke-width:2; stroke-opacity:0.1; fill:none\" points=\"852.536,1486.45 852.536,123.472 \"/>\n",
       "<polyline clip-path=\"url(#clip612)\" style=\"stroke:#000000; stroke-linecap:round; stroke-linejoin:round; stroke-width:2; stroke-opacity:0.1; fill:none\" points=\"1198.47,1486.45 1198.47,123.472 \"/>\n",
       "<polyline clip-path=\"url(#clip612)\" style=\"stroke:#000000; stroke-linecap:round; stroke-linejoin:round; stroke-width:2; stroke-opacity:0.1; fill:none\" points=\"1544.41,1486.45 1544.41,123.472 \"/>\n",
       "<polyline clip-path=\"url(#clip612)\" style=\"stroke:#000000; stroke-linecap:round; stroke-linejoin:round; stroke-width:2; stroke-opacity:0.1; fill:none\" points=\"1890.34,1486.45 1890.34,123.472 \"/>\n",
       "<polyline clip-path=\"url(#clip612)\" style=\"stroke:#000000; stroke-linecap:round; stroke-linejoin:round; stroke-width:2; stroke-opacity:0.1; fill:none\" points=\"2236.28,1486.45 2236.28,123.472 \"/>\n",
       "<polyline clip-path=\"url(#clip610)\" style=\"stroke:#000000; stroke-linecap:round; stroke-linejoin:round; stroke-width:4; stroke-opacity:1; fill:none\" points=\"192.941,1486.45 2352.76,1486.45 \"/>\n",
       "<polyline clip-path=\"url(#clip610)\" style=\"stroke:#000000; stroke-linecap:round; stroke-linejoin:round; stroke-width:4; stroke-opacity:1; fill:none\" points=\"506.601,1486.45 506.601,1467.55 \"/>\n",
       "<polyline clip-path=\"url(#clip610)\" style=\"stroke:#000000; stroke-linecap:round; stroke-linejoin:round; stroke-width:4; stroke-opacity:1; fill:none\" points=\"852.536,1486.45 852.536,1467.55 \"/>\n",
       "<polyline clip-path=\"url(#clip610)\" style=\"stroke:#000000; stroke-linecap:round; stroke-linejoin:round; stroke-width:4; stroke-opacity:1; fill:none\" points=\"1198.47,1486.45 1198.47,1467.55 \"/>\n",
       "<polyline clip-path=\"url(#clip610)\" style=\"stroke:#000000; stroke-linecap:round; stroke-linejoin:round; stroke-width:4; stroke-opacity:1; fill:none\" points=\"1544.41,1486.45 1544.41,1467.55 \"/>\n",
       "<polyline clip-path=\"url(#clip610)\" style=\"stroke:#000000; stroke-linecap:round; stroke-linejoin:round; stroke-width:4; stroke-opacity:1; fill:none\" points=\"1890.34,1486.45 1890.34,1467.55 \"/>\n",
       "<polyline clip-path=\"url(#clip610)\" style=\"stroke:#000000; stroke-linecap:round; stroke-linejoin:round; stroke-width:4; stroke-opacity:1; fill:none\" points=\"2236.28,1486.45 2236.28,1467.55 \"/>\n",
       "<path clip-path=\"url(#clip610)\" d=\"M475.501 1532.02 L505.177 1532.02 L505.177 1535.95 L475.501 1535.95 L475.501 1532.02 Z\" fill=\"#000000\" fill-rule=\"nonzero\" fill-opacity=\"1\" /><path clip-path=\"url(#clip610)\" d=\"M528.117 1518.36 L516.311 1536.81 L528.117 1536.81 L528.117 1518.36 M526.89 1514.29 L532.769 1514.29 L532.769 1536.81 L537.7 1536.81 L537.7 1540.7 L532.769 1540.7 L532.769 1548.85 L528.117 1548.85 L528.117 1540.7 L512.515 1540.7 L512.515 1536.19 L526.89 1514.29 Z\" fill=\"#000000\" fill-rule=\"nonzero\" fill-opacity=\"1\" /><path clip-path=\"url(#clip610)\" d=\"M822.004 1532.02 L851.68 1532.02 L851.68 1535.95 L822.004 1535.95 L822.004 1532.02 Z\" fill=\"#000000\" fill-rule=\"nonzero\" fill-opacity=\"1\" /><path clip-path=\"url(#clip610)\" d=\"M875.939 1530.21 Q879.295 1530.93 881.17 1533.2 Q883.069 1535.47 883.069 1538.8 Q883.069 1543.92 879.55 1546.72 Q876.032 1549.52 869.55 1549.52 Q867.374 1549.52 865.059 1549.08 Q862.768 1548.66 860.314 1547.81 L860.314 1543.29 Q862.259 1544.43 864.573 1545.01 Q866.888 1545.58 869.411 1545.58 Q873.809 1545.58 876.101 1543.85 Q878.416 1542.11 878.416 1538.8 Q878.416 1535.75 876.263 1534.03 Q874.133 1532.3 870.314 1532.3 L866.286 1532.3 L866.286 1528.45 L870.499 1528.45 Q873.948 1528.45 875.777 1527.09 Q877.606 1525.7 877.606 1523.11 Q877.606 1520.45 875.708 1519.03 Q873.833 1517.6 870.314 1517.6 Q868.393 1517.6 866.194 1518.01 Q863.995 1518.43 861.356 1519.31 L861.356 1515.14 Q864.018 1514.4 866.333 1514.03 Q868.671 1513.66 870.731 1513.66 Q876.055 1513.66 879.157 1516.09 Q882.258 1518.5 882.258 1522.62 Q882.258 1525.49 880.615 1527.48 Q878.971 1529.45 875.939 1530.21 Z\" fill=\"#000000\" fill-rule=\"nonzero\" fill-opacity=\"1\" /><path clip-path=\"url(#clip610)\" d=\"M1168.41 1532.02 L1198.09 1532.02 L1198.09 1535.95 L1168.41 1535.95 L1168.41 1532.02 Z\" fill=\"#000000\" fill-rule=\"nonzero\" fill-opacity=\"1\" /><path clip-path=\"url(#clip610)\" d=\"M1212.21 1544.91 L1228.53 1544.91 L1228.53 1548.85 L1206.59 1548.85 L1206.59 1544.91 Q1209.25 1542.16 1213.83 1537.53 Q1218.44 1532.88 1219.62 1531.53 Q1221.86 1529.01 1222.74 1527.27 Q1223.65 1525.51 1223.65 1523.82 Q1223.65 1521.07 1221.7 1519.33 Q1219.78 1517.6 1216.68 1517.6 Q1214.48 1517.6 1212.03 1518.36 Q1209.59 1519.13 1206.82 1520.68 L1206.82 1515.95 Q1209.64 1514.82 1212.09 1514.24 Q1214.55 1513.66 1216.59 1513.66 Q1221.96 1513.66 1225.15 1516.35 Q1228.34 1519.03 1228.34 1523.52 Q1228.34 1525.65 1227.53 1527.57 Q1226.75 1529.47 1224.64 1532.07 Q1224.06 1532.74 1220.96 1535.95 Q1217.86 1539.15 1212.21 1544.91 Z\" fill=\"#000000\" fill-rule=\"nonzero\" fill-opacity=\"1\" /><path clip-path=\"url(#clip610)\" d=\"M1514.16 1532.02 L1543.84 1532.02 L1543.84 1535.95 L1514.16 1535.95 L1514.16 1532.02 Z\" fill=\"#000000\" fill-rule=\"nonzero\" fill-opacity=\"1\" /><path clip-path=\"url(#clip610)\" d=\"M1554.74 1544.91 L1562.38 1544.91 L1562.38 1518.55 L1554.07 1520.21 L1554.07 1515.95 L1562.34 1514.29 L1567.01 1514.29 L1567.01 1544.91 L1574.65 1544.91 L1574.65 1548.85 L1554.74 1548.85 L1554.74 1544.91 Z\" fill=\"#000000\" fill-rule=\"nonzero\" fill-opacity=\"1\" /><path clip-path=\"url(#clip610)\" d=\"M1890.34 1517.37 Q1886.73 1517.37 1884.9 1520.93 Q1883.1 1524.47 1883.1 1531.6 Q1883.1 1538.71 1884.9 1542.27 Q1886.73 1545.82 1890.34 1545.82 Q1893.98 1545.82 1895.78 1542.27 Q1897.61 1538.71 1897.61 1531.6 Q1897.61 1524.47 1895.78 1520.93 Q1893.98 1517.37 1890.34 1517.37 M1890.34 1513.66 Q1896.15 1513.66 1899.21 1518.27 Q1902.29 1522.85 1902.29 1531.6 Q1902.29 1540.33 1899.21 1544.94 Q1896.15 1549.52 1890.34 1549.52 Q1884.53 1549.52 1881.45 1544.94 Q1878.4 1540.33 1878.4 1531.6 Q1878.4 1522.85 1881.45 1518.27 Q1884.53 1513.66 1890.34 1513.66 Z\" fill=\"#000000\" fill-rule=\"nonzero\" fill-opacity=\"1\" /><path clip-path=\"url(#clip610)\" d=\"M2226.66 1544.91 L2234.3 1544.91 L2234.3 1518.55 L2225.99 1520.21 L2225.99 1515.95 L2234.25 1514.29 L2238.93 1514.29 L2238.93 1544.91 L2246.57 1544.91 L2246.57 1548.85 L2226.66 1548.85 L2226.66 1544.91 Z\" fill=\"#000000\" fill-rule=\"nonzero\" fill-opacity=\"1\" /><polyline clip-path=\"url(#clip612)\" style=\"stroke:#000000; stroke-linecap:round; stroke-linejoin:round; stroke-width:2; stroke-opacity:0.1; fill:none\" points=\"192.941,1418.25 2352.76,1418.25 \"/>\n",
       "<polyline clip-path=\"url(#clip612)\" style=\"stroke:#000000; stroke-linecap:round; stroke-linejoin:round; stroke-width:2; stroke-opacity:0.1; fill:none\" points=\"192.941,1121.97 2352.76,1121.97 \"/>\n",
       "<polyline clip-path=\"url(#clip612)\" style=\"stroke:#000000; stroke-linecap:round; stroke-linejoin:round; stroke-width:2; stroke-opacity:0.1; fill:none\" points=\"192.941,825.699 2352.76,825.699 \"/>\n",
       "<polyline clip-path=\"url(#clip612)\" style=\"stroke:#000000; stroke-linecap:round; stroke-linejoin:round; stroke-width:2; stroke-opacity:0.1; fill:none\" points=\"192.941,529.426 2352.76,529.426 \"/>\n",
       "<polyline clip-path=\"url(#clip612)\" style=\"stroke:#000000; stroke-linecap:round; stroke-linejoin:round; stroke-width:2; stroke-opacity:0.1; fill:none\" points=\"192.941,233.153 2352.76,233.153 \"/>\n",
       "<polyline clip-path=\"url(#clip610)\" style=\"stroke:#000000; stroke-linecap:round; stroke-linejoin:round; stroke-width:4; stroke-opacity:1; fill:none\" points=\"192.941,1486.45 192.941,123.472 \"/>\n",
       "<polyline clip-path=\"url(#clip610)\" style=\"stroke:#000000; stroke-linecap:round; stroke-linejoin:round; stroke-width:4; stroke-opacity:1; fill:none\" points=\"192.941,1418.25 211.838,1418.25 \"/>\n",
       "<polyline clip-path=\"url(#clip610)\" style=\"stroke:#000000; stroke-linecap:round; stroke-linejoin:round; stroke-width:4; stroke-opacity:1; fill:none\" points=\"192.941,1121.97 211.838,1121.97 \"/>\n",
       "<polyline clip-path=\"url(#clip610)\" style=\"stroke:#000000; stroke-linecap:round; stroke-linejoin:round; stroke-width:4; stroke-opacity:1; fill:none\" points=\"192.941,825.699 211.838,825.699 \"/>\n",
       "<polyline clip-path=\"url(#clip610)\" style=\"stroke:#000000; stroke-linecap:round; stroke-linejoin:round; stroke-width:4; stroke-opacity:1; fill:none\" points=\"192.941,529.426 211.838,529.426 \"/>\n",
       "<polyline clip-path=\"url(#clip610)\" style=\"stroke:#000000; stroke-linecap:round; stroke-linejoin:round; stroke-width:4; stroke-opacity:1; fill:none\" points=\"192.941,233.153 211.838,233.153 \"/>\n",
       "<path clip-path=\"url(#clip610)\" d=\"M50.9921 1418.7 L80.6679 1418.7 L80.6679 1422.63 L50.9921 1422.63 L50.9921 1418.7 Z\" fill=\"#000000\" fill-rule=\"nonzero\" fill-opacity=\"1\" /><path clip-path=\"url(#clip610)\" d=\"M100.76 1404.04 Q97.1493 1404.04 95.3206 1407.61 Q93.515 1411.15 93.515 1418.28 Q93.515 1425.39 95.3206 1428.95 Q97.1493 1432.49 100.76 1432.49 Q104.395 1432.49 106.2 1428.95 Q108.029 1425.39 108.029 1418.28 Q108.029 1411.15 106.2 1407.61 Q104.395 1404.04 100.76 1404.04 M100.76 1400.34 Q106.571 1400.34 109.626 1404.95 Q112.705 1409.53 112.705 1418.28 Q112.705 1427.01 109.626 1431.61 Q106.571 1436.2 100.76 1436.2 Q94.9502 1436.2 91.8715 1431.61 Q88.816 1427.01 88.816 1418.28 Q88.816 1409.53 91.8715 1404.95 Q94.9502 1400.34 100.76 1400.34 Z\" fill=\"#000000\" fill-rule=\"nonzero\" fill-opacity=\"1\" /><path clip-path=\"url(#clip610)\" d=\"M120.922 1429.65 L125.807 1429.65 L125.807 1435.53 L120.922 1435.53 L120.922 1429.65 Z\" fill=\"#000000\" fill-rule=\"nonzero\" fill-opacity=\"1\" /><path clip-path=\"url(#clip610)\" d=\"M136.038 1400.97 L154.394 1400.97 L154.394 1404.9 L140.32 1404.9 L140.32 1413.37 Q141.339 1413.03 142.357 1412.86 Q143.376 1412.68 144.394 1412.68 Q150.181 1412.68 153.561 1415.85 Q156.941 1419.02 156.941 1424.44 Q156.941 1430.02 153.468 1433.12 Q149.996 1436.2 143.677 1436.2 Q141.501 1436.2 139.232 1435.83 Q136.987 1435.46 134.58 1434.72 L134.58 1430.02 Q136.663 1431.15 138.885 1431.71 Q141.107 1432.26 143.584 1432.26 Q147.589 1432.26 149.927 1430.16 Q152.265 1428.05 152.265 1424.44 Q152.265 1420.83 149.927 1418.72 Q147.589 1416.61 143.584 1416.61 Q141.709 1416.61 139.834 1417.03 Q137.982 1417.45 136.038 1418.33 L136.038 1400.97 Z\" fill=\"#000000\" fill-rule=\"nonzero\" fill-opacity=\"1\" /><path clip-path=\"url(#clip610)\" d=\"M99.765 1107.77 Q96.1539 1107.77 94.3252 1111.34 Q92.5197 1114.88 92.5197 1122.01 Q92.5197 1129.11 94.3252 1132.68 Q96.1539 1136.22 99.765 1136.22 Q103.399 1136.22 105.205 1132.68 Q107.033 1129.11 107.033 1122.01 Q107.033 1114.88 105.205 1111.34 Q103.399 1107.77 99.765 1107.77 M99.765 1104.07 Q105.575 1104.07 108.631 1108.67 Q111.709 1113.26 111.709 1122.01 Q111.709 1130.73 108.631 1135.34 Q105.575 1139.92 99.765 1139.92 Q93.9549 1139.92 90.8762 1135.34 Q87.8206 1130.73 87.8206 1122.01 Q87.8206 1113.26 90.8762 1108.67 Q93.9549 1104.07 99.765 1104.07 Z\" fill=\"#000000\" fill-rule=\"nonzero\" fill-opacity=\"1\" /><path clip-path=\"url(#clip610)\" d=\"M119.927 1133.37 L124.811 1133.37 L124.811 1139.25 L119.927 1139.25 L119.927 1133.37 Z\" fill=\"#000000\" fill-rule=\"nonzero\" fill-opacity=\"1\" /><path clip-path=\"url(#clip610)\" d=\"M144.996 1107.77 Q141.385 1107.77 139.556 1111.34 Q137.751 1114.88 137.751 1122.01 Q137.751 1129.11 139.556 1132.68 Q141.385 1136.22 144.996 1136.22 Q148.63 1136.22 150.436 1132.68 Q152.265 1129.11 152.265 1122.01 Q152.265 1114.88 150.436 1111.34 Q148.63 1107.77 144.996 1107.77 M144.996 1104.07 Q150.806 1104.07 153.862 1108.67 Q156.941 1113.26 156.941 1122.01 Q156.941 1130.73 153.862 1135.34 Q150.806 1139.92 144.996 1139.92 Q139.186 1139.92 136.107 1135.34 Q133.052 1130.73 133.052 1122.01 Q133.052 1113.26 136.107 1108.67 Q139.186 1104.07 144.996 1104.07 Z\" fill=\"#000000\" fill-rule=\"nonzero\" fill-opacity=\"1\" /><path clip-path=\"url(#clip610)\" d=\"M100.76 811.498 Q97.1493 811.498 95.3206 815.063 Q93.515 818.604 93.515 825.734 Q93.515 832.84 95.3206 836.405 Q97.1493 839.947 100.76 839.947 Q104.395 839.947 106.2 836.405 Q108.029 832.84 108.029 825.734 Q108.029 818.604 106.2 815.063 Q104.395 811.498 100.76 811.498 M100.76 807.794 Q106.571 807.794 109.626 812.401 Q112.705 816.984 112.705 825.734 Q112.705 834.461 109.626 839.067 Q106.571 843.65 100.76 843.65 Q94.9502 843.65 91.8715 839.067 Q88.816 834.461 88.816 825.734 Q88.816 816.984 91.8715 812.401 Q94.9502 807.794 100.76 807.794 Z\" fill=\"#000000\" fill-rule=\"nonzero\" fill-opacity=\"1\" /><path clip-path=\"url(#clip610)\" d=\"M120.922 837.1 L125.807 837.1 L125.807 842.979 L120.922 842.979 L120.922 837.1 Z\" fill=\"#000000\" fill-rule=\"nonzero\" fill-opacity=\"1\" /><path clip-path=\"url(#clip610)\" d=\"M136.038 808.419 L154.394 808.419 L154.394 812.354 L140.32 812.354 L140.32 820.826 Q141.339 820.479 142.357 820.317 Q143.376 820.132 144.394 820.132 Q150.181 820.132 153.561 823.303 Q156.941 826.475 156.941 831.891 Q156.941 837.47 153.468 840.572 Q149.996 843.65 143.677 843.65 Q141.501 843.65 139.232 843.28 Q136.987 842.91 134.58 842.169 L134.58 837.47 Q136.663 838.604 138.885 839.16 Q141.107 839.715 143.584 839.715 Q147.589 839.715 149.927 837.609 Q152.265 835.502 152.265 831.891 Q152.265 828.28 149.927 826.174 Q147.589 824.067 143.584 824.067 Q141.709 824.067 139.834 824.484 Q137.982 824.901 136.038 825.78 L136.038 808.419 Z\" fill=\"#000000\" fill-rule=\"nonzero\" fill-opacity=\"1\" /><path clip-path=\"url(#clip610)\" d=\"M90.5752 542.771 L98.2141 542.771 L98.2141 516.405 L89.904 518.072 L89.904 513.812 L98.1678 512.146 L102.844 512.146 L102.844 542.771 L110.483 542.771 L110.483 546.706 L90.5752 546.706 L90.5752 542.771 Z\" fill=\"#000000\" fill-rule=\"nonzero\" fill-opacity=\"1\" /><path clip-path=\"url(#clip610)\" d=\"M119.927 540.826 L124.811 540.826 L124.811 546.706 L119.927 546.706 L119.927 540.826 Z\" fill=\"#000000\" fill-rule=\"nonzero\" fill-opacity=\"1\" /><path clip-path=\"url(#clip610)\" d=\"M144.996 515.225 Q141.385 515.225 139.556 518.789 Q137.751 522.331 137.751 529.461 Q137.751 536.567 139.556 540.132 Q141.385 543.673 144.996 543.673 Q148.63 543.673 150.436 540.132 Q152.265 536.567 152.265 529.461 Q152.265 522.331 150.436 518.789 Q148.63 515.225 144.996 515.225 M144.996 511.521 Q150.806 511.521 153.862 516.127 Q156.941 520.711 156.941 529.461 Q156.941 538.187 153.862 542.794 Q150.806 547.377 144.996 547.377 Q139.186 547.377 136.107 542.794 Q133.052 538.187 133.052 529.461 Q133.052 520.711 136.107 516.127 Q139.186 511.521 144.996 511.521 Z\" fill=\"#000000\" fill-rule=\"nonzero\" fill-opacity=\"1\" /><path clip-path=\"url(#clip610)\" d=\"M91.5706 246.497 L99.2095 246.497 L99.2095 220.132 L90.8993 221.798 L90.8993 217.539 L99.1632 215.873 L103.839 215.873 L103.839 246.497 L111.478 246.497 L111.478 250.433 L91.5706 250.433 L91.5706 246.497 Z\" fill=\"#000000\" fill-rule=\"nonzero\" fill-opacity=\"1\" /><path clip-path=\"url(#clip610)\" d=\"M120.922 244.553 L125.807 244.553 L125.807 250.433 L120.922 250.433 L120.922 244.553 Z\" fill=\"#000000\" fill-rule=\"nonzero\" fill-opacity=\"1\" /><path clip-path=\"url(#clip610)\" d=\"M136.038 215.873 L154.394 215.873 L154.394 219.808 L140.32 219.808 L140.32 228.28 Q141.339 227.933 142.357 227.771 Q143.376 227.585 144.394 227.585 Q150.181 227.585 153.561 230.757 Q156.941 233.928 156.941 239.345 Q156.941 244.923 153.468 248.025 Q149.996 251.104 143.677 251.104 Q141.501 251.104 139.232 250.733 Q136.987 250.363 134.58 249.622 L134.58 244.923 Q136.663 246.058 138.885 246.613 Q141.107 247.169 143.584 247.169 Q147.589 247.169 149.927 245.062 Q152.265 242.956 152.265 239.345 Q152.265 235.734 149.927 233.627 Q147.589 231.521 143.584 231.521 Q141.709 231.521 139.834 231.937 Q137.982 232.354 136.038 233.234 L136.038 215.873 Z\" fill=\"#000000\" fill-rule=\"nonzero\" fill-opacity=\"1\" /><path clip-path=\"url(#clip610)\" d=\"M945.252 18.8205 L945.252 65.8515 L955.136 65.8515 Q967.653 65.8515 973.446 60.1802 Q979.279 54.509 979.279 42.2752 Q979.279 30.1225 973.446 24.4918 Q967.653 18.8205 955.136 18.8205 L945.252 18.8205 M937.069 12.096 L953.88 12.096 Q971.461 12.096 979.684 19.4281 Q987.908 26.7198 987.908 42.2752 Q987.908 57.9117 979.644 65.2439 Q971.38 72.576 953.88 72.576 L937.069 72.576 L937.069 12.096 Z\" fill=\"#000000\" fill-rule=\"nonzero\" fill-opacity=\"1\" /><path clip-path=\"url(#clip610)\" d=\"M1003.1 65.6895 L1016.47 65.6895 L1016.47 19.5497 L1001.92 22.4663 L1001.92 15.0127 L1016.39 12.096 L1024.57 12.096 L1024.57 65.6895 L1037.94 65.6895 L1037.94 72.576 L1003.1 72.576 L1003.1 65.6895 Z\" fill=\"#000000\" fill-rule=\"nonzero\" fill-opacity=\"1\" /><path clip-path=\"url(#clip610)\" d=\"M1052.4 12.096 L1091.29 12.096 L1091.29 15.5798 L1069.33 72.576 L1060.78 72.576 L1081.44 18.9825 L1052.4 18.9825 L1052.4 12.096 Z\" fill=\"#000000\" fill-rule=\"nonzero\" fill-opacity=\"1\" /><path clip-path=\"url(#clip610)\" d=\"M1124.75 17.4837 Q1118.43 17.4837 1115.23 23.7221 Q1112.07 29.92 1112.07 42.3968 Q1112.07 54.833 1115.23 61.0714 Q1118.43 67.2693 1124.75 67.2693 Q1131.11 67.2693 1134.27 61.0714 Q1137.47 54.833 1137.47 42.3968 Q1137.47 29.92 1134.27 23.7221 Q1131.11 17.4837 1124.75 17.4837 M1124.75 11.0023 Q1134.91 11.0023 1140.26 19.0636 Q1145.65 27.0843 1145.65 42.3968 Q1145.65 57.6687 1140.26 65.73 Q1134.91 73.7508 1124.75 73.7508 Q1114.58 73.7508 1109.19 65.73 Q1103.84 57.6687 1103.84 42.3968 Q1103.84 27.0843 1109.19 19.0636 Q1114.58 11.0023 1124.75 11.0023 Z\" fill=\"#000000\" fill-rule=\"nonzero\" fill-opacity=\"1\" /><path clip-path=\"url(#clip610)\" d=\"M1205.97 49.7694 Q1196.93 49.7694 1193.45 51.8354 Q1189.97 53.9013 1189.97 58.8839 Q1189.97 62.8538 1192.56 65.2034 Q1195.19 67.5124 1199.69 67.5124 Q1205.89 67.5124 1209.61 63.1374 Q1213.38 58.7219 1213.38 51.4303 L1213.38 49.7694 L1205.97 49.7694 M1220.83 46.6907 L1220.83 72.576 L1213.38 72.576 L1213.38 65.6895 Q1210.83 69.8214 1207.02 71.8063 Q1203.21 73.7508 1197.7 73.7508 Q1190.74 73.7508 1186.6 69.8619 Q1182.51 65.9325 1182.51 59.3701 Q1182.51 51.7138 1187.62 47.825 Q1192.76 43.9361 1202.93 43.9361 L1213.38 43.9361 L1213.38 43.2069 Q1213.38 38.0623 1209.98 35.2672 Q1206.62 32.4315 1200.5 32.4315 Q1196.61 32.4315 1192.92 33.3632 Q1189.24 34.295 1185.83 36.1584 L1185.83 29.2718 Q1189.93 27.692 1193.77 26.9223 Q1197.62 26.1121 1201.27 26.1121 Q1211.11 26.1121 1215.97 31.2163 Q1220.83 36.3204 1220.83 46.6907 Z\" fill=\"#000000\" fill-rule=\"nonzero\" fill-opacity=\"1\" /><path clip-path=\"url(#clip610)\" d=\"M1273.9 45.1919 L1273.9 72.576 L1266.45 72.576 L1266.45 45.4349 Q1266.45 38.994 1263.94 35.7938 Q1261.42 32.5936 1256.4 32.5936 Q1250.37 32.5936 1246.88 36.4419 Q1243.4 40.2903 1243.4 46.9338 L1243.4 72.576 L1235.9 72.576 L1235.9 27.2059 L1243.4 27.2059 L1243.4 34.2544 Q1246.07 30.163 1249.68 28.1376 Q1253.32 26.1121 1258.06 26.1121 Q1265.88 26.1121 1269.89 30.9732 Q1273.9 35.7938 1273.9 45.1919 Z\" fill=\"#000000\" fill-rule=\"nonzero\" fill-opacity=\"1\" /><path clip-path=\"url(#clip610)\" d=\"M1318.62 34.0924 L1318.62 9.54393 L1326.08 9.54393 L1326.08 72.576 L1318.62 72.576 L1318.62 65.7705 Q1316.27 69.8214 1312.67 71.8063 Q1309.1 73.7508 1304.08 73.7508 Q1295.86 73.7508 1290.67 67.1883 Q1285.53 60.6258 1285.53 49.9314 Q1285.53 39.2371 1290.67 32.6746 Q1295.86 26.1121 1304.08 26.1121 Q1309.1 26.1121 1312.67 28.0971 Q1316.27 30.0415 1318.62 34.0924 M1293.22 49.9314 Q1293.22 58.1548 1296.59 62.8538 Q1299.99 67.5124 1305.9 67.5124 Q1311.82 67.5124 1315.22 62.8538 Q1318.62 58.1548 1318.62 49.9314 Q1318.62 41.7081 1315.22 37.0496 Q1311.82 32.3505 1305.9 32.3505 Q1299.99 32.3505 1296.59 37.0496 Q1293.22 41.7081 1293.22 49.9314 Z\" fill=\"#000000\" fill-rule=\"nonzero\" fill-opacity=\"1\" /><path clip-path=\"url(#clip610)\" d=\"M1406.61 48.0275 L1406.61 51.6733 L1372.34 51.6733 Q1372.82 59.3701 1376.96 63.421 Q1381.13 67.4314 1388.54 67.4314 Q1392.84 67.4314 1396.85 66.3781 Q1400.9 65.3249 1404.87 63.2184 L1404.87 70.267 Q1400.86 71.9684 1396.64 72.8596 Q1392.43 73.7508 1388.1 73.7508 Q1377.24 73.7508 1370.88 67.4314 Q1364.56 61.1119 1364.56 50.3365 Q1364.56 39.1965 1370.56 32.6746 Q1376.59 26.1121 1386.8 26.1121 Q1395.96 26.1121 1401.26 32.0264 Q1406.61 37.9003 1406.61 48.0275 M1399.16 45.84 Q1399.07 39.7232 1395.71 36.0774 Q1392.39 32.4315 1386.88 32.4315 Q1380.64 32.4315 1376.88 35.9558 Q1373.15 39.4801 1372.58 45.8805 L1399.16 45.84 Z\" fill=\"#000000\" fill-rule=\"nonzero\" fill-opacity=\"1\" /><path clip-path=\"url(#clip610)\" d=\"M1419.98 12.096 L1452.1 12.096 L1452.1 18.9825 L1427.47 18.9825 L1427.47 33.8088 Q1429.25 33.2012 1431.04 32.9176 Q1432.82 32.5936 1434.6 32.5936 Q1444.73 32.5936 1450.64 38.1433 Q1456.56 43.6931 1456.56 53.1722 Q1456.56 62.9348 1450.48 68.3631 Q1444.4 73.7508 1433.35 73.7508 Q1429.54 73.7508 1425.57 73.1026 Q1421.64 72.4545 1417.43 71.1582 L1417.43 62.9348 Q1421.07 64.9198 1424.96 65.892 Q1428.85 66.8642 1433.18 66.8642 Q1440.19 66.8642 1444.28 63.1779 Q1448.37 59.4916 1448.37 53.1722 Q1448.37 46.8528 1444.28 43.1664 Q1440.19 39.4801 1433.18 39.4801 Q1429.9 39.4801 1426.62 40.2093 Q1423.38 40.9384 1419.98 42.4778 L1419.98 12.096 Z\" fill=\"#000000\" fill-rule=\"nonzero\" fill-opacity=\"1\" /><path clip-path=\"url(#clip610)\" d=\"M1495.16 19.2256 L1474.5 51.5113 L1495.16 51.5113 L1495.16 19.2256 M1493.01 12.096 L1503.3 12.096 L1503.3 51.5113 L1511.93 51.5113 L1511.93 58.3168 L1503.3 58.3168 L1503.3 72.576 L1495.16 72.576 L1495.16 58.3168 L1467.86 58.3168 L1467.86 50.4176 L1493.01 12.096 Z\" fill=\"#000000\" fill-rule=\"nonzero\" fill-opacity=\"1\" /><path clip-path=\"url(#clip610)\" d=\"M1570.02 16.7545 L1570.02 25.383 Q1565.89 21.5346 1561.19 19.6307 Q1556.53 17.7268 1551.27 17.7268 Q1540.9 17.7268 1535.39 24.0867 Q1529.88 30.4061 1529.88 42.3968 Q1529.88 54.3469 1535.39 60.7069 Q1540.9 67.0263 1551.27 67.0263 Q1556.53 67.0263 1561.19 65.1223 Q1565.89 63.2184 1570.02 59.3701 L1570.02 67.9175 Q1565.73 70.8341 1560.91 72.2924 Q1556.13 73.7508 1550.78 73.7508 Q1537.05 73.7508 1529.15 65.3654 Q1521.25 56.9395 1521.25 42.3968 Q1521.25 27.8135 1529.15 19.4281 Q1537.05 11.0023 1550.78 11.0023 Q1556.21 11.0023 1560.99 12.4606 Q1565.81 13.8784 1570.02 16.7545 Z\" fill=\"#000000\" fill-rule=\"nonzero\" fill-opacity=\"1\" /><path clip-path=\"url(#clip610)\" d=\"M1608.63 34.1734 Q1607.37 33.4443 1605.87 33.1202 Q1604.41 32.7556 1602.63 32.7556 Q1596.31 32.7556 1592.91 36.8875 Q1589.55 40.9789 1589.55 48.6757 L1589.55 72.576 L1582.05 72.576 L1582.05 27.2059 L1589.55 27.2059 L1589.55 34.2544 Q1591.9 30.1225 1595.66 28.1376 Q1599.43 26.1121 1604.82 26.1121 Q1605.59 26.1121 1606.52 26.2337 Q1607.45 26.3147 1608.59 26.5172 L1608.63 34.1734 Z\" fill=\"#000000\" fill-rule=\"nonzero\" fill-opacity=\"1\" /><circle clip-path=\"url(#clip612)\" cx=\"672.65\" cy=\"541.277\" r=\"14.4\" fill=\"#009af9\" fill-rule=\"evenodd\" fill-opacity=\"1\" stroke=\"#000000\" stroke-opacity=\"1\" stroke-width=\"3.2\"/>\n",
       "<circle clip-path=\"url(#clip612)\" cx=\"1105.07\" cy=\"452.395\" r=\"14.4\" fill=\"#009af9\" fill-rule=\"evenodd\" fill-opacity=\"1\" stroke=\"#000000\" stroke-opacity=\"1\" stroke-width=\"3.2\"/>\n",
       "<circle clip-path=\"url(#clip612)\" cx=\"1994.12\" cy=\"1246.41\" r=\"14.4\" fill=\"#009af9\" fill-rule=\"evenodd\" fill-opacity=\"1\" stroke=\"#000000\" stroke-opacity=\"1\" stroke-width=\"3.2\"/>\n",
       "<circle clip-path=\"url(#clip612)\" cx=\"302.498\" cy=\"748.668\" r=\"14.4\" fill=\"#009af9\" fill-rule=\"evenodd\" fill-opacity=\"1\" stroke=\"#000000\" stroke-opacity=\"1\" stroke-width=\"3.2\"/>\n",
       "<circle clip-path=\"url(#clip612)\" cx=\"1914.56\" cy=\"1127.9\" r=\"14.4\" fill=\"#009af9\" fill-rule=\"evenodd\" fill-opacity=\"1\" stroke=\"#000000\" stroke-opacity=\"1\" stroke-width=\"3.2\"/>\n",
       "<circle clip-path=\"url(#clip612)\" cx=\"1931.86\" cy=\"1092.35\" r=\"14.4\" fill=\"#009af9\" fill-rule=\"evenodd\" fill-opacity=\"1\" stroke=\"#000000\" stroke-opacity=\"1\" stroke-width=\"3.2\"/>\n",
       "<circle clip-path=\"url(#clip612)\" cx=\"2090.99\" cy=\"1447.87\" r=\"14.4\" fill=\"#009af9\" fill-rule=\"evenodd\" fill-opacity=\"1\" stroke=\"#000000\" stroke-opacity=\"1\" stroke-width=\"3.2\"/>\n",
       "<circle clip-path=\"url(#clip612)\" cx=\"257.527\" cy=\"606.457\" r=\"14.4\" fill=\"#009af9\" fill-rule=\"evenodd\" fill-opacity=\"1\" stroke=\"#000000\" stroke-opacity=\"1\" stroke-width=\"3.2\"/>\n",
       "<circle clip-path=\"url(#clip612)\" cx=\"340.551\" cy=\"748.668\" r=\"14.4\" fill=\"#009af9\" fill-rule=\"evenodd\" fill-opacity=\"1\" stroke=\"#000000\" stroke-opacity=\"1\" stroke-width=\"3.2\"/>\n",
       "<circle clip-path=\"url(#clip612)\" cx=\"2160.17\" cy=\"1341.21\" r=\"14.4\" fill=\"#009af9\" fill-rule=\"evenodd\" fill-opacity=\"1\" stroke=\"#000000\" stroke-opacity=\"1\" stroke-width=\"3.2\"/>\n",
       "<circle clip-path=\"url(#clip612)\" cx=\"1924.94\" cy=\"1039.02\" r=\"14.4\" fill=\"#009af9\" fill-rule=\"evenodd\" fill-opacity=\"1\" stroke=\"#000000\" stroke-opacity=\"1\" stroke-width=\"3.2\"/>\n",
       "<circle clip-path=\"url(#clip612)\" cx=\"2253.58\" cy=\"1347.14\" r=\"14.4\" fill=\"#009af9\" fill-rule=\"evenodd\" fill-opacity=\"1\" stroke=\"#000000\" stroke-opacity=\"1\" stroke-width=\"3.2\"/>\n",
       "<circle clip-path=\"url(#clip612)\" cx=\"1838.45\" cy=\"1074.57\" r=\"14.4\" fill=\"#009af9\" fill-rule=\"evenodd\" fill-opacity=\"1\" stroke=\"#000000\" stroke-opacity=\"1\" stroke-width=\"3.2\"/>\n",
       "<circle clip-path=\"url(#clip612)\" cx=\"385.523\" cy=\"784.221\" r=\"14.4\" fill=\"#009af9\" fill-rule=\"evenodd\" fill-opacity=\"1\" stroke=\"#000000\" stroke-opacity=\"1\" stroke-width=\"3.2\"/>\n",
       "<circle clip-path=\"url(#clip612)\" cx=\"254.067\" cy=\"701.264\" r=\"14.4\" fill=\"#009af9\" fill-rule=\"evenodd\" fill-opacity=\"1\" stroke=\"#000000\" stroke-opacity=\"1\" stroke-width=\"3.2\"/>\n",
       "<circle clip-path=\"url(#clip612)\" cx=\"990.911\" cy=\"594.606\" r=\"14.4\" fill=\"#009af9\" fill-rule=\"evenodd\" fill-opacity=\"1\" stroke=\"#000000\" stroke-opacity=\"1\" stroke-width=\"3.2\"/>\n",
       "<circle clip-path=\"url(#clip612)\" cx=\"1995.85\" cy=\"1329.36\" r=\"14.4\" fill=\"#009af9\" fill-rule=\"evenodd\" fill-opacity=\"1\" stroke=\"#000000\" stroke-opacity=\"1\" stroke-width=\"3.2\"/>\n",
       "<circle clip-path=\"url(#clip612)\" cx=\"2025.26\" cy=\"162.047\" r=\"14.4\" fill=\"#009af9\" fill-rule=\"evenodd\" fill-opacity=\"1\" stroke=\"#000000\" stroke-opacity=\"1\" stroke-width=\"3.2\"/>\n",
       "<circle clip-path=\"url(#clip612)\" cx=\"350.929\" cy=\"511.649\" r=\"14.4\" fill=\"#009af9\" fill-rule=\"evenodd\" fill-opacity=\"1\" stroke=\"#000000\" stroke-opacity=\"1\" stroke-width=\"3.2\"/>\n",
       "<circle clip-path=\"url(#clip612)\" cx=\"1997.58\" cy=\"1388.62\" r=\"14.4\" fill=\"#009af9\" fill-rule=\"evenodd\" fill-opacity=\"1\" stroke=\"#000000\" stroke-opacity=\"1\" stroke-width=\"3.2\"/>\n",
       "<circle clip-path=\"url(#clip612)\" cx=\"1897.26\" cy=\"1068.64\" r=\"14.4\" fill=\"#009af9\" fill-rule=\"evenodd\" fill-opacity=\"1\" stroke=\"#000000\" stroke-opacity=\"1\" stroke-width=\"3.2\"/>\n",
       "<circle clip-path=\"url(#clip612)\" cx=\"1879.97\" cy=\"1133.82\" r=\"14.4\" fill=\"#009af9\" fill-rule=\"evenodd\" fill-opacity=\"1\" stroke=\"#000000\" stroke-opacity=\"1\" stroke-width=\"3.2\"/>\n",
       "<circle clip-path=\"url(#clip612)\" cx=\"1558.25\" cy=\"351.662\" r=\"14.4\" fill=\"#009af9\" fill-rule=\"evenodd\" fill-opacity=\"1\" stroke=\"#000000\" stroke-opacity=\"1\" stroke-width=\"3.2\"/>\n",
       "<circle clip-path=\"url(#clip612)\" cx=\"2006.23\" cy=\"1228.63\" r=\"14.4\" fill=\"#009af9\" fill-rule=\"evenodd\" fill-opacity=\"1\" stroke=\"#000000\" stroke-opacity=\"1\" stroke-width=\"3.2\"/>\n",
       "<circle clip-path=\"url(#clip612)\" cx=\"2291.63\" cy=\"1364.92\" r=\"14.4\" fill=\"#009af9\" fill-rule=\"evenodd\" fill-opacity=\"1\" stroke=\"#000000\" stroke-opacity=\"1\" stroke-width=\"3.2\"/>\n",
       "<circle clip-path=\"url(#clip612)\" cx=\"1589.38\" cy=\"416.842\" r=\"14.4\" fill=\"#009af9\" fill-rule=\"evenodd\" fill-opacity=\"1\" stroke=\"#000000\" stroke-opacity=\"1\" stroke-width=\"3.2\"/>\n",
       "<circle clip-path=\"url(#clip612)\" cx=\"427.035\" cy=\"609.42\" r=\"14.4\" fill=\"#009af9\" fill-rule=\"evenodd\" fill-opacity=\"1\" stroke=\"#000000\" stroke-opacity=\"1\" stroke-width=\"3.2\"/>\n",
       "</svg>\n"
      ],
      "text/html": [
       "<?xml version=\"1.0\" encoding=\"utf-8\"?>\n",
       "<svg xmlns=\"http://www.w3.org/2000/svg\" xmlns:xlink=\"http://www.w3.org/1999/xlink\" width=\"600\" height=\"400\" viewBox=\"0 0 2400 1600\">\n",
       "<defs>\n",
       "  <clipPath id=\"clip660\">\n",
       "    <rect x=\"0\" y=\"0\" width=\"2400\" height=\"1600\"/>\n",
       "  </clipPath>\n",
       "</defs>\n",
       "<path clip-path=\"url(#clip660)\" d=\"M0 1600 L2400 1600 L2400 0 L0 0  Z\" fill=\"#ffffff\" fill-rule=\"evenodd\" fill-opacity=\"1\"/>\n",
       "<defs>\n",
       "  <clipPath id=\"clip661\">\n",
       "    <rect x=\"480\" y=\"0\" width=\"1681\" height=\"1600\"/>\n",
       "  </clipPath>\n",
       "</defs>\n",
       "<path clip-path=\"url(#clip660)\" d=\"M192.941 1486.45 L2352.76 1486.45 L2352.76 123.472 L192.941 123.472  Z\" fill=\"#ffffff\" fill-rule=\"evenodd\" fill-opacity=\"1\"/>\n",
       "<defs>\n",
       "  <clipPath id=\"clip662\">\n",
       "    <rect x=\"192\" y=\"123\" width=\"2161\" height=\"1364\"/>\n",
       "  </clipPath>\n",
       "</defs>\n",
       "<polyline clip-path=\"url(#clip662)\" style=\"stroke:#000000; stroke-linecap:round; stroke-linejoin:round; stroke-width:2; stroke-opacity:0.1; fill:none\" points=\"506.601,1486.45 506.601,123.472 \"/>\n",
       "<polyline clip-path=\"url(#clip662)\" style=\"stroke:#000000; stroke-linecap:round; stroke-linejoin:round; stroke-width:2; stroke-opacity:0.1; fill:none\" points=\"852.536,1486.45 852.536,123.472 \"/>\n",
       "<polyline clip-path=\"url(#clip662)\" style=\"stroke:#000000; stroke-linecap:round; stroke-linejoin:round; stroke-width:2; stroke-opacity:0.1; fill:none\" points=\"1198.47,1486.45 1198.47,123.472 \"/>\n",
       "<polyline clip-path=\"url(#clip662)\" style=\"stroke:#000000; stroke-linecap:round; stroke-linejoin:round; stroke-width:2; stroke-opacity:0.1; fill:none\" points=\"1544.41,1486.45 1544.41,123.472 \"/>\n",
       "<polyline clip-path=\"url(#clip662)\" style=\"stroke:#000000; stroke-linecap:round; stroke-linejoin:round; stroke-width:2; stroke-opacity:0.1; fill:none\" points=\"1890.34,1486.45 1890.34,123.472 \"/>\n",
       "<polyline clip-path=\"url(#clip662)\" style=\"stroke:#000000; stroke-linecap:round; stroke-linejoin:round; stroke-width:2; stroke-opacity:0.1; fill:none\" points=\"2236.28,1486.45 2236.28,123.472 \"/>\n",
       "<polyline clip-path=\"url(#clip660)\" style=\"stroke:#000000; stroke-linecap:round; stroke-linejoin:round; stroke-width:4; stroke-opacity:1; fill:none\" points=\"192.941,1486.45 2352.76,1486.45 \"/>\n",
       "<polyline clip-path=\"url(#clip660)\" style=\"stroke:#000000; stroke-linecap:round; stroke-linejoin:round; stroke-width:4; stroke-opacity:1; fill:none\" points=\"506.601,1486.45 506.601,1467.55 \"/>\n",
       "<polyline clip-path=\"url(#clip660)\" style=\"stroke:#000000; stroke-linecap:round; stroke-linejoin:round; stroke-width:4; stroke-opacity:1; fill:none\" points=\"852.536,1486.45 852.536,1467.55 \"/>\n",
       "<polyline clip-path=\"url(#clip660)\" style=\"stroke:#000000; stroke-linecap:round; stroke-linejoin:round; stroke-width:4; stroke-opacity:1; fill:none\" points=\"1198.47,1486.45 1198.47,1467.55 \"/>\n",
       "<polyline clip-path=\"url(#clip660)\" style=\"stroke:#000000; stroke-linecap:round; stroke-linejoin:round; stroke-width:4; stroke-opacity:1; fill:none\" points=\"1544.41,1486.45 1544.41,1467.55 \"/>\n",
       "<polyline clip-path=\"url(#clip660)\" style=\"stroke:#000000; stroke-linecap:round; stroke-linejoin:round; stroke-width:4; stroke-opacity:1; fill:none\" points=\"1890.34,1486.45 1890.34,1467.55 \"/>\n",
       "<polyline clip-path=\"url(#clip660)\" style=\"stroke:#000000; stroke-linecap:round; stroke-linejoin:round; stroke-width:4; stroke-opacity:1; fill:none\" points=\"2236.28,1486.45 2236.28,1467.55 \"/>\n",
       "<path clip-path=\"url(#clip660)\" d=\"M475.501 1532.02 L505.177 1532.02 L505.177 1535.95 L475.501 1535.95 L475.501 1532.02 Z\" fill=\"#000000\" fill-rule=\"nonzero\" fill-opacity=\"1\" /><path clip-path=\"url(#clip660)\" d=\"M528.117 1518.36 L516.311 1536.81 L528.117 1536.81 L528.117 1518.36 M526.89 1514.29 L532.769 1514.29 L532.769 1536.81 L537.7 1536.81 L537.7 1540.7 L532.769 1540.7 L532.769 1548.85 L528.117 1548.85 L528.117 1540.7 L512.515 1540.7 L512.515 1536.19 L526.89 1514.29 Z\" fill=\"#000000\" fill-rule=\"nonzero\" fill-opacity=\"1\" /><path clip-path=\"url(#clip660)\" d=\"M822.004 1532.02 L851.68 1532.02 L851.68 1535.95 L822.004 1535.95 L822.004 1532.02 Z\" fill=\"#000000\" fill-rule=\"nonzero\" fill-opacity=\"1\" /><path clip-path=\"url(#clip660)\" d=\"M875.939 1530.21 Q879.295 1530.93 881.17 1533.2 Q883.069 1535.47 883.069 1538.8 Q883.069 1543.92 879.55 1546.72 Q876.032 1549.52 869.55 1549.52 Q867.374 1549.52 865.059 1549.08 Q862.768 1548.66 860.314 1547.81 L860.314 1543.29 Q862.259 1544.43 864.573 1545.01 Q866.888 1545.58 869.411 1545.58 Q873.809 1545.58 876.101 1543.85 Q878.416 1542.11 878.416 1538.8 Q878.416 1535.75 876.263 1534.03 Q874.133 1532.3 870.314 1532.3 L866.286 1532.3 L866.286 1528.45 L870.499 1528.45 Q873.948 1528.45 875.777 1527.09 Q877.606 1525.7 877.606 1523.11 Q877.606 1520.45 875.708 1519.03 Q873.833 1517.6 870.314 1517.6 Q868.393 1517.6 866.194 1518.01 Q863.995 1518.43 861.356 1519.31 L861.356 1515.14 Q864.018 1514.4 866.333 1514.03 Q868.671 1513.66 870.731 1513.66 Q876.055 1513.66 879.157 1516.09 Q882.258 1518.5 882.258 1522.62 Q882.258 1525.49 880.615 1527.48 Q878.971 1529.45 875.939 1530.21 Z\" fill=\"#000000\" fill-rule=\"nonzero\" fill-opacity=\"1\" /><path clip-path=\"url(#clip660)\" d=\"M1168.41 1532.02 L1198.09 1532.02 L1198.09 1535.95 L1168.41 1535.95 L1168.41 1532.02 Z\" fill=\"#000000\" fill-rule=\"nonzero\" fill-opacity=\"1\" /><path clip-path=\"url(#clip660)\" d=\"M1212.21 1544.91 L1228.53 1544.91 L1228.53 1548.85 L1206.59 1548.85 L1206.59 1544.91 Q1209.25 1542.16 1213.83 1537.53 Q1218.44 1532.88 1219.62 1531.53 Q1221.86 1529.01 1222.74 1527.27 Q1223.65 1525.51 1223.65 1523.82 Q1223.65 1521.07 1221.7 1519.33 Q1219.78 1517.6 1216.68 1517.6 Q1214.48 1517.6 1212.03 1518.36 Q1209.59 1519.13 1206.82 1520.68 L1206.82 1515.95 Q1209.64 1514.82 1212.09 1514.24 Q1214.55 1513.66 1216.59 1513.66 Q1221.96 1513.66 1225.15 1516.35 Q1228.34 1519.03 1228.34 1523.52 Q1228.34 1525.65 1227.53 1527.57 Q1226.75 1529.47 1224.64 1532.07 Q1224.06 1532.74 1220.96 1535.95 Q1217.86 1539.15 1212.21 1544.91 Z\" fill=\"#000000\" fill-rule=\"nonzero\" fill-opacity=\"1\" /><path clip-path=\"url(#clip660)\" d=\"M1514.16 1532.02 L1543.84 1532.02 L1543.84 1535.95 L1514.16 1535.95 L1514.16 1532.02 Z\" fill=\"#000000\" fill-rule=\"nonzero\" fill-opacity=\"1\" /><path clip-path=\"url(#clip660)\" d=\"M1554.74 1544.91 L1562.38 1544.91 L1562.38 1518.55 L1554.07 1520.21 L1554.07 1515.95 L1562.34 1514.29 L1567.01 1514.29 L1567.01 1544.91 L1574.65 1544.91 L1574.65 1548.85 L1554.74 1548.85 L1554.74 1544.91 Z\" fill=\"#000000\" fill-rule=\"nonzero\" fill-opacity=\"1\" /><path clip-path=\"url(#clip660)\" d=\"M1890.34 1517.37 Q1886.73 1517.37 1884.9 1520.93 Q1883.1 1524.47 1883.1 1531.6 Q1883.1 1538.71 1884.9 1542.27 Q1886.73 1545.82 1890.34 1545.82 Q1893.98 1545.82 1895.78 1542.27 Q1897.61 1538.71 1897.61 1531.6 Q1897.61 1524.47 1895.78 1520.93 Q1893.98 1517.37 1890.34 1517.37 M1890.34 1513.66 Q1896.15 1513.66 1899.21 1518.27 Q1902.29 1522.85 1902.29 1531.6 Q1902.29 1540.33 1899.21 1544.94 Q1896.15 1549.52 1890.34 1549.52 Q1884.53 1549.52 1881.45 1544.94 Q1878.4 1540.33 1878.4 1531.6 Q1878.4 1522.85 1881.45 1518.27 Q1884.53 1513.66 1890.34 1513.66 Z\" fill=\"#000000\" fill-rule=\"nonzero\" fill-opacity=\"1\" /><path clip-path=\"url(#clip660)\" d=\"M2226.66 1544.91 L2234.3 1544.91 L2234.3 1518.55 L2225.99 1520.21 L2225.99 1515.95 L2234.25 1514.29 L2238.93 1514.29 L2238.93 1544.91 L2246.57 1544.91 L2246.57 1548.85 L2226.66 1548.85 L2226.66 1544.91 Z\" fill=\"#000000\" fill-rule=\"nonzero\" fill-opacity=\"1\" /><polyline clip-path=\"url(#clip662)\" style=\"stroke:#000000; stroke-linecap:round; stroke-linejoin:round; stroke-width:2; stroke-opacity:0.1; fill:none\" points=\"192.941,1418.25 2352.76,1418.25 \"/>\n",
       "<polyline clip-path=\"url(#clip662)\" style=\"stroke:#000000; stroke-linecap:round; stroke-linejoin:round; stroke-width:2; stroke-opacity:0.1; fill:none\" points=\"192.941,1121.97 2352.76,1121.97 \"/>\n",
       "<polyline clip-path=\"url(#clip662)\" style=\"stroke:#000000; stroke-linecap:round; stroke-linejoin:round; stroke-width:2; stroke-opacity:0.1; fill:none\" points=\"192.941,825.699 2352.76,825.699 \"/>\n",
       "<polyline clip-path=\"url(#clip662)\" style=\"stroke:#000000; stroke-linecap:round; stroke-linejoin:round; stroke-width:2; stroke-opacity:0.1; fill:none\" points=\"192.941,529.426 2352.76,529.426 \"/>\n",
       "<polyline clip-path=\"url(#clip662)\" style=\"stroke:#000000; stroke-linecap:round; stroke-linejoin:round; stroke-width:2; stroke-opacity:0.1; fill:none\" points=\"192.941,233.153 2352.76,233.153 \"/>\n",
       "<polyline clip-path=\"url(#clip660)\" style=\"stroke:#000000; stroke-linecap:round; stroke-linejoin:round; stroke-width:4; stroke-opacity:1; fill:none\" points=\"192.941,1486.45 192.941,123.472 \"/>\n",
       "<polyline clip-path=\"url(#clip660)\" style=\"stroke:#000000; stroke-linecap:round; stroke-linejoin:round; stroke-width:4; stroke-opacity:1; fill:none\" points=\"192.941,1418.25 211.838,1418.25 \"/>\n",
       "<polyline clip-path=\"url(#clip660)\" style=\"stroke:#000000; stroke-linecap:round; stroke-linejoin:round; stroke-width:4; stroke-opacity:1; fill:none\" points=\"192.941,1121.97 211.838,1121.97 \"/>\n",
       "<polyline clip-path=\"url(#clip660)\" style=\"stroke:#000000; stroke-linecap:round; stroke-linejoin:round; stroke-width:4; stroke-opacity:1; fill:none\" points=\"192.941,825.699 211.838,825.699 \"/>\n",
       "<polyline clip-path=\"url(#clip660)\" style=\"stroke:#000000; stroke-linecap:round; stroke-linejoin:round; stroke-width:4; stroke-opacity:1; fill:none\" points=\"192.941,529.426 211.838,529.426 \"/>\n",
       "<polyline clip-path=\"url(#clip660)\" style=\"stroke:#000000; stroke-linecap:round; stroke-linejoin:round; stroke-width:4; stroke-opacity:1; fill:none\" points=\"192.941,233.153 211.838,233.153 \"/>\n",
       "<path clip-path=\"url(#clip660)\" d=\"M50.9921 1418.7 L80.6679 1418.7 L80.6679 1422.63 L50.9921 1422.63 L50.9921 1418.7 Z\" fill=\"#000000\" fill-rule=\"nonzero\" fill-opacity=\"1\" /><path clip-path=\"url(#clip660)\" d=\"M100.76 1404.04 Q97.1493 1404.04 95.3206 1407.61 Q93.515 1411.15 93.515 1418.28 Q93.515 1425.39 95.3206 1428.95 Q97.1493 1432.49 100.76 1432.49 Q104.395 1432.49 106.2 1428.95 Q108.029 1425.39 108.029 1418.28 Q108.029 1411.15 106.2 1407.61 Q104.395 1404.04 100.76 1404.04 M100.76 1400.34 Q106.571 1400.34 109.626 1404.95 Q112.705 1409.53 112.705 1418.28 Q112.705 1427.01 109.626 1431.61 Q106.571 1436.2 100.76 1436.2 Q94.9502 1436.2 91.8715 1431.61 Q88.816 1427.01 88.816 1418.28 Q88.816 1409.53 91.8715 1404.95 Q94.9502 1400.34 100.76 1400.34 Z\" fill=\"#000000\" fill-rule=\"nonzero\" fill-opacity=\"1\" /><path clip-path=\"url(#clip660)\" d=\"M120.922 1429.65 L125.807 1429.65 L125.807 1435.53 L120.922 1435.53 L120.922 1429.65 Z\" fill=\"#000000\" fill-rule=\"nonzero\" fill-opacity=\"1\" /><path clip-path=\"url(#clip660)\" d=\"M136.038 1400.97 L154.394 1400.97 L154.394 1404.9 L140.32 1404.9 L140.32 1413.37 Q141.339 1413.03 142.357 1412.86 Q143.376 1412.68 144.394 1412.68 Q150.181 1412.68 153.561 1415.85 Q156.941 1419.02 156.941 1424.44 Q156.941 1430.02 153.468 1433.12 Q149.996 1436.2 143.677 1436.2 Q141.501 1436.2 139.232 1435.83 Q136.987 1435.46 134.58 1434.72 L134.58 1430.02 Q136.663 1431.15 138.885 1431.71 Q141.107 1432.26 143.584 1432.26 Q147.589 1432.26 149.927 1430.16 Q152.265 1428.05 152.265 1424.44 Q152.265 1420.83 149.927 1418.72 Q147.589 1416.61 143.584 1416.61 Q141.709 1416.61 139.834 1417.03 Q137.982 1417.45 136.038 1418.33 L136.038 1400.97 Z\" fill=\"#000000\" fill-rule=\"nonzero\" fill-opacity=\"1\" /><path clip-path=\"url(#clip660)\" d=\"M99.765 1107.77 Q96.1539 1107.77 94.3252 1111.34 Q92.5197 1114.88 92.5197 1122.01 Q92.5197 1129.11 94.3252 1132.68 Q96.1539 1136.22 99.765 1136.22 Q103.399 1136.22 105.205 1132.68 Q107.033 1129.11 107.033 1122.01 Q107.033 1114.88 105.205 1111.34 Q103.399 1107.77 99.765 1107.77 M99.765 1104.07 Q105.575 1104.07 108.631 1108.67 Q111.709 1113.26 111.709 1122.01 Q111.709 1130.73 108.631 1135.34 Q105.575 1139.92 99.765 1139.92 Q93.9549 1139.92 90.8762 1135.34 Q87.8206 1130.73 87.8206 1122.01 Q87.8206 1113.26 90.8762 1108.67 Q93.9549 1104.07 99.765 1104.07 Z\" fill=\"#000000\" fill-rule=\"nonzero\" fill-opacity=\"1\" /><path clip-path=\"url(#clip660)\" d=\"M119.927 1133.37 L124.811 1133.37 L124.811 1139.25 L119.927 1139.25 L119.927 1133.37 Z\" fill=\"#000000\" fill-rule=\"nonzero\" fill-opacity=\"1\" /><path clip-path=\"url(#clip660)\" d=\"M144.996 1107.77 Q141.385 1107.77 139.556 1111.34 Q137.751 1114.88 137.751 1122.01 Q137.751 1129.11 139.556 1132.68 Q141.385 1136.22 144.996 1136.22 Q148.63 1136.22 150.436 1132.68 Q152.265 1129.11 152.265 1122.01 Q152.265 1114.88 150.436 1111.34 Q148.63 1107.77 144.996 1107.77 M144.996 1104.07 Q150.806 1104.07 153.862 1108.67 Q156.941 1113.26 156.941 1122.01 Q156.941 1130.73 153.862 1135.34 Q150.806 1139.92 144.996 1139.92 Q139.186 1139.92 136.107 1135.34 Q133.052 1130.73 133.052 1122.01 Q133.052 1113.26 136.107 1108.67 Q139.186 1104.07 144.996 1104.07 Z\" fill=\"#000000\" fill-rule=\"nonzero\" fill-opacity=\"1\" /><path clip-path=\"url(#clip660)\" d=\"M100.76 811.498 Q97.1493 811.498 95.3206 815.063 Q93.515 818.604 93.515 825.734 Q93.515 832.84 95.3206 836.405 Q97.1493 839.947 100.76 839.947 Q104.395 839.947 106.2 836.405 Q108.029 832.84 108.029 825.734 Q108.029 818.604 106.2 815.063 Q104.395 811.498 100.76 811.498 M100.76 807.794 Q106.571 807.794 109.626 812.401 Q112.705 816.984 112.705 825.734 Q112.705 834.461 109.626 839.067 Q106.571 843.65 100.76 843.65 Q94.9502 843.65 91.8715 839.067 Q88.816 834.461 88.816 825.734 Q88.816 816.984 91.8715 812.401 Q94.9502 807.794 100.76 807.794 Z\" fill=\"#000000\" fill-rule=\"nonzero\" fill-opacity=\"1\" /><path clip-path=\"url(#clip660)\" d=\"M120.922 837.1 L125.807 837.1 L125.807 842.979 L120.922 842.979 L120.922 837.1 Z\" fill=\"#000000\" fill-rule=\"nonzero\" fill-opacity=\"1\" /><path clip-path=\"url(#clip660)\" d=\"M136.038 808.419 L154.394 808.419 L154.394 812.354 L140.32 812.354 L140.32 820.826 Q141.339 820.479 142.357 820.317 Q143.376 820.132 144.394 820.132 Q150.181 820.132 153.561 823.303 Q156.941 826.475 156.941 831.891 Q156.941 837.47 153.468 840.572 Q149.996 843.65 143.677 843.65 Q141.501 843.65 139.232 843.28 Q136.987 842.91 134.58 842.169 L134.58 837.47 Q136.663 838.604 138.885 839.16 Q141.107 839.715 143.584 839.715 Q147.589 839.715 149.927 837.609 Q152.265 835.502 152.265 831.891 Q152.265 828.28 149.927 826.174 Q147.589 824.067 143.584 824.067 Q141.709 824.067 139.834 824.484 Q137.982 824.901 136.038 825.78 L136.038 808.419 Z\" fill=\"#000000\" fill-rule=\"nonzero\" fill-opacity=\"1\" /><path clip-path=\"url(#clip660)\" d=\"M90.5752 542.771 L98.2141 542.771 L98.2141 516.405 L89.904 518.072 L89.904 513.812 L98.1678 512.146 L102.844 512.146 L102.844 542.771 L110.483 542.771 L110.483 546.706 L90.5752 546.706 L90.5752 542.771 Z\" fill=\"#000000\" fill-rule=\"nonzero\" fill-opacity=\"1\" /><path clip-path=\"url(#clip660)\" d=\"M119.927 540.826 L124.811 540.826 L124.811 546.706 L119.927 546.706 L119.927 540.826 Z\" fill=\"#000000\" fill-rule=\"nonzero\" fill-opacity=\"1\" /><path clip-path=\"url(#clip660)\" d=\"M144.996 515.225 Q141.385 515.225 139.556 518.789 Q137.751 522.331 137.751 529.461 Q137.751 536.567 139.556 540.132 Q141.385 543.673 144.996 543.673 Q148.63 543.673 150.436 540.132 Q152.265 536.567 152.265 529.461 Q152.265 522.331 150.436 518.789 Q148.63 515.225 144.996 515.225 M144.996 511.521 Q150.806 511.521 153.862 516.127 Q156.941 520.711 156.941 529.461 Q156.941 538.187 153.862 542.794 Q150.806 547.377 144.996 547.377 Q139.186 547.377 136.107 542.794 Q133.052 538.187 133.052 529.461 Q133.052 520.711 136.107 516.127 Q139.186 511.521 144.996 511.521 Z\" fill=\"#000000\" fill-rule=\"nonzero\" fill-opacity=\"1\" /><path clip-path=\"url(#clip660)\" d=\"M91.5706 246.497 L99.2095 246.497 L99.2095 220.132 L90.8993 221.798 L90.8993 217.539 L99.1632 215.873 L103.839 215.873 L103.839 246.497 L111.478 246.497 L111.478 250.433 L91.5706 250.433 L91.5706 246.497 Z\" fill=\"#000000\" fill-rule=\"nonzero\" fill-opacity=\"1\" /><path clip-path=\"url(#clip660)\" d=\"M120.922 244.553 L125.807 244.553 L125.807 250.433 L120.922 250.433 L120.922 244.553 Z\" fill=\"#000000\" fill-rule=\"nonzero\" fill-opacity=\"1\" /><path clip-path=\"url(#clip660)\" d=\"M136.038 215.873 L154.394 215.873 L154.394 219.808 L140.32 219.808 L140.32 228.28 Q141.339 227.933 142.357 227.771 Q143.376 227.585 144.394 227.585 Q150.181 227.585 153.561 230.757 Q156.941 233.928 156.941 239.345 Q156.941 244.923 153.468 248.025 Q149.996 251.104 143.677 251.104 Q141.501 251.104 139.232 250.733 Q136.987 250.363 134.58 249.622 L134.58 244.923 Q136.663 246.058 138.885 246.613 Q141.107 247.169 143.584 247.169 Q147.589 247.169 149.927 245.062 Q152.265 242.956 152.265 239.345 Q152.265 235.734 149.927 233.627 Q147.589 231.521 143.584 231.521 Q141.709 231.521 139.834 231.937 Q137.982 232.354 136.038 233.234 L136.038 215.873 Z\" fill=\"#000000\" fill-rule=\"nonzero\" fill-opacity=\"1\" /><path clip-path=\"url(#clip660)\" d=\"M945.252 18.8205 L945.252 65.8515 L955.136 65.8515 Q967.653 65.8515 973.446 60.1802 Q979.279 54.509 979.279 42.2752 Q979.279 30.1225 973.446 24.4918 Q967.653 18.8205 955.136 18.8205 L945.252 18.8205 M937.069 12.096 L953.88 12.096 Q971.461 12.096 979.684 19.4281 Q987.908 26.7198 987.908 42.2752 Q987.908 57.9117 979.644 65.2439 Q971.38 72.576 953.88 72.576 L937.069 72.576 L937.069 12.096 Z\" fill=\"#000000\" fill-rule=\"nonzero\" fill-opacity=\"1\" /><path clip-path=\"url(#clip660)\" d=\"M1003.1 65.6895 L1016.47 65.6895 L1016.47 19.5497 L1001.92 22.4663 L1001.92 15.0127 L1016.39 12.096 L1024.57 12.096 L1024.57 65.6895 L1037.94 65.6895 L1037.94 72.576 L1003.1 72.576 L1003.1 65.6895 Z\" fill=\"#000000\" fill-rule=\"nonzero\" fill-opacity=\"1\" /><path clip-path=\"url(#clip660)\" d=\"M1052.4 12.096 L1091.29 12.096 L1091.29 15.5798 L1069.33 72.576 L1060.78 72.576 L1081.44 18.9825 L1052.4 18.9825 L1052.4 12.096 Z\" fill=\"#000000\" fill-rule=\"nonzero\" fill-opacity=\"1\" /><path clip-path=\"url(#clip660)\" d=\"M1124.75 17.4837 Q1118.43 17.4837 1115.23 23.7221 Q1112.07 29.92 1112.07 42.3968 Q1112.07 54.833 1115.23 61.0714 Q1118.43 67.2693 1124.75 67.2693 Q1131.11 67.2693 1134.27 61.0714 Q1137.47 54.833 1137.47 42.3968 Q1137.47 29.92 1134.27 23.7221 Q1131.11 17.4837 1124.75 17.4837 M1124.75 11.0023 Q1134.91 11.0023 1140.26 19.0636 Q1145.65 27.0843 1145.65 42.3968 Q1145.65 57.6687 1140.26 65.73 Q1134.91 73.7508 1124.75 73.7508 Q1114.58 73.7508 1109.19 65.73 Q1103.84 57.6687 1103.84 42.3968 Q1103.84 27.0843 1109.19 19.0636 Q1114.58 11.0023 1124.75 11.0023 Z\" fill=\"#000000\" fill-rule=\"nonzero\" fill-opacity=\"1\" /><path clip-path=\"url(#clip660)\" d=\"M1205.97 49.7694 Q1196.93 49.7694 1193.45 51.8354 Q1189.97 53.9013 1189.97 58.8839 Q1189.97 62.8538 1192.56 65.2034 Q1195.19 67.5124 1199.69 67.5124 Q1205.89 67.5124 1209.61 63.1374 Q1213.38 58.7219 1213.38 51.4303 L1213.38 49.7694 L1205.97 49.7694 M1220.83 46.6907 L1220.83 72.576 L1213.38 72.576 L1213.38 65.6895 Q1210.83 69.8214 1207.02 71.8063 Q1203.21 73.7508 1197.7 73.7508 Q1190.74 73.7508 1186.6 69.8619 Q1182.51 65.9325 1182.51 59.3701 Q1182.51 51.7138 1187.62 47.825 Q1192.76 43.9361 1202.93 43.9361 L1213.38 43.9361 L1213.38 43.2069 Q1213.38 38.0623 1209.98 35.2672 Q1206.62 32.4315 1200.5 32.4315 Q1196.61 32.4315 1192.92 33.3632 Q1189.24 34.295 1185.83 36.1584 L1185.83 29.2718 Q1189.93 27.692 1193.77 26.9223 Q1197.62 26.1121 1201.27 26.1121 Q1211.11 26.1121 1215.97 31.2163 Q1220.83 36.3204 1220.83 46.6907 Z\" fill=\"#000000\" fill-rule=\"nonzero\" fill-opacity=\"1\" /><path clip-path=\"url(#clip660)\" d=\"M1273.9 45.1919 L1273.9 72.576 L1266.45 72.576 L1266.45 45.4349 Q1266.45 38.994 1263.94 35.7938 Q1261.42 32.5936 1256.4 32.5936 Q1250.37 32.5936 1246.88 36.4419 Q1243.4 40.2903 1243.4 46.9338 L1243.4 72.576 L1235.9 72.576 L1235.9 27.2059 L1243.4 27.2059 L1243.4 34.2544 Q1246.07 30.163 1249.68 28.1376 Q1253.32 26.1121 1258.06 26.1121 Q1265.88 26.1121 1269.89 30.9732 Q1273.9 35.7938 1273.9 45.1919 Z\" fill=\"#000000\" fill-rule=\"nonzero\" fill-opacity=\"1\" /><path clip-path=\"url(#clip660)\" d=\"M1318.62 34.0924 L1318.62 9.54393 L1326.08 9.54393 L1326.08 72.576 L1318.62 72.576 L1318.62 65.7705 Q1316.27 69.8214 1312.67 71.8063 Q1309.1 73.7508 1304.08 73.7508 Q1295.86 73.7508 1290.67 67.1883 Q1285.53 60.6258 1285.53 49.9314 Q1285.53 39.2371 1290.67 32.6746 Q1295.86 26.1121 1304.08 26.1121 Q1309.1 26.1121 1312.67 28.0971 Q1316.27 30.0415 1318.62 34.0924 M1293.22 49.9314 Q1293.22 58.1548 1296.59 62.8538 Q1299.99 67.5124 1305.9 67.5124 Q1311.82 67.5124 1315.22 62.8538 Q1318.62 58.1548 1318.62 49.9314 Q1318.62 41.7081 1315.22 37.0496 Q1311.82 32.3505 1305.9 32.3505 Q1299.99 32.3505 1296.59 37.0496 Q1293.22 41.7081 1293.22 49.9314 Z\" fill=\"#000000\" fill-rule=\"nonzero\" fill-opacity=\"1\" /><path clip-path=\"url(#clip660)\" d=\"M1406.61 48.0275 L1406.61 51.6733 L1372.34 51.6733 Q1372.82 59.3701 1376.96 63.421 Q1381.13 67.4314 1388.54 67.4314 Q1392.84 67.4314 1396.85 66.3781 Q1400.9 65.3249 1404.87 63.2184 L1404.87 70.267 Q1400.86 71.9684 1396.64 72.8596 Q1392.43 73.7508 1388.1 73.7508 Q1377.24 73.7508 1370.88 67.4314 Q1364.56 61.1119 1364.56 50.3365 Q1364.56 39.1965 1370.56 32.6746 Q1376.59 26.1121 1386.8 26.1121 Q1395.96 26.1121 1401.26 32.0264 Q1406.61 37.9003 1406.61 48.0275 M1399.16 45.84 Q1399.07 39.7232 1395.71 36.0774 Q1392.39 32.4315 1386.88 32.4315 Q1380.64 32.4315 1376.88 35.9558 Q1373.15 39.4801 1372.58 45.8805 L1399.16 45.84 Z\" fill=\"#000000\" fill-rule=\"nonzero\" fill-opacity=\"1\" /><path clip-path=\"url(#clip660)\" d=\"M1419.98 12.096 L1452.1 12.096 L1452.1 18.9825 L1427.47 18.9825 L1427.47 33.8088 Q1429.25 33.2012 1431.04 32.9176 Q1432.82 32.5936 1434.6 32.5936 Q1444.73 32.5936 1450.64 38.1433 Q1456.56 43.6931 1456.56 53.1722 Q1456.56 62.9348 1450.48 68.3631 Q1444.4 73.7508 1433.35 73.7508 Q1429.54 73.7508 1425.57 73.1026 Q1421.64 72.4545 1417.43 71.1582 L1417.43 62.9348 Q1421.07 64.9198 1424.96 65.892 Q1428.85 66.8642 1433.18 66.8642 Q1440.19 66.8642 1444.28 63.1779 Q1448.37 59.4916 1448.37 53.1722 Q1448.37 46.8528 1444.28 43.1664 Q1440.19 39.4801 1433.18 39.4801 Q1429.9 39.4801 1426.62 40.2093 Q1423.38 40.9384 1419.98 42.4778 L1419.98 12.096 Z\" fill=\"#000000\" fill-rule=\"nonzero\" fill-opacity=\"1\" /><path clip-path=\"url(#clip660)\" d=\"M1495.16 19.2256 L1474.5 51.5113 L1495.16 51.5113 L1495.16 19.2256 M1493.01 12.096 L1503.3 12.096 L1503.3 51.5113 L1511.93 51.5113 L1511.93 58.3168 L1503.3 58.3168 L1503.3 72.576 L1495.16 72.576 L1495.16 58.3168 L1467.86 58.3168 L1467.86 50.4176 L1493.01 12.096 Z\" fill=\"#000000\" fill-rule=\"nonzero\" fill-opacity=\"1\" /><path clip-path=\"url(#clip660)\" d=\"M1570.02 16.7545 L1570.02 25.383 Q1565.89 21.5346 1561.19 19.6307 Q1556.53 17.7268 1551.27 17.7268 Q1540.9 17.7268 1535.39 24.0867 Q1529.88 30.4061 1529.88 42.3968 Q1529.88 54.3469 1535.39 60.7069 Q1540.9 67.0263 1551.27 67.0263 Q1556.53 67.0263 1561.19 65.1223 Q1565.89 63.2184 1570.02 59.3701 L1570.02 67.9175 Q1565.73 70.8341 1560.91 72.2924 Q1556.13 73.7508 1550.78 73.7508 Q1537.05 73.7508 1529.15 65.3654 Q1521.25 56.9395 1521.25 42.3968 Q1521.25 27.8135 1529.15 19.4281 Q1537.05 11.0023 1550.78 11.0023 Q1556.21 11.0023 1560.99 12.4606 Q1565.81 13.8784 1570.02 16.7545 Z\" fill=\"#000000\" fill-rule=\"nonzero\" fill-opacity=\"1\" /><path clip-path=\"url(#clip660)\" d=\"M1608.63 34.1734 Q1607.37 33.4443 1605.87 33.1202 Q1604.41 32.7556 1602.63 32.7556 Q1596.31 32.7556 1592.91 36.8875 Q1589.55 40.9789 1589.55 48.6757 L1589.55 72.576 L1582.05 72.576 L1582.05 27.2059 L1589.55 27.2059 L1589.55 34.2544 Q1591.9 30.1225 1595.66 28.1376 Q1599.43 26.1121 1604.82 26.1121 Q1605.59 26.1121 1606.52 26.2337 Q1607.45 26.3147 1608.59 26.5172 L1608.63 34.1734 Z\" fill=\"#000000\" fill-rule=\"nonzero\" fill-opacity=\"1\" /><circle clip-path=\"url(#clip662)\" cx=\"672.65\" cy=\"541.277\" r=\"14.4\" fill=\"#009af9\" fill-rule=\"evenodd\" fill-opacity=\"1\" stroke=\"#000000\" stroke-opacity=\"1\" stroke-width=\"3.2\"/>\n",
       "<circle clip-path=\"url(#clip662)\" cx=\"1105.07\" cy=\"452.395\" r=\"14.4\" fill=\"#009af9\" fill-rule=\"evenodd\" fill-opacity=\"1\" stroke=\"#000000\" stroke-opacity=\"1\" stroke-width=\"3.2\"/>\n",
       "<circle clip-path=\"url(#clip662)\" cx=\"1994.12\" cy=\"1246.41\" r=\"14.4\" fill=\"#009af9\" fill-rule=\"evenodd\" fill-opacity=\"1\" stroke=\"#000000\" stroke-opacity=\"1\" stroke-width=\"3.2\"/>\n",
       "<circle clip-path=\"url(#clip662)\" cx=\"302.498\" cy=\"748.668\" r=\"14.4\" fill=\"#009af9\" fill-rule=\"evenodd\" fill-opacity=\"1\" stroke=\"#000000\" stroke-opacity=\"1\" stroke-width=\"3.2\"/>\n",
       "<circle clip-path=\"url(#clip662)\" cx=\"1914.56\" cy=\"1127.9\" r=\"14.4\" fill=\"#009af9\" fill-rule=\"evenodd\" fill-opacity=\"1\" stroke=\"#000000\" stroke-opacity=\"1\" stroke-width=\"3.2\"/>\n",
       "<circle clip-path=\"url(#clip662)\" cx=\"1931.86\" cy=\"1092.35\" r=\"14.4\" fill=\"#009af9\" fill-rule=\"evenodd\" fill-opacity=\"1\" stroke=\"#000000\" stroke-opacity=\"1\" stroke-width=\"3.2\"/>\n",
       "<circle clip-path=\"url(#clip662)\" cx=\"2090.99\" cy=\"1447.87\" r=\"14.4\" fill=\"#009af9\" fill-rule=\"evenodd\" fill-opacity=\"1\" stroke=\"#000000\" stroke-opacity=\"1\" stroke-width=\"3.2\"/>\n",
       "<circle clip-path=\"url(#clip662)\" cx=\"257.527\" cy=\"606.457\" r=\"14.4\" fill=\"#009af9\" fill-rule=\"evenodd\" fill-opacity=\"1\" stroke=\"#000000\" stroke-opacity=\"1\" stroke-width=\"3.2\"/>\n",
       "<circle clip-path=\"url(#clip662)\" cx=\"340.551\" cy=\"748.668\" r=\"14.4\" fill=\"#009af9\" fill-rule=\"evenodd\" fill-opacity=\"1\" stroke=\"#000000\" stroke-opacity=\"1\" stroke-width=\"3.2\"/>\n",
       "<circle clip-path=\"url(#clip662)\" cx=\"2160.17\" cy=\"1341.21\" r=\"14.4\" fill=\"#009af9\" fill-rule=\"evenodd\" fill-opacity=\"1\" stroke=\"#000000\" stroke-opacity=\"1\" stroke-width=\"3.2\"/>\n",
       "<circle clip-path=\"url(#clip662)\" cx=\"1924.94\" cy=\"1039.02\" r=\"14.4\" fill=\"#009af9\" fill-rule=\"evenodd\" fill-opacity=\"1\" stroke=\"#000000\" stroke-opacity=\"1\" stroke-width=\"3.2\"/>\n",
       "<circle clip-path=\"url(#clip662)\" cx=\"2253.58\" cy=\"1347.14\" r=\"14.4\" fill=\"#009af9\" fill-rule=\"evenodd\" fill-opacity=\"1\" stroke=\"#000000\" stroke-opacity=\"1\" stroke-width=\"3.2\"/>\n",
       "<circle clip-path=\"url(#clip662)\" cx=\"1838.45\" cy=\"1074.57\" r=\"14.4\" fill=\"#009af9\" fill-rule=\"evenodd\" fill-opacity=\"1\" stroke=\"#000000\" stroke-opacity=\"1\" stroke-width=\"3.2\"/>\n",
       "<circle clip-path=\"url(#clip662)\" cx=\"385.523\" cy=\"784.221\" r=\"14.4\" fill=\"#009af9\" fill-rule=\"evenodd\" fill-opacity=\"1\" stroke=\"#000000\" stroke-opacity=\"1\" stroke-width=\"3.2\"/>\n",
       "<circle clip-path=\"url(#clip662)\" cx=\"254.067\" cy=\"701.264\" r=\"14.4\" fill=\"#009af9\" fill-rule=\"evenodd\" fill-opacity=\"1\" stroke=\"#000000\" stroke-opacity=\"1\" stroke-width=\"3.2\"/>\n",
       "<circle clip-path=\"url(#clip662)\" cx=\"990.911\" cy=\"594.606\" r=\"14.4\" fill=\"#009af9\" fill-rule=\"evenodd\" fill-opacity=\"1\" stroke=\"#000000\" stroke-opacity=\"1\" stroke-width=\"3.2\"/>\n",
       "<circle clip-path=\"url(#clip662)\" cx=\"1995.85\" cy=\"1329.36\" r=\"14.4\" fill=\"#009af9\" fill-rule=\"evenodd\" fill-opacity=\"1\" stroke=\"#000000\" stroke-opacity=\"1\" stroke-width=\"3.2\"/>\n",
       "<circle clip-path=\"url(#clip662)\" cx=\"2025.26\" cy=\"162.047\" r=\"14.4\" fill=\"#009af9\" fill-rule=\"evenodd\" fill-opacity=\"1\" stroke=\"#000000\" stroke-opacity=\"1\" stroke-width=\"3.2\"/>\n",
       "<circle clip-path=\"url(#clip662)\" cx=\"350.929\" cy=\"511.649\" r=\"14.4\" fill=\"#009af9\" fill-rule=\"evenodd\" fill-opacity=\"1\" stroke=\"#000000\" stroke-opacity=\"1\" stroke-width=\"3.2\"/>\n",
       "<circle clip-path=\"url(#clip662)\" cx=\"1997.58\" cy=\"1388.62\" r=\"14.4\" fill=\"#009af9\" fill-rule=\"evenodd\" fill-opacity=\"1\" stroke=\"#000000\" stroke-opacity=\"1\" stroke-width=\"3.2\"/>\n",
       "<circle clip-path=\"url(#clip662)\" cx=\"1897.26\" cy=\"1068.64\" r=\"14.4\" fill=\"#009af9\" fill-rule=\"evenodd\" fill-opacity=\"1\" stroke=\"#000000\" stroke-opacity=\"1\" stroke-width=\"3.2\"/>\n",
       "<circle clip-path=\"url(#clip662)\" cx=\"1879.97\" cy=\"1133.82\" r=\"14.4\" fill=\"#009af9\" fill-rule=\"evenodd\" fill-opacity=\"1\" stroke=\"#000000\" stroke-opacity=\"1\" stroke-width=\"3.2\"/>\n",
       "<circle clip-path=\"url(#clip662)\" cx=\"1558.25\" cy=\"351.662\" r=\"14.4\" fill=\"#009af9\" fill-rule=\"evenodd\" fill-opacity=\"1\" stroke=\"#000000\" stroke-opacity=\"1\" stroke-width=\"3.2\"/>\n",
       "<circle clip-path=\"url(#clip662)\" cx=\"2006.23\" cy=\"1228.63\" r=\"14.4\" fill=\"#009af9\" fill-rule=\"evenodd\" fill-opacity=\"1\" stroke=\"#000000\" stroke-opacity=\"1\" stroke-width=\"3.2\"/>\n",
       "<circle clip-path=\"url(#clip662)\" cx=\"2291.63\" cy=\"1364.92\" r=\"14.4\" fill=\"#009af9\" fill-rule=\"evenodd\" fill-opacity=\"1\" stroke=\"#000000\" stroke-opacity=\"1\" stroke-width=\"3.2\"/>\n",
       "<circle clip-path=\"url(#clip662)\" cx=\"1589.38\" cy=\"416.842\" r=\"14.4\" fill=\"#009af9\" fill-rule=\"evenodd\" fill-opacity=\"1\" stroke=\"#000000\" stroke-opacity=\"1\" stroke-width=\"3.2\"/>\n",
       "<circle clip-path=\"url(#clip662)\" cx=\"427.035\" cy=\"609.42\" r=\"14.4\" fill=\"#009af9\" fill-rule=\"evenodd\" fill-opacity=\"1\" stroke=\"#000000\" stroke-opacity=\"1\" stroke-width=\"3.2\"/>\n",
       "</svg>\n"
      ]
     },
     "execution_count": 111,
     "metadata": {},
     "output_type": "execute_result"
    }
   ],
   "source": [
    "using Plots\n",
    "oxCR=[t for t in zip(dataOxCr.D170,dataOxCr.e54Cr)]\n",
    "#source for tuple-ing dataframe columns:\n",
    "#https://stackoverflow.com/questions/70812822/convenient-way-to-convert-dataframe-to-vector-of-tuple\n",
    "scatter(oxCR;title=\"D170 and e54Cr\",legend=false)"
   ]
  },
  {
   "cell_type": "markdown",
   "id": "72746b5a",
   "metadata": {},
   "source": [
    "### Ripserer.jl"
   ]
  },
  {
   "cell_type": "raw",
   "id": "b8c701b2",
   "metadata": {},
   "source": [
    "] add Ripserer"
   ]
  },
  {
   "cell_type": "code",
   "execution_count": 112,
   "id": "4d11c2c4",
   "metadata": {},
   "outputs": [],
   "source": [
    "using Ripserer"
   ]
  },
  {
   "cell_type": "code",
   "execution_count": 113,
   "id": "5a8eb610",
   "metadata": {},
   "outputs": [
    {
     "data": {
      "text/plain": [
       "27-element Vector{Tuple{Float64, Float64}}:\n",
       " (-3.52, 0.98)\n",
       " (-2.27, 1.13)\n",
       " (0.3, -0.21)\n",
       " (-4.59, 0.63)\n",
       " (0.07, -0.01)\n",
       " (0.12, 0.05)\n",
       " (0.58, -0.55)\n",
       " (-4.72, 0.87)\n",
       " (-4.48, 0.63)\n",
       " (0.78, -0.37)\n",
       " (0.1, 0.14)\n",
       " (1.05, -0.38)\n",
       " (-0.15, 0.08)\n",
       " ⋮\n",
       " (-2.6, 0.89)\n",
       " (0.305, -0.35)\n",
       " (0.39, 1.62)\n",
       " (-4.45, 1.03)\n",
       " (0.31, -0.45)\n",
       " (0.02, 0.09)\n",
       " (-0.03, -0.02)\n",
       " (-0.96, 1.3)\n",
       " (0.335, -0.18)\n",
       " (1.16, -0.41)\n",
       " (-0.87, 1.19)\n",
       " (-4.23, 0.865)"
      ]
     },
     "execution_count": 113,
     "metadata": {},
     "output_type": "execute_result"
    }
   ],
   "source": [
    "oxCR"
   ]
  },
  {
   "cell_type": "code",
   "execution_count": 114,
   "id": "d6dfcb32",
   "metadata": {},
   "outputs": [
    {
     "data": {
      "text/plain": [
       "2-element Vector{PersistenceDiagrams.PersistenceDiagram}:\n",
       " 27-element 0-dimensional PersistenceDiagram\n",
       " 1-element 1-dimensional PersistenceDiagram"
      ]
     },
     "execution_count": 114,
     "metadata": {},
     "output_type": "execute_result"
    }
   ],
   "source": [
    "result_rips=ripserer(oxCR,dim_max=1,modulus=11)"
   ]
  },
  {
   "cell_type": "code",
   "execution_count": 115,
   "id": "8307c9c4",
   "metadata": {},
   "outputs": [
    {
     "data": {
      "text/plain": [
       "Vector{PersistenceDiagram}\u001b[90m (alias for \u001b[39m\u001b[90mArray{PersistenceDiagrams.PersistenceDiagram, 1}\u001b[39m\u001b[90m)\u001b[39m"
      ]
     },
     "execution_count": 115,
     "metadata": {},
     "output_type": "execute_result"
    }
   ],
   "source": [
    "typeof(result_rips)"
   ]
  },
  {
   "cell_type": "code",
   "execution_count": 116,
   "id": "de4389f6",
   "metadata": {},
   "outputs": [
    {
     "data": {
      "image/png": "[encoded data removed]",
      "image/svg+xml": [
       "<?xml version=\"1.0\" encoding=\"utf-8\"?>\n",
       "<svg xmlns=\"http://www.w3.org/2000/svg\" xmlns:xlink=\"http://www.w3.org/1999/xlink\" width=\"600\" height=\"400\" viewBox=\"0 0 2400 1600\">\n",
       "<defs>\n",
       "  <clipPath id=\"clip700\">\n",
       "    <rect x=\"0\" y=\"0\" width=\"2400\" height=\"1600\"/>\n",
       "  </clipPath>\n",
       "</defs>\n",
       "<path clip-path=\"url(#clip700)\" d=\"M0 1600 L2400 1600 L2400 0 L0 0  Z\" fill=\"#ffffff\" fill-rule=\"evenodd\" fill-opacity=\"1\"/>\n",
       "<defs>\n",
       "  <clipPath id=\"clip701\">\n",
       "    <rect x=\"480\" y=\"0\" width=\"1681\" height=\"1600\"/>\n",
       "  </clipPath>\n",
       "</defs>\n",
       "<path clip-path=\"url(#clip700)\" d=\"M613.599 1423.18 L1913.31 1423.18 L1913.31 123.472 L613.599 123.472  Z\" fill=\"#ffffff\" fill-rule=\"evenodd\" fill-opacity=\"1\"/>\n",
       "<defs>\n",
       "  <clipPath id=\"clip702\">\n",
       "    <rect x=\"613\" y=\"123\" width=\"1301\" height=\"1301\"/>\n",
       "  </clipPath>\n",
       "</defs>\n",
       "<polyline clip-path=\"url(#clip702)\" style=\"stroke:#000000; stroke-linecap:round; stroke-linejoin:round; stroke-width:2; stroke-opacity:0.1; fill:none\" points=\"672.676,1423.18 672.676,123.472 \"/>\n",
       "<polyline clip-path=\"url(#clip702)\" style=\"stroke:#000000; stroke-linecap:round; stroke-linejoin:round; stroke-width:2; stroke-opacity:0.1; fill:none\" points=\"986.931,1423.18 986.931,123.472 \"/>\n",
       "<polyline clip-path=\"url(#clip702)\" style=\"stroke:#000000; stroke-linecap:round; stroke-linejoin:round; stroke-width:2; stroke-opacity:0.1; fill:none\" points=\"1301.19,1423.18 1301.19,123.472 \"/>\n",
       "<polyline clip-path=\"url(#clip702)\" style=\"stroke:#000000; stroke-linecap:round; stroke-linejoin:round; stroke-width:2; stroke-opacity:0.1; fill:none\" points=\"1615.44,1423.18 1615.44,123.472 \"/>\n",
       "<polyline clip-path=\"url(#clip700)\" style=\"stroke:#000000; stroke-linecap:round; stroke-linejoin:round; stroke-width:4; stroke-opacity:1; fill:none\" points=\"613.599,1423.18 1913.31,1423.18 \"/>\n",
       "<polyline clip-path=\"url(#clip700)\" style=\"stroke:#000000; stroke-linecap:round; stroke-linejoin:round; stroke-width:4; stroke-opacity:1; fill:none\" points=\"672.676,1423.18 672.676,1404.28 \"/>\n",
       "<polyline clip-path=\"url(#clip700)\" style=\"stroke:#000000; stroke-linecap:round; stroke-linejoin:round; stroke-width:4; stroke-opacity:1; fill:none\" points=\"986.931,1423.18 986.931,1404.28 \"/>\n",
       "<polyline clip-path=\"url(#clip700)\" style=\"stroke:#000000; stroke-linecap:round; stroke-linejoin:round; stroke-width:4; stroke-opacity:1; fill:none\" points=\"1301.19,1423.18 1301.19,1404.28 \"/>\n",
       "<polyline clip-path=\"url(#clip700)\" style=\"stroke:#000000; stroke-linecap:round; stroke-linejoin:round; stroke-width:4; stroke-opacity:1; fill:none\" points=\"1615.44,1423.18 1615.44,1404.28 \"/>\n",
       "<path clip-path=\"url(#clip700)\" d=\"M672.676 1454.1 Q669.065 1454.1 667.236 1457.66 Q665.431 1461.2 665.431 1468.33 Q665.431 1475.44 667.236 1479.01 Q669.065 1482.55 672.676 1482.55 Q676.31 1482.55 678.116 1479.01 Q679.945 1475.44 679.945 1468.33 Q679.945 1461.2 678.116 1457.66 Q676.31 1454.1 672.676 1454.1 M672.676 1450.39 Q678.486 1450.39 681.542 1455 Q684.621 1459.58 684.621 1468.33 Q684.621 1477.06 681.542 1481.67 Q678.486 1486.25 672.676 1486.25 Q666.866 1486.25 663.787 1481.67 Q660.732 1477.06 660.732 1468.33 Q660.732 1459.58 663.787 1455 Q666.866 1450.39 672.676 1450.39 Z\" fill=\"#000000\" fill-rule=\"nonzero\" fill-opacity=\"1\" /><path clip-path=\"url(#clip700)\" d=\"M977.313 1481.64 L984.952 1481.64 L984.952 1455.28 L976.642 1456.95 L976.642 1452.69 L984.906 1451.02 L989.582 1451.02 L989.582 1481.64 L997.22 1481.64 L997.22 1485.58 L977.313 1485.58 L977.313 1481.64 Z\" fill=\"#000000\" fill-rule=\"nonzero\" fill-opacity=\"1\" /><path clip-path=\"url(#clip700)\" d=\"M1295.84 1481.64 L1312.16 1481.64 L1312.16 1485.58 L1290.21 1485.58 L1290.21 1481.64 Q1292.88 1478.89 1297.46 1474.26 Q1302.07 1469.61 1303.25 1468.27 Q1305.49 1465.74 1306.37 1464.01 Q1307.27 1462.25 1307.27 1460.56 Q1307.27 1457.8 1305.33 1456.07 Q1303.41 1454.33 1300.31 1454.33 Q1298.11 1454.33 1295.65 1455.09 Q1293.22 1455.86 1290.45 1457.41 L1290.45 1452.69 Q1293.27 1451.55 1295.72 1450.97 Q1298.18 1450.39 1300.21 1450.39 Q1305.58 1450.39 1308.78 1453.08 Q1311.97 1455.77 1311.97 1460.26 Q1311.97 1462.39 1311.16 1464.31 Q1310.38 1466.2 1308.27 1468.8 Q1307.69 1469.47 1304.59 1472.69 Q1301.49 1475.88 1295.84 1481.64 Z\" fill=\"#000000\" fill-rule=\"nonzero\" fill-opacity=\"1\" /><path clip-path=\"url(#clip700)\" d=\"M1619.69 1466.95 Q1623.05 1467.66 1624.92 1469.93 Q1626.82 1472.2 1626.82 1475.53 Q1626.82 1480.65 1623.3 1483.45 Q1619.78 1486.25 1613.3 1486.25 Q1611.12 1486.25 1608.81 1485.81 Q1606.52 1485.39 1604.06 1484.54 L1604.06 1480.02 Q1606.01 1481.16 1608.32 1481.74 Q1610.64 1482.32 1613.16 1482.32 Q1617.56 1482.32 1619.85 1480.58 Q1622.17 1478.84 1622.17 1475.53 Q1622.17 1472.48 1620.01 1470.77 Q1617.88 1469.03 1614.06 1469.03 L1610.04 1469.03 L1610.04 1465.19 L1614.25 1465.19 Q1617.7 1465.19 1619.53 1463.82 Q1621.36 1462.43 1621.36 1459.84 Q1621.36 1457.18 1619.46 1455.77 Q1617.58 1454.33 1614.06 1454.33 Q1612.14 1454.33 1609.94 1454.75 Q1607.74 1455.16 1605.11 1456.04 L1605.11 1451.88 Q1607.77 1451.14 1610.08 1450.77 Q1612.42 1450.39 1614.48 1450.39 Q1619.8 1450.39 1622.91 1452.83 Q1626.01 1455.23 1626.01 1459.35 Q1626.01 1462.22 1624.36 1464.21 Q1622.72 1466.18 1619.69 1466.95 Z\" fill=\"#000000\" fill-rule=\"nonzero\" fill-opacity=\"1\" /><path clip-path=\"url(#clip700)\" d=\"M1218.42 1550.25 Q1218.42 1543.79 1215.74 1540.13 Q1213.1 1536.44 1208.45 1536.44 Q1203.81 1536.44 1201.13 1540.13 Q1198.49 1543.79 1198.49 1550.25 Q1198.49 1556.71 1201.13 1560.4 Q1203.81 1564.07 1208.45 1564.07 Q1213.1 1564.07 1215.74 1560.4 Q1218.42 1556.71 1218.42 1550.25 M1198.49 1537.81 Q1200.34 1534.62 1203.14 1533.1 Q1205.97 1531.54 1209.88 1531.54 Q1216.38 1531.54 1220.42 1536.69 Q1224.49 1541.85 1224.49 1550.25 Q1224.49 1558.65 1220.42 1563.81 Q1216.38 1568.97 1209.88 1568.97 Q1205.97 1568.97 1203.14 1567.44 Q1200.34 1565.88 1198.49 1562.7 L1198.49 1568.04 L1192.6 1568.04 L1192.6 1518.52 L1198.49 1518.52 L1198.49 1537.81 Z\" fill=\"#000000\" fill-rule=\"nonzero\" fill-opacity=\"1\" /><path clip-path=\"url(#clip700)\" d=\"M1234.2 1532.4 L1240.06 1532.4 L1240.06 1568.04 L1234.2 1568.04 L1234.2 1532.4 M1234.2 1518.52 L1240.06 1518.52 L1240.06 1525.93 L1234.2 1525.93 L1234.2 1518.52 Z\" fill=\"#000000\" fill-rule=\"nonzero\" fill-opacity=\"1\" /><path clip-path=\"url(#clip700)\" d=\"M1272.97 1537.87 Q1271.98 1537.3 1270.8 1537.04 Q1269.66 1536.76 1268.26 1536.76 Q1263.29 1536.76 1260.62 1540 Q1257.98 1543.22 1257.98 1549.27 L1257.98 1568.04 L1252.09 1568.04 L1252.09 1532.4 L1257.98 1532.4 L1257.98 1537.93 Q1259.82 1534.69 1262.78 1533.13 Q1265.74 1531.54 1269.98 1531.54 Q1270.58 1531.54 1271.31 1531.63 Q1272.05 1531.7 1272.94 1531.85 L1272.97 1537.87 Z\" fill=\"#000000\" fill-rule=\"nonzero\" fill-opacity=\"1\" /><path clip-path=\"url(#clip700)\" d=\"M1284.9 1522.27 L1284.9 1532.4 L1296.97 1532.4 L1296.97 1536.95 L1284.9 1536.95 L1284.9 1556.3 Q1284.9 1560.66 1286.08 1561.9 Q1287.29 1563.14 1290.95 1563.14 L1296.97 1563.14 L1296.97 1568.04 L1290.95 1568.04 Q1284.17 1568.04 1281.59 1565.53 Q1279.02 1562.98 1279.02 1556.3 L1279.02 1536.95 L1274.72 1536.95 L1274.72 1532.4 L1279.02 1532.4 L1279.02 1522.27 L1284.9 1522.27 Z\" fill=\"#000000\" fill-rule=\"nonzero\" fill-opacity=\"1\" /><path clip-path=\"url(#clip700)\" d=\"M1334.3 1546.53 L1334.3 1568.04 L1328.45 1568.04 L1328.45 1546.72 Q1328.45 1541.66 1326.47 1539.14 Q1324.5 1536.63 1320.55 1536.63 Q1315.81 1536.63 1313.07 1539.65 Q1310.34 1542.68 1310.34 1547.9 L1310.34 1568.04 L1304.45 1568.04 L1304.45 1518.52 L1310.34 1518.52 L1310.34 1537.93 Q1312.44 1534.72 1315.27 1533.13 Q1318.13 1531.54 1321.86 1531.54 Q1328 1531.54 1331.15 1535.36 Q1334.3 1539.14 1334.3 1546.53 Z\" fill=\"#000000\" fill-rule=\"nonzero\" fill-opacity=\"1\" /><polyline clip-path=\"url(#clip702)\" style=\"stroke:#000000; stroke-linecap:round; stroke-linejoin:round; stroke-width:2; stroke-opacity:0.1; fill:none\" points=\"613.599,1364.1 1913.31,1364.1 \"/>\n",
       "<polyline clip-path=\"url(#clip702)\" style=\"stroke:#000000; stroke-linecap:round; stroke-linejoin:round; stroke-width:2; stroke-opacity:0.1; fill:none\" points=\"613.599,1049.85 1913.31,1049.85 \"/>\n",
       "<polyline clip-path=\"url(#clip702)\" style=\"stroke:#000000; stroke-linecap:round; stroke-linejoin:round; stroke-width:2; stroke-opacity:0.1; fill:none\" points=\"613.599,735.592 1913.31,735.592 \"/>\n",
       "<polyline clip-path=\"url(#clip702)\" style=\"stroke:#000000; stroke-linecap:round; stroke-linejoin:round; stroke-width:2; stroke-opacity:0.1; fill:none\" points=\"613.599,421.338 1913.31,421.338 \"/>\n",
       "<polyline clip-path=\"url(#clip700)\" style=\"stroke:#000000; stroke-linecap:round; stroke-linejoin:round; stroke-width:4; stroke-opacity:1; fill:none\" points=\"613.599,1423.18 613.599,123.472 \"/>\n",
       "<polyline clip-path=\"url(#clip700)\" style=\"stroke:#000000; stroke-linecap:round; stroke-linejoin:round; stroke-width:4; stroke-opacity:1; fill:none\" points=\"613.599,1364.1 624.872,1364.1 \"/>\n",
       "<polyline clip-path=\"url(#clip700)\" style=\"stroke:#000000; stroke-linecap:round; stroke-linejoin:round; stroke-width:4; stroke-opacity:1; fill:none\" points=\"613.599,1049.85 624.872,1049.85 \"/>\n",
       "<polyline clip-path=\"url(#clip700)\" style=\"stroke:#000000; stroke-linecap:round; stroke-linejoin:round; stroke-width:4; stroke-opacity:1; fill:none\" points=\"613.599,735.592 624.872,735.592 \"/>\n",
       "<polyline clip-path=\"url(#clip700)\" style=\"stroke:#000000; stroke-linecap:round; stroke-linejoin:round; stroke-width:4; stroke-opacity:1; fill:none\" points=\"613.599,421.338 624.872,421.338 \"/>\n",
       "<path clip-path=\"url(#clip700)\" d=\"M565.654 1349.9 Q562.043 1349.9 560.214 1353.47 Q558.409 1357.01 558.409 1364.14 Q558.409 1371.24 560.214 1374.81 Q562.043 1378.35 565.654 1378.35 Q569.288 1378.35 571.094 1374.81 Q572.923 1371.24 572.923 1364.14 Q572.923 1357.01 571.094 1353.47 Q569.288 1349.9 565.654 1349.9 M565.654 1346.2 Q571.464 1346.2 574.52 1350.8 Q577.599 1355.39 577.599 1364.14 Q577.599 1372.86 574.52 1377.47 Q571.464 1382.05 565.654 1382.05 Q559.844 1382.05 556.765 1377.47 Q553.71 1372.86 553.71 1364.14 Q553.71 1355.39 556.765 1350.8 Q559.844 1346.2 565.654 1346.2 Z\" fill=\"#000000\" fill-rule=\"nonzero\" fill-opacity=\"1\" /><path clip-path=\"url(#clip700)\" d=\"M557.691 1063.19 L565.33 1063.19 L565.33 1036.83 L557.02 1038.49 L557.02 1034.23 L565.284 1032.57 L569.96 1032.57 L569.96 1063.19 L577.599 1063.19 L577.599 1067.13 L557.691 1067.13 L557.691 1063.19 Z\" fill=\"#000000\" fill-rule=\"nonzero\" fill-opacity=\"1\" /><path clip-path=\"url(#clip700)\" d=\"M561.279 748.937 L577.599 748.937 L577.599 752.872 L555.654 752.872 L555.654 748.937 Q558.316 746.183 562.9 741.553 Q567.506 736.9 568.687 735.558 Q570.932 733.035 571.812 731.298 Q572.714 729.539 572.714 727.849 Q572.714 725.095 570.77 723.359 Q568.849 721.623 565.747 721.623 Q563.548 721.623 561.094 722.386 Q558.663 723.15 555.886 724.701 L555.886 719.979 Q558.71 718.845 561.163 718.266 Q563.617 717.687 565.654 717.687 Q571.025 717.687 574.219 720.373 Q577.413 723.058 577.413 727.548 Q577.413 729.678 576.603 731.599 Q575.816 733.498 573.71 736.09 Q573.131 736.761 570.029 739.979 Q566.927 743.173 561.279 748.937 Z\" fill=\"#000000\" fill-rule=\"nonzero\" fill-opacity=\"1\" /><path clip-path=\"url(#clip700)\" d=\"M570.469 419.983 Q573.825 420.701 575.7 422.969 Q577.599 425.238 577.599 428.571 Q577.599 433.687 574.08 436.488 Q570.562 439.289 564.08 439.289 Q561.904 439.289 559.589 438.849 Q557.298 438.432 554.844 437.576 L554.844 433.062 Q556.788 434.196 559.103 434.775 Q561.418 435.354 563.941 435.354 Q568.339 435.354 570.631 433.618 Q572.946 431.881 572.946 428.571 Q572.946 425.516 570.793 423.803 Q568.663 422.067 564.844 422.067 L560.816 422.067 L560.816 418.224 L565.029 418.224 Q568.478 418.224 570.307 416.858 Q572.136 415.469 572.136 412.877 Q572.136 410.215 570.237 408.803 Q568.362 407.368 564.844 407.368 Q562.923 407.368 560.724 407.784 Q558.525 408.201 555.886 409.081 L555.886 404.914 Q558.548 404.173 560.863 403.803 Q563.2 403.433 565.261 403.433 Q570.585 403.433 573.687 405.863 Q576.788 408.27 576.788 412.391 Q576.788 415.261 575.145 417.252 Q573.501 419.219 570.469 419.983 Z\" fill=\"#000000\" fill-rule=\"nonzero\" fill-opacity=\"1\" /><path clip-path=\"url(#clip700)\" d=\"M473.217 836.903 L453.929 836.903 L453.929 831.047 L503.454 831.047 L503.454 836.903 L498.107 836.903 Q501.289 838.75 502.849 841.582 Q504.377 844.383 504.377 848.33 Q504.377 854.791 499.221 858.865 Q494.064 862.907 485.662 862.907 Q477.259 862.907 472.103 858.865 Q466.946 854.791 466.946 848.33 Q466.946 844.383 468.506 841.582 Q470.034 838.75 473.217 836.903 M485.662 856.86 Q492.123 856.86 495.815 854.218 Q499.475 851.545 499.475 846.898 Q499.475 842.251 495.815 839.577 Q492.123 836.903 485.662 836.903 Q479.2 836.903 475.54 839.577 Q471.848 842.251 471.848 846.898 Q471.848 851.545 475.54 854.218 Q479.2 856.86 485.662 856.86 Z\" fill=\"#000000\" fill-rule=\"nonzero\" fill-opacity=\"1\" /><path clip-path=\"url(#clip700)\" d=\"M484.166 788.492 L487.03 788.492 L487.03 815.419 Q493.078 815.037 496.261 811.791 Q499.412 808.512 499.412 802.688 Q499.412 799.314 498.584 796.163 Q497.756 792.98 496.101 789.861 L501.64 789.861 Q502.976 793.012 503.677 796.322 Q504.377 799.632 504.377 803.038 Q504.377 811.568 499.412 816.565 Q494.446 821.53 485.98 821.53 Q477.227 821.53 472.103 816.82 Q466.946 812.077 466.946 804.056 Q466.946 796.863 471.593 792.694 Q476.209 788.492 484.166 788.492 M482.447 794.349 Q477.641 794.412 474.776 797.054 Q471.912 799.664 471.912 803.993 Q471.912 808.894 474.681 811.854 Q477.45 814.783 482.479 815.228 L482.447 794.349 Z\" fill=\"#000000\" fill-rule=\"nonzero\" fill-opacity=\"1\" /><path clip-path=\"url(#clip700)\" d=\"M485.534 762.679 Q485.534 769.777 487.158 772.514 Q488.781 775.252 492.696 775.252 Q495.815 775.252 497.661 773.215 Q499.475 771.146 499.475 767.613 Q499.475 762.743 496.038 759.815 Q492.568 756.855 486.839 756.855 L485.534 756.855 L485.534 762.679 M483.115 750.998 L503.454 750.998 L503.454 756.855 L498.043 756.855 Q501.289 758.86 502.849 761.852 Q504.377 764.844 504.377 769.172 Q504.377 774.647 501.321 777.893 Q498.234 781.108 493.078 781.108 Q487.062 781.108 484.007 777.098 Q480.951 773.055 480.951 765.066 L480.951 756.855 L480.378 756.855 Q476.336 756.855 474.14 759.528 Q471.912 762.17 471.912 766.976 Q471.912 770.032 472.644 772.928 Q473.376 775.825 474.84 778.498 L469.429 778.498 Q468.188 775.283 467.583 772.26 Q466.946 769.236 466.946 766.371 Q466.946 758.637 470.957 754.818 Q474.967 750.998 483.115 750.998 Z\" fill=\"#000000\" fill-rule=\"nonzero\" fill-opacity=\"1\" /><path clip-path=\"url(#clip700)\" d=\"M457.684 733.142 L467.806 733.142 L467.806 721.079 L472.357 721.079 L472.357 733.142 L491.709 733.142 Q496.07 733.142 497.311 731.965 Q498.552 730.755 498.552 727.095 L498.552 721.079 L503.454 721.079 L503.454 727.095 Q503.454 733.875 500.939 736.453 Q498.393 739.031 491.709 739.031 L472.357 739.031 L472.357 743.328 L467.806 743.328 L467.806 739.031 L457.684 739.031 L457.684 733.142 Z\" fill=\"#000000\" fill-rule=\"nonzero\" fill-opacity=\"1\" /><path clip-path=\"url(#clip700)\" d=\"M481.938 683.745 L503.454 683.745 L503.454 689.601 L482.129 689.601 Q477.068 689.601 474.553 691.574 Q472.039 693.548 472.039 697.495 Q472.039 702.237 475.063 704.974 Q478.086 707.711 483.306 707.711 L503.454 707.711 L503.454 713.6 L453.929 713.6 L453.929 707.711 L473.344 707.711 Q470.129 705.611 468.538 702.778 Q466.946 699.913 466.946 696.19 Q466.946 690.047 470.766 686.896 Q474.553 683.745 481.938 683.745 Z\" fill=\"#000000\" fill-rule=\"nonzero\" fill-opacity=\"1\" /><path clip-path=\"url(#clip700)\" d=\"M850.686 18.8205 L850.686 41.5461 L860.975 41.5461 Q866.687 41.5461 869.806 38.5889 Q872.925 35.6318 872.925 30.163 Q872.925 24.7348 869.806 21.7777 Q866.687 18.8205 860.975 18.8205 L850.686 18.8205 M842.503 12.096 L860.975 12.096 Q871.143 12.096 876.328 16.714 Q881.553 21.2916 881.553 30.163 Q881.553 39.1155 876.328 43.6931 Q871.143 48.2706 860.975 48.2706 L850.686 48.2706 L850.686 72.576 L842.503 72.576 L842.503 12.096 Z\" fill=\"#000000\" fill-rule=\"nonzero\" fill-opacity=\"1\" /><path clip-path=\"url(#clip700)\" d=\"M928.058 48.0275 L928.058 51.6733 L893.787 51.6733 Q894.273 59.3701 898.405 63.421 Q902.578 67.4314 909.991 67.4314 Q914.285 67.4314 918.295 66.3781 Q922.346 65.3249 926.316 63.2184 L926.316 70.267 Q922.306 71.9684 918.093 72.8596 Q913.88 73.7508 909.545 73.7508 Q898.689 73.7508 892.329 67.4314 Q886.009 61.1119 886.009 50.3365 Q886.009 39.1965 892.005 32.6746 Q898.041 26.1121 908.249 26.1121 Q917.404 26.1121 922.711 32.0264 Q928.058 37.9003 928.058 48.0275 M920.604 45.84 Q920.523 39.7232 917.161 36.0774 Q913.839 32.4315 908.33 32.4315 Q902.092 32.4315 898.324 35.9558 Q894.597 39.4801 894.03 45.8805 L920.604 45.84 Z\" fill=\"#000000\" fill-rule=\"nonzero\" fill-opacity=\"1\" /><path clip-path=\"url(#clip700)\" d=\"M966.582 34.1734 Q965.326 33.4443 963.827 33.1202 Q962.369 32.7556 960.587 32.7556 Q954.267 32.7556 950.864 36.8875 Q947.502 40.9789 947.502 48.6757 L947.502 72.576 L940.008 72.576 L940.008 27.2059 L947.502 27.2059 L947.502 34.2544 Q949.852 30.1225 953.619 28.1376 Q957.386 26.1121 962.774 26.1121 Q963.544 26.1121 964.475 26.2337 Q965.407 26.3147 966.541 26.5172 L966.582 34.1734 Z\" fill=\"#000000\" fill-rule=\"nonzero\" fill-opacity=\"1\" /><path clip-path=\"url(#clip700)\" d=\"M1003.32 28.5427 L1003.32 35.5912 Q1000.16 33.9709 996.761 33.1607 Q993.358 32.3505 989.713 32.3505 Q984.163 32.3505 981.368 34.0519 Q978.613 35.7533 978.613 39.156 Q978.613 41.7486 980.598 43.2475 Q982.583 44.7058 988.578 46.0426 L991.13 46.6097 Q999.07 48.3111 1002.39 51.4303 Q1005.75 54.509 1005.75 60.0587 Q1005.75 66.3781 1000.73 70.0644 Q995.748 73.7508 986.998 73.7508 Q983.353 73.7508 979.383 73.0216 Q975.453 72.3329 971.078 70.9151 L971.078 63.2184 Q975.21 65.3654 979.221 66.4591 Q983.231 67.5124 987.16 67.5124 Q992.427 67.5124 995.262 65.73 Q998.098 63.9071 998.098 60.6258 Q998.098 57.5877 996.032 55.9673 Q994.007 54.3469 987.079 52.8481 L984.487 52.2405 Q977.56 50.7821 974.481 47.7845 Q971.402 44.7463 971.402 39.4801 Q971.402 33.0797 975.939 29.5959 Q980.476 26.1121 988.821 26.1121 Q992.953 26.1121 996.599 26.7198 Q1000.24 27.3274 1003.32 28.5427 Z\" fill=\"#000000\" fill-rule=\"nonzero\" fill-opacity=\"1\" /><path clip-path=\"url(#clip700)\" d=\"M1017.62 27.2059 L1025.08 27.2059 L1025.08 72.576 L1017.62 72.576 L1017.62 27.2059 M1017.62 9.54393 L1025.08 9.54393 L1025.08 18.9825 L1017.62 18.9825 L1017.62 9.54393 Z\" fill=\"#000000\" fill-rule=\"nonzero\" fill-opacity=\"1\" /><path clip-path=\"url(#clip700)\" d=\"M1069.6 28.5427 L1069.6 35.5912 Q1066.44 33.9709 1063.03 33.1607 Q1059.63 32.3505 1055.99 32.3505 Q1050.44 32.3505 1047.64 34.0519 Q1044.89 35.7533 1044.89 39.156 Q1044.89 41.7486 1046.87 43.2475 Q1048.86 44.7058 1054.85 46.0426 L1057.4 46.6097 Q1065.34 48.3111 1068.66 51.4303 Q1072.03 54.509 1072.03 60.0587 Q1072.03 66.3781 1067 70.0644 Q1062.02 73.7508 1053.27 73.7508 Q1049.63 73.7508 1045.66 73.0216 Q1041.73 72.3329 1037.35 70.9151 L1037.35 63.2184 Q1041.48 65.3654 1045.49 66.4591 Q1049.5 67.5124 1053.43 67.5124 Q1058.7 67.5124 1061.54 65.73 Q1064.37 63.9071 1064.37 60.6258 Q1064.37 57.5877 1062.3 55.9673 Q1060.28 54.3469 1053.35 52.8481 L1050.76 52.2405 Q1043.83 50.7821 1040.75 47.7845 Q1037.68 44.7463 1037.68 39.4801 Q1037.68 33.0797 1042.21 29.5959 Q1046.75 26.1121 1055.09 26.1121 Q1059.23 26.1121 1062.87 26.7198 Q1066.52 27.3274 1069.6 28.5427 Z\" fill=\"#000000\" fill-rule=\"nonzero\" fill-opacity=\"1\" /><path clip-path=\"url(#clip700)\" d=\"M1091.27 14.324 L1091.27 27.2059 L1106.62 27.2059 L1106.62 32.9987 L1091.27 32.9987 L1091.27 57.6282 Q1091.27 63.1779 1092.77 64.7578 Q1094.31 66.3376 1098.97 66.3376 L1106.62 66.3376 L1106.62 72.576 L1098.97 72.576 Q1090.34 72.576 1087.06 69.3758 Q1083.77 66.1351 1083.77 57.6282 L1083.77 32.9987 L1078.31 32.9987 L1078.31 27.2059 L1083.77 27.2059 L1083.77 14.324 L1091.27 14.324 Z\" fill=\"#000000\" fill-rule=\"nonzero\" fill-opacity=\"1\" /><path clip-path=\"url(#clip700)\" d=\"M1155.23 48.0275 L1155.23 51.6733 L1120.96 51.6733 Q1121.45 59.3701 1125.58 63.421 Q1129.75 67.4314 1137.17 67.4314 Q1141.46 67.4314 1145.47 66.3781 Q1149.52 65.3249 1153.49 63.2184 L1153.49 70.267 Q1149.48 71.9684 1145.27 72.8596 Q1141.05 73.7508 1136.72 73.7508 Q1125.86 73.7508 1119.5 67.4314 Q1113.18 61.1119 1113.18 50.3365 Q1113.18 39.1965 1119.18 32.6746 Q1125.22 26.1121 1135.42 26.1121 Q1144.58 26.1121 1149.89 32.0264 Q1155.23 37.9003 1155.23 48.0275 M1147.78 45.84 Q1147.7 39.7232 1144.34 36.0774 Q1141.01 32.4315 1135.5 32.4315 Q1129.27 32.4315 1125.5 35.9558 Q1121.77 39.4801 1121.2 45.8805 L1147.78 45.84 Z\" fill=\"#000000\" fill-rule=\"nonzero\" fill-opacity=\"1\" /><path clip-path=\"url(#clip700)\" d=\"M1205.18 45.1919 L1205.18 72.576 L1197.73 72.576 L1197.73 45.4349 Q1197.73 38.994 1195.21 35.7938 Q1192.7 32.5936 1187.68 32.5936 Q1181.64 32.5936 1178.16 36.4419 Q1174.68 40.2903 1174.68 46.9338 L1174.68 72.576 L1167.18 72.576 L1167.18 27.2059 L1174.68 27.2059 L1174.68 34.2544 Q1177.35 30.163 1180.96 28.1376 Q1184.6 26.1121 1189.34 26.1121 Q1197.16 26.1121 1201.17 30.9732 Q1205.18 35.7938 1205.18 45.1919 Z\" fill=\"#000000\" fill-rule=\"nonzero\" fill-opacity=\"1\" /><path clip-path=\"url(#clip700)\" d=\"M1252.7 28.9478 L1252.7 35.9153 Q1249.54 34.1734 1246.34 33.3227 Q1243.18 32.4315 1239.94 32.4315 Q1232.69 32.4315 1228.68 37.0496 Q1224.67 41.6271 1224.67 49.9314 Q1224.67 58.2358 1228.68 62.8538 Q1232.69 67.4314 1239.94 67.4314 Q1243.18 67.4314 1246.34 66.5807 Q1249.54 65.6895 1252.7 63.9476 L1252.7 70.8341 Q1249.58 72.2924 1246.22 73.0216 Q1242.89 73.7508 1239.13 73.7508 Q1228.88 73.7508 1222.84 67.3098 Q1216.81 60.8689 1216.81 49.9314 Q1216.81 38.832 1222.88 32.472 Q1229 26.1121 1239.61 26.1121 Q1243.06 26.1121 1246.34 26.8413 Q1249.62 27.5299 1252.7 28.9478 Z\" fill=\"#000000\" fill-rule=\"nonzero\" fill-opacity=\"1\" /><path clip-path=\"url(#clip700)\" d=\"M1304.47 48.0275 L1304.47 51.6733 L1270.2 51.6733 Q1270.68 59.3701 1274.82 63.421 Q1278.99 67.4314 1286.4 67.4314 Q1290.69 67.4314 1294.71 66.3781 Q1298.76 65.3249 1302.73 63.2184 L1302.73 70.267 Q1298.72 71.9684 1294.5 72.8596 Q1290.29 73.7508 1285.96 73.7508 Q1275.1 73.7508 1268.74 67.4314 Q1262.42 61.1119 1262.42 50.3365 Q1262.42 39.1965 1268.41 32.6746 Q1274.45 26.1121 1284.66 26.1121 Q1293.81 26.1121 1299.12 32.0264 Q1304.47 37.9003 1304.47 48.0275 M1297.01 45.84 Q1296.93 39.7232 1293.57 36.0774 Q1290.25 32.4315 1284.74 32.4315 Q1278.5 32.4315 1274.73 35.9558 Q1271.01 39.4801 1270.44 45.8805 L1297.01 45.84 Z\" fill=\"#000000\" fill-rule=\"nonzero\" fill-opacity=\"1\" /><path clip-path=\"url(#clip700)\" d=\"M1351.58 18.8205 L1351.58 65.8515 L1361.46 65.8515 Q1373.98 65.8515 1379.77 60.1802 Q1385.61 54.509 1385.61 42.2752 Q1385.61 30.1225 1379.77 24.4918 Q1373.98 18.8205 1361.46 18.8205 L1351.58 18.8205 M1343.4 12.096 L1360.21 12.096 Q1377.79 12.096 1386.01 19.4281 Q1394.24 26.7198 1394.24 42.2752 Q1394.24 57.9117 1385.97 65.2439 Q1377.71 72.576 1360.21 72.576 L1343.4 72.576 L1343.4 12.096 Z\" fill=\"#000000\" fill-rule=\"nonzero\" fill-opacity=\"1\" /><path clip-path=\"url(#clip700)\" d=\"M1406.96 27.2059 L1414.41 27.2059 L1414.41 72.576 L1406.96 72.576 L1406.96 27.2059 M1406.96 9.54393 L1414.41 9.54393 L1414.41 18.9825 L1406.96 18.9825 L1406.96 9.54393 Z\" fill=\"#000000\" fill-rule=\"nonzero\" fill-opacity=\"1\" /><path clip-path=\"url(#clip700)\" d=\"M1450.62 49.7694 Q1441.59 49.7694 1438.11 51.8354 Q1434.62 53.9013 1434.62 58.8839 Q1434.62 62.8538 1437.22 65.2034 Q1439.85 67.5124 1444.35 67.5124 Q1450.54 67.5124 1454.27 63.1374 Q1458.04 58.7219 1458.04 51.4303 L1458.04 49.7694 L1450.62 49.7694 M1465.49 46.6907 L1465.49 72.576 L1458.04 72.576 L1458.04 65.6895 Q1455.49 69.8214 1451.68 71.8063 Q1447.87 73.7508 1442.36 73.7508 Q1435.39 73.7508 1431.26 69.8619 Q1427.17 65.9325 1427.17 59.3701 Q1427.17 51.7138 1432.27 47.825 Q1437.42 43.9361 1447.59 43.9361 L1458.04 43.9361 L1458.04 43.2069 Q1458.04 38.0623 1454.63 35.2672 Q1451.27 32.4315 1445.16 32.4315 Q1441.27 32.4315 1437.58 33.3632 Q1433.89 34.295 1430.49 36.1584 L1430.49 29.2718 Q1434.58 27.692 1438.43 26.9223 Q1442.28 26.1121 1445.93 26.1121 Q1455.77 26.1121 1460.63 31.2163 Q1465.49 36.3204 1465.49 46.6907 Z\" fill=\"#000000\" fill-rule=\"nonzero\" fill-opacity=\"1\" /><path clip-path=\"url(#clip700)\" d=\"M1510.7 49.3643 Q1510.7 41.2625 1507.34 36.8065 Q1504.02 32.3505 1497.98 32.3505 Q1491.98 32.3505 1488.62 36.8065 Q1485.3 41.2625 1485.3 49.3643 Q1485.3 57.4256 1488.62 61.8816 Q1491.98 66.3376 1497.98 66.3376 Q1504.02 66.3376 1507.34 61.8816 Q1510.7 57.4256 1510.7 49.3643 M1518.15 66.9452 Q1518.15 78.5308 1513.01 84.1616 Q1507.86 89.8329 1497.25 89.8329 Q1493.32 89.8329 1489.84 89.2252 Q1486.35 88.6581 1483.07 87.4428 L1483.07 80.1917 Q1486.35 81.9741 1489.55 82.8248 Q1492.75 83.6755 1496.08 83.6755 Q1503.41 83.6755 1507.05 79.8271 Q1510.7 76.0193 1510.7 68.282 L1510.7 64.5957 Q1508.39 68.6061 1504.79 70.5911 Q1501.18 72.576 1496.16 72.576 Q1487.81 72.576 1482.71 66.2161 Q1477.6 59.8562 1477.6 49.3643 Q1477.6 38.832 1482.71 32.472 Q1487.81 26.1121 1496.16 26.1121 Q1501.18 26.1121 1504.79 28.0971 Q1508.39 30.082 1510.7 34.0924 L1510.7 27.2059 L1518.15 27.2059 L1518.15 66.9452 Z\" fill=\"#000000\" fill-rule=\"nonzero\" fill-opacity=\"1\" /><path clip-path=\"url(#clip700)\" d=\"M1559.8 34.1734 Q1558.54 33.4443 1557.04 33.1202 Q1555.58 32.7556 1553.8 32.7556 Q1547.48 32.7556 1544.08 36.8875 Q1540.72 40.9789 1540.72 48.6757 L1540.72 72.576 L1533.22 72.576 L1533.22 27.2059 L1540.72 27.2059 L1540.72 34.2544 Q1543.07 30.1225 1546.83 28.1376 Q1550.6 26.1121 1555.99 26.1121 Q1556.76 26.1121 1557.69 26.2337 Q1558.62 26.3147 1559.76 26.5172 L1559.8 34.1734 Z\" fill=\"#000000\" fill-rule=\"nonzero\" fill-opacity=\"1\" /><path clip-path=\"url(#clip700)\" d=\"M1588.23 49.7694 Q1579.2 49.7694 1575.72 51.8354 Q1572.23 53.9013 1572.23 58.8839 Q1572.23 62.8538 1574.83 65.2034 Q1577.46 67.5124 1581.95 67.5124 Q1588.15 67.5124 1591.88 63.1374 Q1595.65 58.7219 1595.65 51.4303 L1595.65 49.7694 L1588.23 49.7694 M1603.1 46.6907 L1603.1 72.576 L1595.65 72.576 L1595.65 65.6895 Q1593.09 69.8214 1589.29 71.8063 Q1585.48 73.7508 1579.97 73.7508 Q1573 73.7508 1568.87 69.8619 Q1564.78 65.9325 1564.78 59.3701 Q1564.78 51.7138 1569.88 47.825 Q1575.03 43.9361 1585.2 43.9361 L1595.65 43.9361 L1595.65 43.2069 Q1595.65 38.0623 1592.24 35.2672 Q1588.88 32.4315 1582.76 32.4315 Q1578.88 32.4315 1575.19 33.3632 Q1571.5 34.295 1568.1 36.1584 L1568.1 29.2718 Q1572.19 27.692 1576.04 26.9223 Q1579.89 26.1121 1583.53 26.1121 Q1593.38 26.1121 1598.24 31.2163 Q1603.1 36.3204 1603.1 46.6907 Z\" fill=\"#000000\" fill-rule=\"nonzero\" fill-opacity=\"1\" /><path clip-path=\"url(#clip700)\" d=\"M1653.78 35.9153 Q1656.57 30.8922 1660.46 28.5022 Q1664.35 26.1121 1669.62 26.1121 Q1676.71 26.1121 1680.55 31.0947 Q1684.4 36.0368 1684.4 45.1919 L1684.4 72.576 L1676.91 72.576 L1676.91 45.4349 Q1676.91 38.913 1674.6 35.7533 Q1672.29 32.5936 1667.55 32.5936 Q1661.76 32.5936 1658.4 36.4419 Q1655.03 40.2903 1655.03 46.9338 L1655.03 72.576 L1647.54 72.576 L1647.54 45.4349 Q1647.54 38.8725 1645.23 35.7533 Q1642.92 32.5936 1638.1 32.5936 Q1632.39 32.5936 1629.03 36.4824 Q1625.66 40.3308 1625.66 46.9338 L1625.66 72.576 L1618.17 72.576 L1618.17 27.2059 L1625.66 27.2059 L1625.66 34.2544 Q1628.22 30.082 1631.78 28.0971 Q1635.35 26.1121 1640.25 26.1121 Q1645.19 26.1121 1648.63 28.6237 Q1652.12 31.1352 1653.78 35.9153 Z\" fill=\"#000000\" fill-rule=\"nonzero\" fill-opacity=\"1\" /><polyline clip-path=\"url(#clip702)\" style=\"stroke:#000000; stroke-linecap:round; stroke-linejoin:round; stroke-width:4; stroke-opacity:1; fill:none\" points=\"613.599,1423.18 622.06,1414.72 700.302,1336.48 747.322,1289.46 787.077,1249.7 830.262,1206.52 870.074,1166.7 912.757,1124.02 962.21,1074.57 1006.16,1030.62 1044.7,992.082 1086.71,950.065 1128.98,907.798 1175.71,861.067 1220.18,816.603 1266.41,770.371 1305.32,731.454 1352.84,683.94 1396.36,640.415 1436.56,600.215 1477.28,559.495 1522.92,513.858 1564.27,472.504 1611.62,425.157 1655.46,381.318 1698.68,338.097 1740.65,296.133 1783.66,253.115 1830.79,205.984 1899.26,137.518 1913.31,123.472 \"/>\n",
       "<polyline clip-path=\"url(#clip702)\" style=\"stroke:#808080; stroke-linecap:round; stroke-linejoin:round; stroke-width:4; stroke-opacity:1; fill:none\" stroke-dasharray=\"2, 4\" points=\"-686.109,182.55 3213.01,182.55 \"/>\n",
       "<circle clip-path=\"url(#clip702)\" cx=\"672.676\" cy=\"1349.62\" r=\"14.4\" fill=\"#009af9\" fill-rule=\"evenodd\" fill-opacity=\"0.5\" stroke=\"none\"/>\n",
       "<circle clip-path=\"url(#clip702)\" cx=\"672.676\" cy=\"1339.56\" r=\"14.4\" fill=\"#009af9\" fill-rule=\"evenodd\" fill-opacity=\"0.5\" stroke=\"none\"/>\n",
       "<circle clip-path=\"url(#clip702)\" cx=\"672.676\" cy=\"1335.13\" r=\"14.4\" fill=\"#009af9\" fill-rule=\"evenodd\" fill-opacity=\"0.5\" stroke=\"none\"/>\n",
       "<circle clip-path=\"url(#clip702)\" cx=\"672.676\" cy=\"1334.46\" r=\"14.4\" fill=\"#009af9\" fill-rule=\"evenodd\" fill-opacity=\"0.5\" stroke=\"none\"/>\n",
       "<circle clip-path=\"url(#clip702)\" cx=\"672.676\" cy=\"1332.64\" r=\"14.4\" fill=\"#009af9\" fill-rule=\"evenodd\" fill-opacity=\"0.5\" stroke=\"none\"/>\n",
       "<circle clip-path=\"url(#clip702)\" cx=\"672.676\" cy=\"1332.52\" r=\"14.4\" fill=\"#009af9\" fill-rule=\"evenodd\" fill-opacity=\"0.5\" stroke=\"none\"/>\n",
       "<circle clip-path=\"url(#clip702)\" cx=\"672.676\" cy=\"1329.53\" r=\"14.4\" fill=\"#009af9\" fill-rule=\"evenodd\" fill-opacity=\"0.5\" stroke=\"none\"/>\n",
       "<circle clip-path=\"url(#clip702)\" cx=\"672.676\" cy=\"1328.27\" r=\"14.4\" fill=\"#009af9\" fill-rule=\"evenodd\" fill-opacity=\"0.5\" stroke=\"none\"/>\n",
       "<circle clip-path=\"url(#clip702)\" cx=\"672.676\" cy=\"1320.08\" r=\"14.4\" fill=\"#009af9\" fill-rule=\"evenodd\" fill-opacity=\"0.5\" stroke=\"none\"/>\n",
       "<circle clip-path=\"url(#clip702)\" cx=\"672.676\" cy=\"1319.44\" r=\"14.4\" fill=\"#009af9\" fill-rule=\"evenodd\" fill-opacity=\"0.5\" stroke=\"none\"/>\n",
       "<circle clip-path=\"url(#clip702)\" cx=\"672.676\" cy=\"1319.11\" r=\"14.4\" fill=\"#009af9\" fill-rule=\"evenodd\" fill-opacity=\"0.5\" stroke=\"none\"/>\n",
       "<circle clip-path=\"url(#clip702)\" cx=\"672.676\" cy=\"1315.01\" r=\"14.4\" fill=\"#009af9\" fill-rule=\"evenodd\" fill-opacity=\"0.5\" stroke=\"none\"/>\n",
       "<circle clip-path=\"url(#clip702)\" cx=\"672.676\" cy=\"1313.72\" r=\"14.4\" fill=\"#009af9\" fill-rule=\"evenodd\" fill-opacity=\"0.5\" stroke=\"none\"/>\n",
       "<circle clip-path=\"url(#clip702)\" cx=\"672.676\" cy=\"1313.43\" r=\"14.4\" fill=\"#009af9\" fill-rule=\"evenodd\" fill-opacity=\"0.5\" stroke=\"none\"/>\n",
       "<circle clip-path=\"url(#clip702)\" cx=\"672.676\" cy=\"1279.54\" r=\"14.4\" fill=\"#009af9\" fill-rule=\"evenodd\" fill-opacity=\"0.5\" stroke=\"none\"/>\n",
       "<circle clip-path=\"url(#clip702)\" cx=\"672.676\" cy=\"1279.2\" r=\"14.4\" fill=\"#009af9\" fill-rule=\"evenodd\" fill-opacity=\"0.5\" stroke=\"none\"/>\n",
       "<circle clip-path=\"url(#clip702)\" cx=\"672.676\" cy=\"1277.68\" r=\"14.4\" fill=\"#009af9\" fill-rule=\"evenodd\" fill-opacity=\"0.5\" stroke=\"none\"/>\n",
       "<circle clip-path=\"url(#clip702)\" cx=\"672.676\" cy=\"1273.62\" r=\"14.4\" fill=\"#009af9\" fill-rule=\"evenodd\" fill-opacity=\"0.5\" stroke=\"none\"/>\n",
       "<circle clip-path=\"url(#clip702)\" cx=\"672.676\" cy=\"1268.32\" r=\"14.4\" fill=\"#009af9\" fill-rule=\"evenodd\" fill-opacity=\"0.5\" stroke=\"none\"/>\n",
       "<circle clip-path=\"url(#clip702)\" cx=\"672.676\" cy=\"1265.47\" r=\"14.4\" fill=\"#009af9\" fill-rule=\"evenodd\" fill-opacity=\"0.5\" stroke=\"none\"/>\n",
       "<circle clip-path=\"url(#clip702)\" cx=\"672.676\" cy=\"1235.87\" r=\"14.4\" fill=\"#009af9\" fill-rule=\"evenodd\" fill-opacity=\"0.5\" stroke=\"none\"/>\n",
       "<circle clip-path=\"url(#clip702)\" cx=\"672.676\" cy=\"1138.07\" r=\"14.4\" fill=\"#009af9\" fill-rule=\"evenodd\" fill-opacity=\"0.5\" stroke=\"none\"/>\n",
       "<circle clip-path=\"url(#clip702)\" cx=\"672.676\" cy=\"1073.61\" r=\"14.4\" fill=\"#009af9\" fill-rule=\"evenodd\" fill-opacity=\"0.5\" stroke=\"none\"/>\n",
       "<circle clip-path=\"url(#clip702)\" cx=\"672.676\" cy=\"948.976\" r=\"14.4\" fill=\"#009af9\" fill-rule=\"evenodd\" fill-opacity=\"0.5\" stroke=\"none\"/>\n",
       "<circle clip-path=\"url(#clip702)\" cx=\"672.676\" cy=\"948.323\" r=\"14.4\" fill=\"#009af9\" fill-rule=\"evenodd\" fill-opacity=\"0.5\" stroke=\"none\"/>\n",
       "<circle clip-path=\"url(#clip702)\" cx=\"672.676\" cy=\"945.718\" r=\"14.4\" fill=\"#009af9\" fill-rule=\"evenodd\" fill-opacity=\"0.5\" stroke=\"none\"/>\n",
       "<circle clip-path=\"url(#clip702)\" cx=\"672.676\" cy=\"182.55\" r=\"14.4\" fill=\"#009af9\" fill-rule=\"evenodd\" fill-opacity=\"0.5\" stroke=\"none\"/>\n",
       "<circle clip-path=\"url(#clip702)\" cx=\"772.758\" cy=\"1238.05\" r=\"14.4\" fill=\"#e26f46\" fill-rule=\"evenodd\" fill-opacity=\"0.5\" stroke=\"none\"/>\n",
       "<path clip-path=\"url(#clip700)\" d=\"M1574.47 1379.86 L1840.69 1379.86 L1840.69 1224.34 L1574.47 1224.34  Z\" fill=\"#ffffff\" fill-rule=\"evenodd\" fill-opacity=\"1\"/>\n",
       "<polyline clip-path=\"url(#clip700)\" style=\"stroke:#000000; stroke-linecap:round; stroke-linejoin:round; stroke-width:4; stroke-opacity:1; fill:none\" points=\"1574.47,1379.86 1840.69,1379.86 1840.69,1224.34 1574.47,1224.34 1574.47,1379.86 \"/>\n",
       "<circle clip-path=\"url(#clip700)\" cx=\"1671.3\" cy=\"1276.18\" r=\"20.48\" fill=\"#009af9\" fill-rule=\"evenodd\" fill-opacity=\"0.5\" stroke=\"none\"/>\n",
       "<path clip-path=\"url(#clip700)\" d=\"M1768.12 1258.9 L1772.8 1258.9 L1772.8 1273.06 L1789.79 1273.06 L1789.79 1258.9 L1794.47 1258.9 L1794.47 1293.46 L1789.79 1293.46 L1789.79 1277 L1772.8 1277 L1772.8 1293.46 L1768.12 1293.46 L1768.12 1258.9 Z\" fill=\"#000000\" fill-rule=\"nonzero\" fill-opacity=\"1\" /><path clip-path=\"url(#clip700)\" d=\"M1812.31 1277.79 Q1811.16 1275.79 1808.82 1275.79 Q1806.48 1275.79 1805.32 1277.79 Q1804.14 1279.78 1804.14 1283.76 Q1804.14 1287.76 1805.32 1289.75 Q1806.48 1291.74 1808.82 1291.74 Q1811.16 1291.74 1812.31 1289.75 Q1813.49 1287.76 1813.49 1283.76 Q1813.49 1279.78 1812.31 1277.79 M1808.82 1273.73 Q1812.54 1273.73 1814.51 1276.3 Q1816.48 1278.87 1816.48 1283.76 Q1816.48 1288.66 1814.51 1291.23 Q1812.54 1293.8 1808.82 1293.8 Q1805.07 1293.8 1803.1 1291.23 Q1801.13 1288.66 1801.13 1283.76 Q1801.13 1278.87 1803.1 1276.3 Q1805.07 1273.73 1808.82 1273.73 Z\" fill=\"#000000\" fill-rule=\"nonzero\" fill-opacity=\"1\" /><circle clip-path=\"url(#clip700)\" cx=\"1671.3\" cy=\"1328.02\" r=\"20.48\" fill=\"#e26f46\" fill-rule=\"evenodd\" fill-opacity=\"0.5\" stroke=\"none\"/>\n",
       "<path clip-path=\"url(#clip700)\" d=\"M1768.12 1310.74 L1772.8 1310.74 L1772.8 1324.9 L1789.79 1324.9 L1789.79 1310.74 L1794.47 1310.74 L1794.47 1345.3 L1789.79 1345.3 L1789.79 1328.84 L1772.8 1328.84 L1772.8 1345.3 L1768.12 1345.3 L1768.12 1310.74 Z\" fill=\"#000000\" fill-rule=\"nonzero\" fill-opacity=\"1\" /><path clip-path=\"url(#clip700)\" d=\"M1802.73 1342.75 L1807.45 1342.75 L1807.45 1328.61 L1802.29 1329.56 L1802.29 1326.87 L1807.61 1325.97 L1810.78 1325.97 L1810.78 1342.75 L1815.53 1342.75 L1815.53 1345.3 L1802.73 1345.3 L1802.73 1342.75 Z\" fill=\"#000000\" fill-rule=\"nonzero\" fill-opacity=\"1\" /></svg>\n"
      ],
      "text/html": [
       "<?xml version=\"1.0\" encoding=\"utf-8\"?>\n",
       "<svg xmlns=\"http://www.w3.org/2000/svg\" xmlns:xlink=\"http://www.w3.org/1999/xlink\" width=\"600\" height=\"400\" viewBox=\"0 0 2400 1600\">\n",
       "<defs>\n",
       "  <clipPath id=\"clip750\">\n",
       "    <rect x=\"0\" y=\"0\" width=\"2400\" height=\"1600\"/>\n",
       "  </clipPath>\n",
       "</defs>\n",
       "<path clip-path=\"url(#clip750)\" d=\"M0 1600 L2400 1600 L2400 0 L0 0  Z\" fill=\"#ffffff\" fill-rule=\"evenodd\" fill-opacity=\"1\"/>\n",
       "<defs>\n",
       "  <clipPath id=\"clip751\">\n",
       "    <rect x=\"480\" y=\"0\" width=\"1681\" height=\"1600\"/>\n",
       "  </clipPath>\n",
       "</defs>\n",
       "<path clip-path=\"url(#clip750)\" d=\"M613.599 1423.18 L1913.31 1423.18 L1913.31 123.472 L613.599 123.472  Z\" fill=\"#ffffff\" fill-rule=\"evenodd\" fill-opacity=\"1\"/>\n",
       "<defs>\n",
       "  <clipPath id=\"clip752\">\n",
       "    <rect x=\"613\" y=\"123\" width=\"1301\" height=\"1301\"/>\n",
       "  </clipPath>\n",
       "</defs>\n",
       "<polyline clip-path=\"url(#clip752)\" style=\"stroke:#000000; stroke-linecap:round; stroke-linejoin:round; stroke-width:2; stroke-opacity:0.1; fill:none\" points=\"672.676,1423.18 672.676,123.472 \"/>\n",
       "<polyline clip-path=\"url(#clip752)\" style=\"stroke:#000000; stroke-linecap:round; stroke-linejoin:round; stroke-width:2; stroke-opacity:0.1; fill:none\" points=\"986.931,1423.18 986.931,123.472 \"/>\n",
       "<polyline clip-path=\"url(#clip752)\" style=\"stroke:#000000; stroke-linecap:round; stroke-linejoin:round; stroke-width:2; stroke-opacity:0.1; fill:none\" points=\"1301.19,1423.18 1301.19,123.472 \"/>\n",
       "<polyline clip-path=\"url(#clip752)\" style=\"stroke:#000000; stroke-linecap:round; stroke-linejoin:round; stroke-width:2; stroke-opacity:0.1; fill:none\" points=\"1615.44,1423.18 1615.44,123.472 \"/>\n",
       "<polyline clip-path=\"url(#clip750)\" style=\"stroke:#000000; stroke-linecap:round; stroke-linejoin:round; stroke-width:4; stroke-opacity:1; fill:none\" points=\"613.599,1423.18 1913.31,1423.18 \"/>\n",
       "<polyline clip-path=\"url(#clip750)\" style=\"stroke:#000000; stroke-linecap:round; stroke-linejoin:round; stroke-width:4; stroke-opacity:1; fill:none\" points=\"672.676,1423.18 672.676,1404.28 \"/>\n",
       "<polyline clip-path=\"url(#clip750)\" style=\"stroke:#000000; stroke-linecap:round; stroke-linejoin:round; stroke-width:4; stroke-opacity:1; fill:none\" points=\"986.931,1423.18 986.931,1404.28 \"/>\n",
       "<polyline clip-path=\"url(#clip750)\" style=\"stroke:#000000; stroke-linecap:round; stroke-linejoin:round; stroke-width:4; stroke-opacity:1; fill:none\" points=\"1301.19,1423.18 1301.19,1404.28 \"/>\n",
       "<polyline clip-path=\"url(#clip750)\" style=\"stroke:#000000; stroke-linecap:round; stroke-linejoin:round; stroke-width:4; stroke-opacity:1; fill:none\" points=\"1615.44,1423.18 1615.44,1404.28 \"/>\n",
       "<path clip-path=\"url(#clip750)\" d=\"M672.676 1454.1 Q669.065 1454.1 667.236 1457.66 Q665.431 1461.2 665.431 1468.33 Q665.431 1475.44 667.236 1479.01 Q669.065 1482.55 672.676 1482.55 Q676.31 1482.55 678.116 1479.01 Q679.945 1475.44 679.945 1468.33 Q679.945 1461.2 678.116 1457.66 Q676.31 1454.1 672.676 1454.1 M672.676 1450.39 Q678.486 1450.39 681.542 1455 Q684.621 1459.58 684.621 1468.33 Q684.621 1477.06 681.542 1481.67 Q678.486 1486.25 672.676 1486.25 Q666.866 1486.25 663.787 1481.67 Q660.732 1477.06 660.732 1468.33 Q660.732 1459.58 663.787 1455 Q666.866 1450.39 672.676 1450.39 Z\" fill=\"#000000\" fill-rule=\"nonzero\" fill-opacity=\"1\" /><path clip-path=\"url(#clip750)\" d=\"M977.313 1481.64 L984.952 1481.64 L984.952 1455.28 L976.642 1456.95 L976.642 1452.69 L984.906 1451.02 L989.582 1451.02 L989.582 1481.64 L997.22 1481.64 L997.22 1485.58 L977.313 1485.58 L977.313 1481.64 Z\" fill=\"#000000\" fill-rule=\"nonzero\" fill-opacity=\"1\" /><path clip-path=\"url(#clip750)\" d=\"M1295.84 1481.64 L1312.16 1481.64 L1312.16 1485.58 L1290.21 1485.58 L1290.21 1481.64 Q1292.88 1478.89 1297.46 1474.26 Q1302.07 1469.61 1303.25 1468.27 Q1305.49 1465.74 1306.37 1464.01 Q1307.27 1462.25 1307.27 1460.56 Q1307.27 1457.8 1305.33 1456.07 Q1303.41 1454.33 1300.31 1454.33 Q1298.11 1454.33 1295.65 1455.09 Q1293.22 1455.86 1290.45 1457.41 L1290.45 1452.69 Q1293.27 1451.55 1295.72 1450.97 Q1298.18 1450.39 1300.21 1450.39 Q1305.58 1450.39 1308.78 1453.08 Q1311.97 1455.77 1311.97 1460.26 Q1311.97 1462.39 1311.16 1464.31 Q1310.38 1466.2 1308.27 1468.8 Q1307.69 1469.47 1304.59 1472.69 Q1301.49 1475.88 1295.84 1481.64 Z\" fill=\"#000000\" fill-rule=\"nonzero\" fill-opacity=\"1\" /><path clip-path=\"url(#clip750)\" d=\"M1619.69 1466.95 Q1623.05 1467.66 1624.92 1469.93 Q1626.82 1472.2 1626.82 1475.53 Q1626.82 1480.65 1623.3 1483.45 Q1619.78 1486.25 1613.3 1486.25 Q1611.12 1486.25 1608.81 1485.81 Q1606.52 1485.39 1604.06 1484.54 L1604.06 1480.02 Q1606.01 1481.16 1608.32 1481.74 Q1610.64 1482.32 1613.16 1482.32 Q1617.56 1482.32 1619.85 1480.58 Q1622.17 1478.84 1622.17 1475.53 Q1622.17 1472.48 1620.01 1470.77 Q1617.88 1469.03 1614.06 1469.03 L1610.04 1469.03 L1610.04 1465.19 L1614.25 1465.19 Q1617.7 1465.19 1619.53 1463.82 Q1621.36 1462.43 1621.36 1459.84 Q1621.36 1457.18 1619.46 1455.77 Q1617.58 1454.33 1614.06 1454.33 Q1612.14 1454.33 1609.94 1454.75 Q1607.74 1455.16 1605.11 1456.04 L1605.11 1451.88 Q1607.77 1451.14 1610.08 1450.77 Q1612.42 1450.39 1614.48 1450.39 Q1619.8 1450.39 1622.91 1452.83 Q1626.01 1455.23 1626.01 1459.35 Q1626.01 1462.22 1624.36 1464.21 Q1622.72 1466.18 1619.69 1466.95 Z\" fill=\"#000000\" fill-rule=\"nonzero\" fill-opacity=\"1\" /><path clip-path=\"url(#clip750)\" d=\"M1218.42 1550.25 Q1218.42 1543.79 1215.74 1540.13 Q1213.1 1536.44 1208.45 1536.44 Q1203.81 1536.44 1201.13 1540.13 Q1198.49 1543.79 1198.49 1550.25 Q1198.49 1556.71 1201.13 1560.4 Q1203.81 1564.07 1208.45 1564.07 Q1213.1 1564.07 1215.74 1560.4 Q1218.42 1556.71 1218.42 1550.25 M1198.49 1537.81 Q1200.34 1534.62 1203.14 1533.1 Q1205.97 1531.54 1209.88 1531.54 Q1216.38 1531.54 1220.42 1536.69 Q1224.49 1541.85 1224.49 1550.25 Q1224.49 1558.65 1220.42 1563.81 Q1216.38 1568.97 1209.88 1568.97 Q1205.97 1568.97 1203.14 1567.44 Q1200.34 1565.88 1198.49 1562.7 L1198.49 1568.04 L1192.6 1568.04 L1192.6 1518.52 L1198.49 1518.52 L1198.49 1537.81 Z\" fill=\"#000000\" fill-rule=\"nonzero\" fill-opacity=\"1\" /><path clip-path=\"url(#clip750)\" d=\"M1234.2 1532.4 L1240.06 1532.4 L1240.06 1568.04 L1234.2 1568.04 L1234.2 1532.4 M1234.2 1518.52 L1240.06 1518.52 L1240.06 1525.93 L1234.2 1525.93 L1234.2 1518.52 Z\" fill=\"#000000\" fill-rule=\"nonzero\" fill-opacity=\"1\" /><path clip-path=\"url(#clip750)\" d=\"M1272.97 1537.87 Q1271.98 1537.3 1270.8 1537.04 Q1269.66 1536.76 1268.26 1536.76 Q1263.29 1536.76 1260.62 1540 Q1257.98 1543.22 1257.98 1549.27 L1257.98 1568.04 L1252.09 1568.04 L1252.09 1532.4 L1257.98 1532.4 L1257.98 1537.93 Q1259.82 1534.69 1262.78 1533.13 Q1265.74 1531.54 1269.98 1531.54 Q1270.58 1531.54 1271.31 1531.63 Q1272.05 1531.7 1272.94 1531.85 L1272.97 1537.87 Z\" fill=\"#000000\" fill-rule=\"nonzero\" fill-opacity=\"1\" /><path clip-path=\"url(#clip750)\" d=\"M1284.9 1522.27 L1284.9 1532.4 L1296.97 1532.4 L1296.97 1536.95 L1284.9 1536.95 L1284.9 1556.3 Q1284.9 1560.66 1286.08 1561.9 Q1287.29 1563.14 1290.95 1563.14 L1296.97 1563.14 L1296.97 1568.04 L1290.95 1568.04 Q1284.17 1568.04 1281.59 1565.53 Q1279.02 1562.98 1279.02 1556.3 L1279.02 1536.95 L1274.72 1536.95 L1274.72 1532.4 L1279.02 1532.4 L1279.02 1522.27 L1284.9 1522.27 Z\" fill=\"#000000\" fill-rule=\"nonzero\" fill-opacity=\"1\" /><path clip-path=\"url(#clip750)\" d=\"M1334.3 1546.53 L1334.3 1568.04 L1328.45 1568.04 L1328.45 1546.72 Q1328.45 1541.66 1326.47 1539.14 Q1324.5 1536.63 1320.55 1536.63 Q1315.81 1536.63 1313.07 1539.65 Q1310.34 1542.68 1310.34 1547.9 L1310.34 1568.04 L1304.45 1568.04 L1304.45 1518.52 L1310.34 1518.52 L1310.34 1537.93 Q1312.44 1534.72 1315.27 1533.13 Q1318.13 1531.54 1321.86 1531.54 Q1328 1531.54 1331.15 1535.36 Q1334.3 1539.14 1334.3 1546.53 Z\" fill=\"#000000\" fill-rule=\"nonzero\" fill-opacity=\"1\" /><polyline clip-path=\"url(#clip752)\" style=\"stroke:#000000; stroke-linecap:round; stroke-linejoin:round; stroke-width:2; stroke-opacity:0.1; fill:none\" points=\"613.599,1364.1 1913.31,1364.1 \"/>\n",
       "<polyline clip-path=\"url(#clip752)\" style=\"stroke:#000000; stroke-linecap:round; stroke-linejoin:round; stroke-width:2; stroke-opacity:0.1; fill:none\" points=\"613.599,1049.85 1913.31,1049.85 \"/>\n",
       "<polyline clip-path=\"url(#clip752)\" style=\"stroke:#000000; stroke-linecap:round; stroke-linejoin:round; stroke-width:2; stroke-opacity:0.1; fill:none\" points=\"613.599,735.592 1913.31,735.592 \"/>\n",
       "<polyline clip-path=\"url(#clip752)\" style=\"stroke:#000000; stroke-linecap:round; stroke-linejoin:round; stroke-width:2; stroke-opacity:0.1; fill:none\" points=\"613.599,421.338 1913.31,421.338 \"/>\n",
       "<polyline clip-path=\"url(#clip750)\" style=\"stroke:#000000; stroke-linecap:round; stroke-linejoin:round; stroke-width:4; stroke-opacity:1; fill:none\" points=\"613.599,1423.18 613.599,123.472 \"/>\n",
       "<polyline clip-path=\"url(#clip750)\" style=\"stroke:#000000; stroke-linecap:round; stroke-linejoin:round; stroke-width:4; stroke-opacity:1; fill:none\" points=\"613.599,1364.1 624.872,1364.1 \"/>\n",
       "<polyline clip-path=\"url(#clip750)\" style=\"stroke:#000000; stroke-linecap:round; stroke-linejoin:round; stroke-width:4; stroke-opacity:1; fill:none\" points=\"613.599,1049.85 624.872,1049.85 \"/>\n",
       "<polyline clip-path=\"url(#clip750)\" style=\"stroke:#000000; stroke-linecap:round; stroke-linejoin:round; stroke-width:4; stroke-opacity:1; fill:none\" points=\"613.599,735.592 624.872,735.592 \"/>\n",
       "<polyline clip-path=\"url(#clip750)\" style=\"stroke:#000000; stroke-linecap:round; stroke-linejoin:round; stroke-width:4; stroke-opacity:1; fill:none\" points=\"613.599,421.338 624.872,421.338 \"/>\n",
       "<path clip-path=\"url(#clip750)\" d=\"M565.654 1349.9 Q562.043 1349.9 560.214 1353.47 Q558.409 1357.01 558.409 1364.14 Q558.409 1371.24 560.214 1374.81 Q562.043 1378.35 565.654 1378.35 Q569.288 1378.35 571.094 1374.81 Q572.923 1371.24 572.923 1364.14 Q572.923 1357.01 571.094 1353.47 Q569.288 1349.9 565.654 1349.9 M565.654 1346.2 Q571.464 1346.2 574.52 1350.8 Q577.599 1355.39 577.599 1364.14 Q577.599 1372.86 574.52 1377.47 Q571.464 1382.05 565.654 1382.05 Q559.844 1382.05 556.765 1377.47 Q553.71 1372.86 553.71 1364.14 Q553.71 1355.39 556.765 1350.8 Q559.844 1346.2 565.654 1346.2 Z\" fill=\"#000000\" fill-rule=\"nonzero\" fill-opacity=\"1\" /><path clip-path=\"url(#clip750)\" d=\"M557.691 1063.19 L565.33 1063.19 L565.33 1036.83 L557.02 1038.49 L557.02 1034.23 L565.284 1032.57 L569.96 1032.57 L569.96 1063.19 L577.599 1063.19 L577.599 1067.13 L557.691 1067.13 L557.691 1063.19 Z\" fill=\"#000000\" fill-rule=\"nonzero\" fill-opacity=\"1\" /><path clip-path=\"url(#clip750)\" d=\"M561.279 748.937 L577.599 748.937 L577.599 752.872 L555.654 752.872 L555.654 748.937 Q558.316 746.183 562.9 741.553 Q567.506 736.9 568.687 735.558 Q570.932 733.035 571.812 731.298 Q572.714 729.539 572.714 727.849 Q572.714 725.095 570.77 723.359 Q568.849 721.623 565.747 721.623 Q563.548 721.623 561.094 722.386 Q558.663 723.15 555.886 724.701 L555.886 719.979 Q558.71 718.845 561.163 718.266 Q563.617 717.687 565.654 717.687 Q571.025 717.687 574.219 720.373 Q577.413 723.058 577.413 727.548 Q577.413 729.678 576.603 731.599 Q575.816 733.498 573.71 736.09 Q573.131 736.761 570.029 739.979 Q566.927 743.173 561.279 748.937 Z\" fill=\"#000000\" fill-rule=\"nonzero\" fill-opacity=\"1\" /><path clip-path=\"url(#clip750)\" d=\"M570.469 419.983 Q573.825 420.701 575.7 422.969 Q577.599 425.238 577.599 428.571 Q577.599 433.687 574.08 436.488 Q570.562 439.289 564.08 439.289 Q561.904 439.289 559.589 438.849 Q557.298 438.432 554.844 437.576 L554.844 433.062 Q556.788 434.196 559.103 434.775 Q561.418 435.354 563.941 435.354 Q568.339 435.354 570.631 433.618 Q572.946 431.881 572.946 428.571 Q572.946 425.516 570.793 423.803 Q568.663 422.067 564.844 422.067 L560.816 422.067 L560.816 418.224 L565.029 418.224 Q568.478 418.224 570.307 416.858 Q572.136 415.469 572.136 412.877 Q572.136 410.215 570.237 408.803 Q568.362 407.368 564.844 407.368 Q562.923 407.368 560.724 407.784 Q558.525 408.201 555.886 409.081 L555.886 404.914 Q558.548 404.173 560.863 403.803 Q563.2 403.433 565.261 403.433 Q570.585 403.433 573.687 405.863 Q576.788 408.27 576.788 412.391 Q576.788 415.261 575.145 417.252 Q573.501 419.219 570.469 419.983 Z\" fill=\"#000000\" fill-rule=\"nonzero\" fill-opacity=\"1\" /><path clip-path=\"url(#clip750)\" d=\"M473.217 836.903 L453.929 836.903 L453.929 831.047 L503.454 831.047 L503.454 836.903 L498.107 836.903 Q501.289 838.75 502.849 841.582 Q504.377 844.383 504.377 848.33 Q504.377 854.791 499.221 858.865 Q494.064 862.907 485.662 862.907 Q477.259 862.907 472.103 858.865 Q466.946 854.791 466.946 848.33 Q466.946 844.383 468.506 841.582 Q470.034 838.75 473.217 836.903 M485.662 856.86 Q492.123 856.86 495.815 854.218 Q499.475 851.545 499.475 846.898 Q499.475 842.251 495.815 839.577 Q492.123 836.903 485.662 836.903 Q479.2 836.903 475.54 839.577 Q471.848 842.251 471.848 846.898 Q471.848 851.545 475.54 854.218 Q479.2 856.86 485.662 856.86 Z\" fill=\"#000000\" fill-rule=\"nonzero\" fill-opacity=\"1\" /><path clip-path=\"url(#clip750)\" d=\"M484.166 788.492 L487.03 788.492 L487.03 815.419 Q493.078 815.037 496.261 811.791 Q499.412 808.512 499.412 802.688 Q499.412 799.314 498.584 796.163 Q497.756 792.98 496.101 789.861 L501.64 789.861 Q502.976 793.012 503.677 796.322 Q504.377 799.632 504.377 803.038 Q504.377 811.568 499.412 816.565 Q494.446 821.53 485.98 821.53 Q477.227 821.53 472.103 816.82 Q466.946 812.077 466.946 804.056 Q466.946 796.863 471.593 792.694 Q476.209 788.492 484.166 788.492 M482.447 794.349 Q477.641 794.412 474.776 797.054 Q471.912 799.664 471.912 803.993 Q471.912 808.894 474.681 811.854 Q477.45 814.783 482.479 815.228 L482.447 794.349 Z\" fill=\"#000000\" fill-rule=\"nonzero\" fill-opacity=\"1\" /><path clip-path=\"url(#clip750)\" d=\"M485.534 762.679 Q485.534 769.777 487.158 772.514 Q488.781 775.252 492.696 775.252 Q495.815 775.252 497.661 773.215 Q499.475 771.146 499.475 767.613 Q499.475 762.743 496.038 759.815 Q492.568 756.855 486.839 756.855 L485.534 756.855 L485.534 762.679 M483.115 750.998 L503.454 750.998 L503.454 756.855 L498.043 756.855 Q501.289 758.86 502.849 761.852 Q504.377 764.844 504.377 769.172 Q504.377 774.647 501.321 777.893 Q498.234 781.108 493.078 781.108 Q487.062 781.108 484.007 777.098 Q480.951 773.055 480.951 765.066 L480.951 756.855 L480.378 756.855 Q476.336 756.855 474.14 759.528 Q471.912 762.17 471.912 766.976 Q471.912 770.032 472.644 772.928 Q473.376 775.825 474.84 778.498 L469.429 778.498 Q468.188 775.283 467.583 772.26 Q466.946 769.236 466.946 766.371 Q466.946 758.637 470.957 754.818 Q474.967 750.998 483.115 750.998 Z\" fill=\"#000000\" fill-rule=\"nonzero\" fill-opacity=\"1\" /><path clip-path=\"url(#clip750)\" d=\"M457.684 733.142 L467.806 733.142 L467.806 721.079 L472.357 721.079 L472.357 733.142 L491.709 733.142 Q496.07 733.142 497.311 731.965 Q498.552 730.755 498.552 727.095 L498.552 721.079 L503.454 721.079 L503.454 727.095 Q503.454 733.875 500.939 736.453 Q498.393 739.031 491.709 739.031 L472.357 739.031 L472.357 743.328 L467.806 743.328 L467.806 739.031 L457.684 739.031 L457.684 733.142 Z\" fill=\"#000000\" fill-rule=\"nonzero\" fill-opacity=\"1\" /><path clip-path=\"url(#clip750)\" d=\"M481.938 683.745 L503.454 683.745 L503.454 689.601 L482.129 689.601 Q477.068 689.601 474.553 691.574 Q472.039 693.548 472.039 697.495 Q472.039 702.237 475.063 704.974 Q478.086 707.711 483.306 707.711 L503.454 707.711 L503.454 713.6 L453.929 713.6 L453.929 707.711 L473.344 707.711 Q470.129 705.611 468.538 702.778 Q466.946 699.913 466.946 696.19 Q466.946 690.047 470.766 686.896 Q474.553 683.745 481.938 683.745 Z\" fill=\"#000000\" fill-rule=\"nonzero\" fill-opacity=\"1\" /><path clip-path=\"url(#clip750)\" d=\"M850.686 18.8205 L850.686 41.5461 L860.975 41.5461 Q866.687 41.5461 869.806 38.5889 Q872.925 35.6318 872.925 30.163 Q872.925 24.7348 869.806 21.7777 Q866.687 18.8205 860.975 18.8205 L850.686 18.8205 M842.503 12.096 L860.975 12.096 Q871.143 12.096 876.328 16.714 Q881.553 21.2916 881.553 30.163 Q881.553 39.1155 876.328 43.6931 Q871.143 48.2706 860.975 48.2706 L850.686 48.2706 L850.686 72.576 L842.503 72.576 L842.503 12.096 Z\" fill=\"#000000\" fill-rule=\"nonzero\" fill-opacity=\"1\" /><path clip-path=\"url(#clip750)\" d=\"M928.058 48.0275 L928.058 51.6733 L893.787 51.6733 Q894.273 59.3701 898.405 63.421 Q902.578 67.4314 909.991 67.4314 Q914.285 67.4314 918.295 66.3781 Q922.346 65.3249 926.316 63.2184 L926.316 70.267 Q922.306 71.9684 918.093 72.8596 Q913.88 73.7508 909.545 73.7508 Q898.689 73.7508 892.329 67.4314 Q886.009 61.1119 886.009 50.3365 Q886.009 39.1965 892.005 32.6746 Q898.041 26.1121 908.249 26.1121 Q917.404 26.1121 922.711 32.0264 Q928.058 37.9003 928.058 48.0275 M920.604 45.84 Q920.523 39.7232 917.161 36.0774 Q913.839 32.4315 908.33 32.4315 Q902.092 32.4315 898.324 35.9558 Q894.597 39.4801 894.03 45.8805 L920.604 45.84 Z\" fill=\"#000000\" fill-rule=\"nonzero\" fill-opacity=\"1\" /><path clip-path=\"url(#clip750)\" d=\"M966.582 34.1734 Q965.326 33.4443 963.827 33.1202 Q962.369 32.7556 960.587 32.7556 Q954.267 32.7556 950.864 36.8875 Q947.502 40.9789 947.502 48.6757 L947.502 72.576 L940.008 72.576 L940.008 27.2059 L947.502 27.2059 L947.502 34.2544 Q949.852 30.1225 953.619 28.1376 Q957.386 26.1121 962.774 26.1121 Q963.544 26.1121 964.475 26.2337 Q965.407 26.3147 966.541 26.5172 L966.582 34.1734 Z\" fill=\"#000000\" fill-rule=\"nonzero\" fill-opacity=\"1\" /><path clip-path=\"url(#clip750)\" d=\"M1003.32 28.5427 L1003.32 35.5912 Q1000.16 33.9709 996.761 33.1607 Q993.358 32.3505 989.713 32.3505 Q984.163 32.3505 981.368 34.0519 Q978.613 35.7533 978.613 39.156 Q978.613 41.7486 980.598 43.2475 Q982.583 44.7058 988.578 46.0426 L991.13 46.6097 Q999.07 48.3111 1002.39 51.4303 Q1005.75 54.509 1005.75 60.0587 Q1005.75 66.3781 1000.73 70.0644 Q995.748 73.7508 986.998 73.7508 Q983.353 73.7508 979.383 73.0216 Q975.453 72.3329 971.078 70.9151 L971.078 63.2184 Q975.21 65.3654 979.221 66.4591 Q983.231 67.5124 987.16 67.5124 Q992.427 67.5124 995.262 65.73 Q998.098 63.9071 998.098 60.6258 Q998.098 57.5877 996.032 55.9673 Q994.007 54.3469 987.079 52.8481 L984.487 52.2405 Q977.56 50.7821 974.481 47.7845 Q971.402 44.7463 971.402 39.4801 Q971.402 33.0797 975.939 29.5959 Q980.476 26.1121 988.821 26.1121 Q992.953 26.1121 996.599 26.7198 Q1000.24 27.3274 1003.32 28.5427 Z\" fill=\"#000000\" fill-rule=\"nonzero\" fill-opacity=\"1\" /><path clip-path=\"url(#clip750)\" d=\"M1017.62 27.2059 L1025.08 27.2059 L1025.08 72.576 L1017.62 72.576 L1017.62 27.2059 M1017.62 9.54393 L1025.08 9.54393 L1025.08 18.9825 L1017.62 18.9825 L1017.62 9.54393 Z\" fill=\"#000000\" fill-rule=\"nonzero\" fill-opacity=\"1\" /><path clip-path=\"url(#clip750)\" d=\"M1069.6 28.5427 L1069.6 35.5912 Q1066.44 33.9709 1063.03 33.1607 Q1059.63 32.3505 1055.99 32.3505 Q1050.44 32.3505 1047.64 34.0519 Q1044.89 35.7533 1044.89 39.156 Q1044.89 41.7486 1046.87 43.2475 Q1048.86 44.7058 1054.85 46.0426 L1057.4 46.6097 Q1065.34 48.3111 1068.66 51.4303 Q1072.03 54.509 1072.03 60.0587 Q1072.03 66.3781 1067 70.0644 Q1062.02 73.7508 1053.27 73.7508 Q1049.63 73.7508 1045.66 73.0216 Q1041.73 72.3329 1037.35 70.9151 L1037.35 63.2184 Q1041.48 65.3654 1045.49 66.4591 Q1049.5 67.5124 1053.43 67.5124 Q1058.7 67.5124 1061.54 65.73 Q1064.37 63.9071 1064.37 60.6258 Q1064.37 57.5877 1062.3 55.9673 Q1060.28 54.3469 1053.35 52.8481 L1050.76 52.2405 Q1043.83 50.7821 1040.75 47.7845 Q1037.68 44.7463 1037.68 39.4801 Q1037.68 33.0797 1042.21 29.5959 Q1046.75 26.1121 1055.09 26.1121 Q1059.23 26.1121 1062.87 26.7198 Q1066.52 27.3274 1069.6 28.5427 Z\" fill=\"#000000\" fill-rule=\"nonzero\" fill-opacity=\"1\" /><path clip-path=\"url(#clip750)\" d=\"M1091.27 14.324 L1091.27 27.2059 L1106.62 27.2059 L1106.62 32.9987 L1091.27 32.9987 L1091.27 57.6282 Q1091.27 63.1779 1092.77 64.7578 Q1094.31 66.3376 1098.97 66.3376 L1106.62 66.3376 L1106.62 72.576 L1098.97 72.576 Q1090.34 72.576 1087.06 69.3758 Q1083.77 66.1351 1083.77 57.6282 L1083.77 32.9987 L1078.31 32.9987 L1078.31 27.2059 L1083.77 27.2059 L1083.77 14.324 L1091.27 14.324 Z\" fill=\"#000000\" fill-rule=\"nonzero\" fill-opacity=\"1\" /><path clip-path=\"url(#clip750)\" d=\"M1155.23 48.0275 L1155.23 51.6733 L1120.96 51.6733 Q1121.45 59.3701 1125.58 63.421 Q1129.75 67.4314 1137.17 67.4314 Q1141.46 67.4314 1145.47 66.3781 Q1149.52 65.3249 1153.49 63.2184 L1153.49 70.267 Q1149.48 71.9684 1145.27 72.8596 Q1141.05 73.7508 1136.72 73.7508 Q1125.86 73.7508 1119.5 67.4314 Q1113.18 61.1119 1113.18 50.3365 Q1113.18 39.1965 1119.18 32.6746 Q1125.22 26.1121 1135.42 26.1121 Q1144.58 26.1121 1149.89 32.0264 Q1155.23 37.9003 1155.23 48.0275 M1147.78 45.84 Q1147.7 39.7232 1144.34 36.0774 Q1141.01 32.4315 1135.5 32.4315 Q1129.27 32.4315 1125.5 35.9558 Q1121.77 39.4801 1121.2 45.8805 L1147.78 45.84 Z\" fill=\"#000000\" fill-rule=\"nonzero\" fill-opacity=\"1\" /><path clip-path=\"url(#clip750)\" d=\"M1205.18 45.1919 L1205.18 72.576 L1197.73 72.576 L1197.73 45.4349 Q1197.73 38.994 1195.21 35.7938 Q1192.7 32.5936 1187.68 32.5936 Q1181.64 32.5936 1178.16 36.4419 Q1174.68 40.2903 1174.68 46.9338 L1174.68 72.576 L1167.18 72.576 L1167.18 27.2059 L1174.68 27.2059 L1174.68 34.2544 Q1177.35 30.163 1180.96 28.1376 Q1184.6 26.1121 1189.34 26.1121 Q1197.16 26.1121 1201.17 30.9732 Q1205.18 35.7938 1205.18 45.1919 Z\" fill=\"#000000\" fill-rule=\"nonzero\" fill-opacity=\"1\" /><path clip-path=\"url(#clip750)\" d=\"M1252.7 28.9478 L1252.7 35.9153 Q1249.54 34.1734 1246.34 33.3227 Q1243.18 32.4315 1239.94 32.4315 Q1232.69 32.4315 1228.68 37.0496 Q1224.67 41.6271 1224.67 49.9314 Q1224.67 58.2358 1228.68 62.8538 Q1232.69 67.4314 1239.94 67.4314 Q1243.18 67.4314 1246.34 66.5807 Q1249.54 65.6895 1252.7 63.9476 L1252.7 70.8341 Q1249.58 72.2924 1246.22 73.0216 Q1242.89 73.7508 1239.13 73.7508 Q1228.88 73.7508 1222.84 67.3098 Q1216.81 60.8689 1216.81 49.9314 Q1216.81 38.832 1222.88 32.472 Q1229 26.1121 1239.61 26.1121 Q1243.06 26.1121 1246.34 26.8413 Q1249.62 27.5299 1252.7 28.9478 Z\" fill=\"#000000\" fill-rule=\"nonzero\" fill-opacity=\"1\" /><path clip-path=\"url(#clip750)\" d=\"M1304.47 48.0275 L1304.47 51.6733 L1270.2 51.6733 Q1270.68 59.3701 1274.82 63.421 Q1278.99 67.4314 1286.4 67.4314 Q1290.69 67.4314 1294.71 66.3781 Q1298.76 65.3249 1302.73 63.2184 L1302.73 70.267 Q1298.72 71.9684 1294.5 72.8596 Q1290.29 73.7508 1285.96 73.7508 Q1275.1 73.7508 1268.74 67.4314 Q1262.42 61.1119 1262.42 50.3365 Q1262.42 39.1965 1268.41 32.6746 Q1274.45 26.1121 1284.66 26.1121 Q1293.81 26.1121 1299.12 32.0264 Q1304.47 37.9003 1304.47 48.0275 M1297.01 45.84 Q1296.93 39.7232 1293.57 36.0774 Q1290.25 32.4315 1284.74 32.4315 Q1278.5 32.4315 1274.73 35.9558 Q1271.01 39.4801 1270.44 45.8805 L1297.01 45.84 Z\" fill=\"#000000\" fill-rule=\"nonzero\" fill-opacity=\"1\" /><path clip-path=\"url(#clip750)\" d=\"M1351.58 18.8205 L1351.58 65.8515 L1361.46 65.8515 Q1373.98 65.8515 1379.77 60.1802 Q1385.61 54.509 1385.61 42.2752 Q1385.61 30.1225 1379.77 24.4918 Q1373.98 18.8205 1361.46 18.8205 L1351.58 18.8205 M1343.4 12.096 L1360.21 12.096 Q1377.79 12.096 1386.01 19.4281 Q1394.24 26.7198 1394.24 42.2752 Q1394.24 57.9117 1385.97 65.2439 Q1377.71 72.576 1360.21 72.576 L1343.4 72.576 L1343.4 12.096 Z\" fill=\"#000000\" fill-rule=\"nonzero\" fill-opacity=\"1\" /><path clip-path=\"url(#clip750)\" d=\"M1406.96 27.2059 L1414.41 27.2059 L1414.41 72.576 L1406.96 72.576 L1406.96 27.2059 M1406.96 9.54393 L1414.41 9.54393 L1414.41 18.9825 L1406.96 18.9825 L1406.96 9.54393 Z\" fill=\"#000000\" fill-rule=\"nonzero\" fill-opacity=\"1\" /><path clip-path=\"url(#clip750)\" d=\"M1450.62 49.7694 Q1441.59 49.7694 1438.11 51.8354 Q1434.62 53.9013 1434.62 58.8839 Q1434.62 62.8538 1437.22 65.2034 Q1439.85 67.5124 1444.35 67.5124 Q1450.54 67.5124 1454.27 63.1374 Q1458.04 58.7219 1458.04 51.4303 L1458.04 49.7694 L1450.62 49.7694 M1465.49 46.6907 L1465.49 72.576 L1458.04 72.576 L1458.04 65.6895 Q1455.49 69.8214 1451.68 71.8063 Q1447.87 73.7508 1442.36 73.7508 Q1435.39 73.7508 1431.26 69.8619 Q1427.17 65.9325 1427.17 59.3701 Q1427.17 51.7138 1432.27 47.825 Q1437.42 43.9361 1447.59 43.9361 L1458.04 43.9361 L1458.04 43.2069 Q1458.04 38.0623 1454.63 35.2672 Q1451.27 32.4315 1445.16 32.4315 Q1441.27 32.4315 1437.58 33.3632 Q1433.89 34.295 1430.49 36.1584 L1430.49 29.2718 Q1434.58 27.692 1438.43 26.9223 Q1442.28 26.1121 1445.93 26.1121 Q1455.77 26.1121 1460.63 31.2163 Q1465.49 36.3204 1465.49 46.6907 Z\" fill=\"#000000\" fill-rule=\"nonzero\" fill-opacity=\"1\" /><path clip-path=\"url(#clip750)\" d=\"M1510.7 49.3643 Q1510.7 41.2625 1507.34 36.8065 Q1504.02 32.3505 1497.98 32.3505 Q1491.98 32.3505 1488.62 36.8065 Q1485.3 41.2625 1485.3 49.3643 Q1485.3 57.4256 1488.62 61.8816 Q1491.98 66.3376 1497.98 66.3376 Q1504.02 66.3376 1507.34 61.8816 Q1510.7 57.4256 1510.7 49.3643 M1518.15 66.9452 Q1518.15 78.5308 1513.01 84.1616 Q1507.86 89.8329 1497.25 89.8329 Q1493.32 89.8329 1489.84 89.2252 Q1486.35 88.6581 1483.07 87.4428 L1483.07 80.1917 Q1486.35 81.9741 1489.55 82.8248 Q1492.75 83.6755 1496.08 83.6755 Q1503.41 83.6755 1507.05 79.8271 Q1510.7 76.0193 1510.7 68.282 L1510.7 64.5957 Q1508.39 68.6061 1504.79 70.5911 Q1501.18 72.576 1496.16 72.576 Q1487.81 72.576 1482.71 66.2161 Q1477.6 59.8562 1477.6 49.3643 Q1477.6 38.832 1482.71 32.472 Q1487.81 26.1121 1496.16 26.1121 Q1501.18 26.1121 1504.79 28.0971 Q1508.39 30.082 1510.7 34.0924 L1510.7 27.2059 L1518.15 27.2059 L1518.15 66.9452 Z\" fill=\"#000000\" fill-rule=\"nonzero\" fill-opacity=\"1\" /><path clip-path=\"url(#clip750)\" d=\"M1559.8 34.1734 Q1558.54 33.4443 1557.04 33.1202 Q1555.58 32.7556 1553.8 32.7556 Q1547.48 32.7556 1544.08 36.8875 Q1540.72 40.9789 1540.72 48.6757 L1540.72 72.576 L1533.22 72.576 L1533.22 27.2059 L1540.72 27.2059 L1540.72 34.2544 Q1543.07 30.1225 1546.83 28.1376 Q1550.6 26.1121 1555.99 26.1121 Q1556.76 26.1121 1557.69 26.2337 Q1558.62 26.3147 1559.76 26.5172 L1559.8 34.1734 Z\" fill=\"#000000\" fill-rule=\"nonzero\" fill-opacity=\"1\" /><path clip-path=\"url(#clip750)\" d=\"M1588.23 49.7694 Q1579.2 49.7694 1575.72 51.8354 Q1572.23 53.9013 1572.23 58.8839 Q1572.23 62.8538 1574.83 65.2034 Q1577.46 67.5124 1581.95 67.5124 Q1588.15 67.5124 1591.88 63.1374 Q1595.65 58.7219 1595.65 51.4303 L1595.65 49.7694 L1588.23 49.7694 M1603.1 46.6907 L1603.1 72.576 L1595.65 72.576 L1595.65 65.6895 Q1593.09 69.8214 1589.29 71.8063 Q1585.48 73.7508 1579.97 73.7508 Q1573 73.7508 1568.87 69.8619 Q1564.78 65.9325 1564.78 59.3701 Q1564.78 51.7138 1569.88 47.825 Q1575.03 43.9361 1585.2 43.9361 L1595.65 43.9361 L1595.65 43.2069 Q1595.65 38.0623 1592.24 35.2672 Q1588.88 32.4315 1582.76 32.4315 Q1578.88 32.4315 1575.19 33.3632 Q1571.5 34.295 1568.1 36.1584 L1568.1 29.2718 Q1572.19 27.692 1576.04 26.9223 Q1579.89 26.1121 1583.53 26.1121 Q1593.38 26.1121 1598.24 31.2163 Q1603.1 36.3204 1603.1 46.6907 Z\" fill=\"#000000\" fill-rule=\"nonzero\" fill-opacity=\"1\" /><path clip-path=\"url(#clip750)\" d=\"M1653.78 35.9153 Q1656.57 30.8922 1660.46 28.5022 Q1664.35 26.1121 1669.62 26.1121 Q1676.71 26.1121 1680.55 31.0947 Q1684.4 36.0368 1684.4 45.1919 L1684.4 72.576 L1676.91 72.576 L1676.91 45.4349 Q1676.91 38.913 1674.6 35.7533 Q1672.29 32.5936 1667.55 32.5936 Q1661.76 32.5936 1658.4 36.4419 Q1655.03 40.2903 1655.03 46.9338 L1655.03 72.576 L1647.54 72.576 L1647.54 45.4349 Q1647.54 38.8725 1645.23 35.7533 Q1642.92 32.5936 1638.1 32.5936 Q1632.39 32.5936 1629.03 36.4824 Q1625.66 40.3308 1625.66 46.9338 L1625.66 72.576 L1618.17 72.576 L1618.17 27.2059 L1625.66 27.2059 L1625.66 34.2544 Q1628.22 30.082 1631.78 28.0971 Q1635.35 26.1121 1640.25 26.1121 Q1645.19 26.1121 1648.63 28.6237 Q1652.12 31.1352 1653.78 35.9153 Z\" fill=\"#000000\" fill-rule=\"nonzero\" fill-opacity=\"1\" /><polyline clip-path=\"url(#clip752)\" style=\"stroke:#000000; stroke-linecap:round; stroke-linejoin:round; stroke-width:4; stroke-opacity:1; fill:none\" points=\"613.599,1423.18 622.06,1414.72 700.302,1336.48 747.322,1289.46 787.077,1249.7 830.262,1206.52 870.074,1166.7 912.757,1124.02 962.21,1074.57 1006.16,1030.62 1044.7,992.082 1086.71,950.065 1128.98,907.798 1175.71,861.067 1220.18,816.603 1266.41,770.371 1305.32,731.454 1352.84,683.94 1396.36,640.415 1436.56,600.215 1477.28,559.495 1522.92,513.858 1564.27,472.504 1611.62,425.157 1655.46,381.318 1698.68,338.097 1740.65,296.133 1783.66,253.115 1830.79,205.984 1899.26,137.518 1913.31,123.472 \"/>\n",
       "<polyline clip-path=\"url(#clip752)\" style=\"stroke:#808080; stroke-linecap:round; stroke-linejoin:round; stroke-width:4; stroke-opacity:1; fill:none\" stroke-dasharray=\"2, 4\" points=\"-686.109,182.55 3213.01,182.55 \"/>\n",
       "<circle clip-path=\"url(#clip752)\" cx=\"672.676\" cy=\"1349.62\" r=\"14.4\" fill=\"#009af9\" fill-rule=\"evenodd\" fill-opacity=\"0.5\" stroke=\"none\"/>\n",
       "<circle clip-path=\"url(#clip752)\" cx=\"672.676\" cy=\"1339.56\" r=\"14.4\" fill=\"#009af9\" fill-rule=\"evenodd\" fill-opacity=\"0.5\" stroke=\"none\"/>\n",
       "<circle clip-path=\"url(#clip752)\" cx=\"672.676\" cy=\"1335.13\" r=\"14.4\" fill=\"#009af9\" fill-rule=\"evenodd\" fill-opacity=\"0.5\" stroke=\"none\"/>\n",
       "<circle clip-path=\"url(#clip752)\" cx=\"672.676\" cy=\"1334.46\" r=\"14.4\" fill=\"#009af9\" fill-rule=\"evenodd\" fill-opacity=\"0.5\" stroke=\"none\"/>\n",
       "<circle clip-path=\"url(#clip752)\" cx=\"672.676\" cy=\"1332.64\" r=\"14.4\" fill=\"#009af9\" fill-rule=\"evenodd\" fill-opacity=\"0.5\" stroke=\"none\"/>\n",
       "<circle clip-path=\"url(#clip752)\" cx=\"672.676\" cy=\"1332.52\" r=\"14.4\" fill=\"#009af9\" fill-rule=\"evenodd\" fill-opacity=\"0.5\" stroke=\"none\"/>\n",
       "<circle clip-path=\"url(#clip752)\" cx=\"672.676\" cy=\"1329.53\" r=\"14.4\" fill=\"#009af9\" fill-rule=\"evenodd\" fill-opacity=\"0.5\" stroke=\"none\"/>\n",
       "<circle clip-path=\"url(#clip752)\" cx=\"672.676\" cy=\"1328.27\" r=\"14.4\" fill=\"#009af9\" fill-rule=\"evenodd\" fill-opacity=\"0.5\" stroke=\"none\"/>\n",
       "<circle clip-path=\"url(#clip752)\" cx=\"672.676\" cy=\"1320.08\" r=\"14.4\" fill=\"#009af9\" fill-rule=\"evenodd\" fill-opacity=\"0.5\" stroke=\"none\"/>\n",
       "<circle clip-path=\"url(#clip752)\" cx=\"672.676\" cy=\"1319.44\" r=\"14.4\" fill=\"#009af9\" fill-rule=\"evenodd\" fill-opacity=\"0.5\" stroke=\"none\"/>\n",
       "<circle clip-path=\"url(#clip752)\" cx=\"672.676\" cy=\"1319.11\" r=\"14.4\" fill=\"#009af9\" fill-rule=\"evenodd\" fill-opacity=\"0.5\" stroke=\"none\"/>\n",
       "<circle clip-path=\"url(#clip752)\" cx=\"672.676\" cy=\"1315.01\" r=\"14.4\" fill=\"#009af9\" fill-rule=\"evenodd\" fill-opacity=\"0.5\" stroke=\"none\"/>\n",
       "<circle clip-path=\"url(#clip752)\" cx=\"672.676\" cy=\"1313.72\" r=\"14.4\" fill=\"#009af9\" fill-rule=\"evenodd\" fill-opacity=\"0.5\" stroke=\"none\"/>\n",
       "<circle clip-path=\"url(#clip752)\" cx=\"672.676\" cy=\"1313.43\" r=\"14.4\" fill=\"#009af9\" fill-rule=\"evenodd\" fill-opacity=\"0.5\" stroke=\"none\"/>\n",
       "<circle clip-path=\"url(#clip752)\" cx=\"672.676\" cy=\"1279.54\" r=\"14.4\" fill=\"#009af9\" fill-rule=\"evenodd\" fill-opacity=\"0.5\" stroke=\"none\"/>\n",
       "<circle clip-path=\"url(#clip752)\" cx=\"672.676\" cy=\"1279.2\" r=\"14.4\" fill=\"#009af9\" fill-rule=\"evenodd\" fill-opacity=\"0.5\" stroke=\"none\"/>\n",
       "<circle clip-path=\"url(#clip752)\" cx=\"672.676\" cy=\"1277.68\" r=\"14.4\" fill=\"#009af9\" fill-rule=\"evenodd\" fill-opacity=\"0.5\" stroke=\"none\"/>\n",
       "<circle clip-path=\"url(#clip752)\" cx=\"672.676\" cy=\"1273.62\" r=\"14.4\" fill=\"#009af9\" fill-rule=\"evenodd\" fill-opacity=\"0.5\" stroke=\"none\"/>\n",
       "<circle clip-path=\"url(#clip752)\" cx=\"672.676\" cy=\"1268.32\" r=\"14.4\" fill=\"#009af9\" fill-rule=\"evenodd\" fill-opacity=\"0.5\" stroke=\"none\"/>\n",
       "<circle clip-path=\"url(#clip752)\" cx=\"672.676\" cy=\"1265.47\" r=\"14.4\" fill=\"#009af9\" fill-rule=\"evenodd\" fill-opacity=\"0.5\" stroke=\"none\"/>\n",
       "<circle clip-path=\"url(#clip752)\" cx=\"672.676\" cy=\"1235.87\" r=\"14.4\" fill=\"#009af9\" fill-rule=\"evenodd\" fill-opacity=\"0.5\" stroke=\"none\"/>\n",
       "<circle clip-path=\"url(#clip752)\" cx=\"672.676\" cy=\"1138.07\" r=\"14.4\" fill=\"#009af9\" fill-rule=\"evenodd\" fill-opacity=\"0.5\" stroke=\"none\"/>\n",
       "<circle clip-path=\"url(#clip752)\" cx=\"672.676\" cy=\"1073.61\" r=\"14.4\" fill=\"#009af9\" fill-rule=\"evenodd\" fill-opacity=\"0.5\" stroke=\"none\"/>\n",
       "<circle clip-path=\"url(#clip752)\" cx=\"672.676\" cy=\"948.976\" r=\"14.4\" fill=\"#009af9\" fill-rule=\"evenodd\" fill-opacity=\"0.5\" stroke=\"none\"/>\n",
       "<circle clip-path=\"url(#clip752)\" cx=\"672.676\" cy=\"948.323\" r=\"14.4\" fill=\"#009af9\" fill-rule=\"evenodd\" fill-opacity=\"0.5\" stroke=\"none\"/>\n",
       "<circle clip-path=\"url(#clip752)\" cx=\"672.676\" cy=\"945.718\" r=\"14.4\" fill=\"#009af9\" fill-rule=\"evenodd\" fill-opacity=\"0.5\" stroke=\"none\"/>\n",
       "<circle clip-path=\"url(#clip752)\" cx=\"672.676\" cy=\"182.55\" r=\"14.4\" fill=\"#009af9\" fill-rule=\"evenodd\" fill-opacity=\"0.5\" stroke=\"none\"/>\n",
       "<circle clip-path=\"url(#clip752)\" cx=\"772.758\" cy=\"1238.05\" r=\"14.4\" fill=\"#e26f46\" fill-rule=\"evenodd\" fill-opacity=\"0.5\" stroke=\"none\"/>\n",
       "<path clip-path=\"url(#clip750)\" d=\"M1574.47 1379.86 L1840.69 1379.86 L1840.69 1224.34 L1574.47 1224.34  Z\" fill=\"#ffffff\" fill-rule=\"evenodd\" fill-opacity=\"1\"/>\n",
       "<polyline clip-path=\"url(#clip750)\" style=\"stroke:#000000; stroke-linecap:round; stroke-linejoin:round; stroke-width:4; stroke-opacity:1; fill:none\" points=\"1574.47,1379.86 1840.69,1379.86 1840.69,1224.34 1574.47,1224.34 1574.47,1379.86 \"/>\n",
       "<circle clip-path=\"url(#clip750)\" cx=\"1671.3\" cy=\"1276.18\" r=\"20.48\" fill=\"#009af9\" fill-rule=\"evenodd\" fill-opacity=\"0.5\" stroke=\"none\"/>\n",
       "<path clip-path=\"url(#clip750)\" d=\"M1768.12 1258.9 L1772.8 1258.9 L1772.8 1273.06 L1789.79 1273.06 L1789.79 1258.9 L1794.47 1258.9 L1794.47 1293.46 L1789.79 1293.46 L1789.79 1277 L1772.8 1277 L1772.8 1293.46 L1768.12 1293.46 L1768.12 1258.9 Z\" fill=\"#000000\" fill-rule=\"nonzero\" fill-opacity=\"1\" /><path clip-path=\"url(#clip750)\" d=\"M1812.31 1277.79 Q1811.16 1275.79 1808.82 1275.79 Q1806.48 1275.79 1805.32 1277.79 Q1804.14 1279.78 1804.14 1283.76 Q1804.14 1287.76 1805.32 1289.75 Q1806.48 1291.74 1808.82 1291.74 Q1811.16 1291.74 1812.31 1289.75 Q1813.49 1287.76 1813.49 1283.76 Q1813.49 1279.78 1812.31 1277.79 M1808.82 1273.73 Q1812.54 1273.73 1814.51 1276.3 Q1816.48 1278.87 1816.48 1283.76 Q1816.48 1288.66 1814.51 1291.23 Q1812.54 1293.8 1808.82 1293.8 Q1805.07 1293.8 1803.1 1291.23 Q1801.13 1288.66 1801.13 1283.76 Q1801.13 1278.87 1803.1 1276.3 Q1805.07 1273.73 1808.82 1273.73 Z\" fill=\"#000000\" fill-rule=\"nonzero\" fill-opacity=\"1\" /><circle clip-path=\"url(#clip750)\" cx=\"1671.3\" cy=\"1328.02\" r=\"20.48\" fill=\"#e26f46\" fill-rule=\"evenodd\" fill-opacity=\"0.5\" stroke=\"none\"/>\n",
       "<path clip-path=\"url(#clip750)\" d=\"M1768.12 1310.74 L1772.8 1310.74 L1772.8 1324.9 L1789.79 1324.9 L1789.79 1310.74 L1794.47 1310.74 L1794.47 1345.3 L1789.79 1345.3 L1789.79 1328.84 L1772.8 1328.84 L1772.8 1345.3 L1768.12 1345.3 L1768.12 1310.74 Z\" fill=\"#000000\" fill-rule=\"nonzero\" fill-opacity=\"1\" /><path clip-path=\"url(#clip750)\" d=\"M1802.73 1342.75 L1807.45 1342.75 L1807.45 1328.61 L1802.29 1329.56 L1802.29 1326.87 L1807.61 1325.97 L1810.78 1325.97 L1810.78 1342.75 L1815.53 1342.75 L1815.53 1345.3 L1802.73 1345.3 L1802.73 1342.75 Z\" fill=\"#000000\" fill-rule=\"nonzero\" fill-opacity=\"1\" /></svg>\n"
      ]
     },
     "execution_count": 116,
     "metadata": {},
     "output_type": "execute_result"
    }
   ],
   "source": [
    "plot(result_rips)"
   ]
  },
  {
   "cell_type": "code",
   "execution_count": 117,
   "id": "10e543a9",
   "metadata": {},
   "outputs": [
    {
     "data": {
      "image/png": "[encoded data removed]",
      "image/svg+xml": [
       "<?xml version=\"1.0\" encoding=\"utf-8\"?>\n",
       "<svg xmlns=\"http://www.w3.org/2000/svg\" xmlns:xlink=\"http://www.w3.org/1999/xlink\" width=\"600\" height=\"400\" viewBox=\"0 0 2400 1600\">\n",
       "<defs>\n",
       "  <clipPath id=\"clip790\">\n",
       "    <rect x=\"0\" y=\"0\" width=\"2400\" height=\"1600\"/>\n",
       "  </clipPath>\n",
       "</defs>\n",
       "<path clip-path=\"url(#clip790)\" d=\"M0 1600 L2400 1600 L2400 0 L0 0  Z\" fill=\"#ffffff\" fill-rule=\"evenodd\" fill-opacity=\"1\"/>\n",
       "<defs>\n",
       "  <clipPath id=\"clip791\">\n",
       "    <rect x=\"480\" y=\"0\" width=\"1681\" height=\"1600\"/>\n",
       "  </clipPath>\n",
       "</defs>\n",
       "<path clip-path=\"url(#clip790)\" d=\"M47.2441 1423.18 L1997 1423.18 L1997 123.472 L47.2441 123.472  Z\" fill=\"#ffffff\" fill-rule=\"evenodd\" fill-opacity=\"1\"/>\n",
       "<defs>\n",
       "  <clipPath id=\"clip792\">\n",
       "    <rect x=\"47\" y=\"123\" width=\"1951\" height=\"1301\"/>\n",
       "  </clipPath>\n",
       "</defs>\n",
       "<polyline clip-path=\"url(#clip792)\" style=\"stroke:#000000; stroke-linecap:round; stroke-linejoin:round; stroke-width:2; stroke-opacity:0.1; fill:none\" points=\"102.426,1423.18 102.426,123.472 \"/>\n",
       "<polyline clip-path=\"url(#clip792)\" style=\"stroke:#000000; stroke-linecap:round; stroke-linejoin:round; stroke-width:2; stroke-opacity:0.1; fill:none\" points=\"591.644,1423.18 591.644,123.472 \"/>\n",
       "<polyline clip-path=\"url(#clip792)\" style=\"stroke:#000000; stroke-linecap:round; stroke-linejoin:round; stroke-width:2; stroke-opacity:0.1; fill:none\" points=\"1080.86,1423.18 1080.86,123.472 \"/>\n",
       "<polyline clip-path=\"url(#clip792)\" style=\"stroke:#000000; stroke-linecap:round; stroke-linejoin:round; stroke-width:2; stroke-opacity:0.1; fill:none\" points=\"1570.08,1423.18 1570.08,123.472 \"/>\n",
       "<polyline clip-path=\"url(#clip790)\" style=\"stroke:#000000; stroke-linecap:round; stroke-linejoin:round; stroke-width:4; stroke-opacity:1; fill:none\" points=\"47.2441,1423.18 1997,1423.18 \"/>\n",
       "<polyline clip-path=\"url(#clip790)\" style=\"stroke:#000000; stroke-linecap:round; stroke-linejoin:round; stroke-width:4; stroke-opacity:1; fill:none\" points=\"102.426,1423.18 102.426,1404.28 \"/>\n",
       "<polyline clip-path=\"url(#clip790)\" style=\"stroke:#000000; stroke-linecap:round; stroke-linejoin:round; stroke-width:4; stroke-opacity:1; fill:none\" points=\"591.644,1423.18 591.644,1404.28 \"/>\n",
       "<polyline clip-path=\"url(#clip790)\" style=\"stroke:#000000; stroke-linecap:round; stroke-linejoin:round; stroke-width:4; stroke-opacity:1; fill:none\" points=\"1080.86,1423.18 1080.86,1404.28 \"/>\n",
       "<polyline clip-path=\"url(#clip790)\" style=\"stroke:#000000; stroke-linecap:round; stroke-linejoin:round; stroke-width:4; stroke-opacity:1; fill:none\" points=\"1570.08,1423.18 1570.08,1404.28 \"/>\n",
       "<path clip-path=\"url(#clip790)\" d=\"M102.426 1454.1 Q98.8147 1454.1 96.986 1457.66 Q95.1805 1461.2 95.1805 1468.33 Q95.1805 1475.44 96.986 1479.01 Q98.8147 1482.55 102.426 1482.55 Q106.06 1482.55 107.866 1479.01 Q109.694 1475.44 109.694 1468.33 Q109.694 1461.2 107.866 1457.66 Q106.06 1454.1 102.426 1454.1 M102.426 1450.39 Q108.236 1450.39 111.292 1455 Q114.37 1459.58 114.37 1468.33 Q114.37 1477.06 111.292 1481.67 Q108.236 1486.25 102.426 1486.25 Q96.6157 1486.25 93.537 1481.67 Q90.4814 1477.06 90.4814 1468.33 Q90.4814 1459.58 93.537 1455 Q96.6157 1450.39 102.426 1450.39 Z\" fill=\"#000000\" fill-rule=\"nonzero\" fill-opacity=\"1\" /><path clip-path=\"url(#clip790)\" d=\"M582.026 1481.64 L589.665 1481.64 L589.665 1455.28 L581.355 1456.95 L581.355 1452.69 L589.619 1451.02 L594.295 1451.02 L594.295 1481.64 L601.934 1481.64 L601.934 1485.58 L582.026 1485.58 L582.026 1481.64 Z\" fill=\"#000000\" fill-rule=\"nonzero\" fill-opacity=\"1\" /><path clip-path=\"url(#clip790)\" d=\"M1075.52 1481.64 L1091.84 1481.64 L1091.84 1485.58 L1069.89 1485.58 L1069.89 1481.64 Q1072.55 1478.89 1077.14 1474.26 Q1081.74 1469.61 1082.92 1468.27 Q1085.17 1465.74 1086.05 1464.01 Q1086.95 1462.25 1086.95 1460.56 Q1086.95 1457.8 1085.01 1456.07 Q1083.09 1454.33 1079.98 1454.33 Q1077.78 1454.33 1075.33 1455.09 Q1072.9 1455.86 1070.12 1457.41 L1070.12 1452.69 Q1072.95 1451.55 1075.4 1450.97 Q1077.85 1450.39 1079.89 1450.39 Q1085.26 1450.39 1088.46 1453.08 Q1091.65 1455.77 1091.65 1460.26 Q1091.65 1462.39 1090.84 1464.31 Q1090.05 1466.2 1087.95 1468.8 Q1087.37 1469.47 1084.27 1472.69 Q1081.16 1475.88 1075.52 1481.64 Z\" fill=\"#000000\" fill-rule=\"nonzero\" fill-opacity=\"1\" /><path clip-path=\"url(#clip790)\" d=\"M1574.33 1466.95 Q1577.69 1467.66 1579.56 1469.93 Q1581.46 1472.2 1581.46 1475.53 Q1581.46 1480.65 1577.94 1483.45 Q1574.42 1486.25 1567.94 1486.25 Q1565.76 1486.25 1563.45 1485.81 Q1561.16 1485.39 1558.7 1484.54 L1558.7 1480.02 Q1560.65 1481.16 1562.96 1481.74 Q1565.28 1482.32 1567.8 1482.32 Q1572.2 1482.32 1574.49 1480.58 Q1576.81 1478.84 1576.81 1475.53 Q1576.81 1472.48 1574.65 1470.77 Q1572.52 1469.03 1568.7 1469.03 L1564.68 1469.03 L1564.68 1465.19 L1568.89 1465.19 Q1572.34 1465.19 1574.17 1463.82 Q1576 1462.43 1576 1459.84 Q1576 1457.18 1574.1 1455.77 Q1572.22 1454.33 1568.7 1454.33 Q1566.78 1454.33 1564.58 1454.75 Q1562.39 1455.16 1559.75 1456.04 L1559.75 1451.88 Q1562.41 1451.14 1564.72 1450.77 Q1567.06 1450.39 1569.12 1450.39 Q1574.45 1450.39 1577.55 1452.83 Q1580.65 1455.23 1580.65 1459.35 Q1580.65 1462.22 1579.01 1464.21 Q1577.36 1466.18 1574.33 1466.95 Z\" fill=\"#000000\" fill-rule=\"nonzero\" fill-opacity=\"1\" /><path clip-path=\"url(#clip790)\" d=\"M1021.18 1522.27 L1021.18 1532.4 L1033.25 1532.4 L1033.25 1536.95 L1021.18 1536.95 L1021.18 1556.3 Q1021.18 1560.66 1022.36 1561.9 Q1023.57 1563.14 1027.23 1563.14 L1033.25 1563.14 L1033.25 1568.04 L1027.23 1568.04 Q1020.45 1568.04 1017.87 1565.53 Q1015.29 1562.98 1015.29 1556.3 L1015.29 1536.95 L1011 1536.95 L1011 1532.4 L1015.29 1532.4 L1015.29 1522.27 L1021.18 1522.27 Z\" fill=\"#000000\" fill-rule=\"nonzero\" fill-opacity=\"1\" /><polyline clip-path=\"url(#clip790)\" style=\"stroke:#000000; stroke-linecap:round; stroke-linejoin:round; stroke-width:4; stroke-opacity:1; fill:none\" points=\"47.2441,1423.18 47.2441,123.472 \"/>\n",
       "<path clip-path=\"url(#clip790)\" d=\"M616.079 18.8205 L616.079 41.5461 L626.368 41.5461 Q632.08 41.5461 635.199 38.5889 Q638.318 35.6318 638.318 30.163 Q638.318 24.7348 635.199 21.7777 Q632.08 18.8205 626.368 18.8205 L616.079 18.8205 M607.896 12.096 L626.368 12.096 Q636.536 12.096 641.721 16.714 Q646.947 21.2916 646.947 30.163 Q646.947 39.1155 641.721 43.6931 Q636.536 48.2706 626.368 48.2706 L616.079 48.2706 L616.079 72.576 L607.896 72.576 L607.896 12.096 Z\" fill=\"#000000\" fill-rule=\"nonzero\" fill-opacity=\"1\" /><path clip-path=\"url(#clip790)\" d=\"M693.451 48.0275 L693.451 51.6733 L659.18 51.6733 Q659.666 59.3701 663.798 63.421 Q667.971 67.4314 675.384 67.4314 Q679.678 67.4314 683.688 66.3781 Q687.739 65.3249 691.709 63.2184 L691.709 70.267 Q687.699 71.9684 683.486 72.8596 Q679.273 73.7508 674.938 73.7508 Q664.082 73.7508 657.722 67.4314 Q651.403 61.1119 651.403 50.3365 Q651.403 39.1965 657.398 32.6746 Q663.434 26.1121 673.642 26.1121 Q682.797 26.1121 688.104 32.0264 Q693.451 37.9003 693.451 48.0275 M685.997 45.84 Q685.916 39.7232 682.554 36.0774 Q679.232 32.4315 673.723 32.4315 Q667.485 32.4315 663.717 35.9558 Q659.991 39.4801 659.423 45.8805 L685.997 45.84 Z\" fill=\"#000000\" fill-rule=\"nonzero\" fill-opacity=\"1\" /><path clip-path=\"url(#clip790)\" d=\"M731.975 34.1734 Q730.719 33.4443 729.22 33.1202 Q727.762 32.7556 725.98 32.7556 Q719.66 32.7556 716.258 36.8875 Q712.895 40.9789 712.895 48.6757 L712.895 72.576 L705.401 72.576 L705.401 27.2059 L712.895 27.2059 L712.895 34.2544 Q715.245 30.1225 719.012 28.1376 Q722.78 26.1121 728.167 26.1121 Q728.937 26.1121 729.869 26.2337 Q730.8 26.3147 731.935 26.5172 L731.975 34.1734 Z\" fill=\"#000000\" fill-rule=\"nonzero\" fill-opacity=\"1\" /><path clip-path=\"url(#clip790)\" d=\"M768.717 28.5427 L768.717 35.5912 Q765.557 33.9709 762.154 33.1607 Q758.752 32.3505 755.106 32.3505 Q749.556 32.3505 746.761 34.0519 Q744.006 35.7533 744.006 39.156 Q744.006 41.7486 745.991 43.2475 Q747.976 44.7058 753.971 46.0426 L756.524 46.6097 Q764.463 48.3111 767.785 51.4303 Q771.147 54.509 771.147 60.0587 Q771.147 66.3781 766.124 70.0644 Q761.142 73.7508 752.392 73.7508 Q748.746 73.7508 744.776 73.0216 Q740.847 72.3329 736.472 70.9151 L736.472 63.2184 Q740.604 65.3654 744.614 66.4591 Q748.624 67.5124 752.554 67.5124 Q757.82 67.5124 760.655 65.73 Q763.491 63.9071 763.491 60.6258 Q763.491 57.5877 761.425 55.9673 Q759.4 54.3469 752.473 52.8481 L749.88 52.2405 Q742.953 50.7821 739.874 47.7845 Q736.796 44.7463 736.796 39.4801 Q736.796 33.0797 741.333 29.5959 Q745.87 26.1121 754.215 26.1121 Q758.346 26.1121 761.992 26.7198 Q765.638 27.3274 768.717 28.5427 Z\" fill=\"#000000\" fill-rule=\"nonzero\" fill-opacity=\"1\" /><path clip-path=\"url(#clip790)\" d=\"M783.016 27.2059 L790.47 27.2059 L790.47 72.576 L783.016 72.576 L783.016 27.2059 M783.016 9.54393 L790.47 9.54393 L790.47 18.9825 L783.016 18.9825 L783.016 9.54393 Z\" fill=\"#000000\" fill-rule=\"nonzero\" fill-opacity=\"1\" /><path clip-path=\"url(#clip790)\" d=\"M834.99 28.5427 L834.99 35.5912 Q831.83 33.9709 828.427 33.1607 Q825.024 32.3505 821.379 32.3505 Q815.829 32.3505 813.034 34.0519 Q810.279 35.7533 810.279 39.156 Q810.279 41.7486 812.264 43.2475 Q814.249 44.7058 820.244 46.0426 L822.796 46.6097 Q830.736 48.3111 834.058 51.4303 Q837.42 54.509 837.42 60.0587 Q837.42 66.3781 832.397 70.0644 Q827.414 73.7508 818.664 73.7508 Q815.019 73.7508 811.049 73.0216 Q807.119 72.3329 802.744 70.9151 L802.744 63.2184 Q806.876 65.3654 810.887 66.4591 Q814.897 67.5124 818.826 67.5124 Q824.093 67.5124 826.928 65.73 Q829.764 63.9071 829.764 60.6258 Q829.764 57.5877 827.698 55.9673 Q825.673 54.3469 818.745 52.8481 L816.153 52.2405 Q809.226 50.7821 806.147 47.7845 Q803.068 44.7463 803.068 39.4801 Q803.068 33.0797 807.605 29.5959 Q812.142 26.1121 820.487 26.1121 Q824.619 26.1121 828.265 26.7198 Q831.911 27.3274 834.99 28.5427 Z\" fill=\"#000000\" fill-rule=\"nonzero\" fill-opacity=\"1\" /><path clip-path=\"url(#clip790)\" d=\"M856.662 14.324 L856.662 27.2059 L872.015 27.2059 L872.015 32.9987 L856.662 32.9987 L856.662 57.6282 Q856.662 63.1779 858.161 64.7578 Q859.7 66.3376 864.359 66.3376 L872.015 66.3376 L872.015 72.576 L864.359 72.576 Q855.73 72.576 852.449 69.3758 Q849.168 66.1351 849.168 57.6282 L849.168 32.9987 L843.699 32.9987 L843.699 27.2059 L849.168 27.2059 L849.168 14.324 L856.662 14.324 Z\" fill=\"#000000\" fill-rule=\"nonzero\" fill-opacity=\"1\" /><path clip-path=\"url(#clip790)\" d=\"M920.626 48.0275 L920.626 51.6733 L886.355 51.6733 Q886.841 59.3701 890.973 63.421 Q895.146 67.4314 902.559 67.4314 Q906.853 67.4314 910.863 66.3781 Q914.914 65.3249 918.884 63.2184 L918.884 70.267 Q914.873 71.9684 910.66 72.8596 Q906.448 73.7508 902.113 73.7508 Q891.257 73.7508 884.897 67.4314 Q878.577 61.1119 878.577 50.3365 Q878.577 39.1965 884.573 32.6746 Q890.608 26.1121 900.817 26.1121 Q909.972 26.1121 915.279 32.0264 Q920.626 37.9003 920.626 48.0275 M913.172 45.84 Q913.091 39.7232 909.729 36.0774 Q906.407 32.4315 900.898 32.4315 Q894.659 32.4315 890.892 35.9558 Q887.165 39.4801 886.598 45.8805 L913.172 45.84 Z\" fill=\"#000000\" fill-rule=\"nonzero\" fill-opacity=\"1\" /><path clip-path=\"url(#clip790)\" d=\"M970.573 45.1919 L970.573 72.576 L963.12 72.576 L963.12 45.4349 Q963.12 38.994 960.608 35.7938 Q958.097 32.5936 953.073 32.5936 Q947.038 32.5936 943.554 36.4419 Q940.07 40.2903 940.07 46.9338 L940.07 72.576 L932.576 72.576 L932.576 27.2059 L940.07 27.2059 L940.07 34.2544 Q942.744 30.163 946.349 28.1376 Q949.995 26.1121 954.734 26.1121 Q962.553 26.1121 966.563 30.9732 Q970.573 35.7938 970.573 45.1919 Z\" fill=\"#000000\" fill-rule=\"nonzero\" fill-opacity=\"1\" /><path clip-path=\"url(#clip790)\" d=\"M1018.09 28.9478 L1018.09 35.9153 Q1014.93 34.1734 1011.73 33.3227 Q1008.57 32.4315 1005.33 32.4315 Q998.079 32.4315 994.069 37.0496 Q990.058 41.6271 990.058 49.9314 Q990.058 58.2358 994.069 62.8538 Q998.079 67.4314 1005.33 67.4314 Q1008.57 67.4314 1011.73 66.5807 Q1014.93 65.6895 1018.09 63.9476 L1018.09 70.8341 Q1014.97 72.2924 1011.61 73.0216 Q1008.29 73.7508 1004.52 73.7508 Q994.271 73.7508 988.235 67.3098 Q982.199 60.8689 982.199 49.9314 Q982.199 38.832 988.276 32.472 Q994.393 26.1121 1005.01 26.1121 Q1008.45 26.1121 1011.73 26.8413 Q1015.01 27.5299 1018.09 28.9478 Z\" fill=\"#000000\" fill-rule=\"nonzero\" fill-opacity=\"1\" /><path clip-path=\"url(#clip790)\" d=\"M1069.86 48.0275 L1069.86 51.6733 L1035.59 51.6733 Q1036.08 59.3701 1040.21 63.421 Q1044.38 67.4314 1051.79 67.4314 Q1056.09 67.4314 1060.1 66.3781 Q1064.15 65.3249 1068.12 63.2184 L1068.12 70.267 Q1064.11 71.9684 1059.9 72.8596 Q1055.68 73.7508 1051.35 73.7508 Q1040.49 73.7508 1034.13 67.4314 Q1027.81 61.1119 1027.81 50.3365 Q1027.81 39.1965 1033.81 32.6746 Q1039.84 26.1121 1050.05 26.1121 Q1059.21 26.1121 1064.51 32.0264 Q1069.86 37.9003 1069.86 48.0275 M1062.41 45.84 Q1062.33 39.7232 1058.96 36.0774 Q1055.64 32.4315 1050.13 32.4315 Q1043.89 32.4315 1040.13 35.9558 Q1036.4 39.4801 1035.83 45.8805 L1062.41 45.84 Z\" fill=\"#000000\" fill-rule=\"nonzero\" fill-opacity=\"1\" /><path clip-path=\"url(#clip790)\" d=\"M1116.97 43.6931 L1116.97 65.8515 L1130.1 65.8515 Q1136.7 65.8515 1139.86 63.1374 Q1143.06 60.3828 1143.06 54.752 Q1143.06 49.0808 1139.86 46.4072 Q1136.7 43.6931 1130.1 43.6931 L1116.97 43.6931 M1116.97 18.8205 L1116.97 37.0496 L1129.09 37.0496 Q1135.08 37.0496 1138 34.8216 Q1140.95 32.5531 1140.95 27.935 Q1140.95 23.3575 1138 21.089 Q1135.08 18.8205 1129.09 18.8205 L1116.97 18.8205 M1108.79 12.096 L1129.69 12.096 Q1139.05 12.096 1144.11 15.9849 Q1149.18 19.8737 1149.18 27.0438 Q1149.18 32.5936 1146.59 35.8748 Q1143.99 39.156 1138.97 39.9662 Q1145.01 41.2625 1148.33 45.3944 Q1151.69 49.4858 1151.69 55.6432 Q1151.69 63.745 1146.18 68.1605 Q1140.67 72.576 1130.5 72.576 L1108.79 72.576 L1108.79 12.096 Z\" fill=\"#000000\" fill-rule=\"nonzero\" fill-opacity=\"1\" /><path clip-path=\"url(#clip790)\" d=\"M1186 49.7694 Q1176.97 49.7694 1173.48 51.8354 Q1170 53.9013 1170 58.8839 Q1170 62.8538 1172.59 65.2034 Q1175.23 67.5124 1179.72 67.5124 Q1185.92 67.5124 1189.65 63.1374 Q1193.41 58.7219 1193.41 51.4303 L1193.41 49.7694 L1186 49.7694 M1200.87 46.6907 L1200.87 72.576 L1193.41 72.576 L1193.41 65.6895 Q1190.86 69.8214 1187.05 71.8063 Q1183.25 73.7508 1177.74 73.7508 Q1170.77 73.7508 1166.64 69.8619 Q1162.55 65.9325 1162.55 59.3701 Q1162.55 51.7138 1167.65 47.825 Q1172.79 43.9361 1182.96 43.9361 L1193.41 43.9361 L1193.41 43.2069 Q1193.41 38.0623 1190.01 35.2672 Q1186.65 32.4315 1180.53 32.4315 Q1176.64 32.4315 1172.96 33.3632 Q1169.27 34.295 1165.87 36.1584 L1165.87 29.2718 Q1169.96 27.692 1173.81 26.9223 Q1177.66 26.1121 1181.3 26.1121 Q1191.15 26.1121 1196.01 31.2163 Q1200.87 36.3204 1200.87 46.6907 Z\" fill=\"#000000\" fill-rule=\"nonzero\" fill-opacity=\"1\" /><path clip-path=\"url(#clip790)\" d=\"M1242.51 34.1734 Q1241.25 33.4443 1239.76 33.1202 Q1238.3 32.7556 1236.52 32.7556 Q1230.2 32.7556 1226.79 36.8875 Q1223.43 40.9789 1223.43 48.6757 L1223.43 72.576 L1215.94 72.576 L1215.94 27.2059 L1223.43 27.2059 L1223.43 34.2544 Q1225.78 30.1225 1229.55 28.1376 Q1233.31 26.1121 1238.7 26.1121 Q1239.47 26.1121 1240.4 26.2337 Q1241.34 26.3147 1242.47 26.5172 L1242.51 34.1734 Z\" fill=\"#000000\" fill-rule=\"nonzero\" fill-opacity=\"1\" /><path clip-path=\"url(#clip790)\" d=\"M1281.16 28.9478 L1281.16 35.9153 Q1278 34.1734 1274.8 33.3227 Q1271.64 32.4315 1268.4 32.4315 Q1261.14 32.4315 1257.13 37.0496 Q1253.12 41.6271 1253.12 49.9314 Q1253.12 58.2358 1257.13 62.8538 Q1261.14 67.4314 1268.4 67.4314 Q1271.64 67.4314 1274.8 66.5807 Q1278 65.6895 1281.16 63.9476 L1281.16 70.8341 Q1278.04 72.2924 1274.67 73.0216 Q1271.35 73.7508 1267.59 73.7508 Q1257.34 73.7508 1251.3 67.3098 Q1245.27 60.8689 1245.27 49.9314 Q1245.27 38.832 1251.34 32.472 Q1257.46 26.1121 1268.07 26.1121 Q1271.52 26.1121 1274.8 26.8413 Q1278.08 27.5299 1281.16 28.9478 Z\" fill=\"#000000\" fill-rule=\"nonzero\" fill-opacity=\"1\" /><path clip-path=\"url(#clip790)\" d=\"M1311.7 32.4315 Q1305.7 32.4315 1302.22 37.1306 Q1298.74 41.7891 1298.74 49.9314 Q1298.74 58.0738 1302.18 62.7728 Q1305.66 67.4314 1311.7 67.4314 Q1317.65 67.4314 1321.14 62.7323 Q1324.62 58.0333 1324.62 49.9314 Q1324.62 41.8701 1321.14 37.1711 Q1317.65 32.4315 1311.7 32.4315 M1311.7 26.1121 Q1321.42 26.1121 1326.97 32.4315 Q1332.52 38.7509 1332.52 49.9314 Q1332.52 61.0714 1326.97 67.4314 Q1321.42 73.7508 1311.7 73.7508 Q1301.94 73.7508 1296.39 67.4314 Q1290.88 61.0714 1290.88 49.9314 Q1290.88 38.7509 1296.39 32.4315 Q1301.94 26.1121 1311.7 26.1121 Z\" fill=\"#000000\" fill-rule=\"nonzero\" fill-opacity=\"1\" /><path clip-path=\"url(#clip790)\" d=\"M1374.73 34.0924 L1374.73 9.54393 L1382.19 9.54393 L1382.19 72.576 L1374.73 72.576 L1374.73 65.7705 Q1372.38 69.8214 1368.78 71.8063 Q1365.21 73.7508 1360.19 73.7508 Q1351.97 73.7508 1346.78 67.1883 Q1341.64 60.6258 1341.64 49.9314 Q1341.64 39.2371 1346.78 32.6746 Q1351.97 26.1121 1360.19 26.1121 Q1365.21 26.1121 1368.78 28.0971 Q1372.38 30.0415 1374.73 34.0924 M1349.33 49.9314 Q1349.33 58.1548 1352.7 62.8538 Q1356.1 67.5124 1362.01 67.5124 Q1367.93 67.5124 1371.33 62.8538 Q1374.73 58.1548 1374.73 49.9314 Q1374.73 41.7081 1371.33 37.0496 Q1367.93 32.3505 1362.01 32.3505 Q1356.1 32.3505 1352.7 37.0496 Q1349.33 41.7081 1349.33 49.9314 Z\" fill=\"#000000\" fill-rule=\"nonzero\" fill-opacity=\"1\" /><path clip-path=\"url(#clip790)\" d=\"M1436.35 48.0275 L1436.35 51.6733 L1402.08 51.6733 Q1402.56 59.3701 1406.69 63.421 Q1410.87 67.4314 1418.28 67.4314 Q1422.57 67.4314 1426.58 66.3781 Q1430.63 65.3249 1434.6 63.2184 L1434.6 70.267 Q1430.59 71.9684 1426.38 72.8596 Q1422.17 73.7508 1417.83 73.7508 Q1406.98 73.7508 1400.62 67.4314 Q1394.3 61.1119 1394.3 50.3365 Q1394.3 39.1965 1400.29 32.6746 Q1406.33 26.1121 1416.54 26.1121 Q1425.69 26.1121 1431 32.0264 Q1436.35 37.9003 1436.35 48.0275 M1428.89 45.84 Q1428.81 39.7232 1425.45 36.0774 Q1422.13 32.4315 1416.62 32.4315 Q1410.38 32.4315 1406.61 35.9558 Q1402.89 39.4801 1402.32 45.8805 L1428.89 45.84 Z\" fill=\"#000000\" fill-rule=\"nonzero\" fill-opacity=\"1\" /><polyline clip-path=\"url(#clip792)\" style=\"stroke:#808080; stroke-linecap:round; stroke-linejoin:round; stroke-width:4; stroke-opacity:1; fill:none\" stroke-dasharray=\"2, 4\" points=\"1941.82,2722.89 1941.82,-1176.24 \"/>\n",
       "<polyline clip-path=\"url(#clip792)\" style=\"stroke:#009af9; stroke-linecap:round; stroke-linejoin:round; stroke-width:4; stroke-opacity:1; fill:none\" points=\"102.426,1362.12 124.978,1362.12 \"/>\n",
       "<polyline clip-path=\"url(#clip792)\" style=\"stroke:#009af9; stroke-linecap:round; stroke-linejoin:round; stroke-width:4; stroke-opacity:1; fill:none\" points=\"102.426,1318.51 140.635,1318.51 \"/>\n",
       "<polyline clip-path=\"url(#clip792)\" style=\"stroke:#009af9; stroke-linecap:round; stroke-linejoin:round; stroke-width:4; stroke-opacity:1; fill:none\" points=\"102.426,1274.89 147.53,1274.89 \"/>\n",
       "<polyline clip-path=\"url(#clip792)\" style=\"stroke:#009af9; stroke-linecap:round; stroke-linejoin:round; stroke-width:4; stroke-opacity:1; fill:none\" points=\"102.426,1231.28 148.579,1231.28 \"/>\n",
       "<polyline clip-path=\"url(#clip792)\" style=\"stroke:#009af9; stroke-linecap:round; stroke-linejoin:round; stroke-width:4; stroke-opacity:1; fill:none\" points=\"102.426,1187.66 151.409,1187.66 \"/>\n",
       "<polyline clip-path=\"url(#clip792)\" style=\"stroke:#009af9; stroke-linecap:round; stroke-linejoin:round; stroke-width:4; stroke-opacity:1; fill:none\" points=\"102.426,1144.05 151.592,1144.05 \"/>\n",
       "<polyline clip-path=\"url(#clip792)\" style=\"stroke:#009af9; stroke-linecap:round; stroke-linejoin:round; stroke-width:4; stroke-opacity:1; fill:none\" points=\"102.426,1100.43 156.24,1100.43 \"/>\n",
       "<polyline clip-path=\"url(#clip792)\" style=\"stroke:#009af9; stroke-linecap:round; stroke-linejoin:round; stroke-width:4; stroke-opacity:1; fill:none\" points=\"102.426,1056.82 158.205,1056.82 \"/>\n",
       "<polyline clip-path=\"url(#clip792)\" style=\"stroke:#009af9; stroke-linecap:round; stroke-linejoin:round; stroke-width:4; stroke-opacity:1; fill:none\" points=\"102.426,1013.2 170.96,1013.2 \"/>\n",
       "<polyline clip-path=\"url(#clip792)\" style=\"stroke:#009af9; stroke-linecap:round; stroke-linejoin:round; stroke-width:4; stroke-opacity:1; fill:none\" points=\"102.426,969.591 171.957,969.591 \"/>\n",
       "<polyline clip-path=\"url(#clip792)\" style=\"stroke:#009af9; stroke-linecap:round; stroke-linejoin:round; stroke-width:4; stroke-opacity:1; fill:none\" points=\"102.426,925.976 172.471,925.976 \"/>\n",
       "<polyline clip-path=\"url(#clip792)\" style=\"stroke:#009af9; stroke-linecap:round; stroke-linejoin:round; stroke-width:4; stroke-opacity:1; fill:none\" points=\"102.426,882.362 178.844,882.362 \"/>\n",
       "<polyline clip-path=\"url(#clip792)\" style=\"stroke:#009af9; stroke-linecap:round; stroke-linejoin:round; stroke-width:4; stroke-opacity:1; fill:none\" points=\"102.426,838.748 180.854,838.748 \"/>\n",
       "<polyline clip-path=\"url(#clip792)\" style=\"stroke:#009af9; stroke-linecap:round; stroke-linejoin:round; stroke-width:4; stroke-opacity:1; fill:none\" points=\"102.426,795.133 181.31,795.133 \"/>\n",
       "<polyline clip-path=\"url(#clip792)\" style=\"stroke:#009af9; stroke-linecap:round; stroke-linejoin:round; stroke-width:4; stroke-opacity:1; fill:none\" points=\"102.426,751.519 234.061,751.519 \"/>\n",
       "<polyline clip-path=\"url(#clip792)\" style=\"stroke:#009af9; stroke-linecap:round; stroke-linejoin:round; stroke-width:4; stroke-opacity:1; fill:none\" points=\"102.426,707.904 234.605,707.904 \"/>\n",
       "<polyline clip-path=\"url(#clip792)\" style=\"stroke:#009af9; stroke-linecap:round; stroke-linejoin:round; stroke-width:4; stroke-opacity:1; fill:none\" points=\"102.426,664.29 236.961,664.29 \"/>\n",
       "<polyline clip-path=\"url(#clip792)\" style=\"stroke:#009af9; stroke-linecap:round; stroke-linejoin:round; stroke-width:4; stroke-opacity:1; fill:none\" points=\"102.426,620.676 243.283,620.676 \"/>\n",
       "<polyline clip-path=\"url(#clip792)\" style=\"stroke:#009af9; stroke-linecap:round; stroke-linejoin:round; stroke-width:4; stroke-opacity:1; fill:none\" points=\"102.426,577.061 251.537,577.061 \"/>\n",
       "<polyline clip-path=\"url(#clip792)\" style=\"stroke:#009af9; stroke-linecap:round; stroke-linejoin:round; stroke-width:4; stroke-opacity:1; fill:none\" points=\"102.426,533.447 255.966,533.447 \"/>\n",
       "<polyline clip-path=\"url(#clip792)\" style=\"stroke:#009af9; stroke-linecap:round; stroke-linejoin:round; stroke-width:4; stroke-opacity:1; fill:none\" points=\"102.426,489.833 302.049,489.833 \"/>\n",
       "<polyline clip-path=\"url(#clip792)\" style=\"stroke:#009af9; stroke-linecap:round; stroke-linejoin:round; stroke-width:4; stroke-opacity:1; fill:none\" points=\"102.426,446.218 454.298,446.218 \"/>\n",
       "<polyline clip-path=\"url(#clip792)\" style=\"stroke:#009af9; stroke-linecap:round; stroke-linejoin:round; stroke-width:4; stroke-opacity:1; fill:none\" points=\"102.426,402.604 554.655,402.604 \"/>\n",
       "<polyline clip-path=\"url(#clip792)\" style=\"stroke:#009af9; stroke-linecap:round; stroke-linejoin:round; stroke-width:4; stroke-opacity:1; fill:none\" points=\"102.426,358.99 748.676,358.99 \"/>\n",
       "<polyline clip-path=\"url(#clip792)\" style=\"stroke:#009af9; stroke-linecap:round; stroke-linejoin:round; stroke-width:4; stroke-opacity:1; fill:none\" points=\"102.426,315.375 749.694,315.375 \"/>\n",
       "<polyline clip-path=\"url(#clip792)\" style=\"stroke:#009af9; stroke-linecap:round; stroke-linejoin:round; stroke-width:4; stroke-opacity:1; fill:none\" points=\"102.426,271.761 753.748,271.761 \"/>\n",
       "<polyline clip-path=\"url(#clip792)\" style=\"stroke:#009af9; stroke-linecap:round; stroke-linejoin:round; stroke-width:4; stroke-opacity:1; fill:none\" points=\"102.426,228.147 1941.82,228.147 \"/>\n",
       "<polyline clip-path=\"url(#clip792)\" style=\"stroke:#e26f46; stroke-linecap:round; stroke-linejoin:round; stroke-width:4; stroke-opacity:1; fill:none\" points=\"258.229,184.532 298.663,184.532 \"/>\n",
       "<path clip-path=\"url(#clip790)\" d=\"M2073.85 322.316 L2352.76 322.316 L2352.76 166.796 L2073.85 166.796  Z\" fill=\"#ffffff\" fill-rule=\"evenodd\" fill-opacity=\"1\"/>\n",
       "<polyline clip-path=\"url(#clip790)\" style=\"stroke:#000000; stroke-linecap:round; stroke-linejoin:round; stroke-width:4; stroke-opacity:1; fill:none\" points=\"2073.85,322.316 2352.76,322.316 2352.76,166.796 2073.85,166.796 2073.85,322.316 \"/>\n",
       "<polyline clip-path=\"url(#clip790)\" style=\"stroke:#009af9; stroke-linecap:round; stroke-linejoin:round; stroke-width:4; stroke-opacity:1; fill:none\" points=\"2099.47,218.636 2253.17,218.636 \"/>\n",
       "<path clip-path=\"url(#clip790)\" d=\"M2278.78 201.356 L2283.46 201.356 L2283.46 215.522 L2300.45 215.522 L2300.45 201.356 L2305.13 201.356 L2305.13 235.916 L2300.45 235.916 L2300.45 219.457 L2283.46 219.457 L2283.46 235.916 L2278.78 235.916 L2278.78 201.356 Z\" fill=\"#000000\" fill-rule=\"nonzero\" fill-opacity=\"1\" /><path clip-path=\"url(#clip790)\" d=\"M2322.97 220.245 Q2321.82 218.254 2319.48 218.254 Q2317.14 218.254 2315.98 220.245 Q2314.8 222.235 2314.8 226.217 Q2314.8 230.221 2315.98 232.212 Q2317.14 234.203 2319.48 234.203 Q2321.82 234.203 2322.97 232.212 Q2324.15 230.221 2324.15 226.217 Q2324.15 222.235 2322.97 220.245 M2319.48 216.194 Q2323.2 216.194 2325.17 218.763 Q2327.14 221.332 2327.14 226.217 Q2327.14 231.124 2325.17 233.694 Q2323.2 236.263 2319.48 236.263 Q2315.73 236.263 2313.76 233.694 Q2311.79 231.124 2311.79 226.217 Q2311.79 221.332 2313.76 218.763 Q2315.73 216.194 2319.48 216.194 Z\" fill=\"#000000\" fill-rule=\"nonzero\" fill-opacity=\"1\" /><polyline clip-path=\"url(#clip790)\" style=\"stroke:#e26f46; stroke-linecap:round; stroke-linejoin:round; stroke-width:4; stroke-opacity:1; fill:none\" points=\"2099.47,270.476 2253.17,270.476 \"/>\n",
       "<path clip-path=\"url(#clip790)\" d=\"M2278.78 253.196 L2283.46 253.196 L2283.46 267.362 L2300.45 267.362 L2300.45 253.196 L2305.13 253.196 L2305.13 287.756 L2300.45 287.756 L2300.45 271.297 L2283.46 271.297 L2283.46 287.756 L2278.78 287.756 L2278.78 253.196 Z\" fill=\"#000000\" fill-rule=\"nonzero\" fill-opacity=\"1\" /><path clip-path=\"url(#clip790)\" d=\"M2313.39 285.209 L2318.11 285.209 L2318.11 271.066 L2312.95 272.015 L2312.95 269.33 L2318.27 268.427 L2321.44 268.427 L2321.44 285.209 L2326.19 285.209 L2326.19 287.756 L2313.39 287.756 L2313.39 285.209 Z\" fill=\"#000000\" fill-rule=\"nonzero\" fill-opacity=\"1\" /></svg>\n"
      ],
      "text/html": [
       "<?xml version=\"1.0\" encoding=\"utf-8\"?>\n",
       "<svg xmlns=\"http://www.w3.org/2000/svg\" xmlns:xlink=\"http://www.w3.org/1999/xlink\" width=\"600\" height=\"400\" viewBox=\"0 0 2400 1600\">\n",
       "<defs>\n",
       "  <clipPath id=\"clip840\">\n",
       "    <rect x=\"0\" y=\"0\" width=\"2400\" height=\"1600\"/>\n",
       "  </clipPath>\n",
       "</defs>\n",
       "<path clip-path=\"url(#clip840)\" d=\"M0 1600 L2400 1600 L2400 0 L0 0  Z\" fill=\"#ffffff\" fill-rule=\"evenodd\" fill-opacity=\"1\"/>\n",
       "<defs>\n",
       "  <clipPath id=\"clip841\">\n",
       "    <rect x=\"480\" y=\"0\" width=\"1681\" height=\"1600\"/>\n",
       "  </clipPath>\n",
       "</defs>\n",
       "<path clip-path=\"url(#clip840)\" d=\"M47.2441 1423.18 L1997 1423.18 L1997 123.472 L47.2441 123.472  Z\" fill=\"#ffffff\" fill-rule=\"evenodd\" fill-opacity=\"1\"/>\n",
       "<defs>\n",
       "  <clipPath id=\"clip842\">\n",
       "    <rect x=\"47\" y=\"123\" width=\"1951\" height=\"1301\"/>\n",
       "  </clipPath>\n",
       "</defs>\n",
       "<polyline clip-path=\"url(#clip842)\" style=\"stroke:#000000; stroke-linecap:round; stroke-linejoin:round; stroke-width:2; stroke-opacity:0.1; fill:none\" points=\"102.426,1423.18 102.426,123.472 \"/>\n",
       "<polyline clip-path=\"url(#clip842)\" style=\"stroke:#000000; stroke-linecap:round; stroke-linejoin:round; stroke-width:2; stroke-opacity:0.1; fill:none\" points=\"591.644,1423.18 591.644,123.472 \"/>\n",
       "<polyline clip-path=\"url(#clip842)\" style=\"stroke:#000000; stroke-linecap:round; stroke-linejoin:round; stroke-width:2; stroke-opacity:0.1; fill:none\" points=\"1080.86,1423.18 1080.86,123.472 \"/>\n",
       "<polyline clip-path=\"url(#clip842)\" style=\"stroke:#000000; stroke-linecap:round; stroke-linejoin:round; stroke-width:2; stroke-opacity:0.1; fill:none\" points=\"1570.08,1423.18 1570.08,123.472 \"/>\n",
       "<polyline clip-path=\"url(#clip840)\" style=\"stroke:#000000; stroke-linecap:round; stroke-linejoin:round; stroke-width:4; stroke-opacity:1; fill:none\" points=\"47.2441,1423.18 1997,1423.18 \"/>\n",
       "<polyline clip-path=\"url(#clip840)\" style=\"stroke:#000000; stroke-linecap:round; stroke-linejoin:round; stroke-width:4; stroke-opacity:1; fill:none\" points=\"102.426,1423.18 102.426,1404.28 \"/>\n",
       "<polyline clip-path=\"url(#clip840)\" style=\"stroke:#000000; stroke-linecap:round; stroke-linejoin:round; stroke-width:4; stroke-opacity:1; fill:none\" points=\"591.644,1423.18 591.644,1404.28 \"/>\n",
       "<polyline clip-path=\"url(#clip840)\" style=\"stroke:#000000; stroke-linecap:round; stroke-linejoin:round; stroke-width:4; stroke-opacity:1; fill:none\" points=\"1080.86,1423.18 1080.86,1404.28 \"/>\n",
       "<polyline clip-path=\"url(#clip840)\" style=\"stroke:#000000; stroke-linecap:round; stroke-linejoin:round; stroke-width:4; stroke-opacity:1; fill:none\" points=\"1570.08,1423.18 1570.08,1404.28 \"/>\n",
       "<path clip-path=\"url(#clip840)\" d=\"M102.426 1454.1 Q98.8147 1454.1 96.986 1457.66 Q95.1805 1461.2 95.1805 1468.33 Q95.1805 1475.44 96.986 1479.01 Q98.8147 1482.55 102.426 1482.55 Q106.06 1482.55 107.866 1479.01 Q109.694 1475.44 109.694 1468.33 Q109.694 1461.2 107.866 1457.66 Q106.06 1454.1 102.426 1454.1 M102.426 1450.39 Q108.236 1450.39 111.292 1455 Q114.37 1459.58 114.37 1468.33 Q114.37 1477.06 111.292 1481.67 Q108.236 1486.25 102.426 1486.25 Q96.6157 1486.25 93.537 1481.67 Q90.4814 1477.06 90.4814 1468.33 Q90.4814 1459.58 93.537 1455 Q96.6157 1450.39 102.426 1450.39 Z\" fill=\"#000000\" fill-rule=\"nonzero\" fill-opacity=\"1\" /><path clip-path=\"url(#clip840)\" d=\"M582.026 1481.64 L589.665 1481.64 L589.665 1455.28 L581.355 1456.95 L581.355 1452.69 L589.619 1451.02 L594.295 1451.02 L594.295 1481.64 L601.934 1481.64 L601.934 1485.58 L582.026 1485.58 L582.026 1481.64 Z\" fill=\"#000000\" fill-rule=\"nonzero\" fill-opacity=\"1\" /><path clip-path=\"url(#clip840)\" d=\"M1075.52 1481.64 L1091.84 1481.64 L1091.84 1485.58 L1069.89 1485.58 L1069.89 1481.64 Q1072.55 1478.89 1077.14 1474.26 Q1081.74 1469.61 1082.92 1468.27 Q1085.17 1465.74 1086.05 1464.01 Q1086.95 1462.25 1086.95 1460.56 Q1086.95 1457.8 1085.01 1456.07 Q1083.09 1454.33 1079.98 1454.33 Q1077.78 1454.33 1075.33 1455.09 Q1072.9 1455.86 1070.12 1457.41 L1070.12 1452.69 Q1072.95 1451.55 1075.4 1450.97 Q1077.85 1450.39 1079.89 1450.39 Q1085.26 1450.39 1088.46 1453.08 Q1091.65 1455.77 1091.65 1460.26 Q1091.65 1462.39 1090.84 1464.31 Q1090.05 1466.2 1087.95 1468.8 Q1087.37 1469.47 1084.27 1472.69 Q1081.16 1475.88 1075.52 1481.64 Z\" fill=\"#000000\" fill-rule=\"nonzero\" fill-opacity=\"1\" /><path clip-path=\"url(#clip840)\" d=\"M1574.33 1466.95 Q1577.69 1467.66 1579.56 1469.93 Q1581.46 1472.2 1581.46 1475.53 Q1581.46 1480.65 1577.94 1483.45 Q1574.42 1486.25 1567.94 1486.25 Q1565.76 1486.25 1563.45 1485.81 Q1561.16 1485.39 1558.7 1484.54 L1558.7 1480.02 Q1560.65 1481.16 1562.96 1481.74 Q1565.28 1482.32 1567.8 1482.32 Q1572.2 1482.32 1574.49 1480.58 Q1576.81 1478.84 1576.81 1475.53 Q1576.81 1472.48 1574.65 1470.77 Q1572.52 1469.03 1568.7 1469.03 L1564.68 1469.03 L1564.68 1465.19 L1568.89 1465.19 Q1572.34 1465.19 1574.17 1463.82 Q1576 1462.43 1576 1459.84 Q1576 1457.18 1574.1 1455.77 Q1572.22 1454.33 1568.7 1454.33 Q1566.78 1454.33 1564.58 1454.75 Q1562.39 1455.16 1559.75 1456.04 L1559.75 1451.88 Q1562.41 1451.14 1564.72 1450.77 Q1567.06 1450.39 1569.12 1450.39 Q1574.45 1450.39 1577.55 1452.83 Q1580.65 1455.23 1580.65 1459.35 Q1580.65 1462.22 1579.01 1464.21 Q1577.36 1466.18 1574.33 1466.95 Z\" fill=\"#000000\" fill-rule=\"nonzero\" fill-opacity=\"1\" /><path clip-path=\"url(#clip840)\" d=\"M1021.18 1522.27 L1021.18 1532.4 L1033.25 1532.4 L1033.25 1536.95 L1021.18 1536.95 L1021.18 1556.3 Q1021.18 1560.66 1022.36 1561.9 Q1023.57 1563.14 1027.23 1563.14 L1033.25 1563.14 L1033.25 1568.04 L1027.23 1568.04 Q1020.45 1568.04 1017.87 1565.53 Q1015.29 1562.98 1015.29 1556.3 L1015.29 1536.95 L1011 1536.95 L1011 1532.4 L1015.29 1532.4 L1015.29 1522.27 L1021.18 1522.27 Z\" fill=\"#000000\" fill-rule=\"nonzero\" fill-opacity=\"1\" /><polyline clip-path=\"url(#clip840)\" style=\"stroke:#000000; stroke-linecap:round; stroke-linejoin:round; stroke-width:4; stroke-opacity:1; fill:none\" points=\"47.2441,1423.18 47.2441,123.472 \"/>\n",
       "<path clip-path=\"url(#clip840)\" d=\"M616.079 18.8205 L616.079 41.5461 L626.368 41.5461 Q632.08 41.5461 635.199 38.5889 Q638.318 35.6318 638.318 30.163 Q638.318 24.7348 635.199 21.7777 Q632.08 18.8205 626.368 18.8205 L616.079 18.8205 M607.896 12.096 L626.368 12.096 Q636.536 12.096 641.721 16.714 Q646.947 21.2916 646.947 30.163 Q646.947 39.1155 641.721 43.6931 Q636.536 48.2706 626.368 48.2706 L616.079 48.2706 L616.079 72.576 L607.896 72.576 L607.896 12.096 Z\" fill=\"#000000\" fill-rule=\"nonzero\" fill-opacity=\"1\" /><path clip-path=\"url(#clip840)\" d=\"M693.451 48.0275 L693.451 51.6733 L659.18 51.6733 Q659.666 59.3701 663.798 63.421 Q667.971 67.4314 675.384 67.4314 Q679.678 67.4314 683.688 66.3781 Q687.739 65.3249 691.709 63.2184 L691.709 70.267 Q687.699 71.9684 683.486 72.8596 Q679.273 73.7508 674.938 73.7508 Q664.082 73.7508 657.722 67.4314 Q651.403 61.1119 651.403 50.3365 Q651.403 39.1965 657.398 32.6746 Q663.434 26.1121 673.642 26.1121 Q682.797 26.1121 688.104 32.0264 Q693.451 37.9003 693.451 48.0275 M685.997 45.84 Q685.916 39.7232 682.554 36.0774 Q679.232 32.4315 673.723 32.4315 Q667.485 32.4315 663.717 35.9558 Q659.991 39.4801 659.423 45.8805 L685.997 45.84 Z\" fill=\"#000000\" fill-rule=\"nonzero\" fill-opacity=\"1\" /><path clip-path=\"url(#clip840)\" d=\"M731.975 34.1734 Q730.719 33.4443 729.22 33.1202 Q727.762 32.7556 725.98 32.7556 Q719.66 32.7556 716.258 36.8875 Q712.895 40.9789 712.895 48.6757 L712.895 72.576 L705.401 72.576 L705.401 27.2059 L712.895 27.2059 L712.895 34.2544 Q715.245 30.1225 719.012 28.1376 Q722.78 26.1121 728.167 26.1121 Q728.937 26.1121 729.869 26.2337 Q730.8 26.3147 731.935 26.5172 L731.975 34.1734 Z\" fill=\"#000000\" fill-rule=\"nonzero\" fill-opacity=\"1\" /><path clip-path=\"url(#clip840)\" d=\"M768.717 28.5427 L768.717 35.5912 Q765.557 33.9709 762.154 33.1607 Q758.752 32.3505 755.106 32.3505 Q749.556 32.3505 746.761 34.0519 Q744.006 35.7533 744.006 39.156 Q744.006 41.7486 745.991 43.2475 Q747.976 44.7058 753.971 46.0426 L756.524 46.6097 Q764.463 48.3111 767.785 51.4303 Q771.147 54.509 771.147 60.0587 Q771.147 66.3781 766.124 70.0644 Q761.142 73.7508 752.392 73.7508 Q748.746 73.7508 744.776 73.0216 Q740.847 72.3329 736.472 70.9151 L736.472 63.2184 Q740.604 65.3654 744.614 66.4591 Q748.624 67.5124 752.554 67.5124 Q757.82 67.5124 760.655 65.73 Q763.491 63.9071 763.491 60.6258 Q763.491 57.5877 761.425 55.9673 Q759.4 54.3469 752.473 52.8481 L749.88 52.2405 Q742.953 50.7821 739.874 47.7845 Q736.796 44.7463 736.796 39.4801 Q736.796 33.0797 741.333 29.5959 Q745.87 26.1121 754.215 26.1121 Q758.346 26.1121 761.992 26.7198 Q765.638 27.3274 768.717 28.5427 Z\" fill=\"#000000\" fill-rule=\"nonzero\" fill-opacity=\"1\" /><path clip-path=\"url(#clip840)\" d=\"M783.016 27.2059 L790.47 27.2059 L790.47 72.576 L783.016 72.576 L783.016 27.2059 M783.016 9.54393 L790.47 9.54393 L790.47 18.9825 L783.016 18.9825 L783.016 9.54393 Z\" fill=\"#000000\" fill-rule=\"nonzero\" fill-opacity=\"1\" /><path clip-path=\"url(#clip840)\" d=\"M834.99 28.5427 L834.99 35.5912 Q831.83 33.9709 828.427 33.1607 Q825.024 32.3505 821.379 32.3505 Q815.829 32.3505 813.034 34.0519 Q810.279 35.7533 810.279 39.156 Q810.279 41.7486 812.264 43.2475 Q814.249 44.7058 820.244 46.0426 L822.796 46.6097 Q830.736 48.3111 834.058 51.4303 Q837.42 54.509 837.42 60.0587 Q837.42 66.3781 832.397 70.0644 Q827.414 73.7508 818.664 73.7508 Q815.019 73.7508 811.049 73.0216 Q807.119 72.3329 802.744 70.9151 L802.744 63.2184 Q806.876 65.3654 810.887 66.4591 Q814.897 67.5124 818.826 67.5124 Q824.093 67.5124 826.928 65.73 Q829.764 63.9071 829.764 60.6258 Q829.764 57.5877 827.698 55.9673 Q825.673 54.3469 818.745 52.8481 L816.153 52.2405 Q809.226 50.7821 806.147 47.7845 Q803.068 44.7463 803.068 39.4801 Q803.068 33.0797 807.605 29.5959 Q812.142 26.1121 820.487 26.1121 Q824.619 26.1121 828.265 26.7198 Q831.911 27.3274 834.99 28.5427 Z\" fill=\"#000000\" fill-rule=\"nonzero\" fill-opacity=\"1\" /><path clip-path=\"url(#clip840)\" d=\"M856.662 14.324 L856.662 27.2059 L872.015 27.2059 L872.015 32.9987 L856.662 32.9987 L856.662 57.6282 Q856.662 63.1779 858.161 64.7578 Q859.7 66.3376 864.359 66.3376 L872.015 66.3376 L872.015 72.576 L864.359 72.576 Q855.73 72.576 852.449 69.3758 Q849.168 66.1351 849.168 57.6282 L849.168 32.9987 L843.699 32.9987 L843.699 27.2059 L849.168 27.2059 L849.168 14.324 L856.662 14.324 Z\" fill=\"#000000\" fill-rule=\"nonzero\" fill-opacity=\"1\" /><path clip-path=\"url(#clip840)\" d=\"M920.626 48.0275 L920.626 51.6733 L886.355 51.6733 Q886.841 59.3701 890.973 63.421 Q895.146 67.4314 902.559 67.4314 Q906.853 67.4314 910.863 66.3781 Q914.914 65.3249 918.884 63.2184 L918.884 70.267 Q914.873 71.9684 910.66 72.8596 Q906.448 73.7508 902.113 73.7508 Q891.257 73.7508 884.897 67.4314 Q878.577 61.1119 878.577 50.3365 Q878.577 39.1965 884.573 32.6746 Q890.608 26.1121 900.817 26.1121 Q909.972 26.1121 915.279 32.0264 Q920.626 37.9003 920.626 48.0275 M913.172 45.84 Q913.091 39.7232 909.729 36.0774 Q906.407 32.4315 900.898 32.4315 Q894.659 32.4315 890.892 35.9558 Q887.165 39.4801 886.598 45.8805 L913.172 45.84 Z\" fill=\"#000000\" fill-rule=\"nonzero\" fill-opacity=\"1\" /><path clip-path=\"url(#clip840)\" d=\"M970.573 45.1919 L970.573 72.576 L963.12 72.576 L963.12 45.4349 Q963.12 38.994 960.608 35.7938 Q958.097 32.5936 953.073 32.5936 Q947.038 32.5936 943.554 36.4419 Q940.07 40.2903 940.07 46.9338 L940.07 72.576 L932.576 72.576 L932.576 27.2059 L940.07 27.2059 L940.07 34.2544 Q942.744 30.163 946.349 28.1376 Q949.995 26.1121 954.734 26.1121 Q962.553 26.1121 966.563 30.9732 Q970.573 35.7938 970.573 45.1919 Z\" fill=\"#000000\" fill-rule=\"nonzero\" fill-opacity=\"1\" /><path clip-path=\"url(#clip840)\" d=\"M1018.09 28.9478 L1018.09 35.9153 Q1014.93 34.1734 1011.73 33.3227 Q1008.57 32.4315 1005.33 32.4315 Q998.079 32.4315 994.069 37.0496 Q990.058 41.6271 990.058 49.9314 Q990.058 58.2358 994.069 62.8538 Q998.079 67.4314 1005.33 67.4314 Q1008.57 67.4314 1011.73 66.5807 Q1014.93 65.6895 1018.09 63.9476 L1018.09 70.8341 Q1014.97 72.2924 1011.61 73.0216 Q1008.29 73.7508 1004.52 73.7508 Q994.271 73.7508 988.235 67.3098 Q982.199 60.8689 982.199 49.9314 Q982.199 38.832 988.276 32.472 Q994.393 26.1121 1005.01 26.1121 Q1008.45 26.1121 1011.73 26.8413 Q1015.01 27.5299 1018.09 28.9478 Z\" fill=\"#000000\" fill-rule=\"nonzero\" fill-opacity=\"1\" /><path clip-path=\"url(#clip840)\" d=\"M1069.86 48.0275 L1069.86 51.6733 L1035.59 51.6733 Q1036.08 59.3701 1040.21 63.421 Q1044.38 67.4314 1051.79 67.4314 Q1056.09 67.4314 1060.1 66.3781 Q1064.15 65.3249 1068.12 63.2184 L1068.12 70.267 Q1064.11 71.9684 1059.9 72.8596 Q1055.68 73.7508 1051.35 73.7508 Q1040.49 73.7508 1034.13 67.4314 Q1027.81 61.1119 1027.81 50.3365 Q1027.81 39.1965 1033.81 32.6746 Q1039.84 26.1121 1050.05 26.1121 Q1059.21 26.1121 1064.51 32.0264 Q1069.86 37.9003 1069.86 48.0275 M1062.41 45.84 Q1062.33 39.7232 1058.96 36.0774 Q1055.64 32.4315 1050.13 32.4315 Q1043.89 32.4315 1040.13 35.9558 Q1036.4 39.4801 1035.83 45.8805 L1062.41 45.84 Z\" fill=\"#000000\" fill-rule=\"nonzero\" fill-opacity=\"1\" /><path clip-path=\"url(#clip840)\" d=\"M1116.97 43.6931 L1116.97 65.8515 L1130.1 65.8515 Q1136.7 65.8515 1139.86 63.1374 Q1143.06 60.3828 1143.06 54.752 Q1143.06 49.0808 1139.86 46.4072 Q1136.7 43.6931 1130.1 43.6931 L1116.97 43.6931 M1116.97 18.8205 L1116.97 37.0496 L1129.09 37.0496 Q1135.08 37.0496 1138 34.8216 Q1140.95 32.5531 1140.95 27.935 Q1140.95 23.3575 1138 21.089 Q1135.08 18.8205 1129.09 18.8205 L1116.97 18.8205 M1108.79 12.096 L1129.69 12.096 Q1139.05 12.096 1144.11 15.9849 Q1149.18 19.8737 1149.18 27.0438 Q1149.18 32.5936 1146.59 35.8748 Q1143.99 39.156 1138.97 39.9662 Q1145.01 41.2625 1148.33 45.3944 Q1151.69 49.4858 1151.69 55.6432 Q1151.69 63.745 1146.18 68.1605 Q1140.67 72.576 1130.5 72.576 L1108.79 72.576 L1108.79 12.096 Z\" fill=\"#000000\" fill-rule=\"nonzero\" fill-opacity=\"1\" /><path clip-path=\"url(#clip840)\" d=\"M1186 49.7694 Q1176.97 49.7694 1173.48 51.8354 Q1170 53.9013 1170 58.8839 Q1170 62.8538 1172.59 65.2034 Q1175.23 67.5124 1179.72 67.5124 Q1185.92 67.5124 1189.65 63.1374 Q1193.41 58.7219 1193.41 51.4303 L1193.41 49.7694 L1186 49.7694 M1200.87 46.6907 L1200.87 72.576 L1193.41 72.576 L1193.41 65.6895 Q1190.86 69.8214 1187.05 71.8063 Q1183.25 73.7508 1177.74 73.7508 Q1170.77 73.7508 1166.64 69.8619 Q1162.55 65.9325 1162.55 59.3701 Q1162.55 51.7138 1167.65 47.825 Q1172.79 43.9361 1182.96 43.9361 L1193.41 43.9361 L1193.41 43.2069 Q1193.41 38.0623 1190.01 35.2672 Q1186.65 32.4315 1180.53 32.4315 Q1176.64 32.4315 1172.96 33.3632 Q1169.27 34.295 1165.87 36.1584 L1165.87 29.2718 Q1169.96 27.692 1173.81 26.9223 Q1177.66 26.1121 1181.3 26.1121 Q1191.15 26.1121 1196.01 31.2163 Q1200.87 36.3204 1200.87 46.6907 Z\" fill=\"#000000\" fill-rule=\"nonzero\" fill-opacity=\"1\" /><path clip-path=\"url(#clip840)\" d=\"M1242.51 34.1734 Q1241.25 33.4443 1239.76 33.1202 Q1238.3 32.7556 1236.52 32.7556 Q1230.2 32.7556 1226.79 36.8875 Q1223.43 40.9789 1223.43 48.6757 L1223.43 72.576 L1215.94 72.576 L1215.94 27.2059 L1223.43 27.2059 L1223.43 34.2544 Q1225.78 30.1225 1229.55 28.1376 Q1233.31 26.1121 1238.7 26.1121 Q1239.47 26.1121 1240.4 26.2337 Q1241.34 26.3147 1242.47 26.5172 L1242.51 34.1734 Z\" fill=\"#000000\" fill-rule=\"nonzero\" fill-opacity=\"1\" /><path clip-path=\"url(#clip840)\" d=\"M1281.16 28.9478 L1281.16 35.9153 Q1278 34.1734 1274.8 33.3227 Q1271.64 32.4315 1268.4 32.4315 Q1261.14 32.4315 1257.13 37.0496 Q1253.12 41.6271 1253.12 49.9314 Q1253.12 58.2358 1257.13 62.8538 Q1261.14 67.4314 1268.4 67.4314 Q1271.64 67.4314 1274.8 66.5807 Q1278 65.6895 1281.16 63.9476 L1281.16 70.8341 Q1278.04 72.2924 1274.67 73.0216 Q1271.35 73.7508 1267.59 73.7508 Q1257.34 73.7508 1251.3 67.3098 Q1245.27 60.8689 1245.27 49.9314 Q1245.27 38.832 1251.34 32.472 Q1257.46 26.1121 1268.07 26.1121 Q1271.52 26.1121 1274.8 26.8413 Q1278.08 27.5299 1281.16 28.9478 Z\" fill=\"#000000\" fill-rule=\"nonzero\" fill-opacity=\"1\" /><path clip-path=\"url(#clip840)\" d=\"M1311.7 32.4315 Q1305.7 32.4315 1302.22 37.1306 Q1298.74 41.7891 1298.74 49.9314 Q1298.74 58.0738 1302.18 62.7728 Q1305.66 67.4314 1311.7 67.4314 Q1317.65 67.4314 1321.14 62.7323 Q1324.62 58.0333 1324.62 49.9314 Q1324.62 41.8701 1321.14 37.1711 Q1317.65 32.4315 1311.7 32.4315 M1311.7 26.1121 Q1321.42 26.1121 1326.97 32.4315 Q1332.52 38.7509 1332.52 49.9314 Q1332.52 61.0714 1326.97 67.4314 Q1321.42 73.7508 1311.7 73.7508 Q1301.94 73.7508 1296.39 67.4314 Q1290.88 61.0714 1290.88 49.9314 Q1290.88 38.7509 1296.39 32.4315 Q1301.94 26.1121 1311.7 26.1121 Z\" fill=\"#000000\" fill-rule=\"nonzero\" fill-opacity=\"1\" /><path clip-path=\"url(#clip840)\" d=\"M1374.73 34.0924 L1374.73 9.54393 L1382.19 9.54393 L1382.19 72.576 L1374.73 72.576 L1374.73 65.7705 Q1372.38 69.8214 1368.78 71.8063 Q1365.21 73.7508 1360.19 73.7508 Q1351.97 73.7508 1346.78 67.1883 Q1341.64 60.6258 1341.64 49.9314 Q1341.64 39.2371 1346.78 32.6746 Q1351.97 26.1121 1360.19 26.1121 Q1365.21 26.1121 1368.78 28.0971 Q1372.38 30.0415 1374.73 34.0924 M1349.33 49.9314 Q1349.33 58.1548 1352.7 62.8538 Q1356.1 67.5124 1362.01 67.5124 Q1367.93 67.5124 1371.33 62.8538 Q1374.73 58.1548 1374.73 49.9314 Q1374.73 41.7081 1371.33 37.0496 Q1367.93 32.3505 1362.01 32.3505 Q1356.1 32.3505 1352.7 37.0496 Q1349.33 41.7081 1349.33 49.9314 Z\" fill=\"#000000\" fill-rule=\"nonzero\" fill-opacity=\"1\" /><path clip-path=\"url(#clip840)\" d=\"M1436.35 48.0275 L1436.35 51.6733 L1402.08 51.6733 Q1402.56 59.3701 1406.69 63.421 Q1410.87 67.4314 1418.28 67.4314 Q1422.57 67.4314 1426.58 66.3781 Q1430.63 65.3249 1434.6 63.2184 L1434.6 70.267 Q1430.59 71.9684 1426.38 72.8596 Q1422.17 73.7508 1417.83 73.7508 Q1406.98 73.7508 1400.62 67.4314 Q1394.3 61.1119 1394.3 50.3365 Q1394.3 39.1965 1400.29 32.6746 Q1406.33 26.1121 1416.54 26.1121 Q1425.69 26.1121 1431 32.0264 Q1436.35 37.9003 1436.35 48.0275 M1428.89 45.84 Q1428.81 39.7232 1425.45 36.0774 Q1422.13 32.4315 1416.62 32.4315 Q1410.38 32.4315 1406.61 35.9558 Q1402.89 39.4801 1402.32 45.8805 L1428.89 45.84 Z\" fill=\"#000000\" fill-rule=\"nonzero\" fill-opacity=\"1\" /><polyline clip-path=\"url(#clip842)\" style=\"stroke:#808080; stroke-linecap:round; stroke-linejoin:round; stroke-width:4; stroke-opacity:1; fill:none\" stroke-dasharray=\"2, 4\" points=\"1941.82,2722.89 1941.82,-1176.24 \"/>\n",
       "<polyline clip-path=\"url(#clip842)\" style=\"stroke:#009af9; stroke-linecap:round; stroke-linejoin:round; stroke-width:4; stroke-opacity:1; fill:none\" points=\"102.426,1362.12 124.978,1362.12 \"/>\n",
       "<polyline clip-path=\"url(#clip842)\" style=\"stroke:#009af9; stroke-linecap:round; stroke-linejoin:round; stroke-width:4; stroke-opacity:1; fill:none\" points=\"102.426,1318.51 140.635,1318.51 \"/>\n",
       "<polyline clip-path=\"url(#clip842)\" style=\"stroke:#009af9; stroke-linecap:round; stroke-linejoin:round; stroke-width:4; stroke-opacity:1; fill:none\" points=\"102.426,1274.89 147.53,1274.89 \"/>\n",
       "<polyline clip-path=\"url(#clip842)\" style=\"stroke:#009af9; stroke-linecap:round; stroke-linejoin:round; stroke-width:4; stroke-opacity:1; fill:none\" points=\"102.426,1231.28 148.579,1231.28 \"/>\n",
       "<polyline clip-path=\"url(#clip842)\" style=\"stroke:#009af9; stroke-linecap:round; stroke-linejoin:round; stroke-width:4; stroke-opacity:1; fill:none\" points=\"102.426,1187.66 151.409,1187.66 \"/>\n",
       "<polyline clip-path=\"url(#clip842)\" style=\"stroke:#009af9; stroke-linecap:round; stroke-linejoin:round; stroke-width:4; stroke-opacity:1; fill:none\" points=\"102.426,1144.05 151.592,1144.05 \"/>\n",
       "<polyline clip-path=\"url(#clip842)\" style=\"stroke:#009af9; stroke-linecap:round; stroke-linejoin:round; stroke-width:4; stroke-opacity:1; fill:none\" points=\"102.426,1100.43 156.24,1100.43 \"/>\n",
       "<polyline clip-path=\"url(#clip842)\" style=\"stroke:#009af9; stroke-linecap:round; stroke-linejoin:round; stroke-width:4; stroke-opacity:1; fill:none\" points=\"102.426,1056.82 158.205,1056.82 \"/>\n",
       "<polyline clip-path=\"url(#clip842)\" style=\"stroke:#009af9; stroke-linecap:round; stroke-linejoin:round; stroke-width:4; stroke-opacity:1; fill:none\" points=\"102.426,1013.2 170.96,1013.2 \"/>\n",
       "<polyline clip-path=\"url(#clip842)\" style=\"stroke:#009af9; stroke-linecap:round; stroke-linejoin:round; stroke-width:4; stroke-opacity:1; fill:none\" points=\"102.426,969.591 171.957,969.591 \"/>\n",
       "<polyline clip-path=\"url(#clip842)\" style=\"stroke:#009af9; stroke-linecap:round; stroke-linejoin:round; stroke-width:4; stroke-opacity:1; fill:none\" points=\"102.426,925.976 172.471,925.976 \"/>\n",
       "<polyline clip-path=\"url(#clip842)\" style=\"stroke:#009af9; stroke-linecap:round; stroke-linejoin:round; stroke-width:4; stroke-opacity:1; fill:none\" points=\"102.426,882.362 178.844,882.362 \"/>\n",
       "<polyline clip-path=\"url(#clip842)\" style=\"stroke:#009af9; stroke-linecap:round; stroke-linejoin:round; stroke-width:4; stroke-opacity:1; fill:none\" points=\"102.426,838.748 180.854,838.748 \"/>\n",
       "<polyline clip-path=\"url(#clip842)\" style=\"stroke:#009af9; stroke-linecap:round; stroke-linejoin:round; stroke-width:4; stroke-opacity:1; fill:none\" points=\"102.426,795.133 181.31,795.133 \"/>\n",
       "<polyline clip-path=\"url(#clip842)\" style=\"stroke:#009af9; stroke-linecap:round; stroke-linejoin:round; stroke-width:4; stroke-opacity:1; fill:none\" points=\"102.426,751.519 234.061,751.519 \"/>\n",
       "<polyline clip-path=\"url(#clip842)\" style=\"stroke:#009af9; stroke-linecap:round; stroke-linejoin:round; stroke-width:4; stroke-opacity:1; fill:none\" points=\"102.426,707.904 234.605,707.904 \"/>\n",
       "<polyline clip-path=\"url(#clip842)\" style=\"stroke:#009af9; stroke-linecap:round; stroke-linejoin:round; stroke-width:4; stroke-opacity:1; fill:none\" points=\"102.426,664.29 236.961,664.29 \"/>\n",
       "<polyline clip-path=\"url(#clip842)\" style=\"stroke:#009af9; stroke-linecap:round; stroke-linejoin:round; stroke-width:4; stroke-opacity:1; fill:none\" points=\"102.426,620.676 243.283,620.676 \"/>\n",
       "<polyline clip-path=\"url(#clip842)\" style=\"stroke:#009af9; stroke-linecap:round; stroke-linejoin:round; stroke-width:4; stroke-opacity:1; fill:none\" points=\"102.426,577.061 251.537,577.061 \"/>\n",
       "<polyline clip-path=\"url(#clip842)\" style=\"stroke:#009af9; stroke-linecap:round; stroke-linejoin:round; stroke-width:4; stroke-opacity:1; fill:none\" points=\"102.426,533.447 255.966,533.447 \"/>\n",
       "<polyline clip-path=\"url(#clip842)\" style=\"stroke:#009af9; stroke-linecap:round; stroke-linejoin:round; stroke-width:4; stroke-opacity:1; fill:none\" points=\"102.426,489.833 302.049,489.833 \"/>\n",
       "<polyline clip-path=\"url(#clip842)\" style=\"stroke:#009af9; stroke-linecap:round; stroke-linejoin:round; stroke-width:4; stroke-opacity:1; fill:none\" points=\"102.426,446.218 454.298,446.218 \"/>\n",
       "<polyline clip-path=\"url(#clip842)\" style=\"stroke:#009af9; stroke-linecap:round; stroke-linejoin:round; stroke-width:4; stroke-opacity:1; fill:none\" points=\"102.426,402.604 554.655,402.604 \"/>\n",
       "<polyline clip-path=\"url(#clip842)\" style=\"stroke:#009af9; stroke-linecap:round; stroke-linejoin:round; stroke-width:4; stroke-opacity:1; fill:none\" points=\"102.426,358.99 748.676,358.99 \"/>\n",
       "<polyline clip-path=\"url(#clip842)\" style=\"stroke:#009af9; stroke-linecap:round; stroke-linejoin:round; stroke-width:4; stroke-opacity:1; fill:none\" points=\"102.426,315.375 749.694,315.375 \"/>\n",
       "<polyline clip-path=\"url(#clip842)\" style=\"stroke:#009af9; stroke-linecap:round; stroke-linejoin:round; stroke-width:4; stroke-opacity:1; fill:none\" points=\"102.426,271.761 753.748,271.761 \"/>\n",
       "<polyline clip-path=\"url(#clip842)\" style=\"stroke:#009af9; stroke-linecap:round; stroke-linejoin:round; stroke-width:4; stroke-opacity:1; fill:none\" points=\"102.426,228.147 1941.82,228.147 \"/>\n",
       "<polyline clip-path=\"url(#clip842)\" style=\"stroke:#e26f46; stroke-linecap:round; stroke-linejoin:round; stroke-width:4; stroke-opacity:1; fill:none\" points=\"258.229,184.532 298.663,184.532 \"/>\n",
       "<path clip-path=\"url(#clip840)\" d=\"M2073.85 322.316 L2352.76 322.316 L2352.76 166.796 L2073.85 166.796  Z\" fill=\"#ffffff\" fill-rule=\"evenodd\" fill-opacity=\"1\"/>\n",
       "<polyline clip-path=\"url(#clip840)\" style=\"stroke:#000000; stroke-linecap:round; stroke-linejoin:round; stroke-width:4; stroke-opacity:1; fill:none\" points=\"2073.85,322.316 2352.76,322.316 2352.76,166.796 2073.85,166.796 2073.85,322.316 \"/>\n",
       "<polyline clip-path=\"url(#clip840)\" style=\"stroke:#009af9; stroke-linecap:round; stroke-linejoin:round; stroke-width:4; stroke-opacity:1; fill:none\" points=\"2099.47,218.636 2253.17,218.636 \"/>\n",
       "<path clip-path=\"url(#clip840)\" d=\"M2278.78 201.356 L2283.46 201.356 L2283.46 215.522 L2300.45 215.522 L2300.45 201.356 L2305.13 201.356 L2305.13 235.916 L2300.45 235.916 L2300.45 219.457 L2283.46 219.457 L2283.46 235.916 L2278.78 235.916 L2278.78 201.356 Z\" fill=\"#000000\" fill-rule=\"nonzero\" fill-opacity=\"1\" /><path clip-path=\"url(#clip840)\" d=\"M2322.97 220.245 Q2321.82 218.254 2319.48 218.254 Q2317.14 218.254 2315.98 220.245 Q2314.8 222.235 2314.8 226.217 Q2314.8 230.221 2315.98 232.212 Q2317.14 234.203 2319.48 234.203 Q2321.82 234.203 2322.97 232.212 Q2324.15 230.221 2324.15 226.217 Q2324.15 222.235 2322.97 220.245 M2319.48 216.194 Q2323.2 216.194 2325.17 218.763 Q2327.14 221.332 2327.14 226.217 Q2327.14 231.124 2325.17 233.694 Q2323.2 236.263 2319.48 236.263 Q2315.73 236.263 2313.76 233.694 Q2311.79 231.124 2311.79 226.217 Q2311.79 221.332 2313.76 218.763 Q2315.73 216.194 2319.48 216.194 Z\" fill=\"#000000\" fill-rule=\"nonzero\" fill-opacity=\"1\" /><polyline clip-path=\"url(#clip840)\" style=\"stroke:#e26f46; stroke-linecap:round; stroke-linejoin:round; stroke-width:4; stroke-opacity:1; fill:none\" points=\"2099.47,270.476 2253.17,270.476 \"/>\n",
       "<path clip-path=\"url(#clip840)\" d=\"M2278.78 253.196 L2283.46 253.196 L2283.46 267.362 L2300.45 267.362 L2300.45 253.196 L2305.13 253.196 L2305.13 287.756 L2300.45 287.756 L2300.45 271.297 L2283.46 271.297 L2283.46 287.756 L2278.78 287.756 L2278.78 253.196 Z\" fill=\"#000000\" fill-rule=\"nonzero\" fill-opacity=\"1\" /><path clip-path=\"url(#clip840)\" d=\"M2313.39 285.209 L2318.11 285.209 L2318.11 271.066 L2312.95 272.015 L2312.95 269.33 L2318.27 268.427 L2321.44 268.427 L2321.44 285.209 L2326.19 285.209 L2326.19 287.756 L2313.39 287.756 L2313.39 285.209 Z\" fill=\"#000000\" fill-rule=\"nonzero\" fill-opacity=\"1\" /></svg>\n"
      ]
     },
     "execution_count": 117,
     "metadata": {},
     "output_type": "execute_result"
    }
   ],
   "source": [
    "barcode(result_rips)"
   ]
  },
  {
   "cell_type": "code",
   "execution_count": 118,
   "id": "6fae18d0",
   "metadata": {},
   "outputs": [
    {
     "data": {
      "text/plain": [
       "27-element 0-dimensional PersistenceDiagram:\n",
       " [0.0, 0.0461)\n",
       " [0.0, 0.0781)\n",
       " [0.0, 0.0922)\n",
       " [0.0, 0.0943)\n",
       " [0.0, 0.1)\n",
       " [0.0, 0.1)\n",
       " [0.0, 0.11)\n",
       " [0.0, 0.114)\n",
       " [0.0, 0.14)\n",
       " [0.0, 0.142)\n",
       " [0.0, 0.143)\n",
       " [0.0, 0.156)\n",
       " [0.0, 0.16)\n",
       " ⋮\n",
       " [0.0, 0.27)\n",
       " [0.0, 0.275)\n",
       " [0.0, 0.288)\n",
       " [0.0, 0.305)\n",
       " [0.0, 0.314)\n",
       " [0.0, 0.408)\n",
       " [0.0, 0.719)\n",
       " [0.0, 0.924)\n",
       " [0.0, 1.32)\n",
       " [0.0, 1.32)\n",
       " [0.0, 1.33)\n",
       " [0.0, ∞)"
      ]
     },
     "execution_count": 118,
     "metadata": {},
     "output_type": "execute_result"
    }
   ],
   "source": [
    "diagram=result_rips[1]"
   ]
  },
  {
   "cell_type": "code",
   "execution_count": 119,
   "id": "c9a40546",
   "metadata": {},
   "outputs": [
    {
     "data": {
      "text/plain": [
       "(:intervals, :threshold, :dim, :field, :filtration)"
      ]
     },
     "execution_count": 119,
     "metadata": {},
     "output_type": "execute_result"
    }
   ],
   "source": [
    "propertynames(diagram)"
   ]
  },
  {
   "cell_type": "code",
   "execution_count": 120,
   "id": "a482fa8d",
   "metadata": {},
   "outputs": [
    {
     "data": {
      "text/plain": [
       "Mod{11}"
      ]
     },
     "execution_count": 120,
     "metadata": {},
     "output_type": "execute_result"
    }
   ],
   "source": [
    "diagram.field"
   ]
  },
  {
   "cell_type": "code",
   "execution_count": 121,
   "id": "00dd52a9",
   "metadata": {},
   "outputs": [
    {
     "data": {
      "text/plain": [
       "Rips{Int64, Float64}(nv=27, sparse=false)"
      ]
     },
     "execution_count": 121,
     "metadata": {},
     "output_type": "execute_result"
    }
   ],
   "source": [
    "diagram.filtration"
   ]
  },
  {
   "cell_type": "code",
   "execution_count": 122,
   "id": "3c1f0b12",
   "metadata": {},
   "outputs": [
    {
     "data": {
      "text/plain": [
       "[0.0, ∞) with:\n",
       " birth_simplex: Simplex{0, Float64, Int64}\n",
       " death_simplex: Nothing"
      ]
     },
     "execution_count": 122,
     "metadata": {},
     "output_type": "execute_result"
    }
   ],
   "source": [
    "interval=diagram[end]"
   ]
  },
  {
   "cell_type": "code",
   "execution_count": 123,
   "id": "de616fcf",
   "metadata": {},
   "outputs": [
    {
     "data": {
      "text/plain": [
       "(:birth, :death, :birth_simplex, :death_simplex)"
      ]
     },
     "execution_count": 123,
     "metadata": {},
     "output_type": "execute_result"
    }
   ],
   "source": [
    "propertynames(interval)"
   ]
  },
  {
   "cell_type": "code",
   "execution_count": 124,
   "id": "a682c975",
   "metadata": {},
   "outputs": [
    {
     "data": {
      "text/plain": [
       "0-dimensional Simplex(index=1, birth=0.0):\n",
       "  +(1,)"
      ]
     },
     "execution_count": 124,
     "metadata": {},
     "output_type": "execute_result"
    }
   ],
   "source": [
    "interval.birth_simplex"
   ]
  },
  {
   "cell_type": "code",
   "execution_count": 125,
   "id": "0fcc8e6b",
   "metadata": {},
   "outputs": [
    {
     "data": {
      "text/plain": [
       "Inf"
      ]
     },
     "execution_count": 125,
     "metadata": {},
     "output_type": "execute_result"
    }
   ],
   "source": [
    "interval.death"
   ]
  },
  {
   "cell_type": "code",
   "execution_count": 126,
   "id": "bdfff109",
   "metadata": {},
   "outputs": [
    {
     "data": {
      "text/plain": [
       "0-dimensional Simplex(index=1, birth=0.0):\n",
       "  +(1,)"
      ]
     },
     "execution_count": 126,
     "metadata": {},
     "output_type": "execute_result"
    }
   ],
   "source": [
    "simplex=interval.birth_simplex"
   ]
  },
  {
   "cell_type": "code",
   "execution_count": 127,
   "id": "544ebaed",
   "metadata": {},
   "outputs": [
    {
     "data": {
      "text/plain": [
       "(1,)"
      ]
     },
     "execution_count": 127,
     "metadata": {},
     "output_type": "execute_result"
    }
   ],
   "source": [
    "vertices(simplex)"
   ]
  },
  {
   "cell_type": "code",
   "execution_count": 128,
   "id": "a6cf25e9",
   "metadata": {},
   "outputs": [
    {
     "data": {
      "text/plain": [
       "1-element 1-dimensional PersistenceDiagram:\n",
       " [0.318, 0.401)"
      ]
     },
     "execution_count": 128,
     "metadata": {},
     "output_type": "execute_result"
    }
   ],
   "source": [
    "diagram=result_rips[2]"
   ]
  },
  {
   "cell_type": "code",
   "execution_count": 129,
   "id": "8f3fc8bf",
   "metadata": {},
   "outputs": [
    {
     "data": {
      "text/plain": [
       "[0.318, 0.401) with:\n",
       " birth_simplex: Simplex{1, Float64, Int64}\n",
       " death_simplex: Simplex{2, Float64, Int64}"
      ]
     },
     "execution_count": 129,
     "metadata": {},
     "output_type": "execute_result"
    }
   ],
   "source": [
    "interval=diagram[1]"
   ]
  },
  {
   "cell_type": "code",
   "execution_count": 130,
   "id": "f90800ed",
   "metadata": {},
   "outputs": [
    {
     "data": {
      "text/plain": [
       "0.318472918785882"
      ]
     },
     "execution_count": 130,
     "metadata": {},
     "output_type": "execute_result"
    }
   ],
   "source": [
    "interval.birth"
   ]
  },
  {
   "cell_type": "code",
   "execution_count": 131,
   "id": "21f67bf0",
   "metadata": {},
   "outputs": [
    {
     "data": {
      "text/plain": [
       "0.40112342240262916"
      ]
     },
     "execution_count": 131,
     "metadata": {},
     "output_type": "execute_result"
    }
   ],
   "source": [
    "interval.death"
   ]
  },
  {
   "cell_type": "code",
   "execution_count": 132,
   "id": "eacfb494",
   "metadata": {},
   "outputs": [
    {
     "data": {
      "text/plain": [
       "2-dimensional Simplex(index=852, birth=0.40112342240262916):\n",
       "  +(19, 9, 8)"
      ]
     },
     "execution_count": 132,
     "metadata": {},
     "output_type": "execute_result"
    }
   ],
   "source": [
    "interval.death_simplex"
   ]
  },
  {
   "cell_type": "code",
   "execution_count": 133,
   "id": "91efb703",
   "metadata": {},
   "outputs": [
    {
     "data": {
      "text/plain": [
       "(19, 9, 8)"
      ]
     },
     "execution_count": 133,
     "metadata": {},
     "output_type": "execute_result"
    }
   ],
   "source": [
    "vertices(interval.death_simplex)"
   ]
  },
  {
   "cell_type": "code",
   "execution_count": 134,
   "id": "e9156b92",
   "metadata": {},
   "outputs": [
    {
     "data": {
      "text/plain": [
       "2"
      ]
     },
     "execution_count": 134,
     "metadata": {},
     "output_type": "execute_result"
    }
   ],
   "source": [
    "dim(interval.death_simplex)"
   ]
  },
  {
   "cell_type": "markdown",
   "id": "44908d0b",
   "metadata": {},
   "source": [
    "for a more in-depth usage guide with other examples, see https://mtsch.github.io/Ripserer.jl/dev/generated/basics/"
   ]
  },
  {
   "cell_type": "markdown",
   "id": "628d3997",
   "metadata": {},
   "source": [
    "### PersistenceDiagrams.jl\n",
    "PersistenceDiagrams.jl offers more functionality when you obtain persistence diagrams from a Rips complex."
   ]
  },
  {
   "cell_type": "raw",
   "id": "5787c775",
   "metadata": {},
   "source": [
    "] add PersistenceDiagrams"
   ]
  },
  {
   "cell_type": "code",
   "execution_count": 135,
   "id": "a9c13e65",
   "metadata": {},
   "outputs": [
    {
     "data": {
      "text/plain": [
       "27-element 0-dimensional PersistenceDiagram:\n",
       " [0.0, 0.0461)\n",
       " [0.0, 0.0781)\n",
       " [0.0, 0.0922)\n",
       " [0.0, 0.0943)\n",
       " [0.0, 0.1)\n",
       " [0.0, 0.1)\n",
       " [0.0, 0.11)\n",
       " [0.0, 0.114)\n",
       " [0.0, 0.14)\n",
       " [0.0, 0.142)\n",
       " [0.0, 0.143)\n",
       " [0.0, 0.156)\n",
       " [0.0, 0.16)\n",
       " ⋮\n",
       " [0.0, 0.27)\n",
       " [0.0, 0.275)\n",
       " [0.0, 0.288)\n",
       " [0.0, 0.305)\n",
       " [0.0, 0.314)\n",
       " [0.0, 0.408)\n",
       " [0.0, 0.719)\n",
       " [0.0, 0.924)\n",
       " [0.0, 1.32)\n",
       " [0.0, 1.32)\n",
       " [0.0, 1.33)\n",
       " [0.0, ∞)"
      ]
     },
     "execution_count": 135,
     "metadata": {},
     "output_type": "execute_result"
    }
   ],
   "source": [
    "diagram=result_rips[1]"
   ]
  },
  {
   "cell_type": "code",
   "execution_count": 136,
   "id": "f1ddd171",
   "metadata": {},
   "outputs": [
    {
     "data": {
      "text/plain": [
       "PersistenceDiagrams.PersistenceDiagram"
      ]
     },
     "execution_count": 136,
     "metadata": {},
     "output_type": "execute_result"
    }
   ],
   "source": [
    "typeof(diagram)"
   ]
  },
  {
   "cell_type": "code",
   "execution_count": 137,
   "id": "9e5e8f89",
   "metadata": {},
   "outputs": [
    {
     "data": {
      "image/png": "[encoded data removed]",
      "image/svg+xml": [
       "<?xml version=\"1.0\" encoding=\"utf-8\"?>\n",
       "<svg xmlns=\"http://www.w3.org/2000/svg\" xmlns:xlink=\"http://www.w3.org/1999/xlink\" width=\"600\" height=\"400\" viewBox=\"0 0 2400 1600\">\n",
       "<defs>\n",
       "  <clipPath id=\"clip880\">\n",
       "    <rect x=\"0\" y=\"0\" width=\"2400\" height=\"1600\"/>\n",
       "  </clipPath>\n",
       "</defs>\n",
       "<path clip-path=\"url(#clip880)\" d=\"M0 1600 L2400 1600 L2400 0 L0 0  Z\" fill=\"#ffffff\" fill-rule=\"evenodd\" fill-opacity=\"1\"/>\n",
       "<defs>\n",
       "  <clipPath id=\"clip881\">\n",
       "    <rect x=\"480\" y=\"0\" width=\"1681\" height=\"1600\"/>\n",
       "  </clipPath>\n",
       "</defs>\n",
       "<path clip-path=\"url(#clip880)\" d=\"M47.2441 1423.18 L1997 1423.18 L1997 123.472 L47.2441 123.472  Z\" fill=\"#ffffff\" fill-rule=\"evenodd\" fill-opacity=\"1\"/>\n",
       "<defs>\n",
       "  <clipPath id=\"clip882\">\n",
       "    <rect x=\"47\" y=\"123\" width=\"1951\" height=\"1301\"/>\n",
       "  </clipPath>\n",
       "</defs>\n",
       "<polyline clip-path=\"url(#clip882)\" style=\"stroke:#000000; stroke-linecap:round; stroke-linejoin:round; stroke-width:2; stroke-opacity:0.1; fill:none\" points=\"102.426,1423.18 102.426,123.472 \"/>\n",
       "<polyline clip-path=\"url(#clip882)\" style=\"stroke:#000000; stroke-linecap:round; stroke-linejoin:round; stroke-width:2; stroke-opacity:0.1; fill:none\" points=\"591.644,1423.18 591.644,123.472 \"/>\n",
       "<polyline clip-path=\"url(#clip882)\" style=\"stroke:#000000; stroke-linecap:round; stroke-linejoin:round; stroke-width:2; stroke-opacity:0.1; fill:none\" points=\"1080.86,1423.18 1080.86,123.472 \"/>\n",
       "<polyline clip-path=\"url(#clip882)\" style=\"stroke:#000000; stroke-linecap:round; stroke-linejoin:round; stroke-width:2; stroke-opacity:0.1; fill:none\" points=\"1570.08,1423.18 1570.08,123.472 \"/>\n",
       "<polyline clip-path=\"url(#clip880)\" style=\"stroke:#000000; stroke-linecap:round; stroke-linejoin:round; stroke-width:4; stroke-opacity:1; fill:none\" points=\"47.2441,1423.18 1997,1423.18 \"/>\n",
       "<polyline clip-path=\"url(#clip880)\" style=\"stroke:#000000; stroke-linecap:round; stroke-linejoin:round; stroke-width:4; stroke-opacity:1; fill:none\" points=\"102.426,1423.18 102.426,1404.28 \"/>\n",
       "<polyline clip-path=\"url(#clip880)\" style=\"stroke:#000000; stroke-linecap:round; stroke-linejoin:round; stroke-width:4; stroke-opacity:1; fill:none\" points=\"591.644,1423.18 591.644,1404.28 \"/>\n",
       "<polyline clip-path=\"url(#clip880)\" style=\"stroke:#000000; stroke-linecap:round; stroke-linejoin:round; stroke-width:4; stroke-opacity:1; fill:none\" points=\"1080.86,1423.18 1080.86,1404.28 \"/>\n",
       "<polyline clip-path=\"url(#clip880)\" style=\"stroke:#000000; stroke-linecap:round; stroke-linejoin:round; stroke-width:4; stroke-opacity:1; fill:none\" points=\"1570.08,1423.18 1570.08,1404.28 \"/>\n",
       "<path clip-path=\"url(#clip880)\" d=\"M102.426 1454.1 Q98.8147 1454.1 96.986 1457.66 Q95.1805 1461.2 95.1805 1468.33 Q95.1805 1475.44 96.986 1479.01 Q98.8147 1482.55 102.426 1482.55 Q106.06 1482.55 107.866 1479.01 Q109.694 1475.44 109.694 1468.33 Q109.694 1461.2 107.866 1457.66 Q106.06 1454.1 102.426 1454.1 M102.426 1450.39 Q108.236 1450.39 111.292 1455 Q114.37 1459.58 114.37 1468.33 Q114.37 1477.06 111.292 1481.67 Q108.236 1486.25 102.426 1486.25 Q96.6157 1486.25 93.537 1481.67 Q90.4814 1477.06 90.4814 1468.33 Q90.4814 1459.58 93.537 1455 Q96.6157 1450.39 102.426 1450.39 Z\" fill=\"#000000\" fill-rule=\"nonzero\" fill-opacity=\"1\" /><path clip-path=\"url(#clip880)\" d=\"M582.026 1481.64 L589.665 1481.64 L589.665 1455.28 L581.355 1456.95 L581.355 1452.69 L589.619 1451.02 L594.295 1451.02 L594.295 1481.64 L601.934 1481.64 L601.934 1485.58 L582.026 1485.58 L582.026 1481.64 Z\" fill=\"#000000\" fill-rule=\"nonzero\" fill-opacity=\"1\" /><path clip-path=\"url(#clip880)\" d=\"M1075.52 1481.64 L1091.84 1481.64 L1091.84 1485.58 L1069.89 1485.58 L1069.89 1481.64 Q1072.55 1478.89 1077.14 1474.26 Q1081.74 1469.61 1082.92 1468.27 Q1085.17 1465.74 1086.05 1464.01 Q1086.95 1462.25 1086.95 1460.56 Q1086.95 1457.8 1085.01 1456.07 Q1083.09 1454.33 1079.98 1454.33 Q1077.78 1454.33 1075.33 1455.09 Q1072.9 1455.86 1070.12 1457.41 L1070.12 1452.69 Q1072.95 1451.55 1075.4 1450.97 Q1077.85 1450.39 1079.89 1450.39 Q1085.26 1450.39 1088.46 1453.08 Q1091.65 1455.77 1091.65 1460.26 Q1091.65 1462.39 1090.84 1464.31 Q1090.05 1466.2 1087.95 1468.8 Q1087.37 1469.47 1084.27 1472.69 Q1081.16 1475.88 1075.52 1481.64 Z\" fill=\"#000000\" fill-rule=\"nonzero\" fill-opacity=\"1\" /><path clip-path=\"url(#clip880)\" d=\"M1574.33 1466.95 Q1577.69 1467.66 1579.56 1469.93 Q1581.46 1472.2 1581.46 1475.53 Q1581.46 1480.65 1577.94 1483.45 Q1574.42 1486.25 1567.94 1486.25 Q1565.76 1486.25 1563.45 1485.81 Q1561.16 1485.39 1558.7 1484.54 L1558.7 1480.02 Q1560.65 1481.16 1562.96 1481.74 Q1565.28 1482.32 1567.8 1482.32 Q1572.2 1482.32 1574.49 1480.58 Q1576.81 1478.84 1576.81 1475.53 Q1576.81 1472.48 1574.65 1470.77 Q1572.52 1469.03 1568.7 1469.03 L1564.68 1469.03 L1564.68 1465.19 L1568.89 1465.19 Q1572.34 1465.19 1574.17 1463.82 Q1576 1462.43 1576 1459.84 Q1576 1457.18 1574.1 1455.77 Q1572.22 1454.33 1568.7 1454.33 Q1566.78 1454.33 1564.58 1454.75 Q1562.39 1455.16 1559.75 1456.04 L1559.75 1451.88 Q1562.41 1451.14 1564.72 1450.77 Q1567.06 1450.39 1569.12 1450.39 Q1574.45 1450.39 1577.55 1452.83 Q1580.65 1455.23 1580.65 1459.35 Q1580.65 1462.22 1579.01 1464.21 Q1577.36 1466.18 1574.33 1466.95 Z\" fill=\"#000000\" fill-rule=\"nonzero\" fill-opacity=\"1\" /><path clip-path=\"url(#clip880)\" d=\"M1021.18 1522.27 L1021.18 1532.4 L1033.25 1532.4 L1033.25 1536.95 L1021.18 1536.95 L1021.18 1556.3 Q1021.18 1560.66 1022.36 1561.9 Q1023.57 1563.14 1027.23 1563.14 L1033.25 1563.14 L1033.25 1568.04 L1027.23 1568.04 Q1020.45 1568.04 1017.87 1565.53 Q1015.29 1562.98 1015.29 1556.3 L1015.29 1536.95 L1011 1536.95 L1011 1532.4 L1015.29 1532.4 L1015.29 1522.27 L1021.18 1522.27 Z\" fill=\"#000000\" fill-rule=\"nonzero\" fill-opacity=\"1\" /><polyline clip-path=\"url(#clip880)\" style=\"stroke:#000000; stroke-linecap:round; stroke-linejoin:round; stroke-width:4; stroke-opacity:1; fill:none\" points=\"47.2441,1423.18 47.2441,123.472 \"/>\n",
       "<path clip-path=\"url(#clip880)\" d=\"M616.079 18.8205 L616.079 41.5461 L626.368 41.5461 Q632.08 41.5461 635.199 38.5889 Q638.318 35.6318 638.318 30.163 Q638.318 24.7348 635.199 21.7777 Q632.08 18.8205 626.368 18.8205 L616.079 18.8205 M607.896 12.096 L626.368 12.096 Q636.536 12.096 641.721 16.714 Q646.947 21.2916 646.947 30.163 Q646.947 39.1155 641.721 43.6931 Q636.536 48.2706 626.368 48.2706 L616.079 48.2706 L616.079 72.576 L607.896 72.576 L607.896 12.096 Z\" fill=\"#000000\" fill-rule=\"nonzero\" fill-opacity=\"1\" /><path clip-path=\"url(#clip880)\" d=\"M693.451 48.0275 L693.451 51.6733 L659.18 51.6733 Q659.666 59.3701 663.798 63.421 Q667.971 67.4314 675.384 67.4314 Q679.678 67.4314 683.688 66.3781 Q687.739 65.3249 691.709 63.2184 L691.709 70.267 Q687.699 71.9684 683.486 72.8596 Q679.273 73.7508 674.938 73.7508 Q664.082 73.7508 657.722 67.4314 Q651.403 61.1119 651.403 50.3365 Q651.403 39.1965 657.398 32.6746 Q663.434 26.1121 673.642 26.1121 Q682.797 26.1121 688.104 32.0264 Q693.451 37.9003 693.451 48.0275 M685.997 45.84 Q685.916 39.7232 682.554 36.0774 Q679.232 32.4315 673.723 32.4315 Q667.485 32.4315 663.717 35.9558 Q659.991 39.4801 659.423 45.8805 L685.997 45.84 Z\" fill=\"#000000\" fill-rule=\"nonzero\" fill-opacity=\"1\" /><path clip-path=\"url(#clip880)\" d=\"M731.975 34.1734 Q730.719 33.4443 729.22 33.1202 Q727.762 32.7556 725.98 32.7556 Q719.66 32.7556 716.258 36.8875 Q712.895 40.9789 712.895 48.6757 L712.895 72.576 L705.401 72.576 L705.401 27.2059 L712.895 27.2059 L712.895 34.2544 Q715.245 30.1225 719.012 28.1376 Q722.78 26.1121 728.167 26.1121 Q728.937 26.1121 729.869 26.2337 Q730.8 26.3147 731.935 26.5172 L731.975 34.1734 Z\" fill=\"#000000\" fill-rule=\"nonzero\" fill-opacity=\"1\" /><path clip-path=\"url(#clip880)\" d=\"M768.717 28.5427 L768.717 35.5912 Q765.557 33.9709 762.154 33.1607 Q758.752 32.3505 755.106 32.3505 Q749.556 32.3505 746.761 34.0519 Q744.006 35.7533 744.006 39.156 Q744.006 41.7486 745.991 43.2475 Q747.976 44.7058 753.971 46.0426 L756.524 46.6097 Q764.463 48.3111 767.785 51.4303 Q771.147 54.509 771.147 60.0587 Q771.147 66.3781 766.124 70.0644 Q761.142 73.7508 752.392 73.7508 Q748.746 73.7508 744.776 73.0216 Q740.847 72.3329 736.472 70.9151 L736.472 63.2184 Q740.604 65.3654 744.614 66.4591 Q748.624 67.5124 752.554 67.5124 Q757.82 67.5124 760.655 65.73 Q763.491 63.9071 763.491 60.6258 Q763.491 57.5877 761.425 55.9673 Q759.4 54.3469 752.473 52.8481 L749.88 52.2405 Q742.953 50.7821 739.874 47.7845 Q736.796 44.7463 736.796 39.4801 Q736.796 33.0797 741.333 29.5959 Q745.87 26.1121 754.215 26.1121 Q758.346 26.1121 761.992 26.7198 Q765.638 27.3274 768.717 28.5427 Z\" fill=\"#000000\" fill-rule=\"nonzero\" fill-opacity=\"1\" /><path clip-path=\"url(#clip880)\" d=\"M783.016 27.2059 L790.47 27.2059 L790.47 72.576 L783.016 72.576 L783.016 27.2059 M783.016 9.54393 L790.47 9.54393 L790.47 18.9825 L783.016 18.9825 L783.016 9.54393 Z\" fill=\"#000000\" fill-rule=\"nonzero\" fill-opacity=\"1\" /><path clip-path=\"url(#clip880)\" d=\"M834.99 28.5427 L834.99 35.5912 Q831.83 33.9709 828.427 33.1607 Q825.024 32.3505 821.379 32.3505 Q815.829 32.3505 813.034 34.0519 Q810.279 35.7533 810.279 39.156 Q810.279 41.7486 812.264 43.2475 Q814.249 44.7058 820.244 46.0426 L822.796 46.6097 Q830.736 48.3111 834.058 51.4303 Q837.42 54.509 837.42 60.0587 Q837.42 66.3781 832.397 70.0644 Q827.414 73.7508 818.664 73.7508 Q815.019 73.7508 811.049 73.0216 Q807.119 72.3329 802.744 70.9151 L802.744 63.2184 Q806.876 65.3654 810.887 66.4591 Q814.897 67.5124 818.826 67.5124 Q824.093 67.5124 826.928 65.73 Q829.764 63.9071 829.764 60.6258 Q829.764 57.5877 827.698 55.9673 Q825.673 54.3469 818.745 52.8481 L816.153 52.2405 Q809.226 50.7821 806.147 47.7845 Q803.068 44.7463 803.068 39.4801 Q803.068 33.0797 807.605 29.5959 Q812.142 26.1121 820.487 26.1121 Q824.619 26.1121 828.265 26.7198 Q831.911 27.3274 834.99 28.5427 Z\" fill=\"#000000\" fill-rule=\"nonzero\" fill-opacity=\"1\" /><path clip-path=\"url(#clip880)\" d=\"M856.662 14.324 L856.662 27.2059 L872.015 27.2059 L872.015 32.9987 L856.662 32.9987 L856.662 57.6282 Q856.662 63.1779 858.161 64.7578 Q859.7 66.3376 864.359 66.3376 L872.015 66.3376 L872.015 72.576 L864.359 72.576 Q855.73 72.576 852.449 69.3758 Q849.168 66.1351 849.168 57.6282 L849.168 32.9987 L843.699 32.9987 L843.699 27.2059 L849.168 27.2059 L849.168 14.324 L856.662 14.324 Z\" fill=\"#000000\" fill-rule=\"nonzero\" fill-opacity=\"1\" /><path clip-path=\"url(#clip880)\" d=\"M920.626 48.0275 L920.626 51.6733 L886.355 51.6733 Q886.841 59.3701 890.973 63.421 Q895.146 67.4314 902.559 67.4314 Q906.853 67.4314 910.863 66.3781 Q914.914 65.3249 918.884 63.2184 L918.884 70.267 Q914.873 71.9684 910.66 72.8596 Q906.448 73.7508 902.113 73.7508 Q891.257 73.7508 884.897 67.4314 Q878.577 61.1119 878.577 50.3365 Q878.577 39.1965 884.573 32.6746 Q890.608 26.1121 900.817 26.1121 Q909.972 26.1121 915.279 32.0264 Q920.626 37.9003 920.626 48.0275 M913.172 45.84 Q913.091 39.7232 909.729 36.0774 Q906.407 32.4315 900.898 32.4315 Q894.659 32.4315 890.892 35.9558 Q887.165 39.4801 886.598 45.8805 L913.172 45.84 Z\" fill=\"#000000\" fill-rule=\"nonzero\" fill-opacity=\"1\" /><path clip-path=\"url(#clip880)\" d=\"M970.573 45.1919 L970.573 72.576 L963.12 72.576 L963.12 45.4349 Q963.12 38.994 960.608 35.7938 Q958.097 32.5936 953.073 32.5936 Q947.038 32.5936 943.554 36.4419 Q940.07 40.2903 940.07 46.9338 L940.07 72.576 L932.576 72.576 L932.576 27.2059 L940.07 27.2059 L940.07 34.2544 Q942.744 30.163 946.349 28.1376 Q949.995 26.1121 954.734 26.1121 Q962.553 26.1121 966.563 30.9732 Q970.573 35.7938 970.573 45.1919 Z\" fill=\"#000000\" fill-rule=\"nonzero\" fill-opacity=\"1\" /><path clip-path=\"url(#clip880)\" d=\"M1018.09 28.9478 L1018.09 35.9153 Q1014.93 34.1734 1011.73 33.3227 Q1008.57 32.4315 1005.33 32.4315 Q998.079 32.4315 994.069 37.0496 Q990.058 41.6271 990.058 49.9314 Q990.058 58.2358 994.069 62.8538 Q998.079 67.4314 1005.33 67.4314 Q1008.57 67.4314 1011.73 66.5807 Q1014.93 65.6895 1018.09 63.9476 L1018.09 70.8341 Q1014.97 72.2924 1011.61 73.0216 Q1008.29 73.7508 1004.52 73.7508 Q994.271 73.7508 988.235 67.3098 Q982.199 60.8689 982.199 49.9314 Q982.199 38.832 988.276 32.472 Q994.393 26.1121 1005.01 26.1121 Q1008.45 26.1121 1011.73 26.8413 Q1015.01 27.5299 1018.09 28.9478 Z\" fill=\"#000000\" fill-rule=\"nonzero\" fill-opacity=\"1\" /><path clip-path=\"url(#clip880)\" d=\"M1069.86 48.0275 L1069.86 51.6733 L1035.59 51.6733 Q1036.08 59.3701 1040.21 63.421 Q1044.38 67.4314 1051.79 67.4314 Q1056.09 67.4314 1060.1 66.3781 Q1064.15 65.3249 1068.12 63.2184 L1068.12 70.267 Q1064.11 71.9684 1059.9 72.8596 Q1055.68 73.7508 1051.35 73.7508 Q1040.49 73.7508 1034.13 67.4314 Q1027.81 61.1119 1027.81 50.3365 Q1027.81 39.1965 1033.81 32.6746 Q1039.84 26.1121 1050.05 26.1121 Q1059.21 26.1121 1064.51 32.0264 Q1069.86 37.9003 1069.86 48.0275 M1062.41 45.84 Q1062.33 39.7232 1058.96 36.0774 Q1055.64 32.4315 1050.13 32.4315 Q1043.89 32.4315 1040.13 35.9558 Q1036.4 39.4801 1035.83 45.8805 L1062.41 45.84 Z\" fill=\"#000000\" fill-rule=\"nonzero\" fill-opacity=\"1\" /><path clip-path=\"url(#clip880)\" d=\"M1116.97 43.6931 L1116.97 65.8515 L1130.1 65.8515 Q1136.7 65.8515 1139.86 63.1374 Q1143.06 60.3828 1143.06 54.752 Q1143.06 49.0808 1139.86 46.4072 Q1136.7 43.6931 1130.1 43.6931 L1116.97 43.6931 M1116.97 18.8205 L1116.97 37.0496 L1129.09 37.0496 Q1135.08 37.0496 1138 34.8216 Q1140.95 32.5531 1140.95 27.935 Q1140.95 23.3575 1138 21.089 Q1135.08 18.8205 1129.09 18.8205 L1116.97 18.8205 M1108.79 12.096 L1129.69 12.096 Q1139.05 12.096 1144.11 15.9849 Q1149.18 19.8737 1149.18 27.0438 Q1149.18 32.5936 1146.59 35.8748 Q1143.99 39.156 1138.97 39.9662 Q1145.01 41.2625 1148.33 45.3944 Q1151.69 49.4858 1151.69 55.6432 Q1151.69 63.745 1146.18 68.1605 Q1140.67 72.576 1130.5 72.576 L1108.79 72.576 L1108.79 12.096 Z\" fill=\"#000000\" fill-rule=\"nonzero\" fill-opacity=\"1\" /><path clip-path=\"url(#clip880)\" d=\"M1186 49.7694 Q1176.97 49.7694 1173.48 51.8354 Q1170 53.9013 1170 58.8839 Q1170 62.8538 1172.59 65.2034 Q1175.23 67.5124 1179.72 67.5124 Q1185.92 67.5124 1189.65 63.1374 Q1193.41 58.7219 1193.41 51.4303 L1193.41 49.7694 L1186 49.7694 M1200.87 46.6907 L1200.87 72.576 L1193.41 72.576 L1193.41 65.6895 Q1190.86 69.8214 1187.05 71.8063 Q1183.25 73.7508 1177.74 73.7508 Q1170.77 73.7508 1166.64 69.8619 Q1162.55 65.9325 1162.55 59.3701 Q1162.55 51.7138 1167.65 47.825 Q1172.79 43.9361 1182.96 43.9361 L1193.41 43.9361 L1193.41 43.2069 Q1193.41 38.0623 1190.01 35.2672 Q1186.65 32.4315 1180.53 32.4315 Q1176.64 32.4315 1172.96 33.3632 Q1169.27 34.295 1165.87 36.1584 L1165.87 29.2718 Q1169.96 27.692 1173.81 26.9223 Q1177.66 26.1121 1181.3 26.1121 Q1191.15 26.1121 1196.01 31.2163 Q1200.87 36.3204 1200.87 46.6907 Z\" fill=\"#000000\" fill-rule=\"nonzero\" fill-opacity=\"1\" /><path clip-path=\"url(#clip880)\" d=\"M1242.51 34.1734 Q1241.25 33.4443 1239.76 33.1202 Q1238.3 32.7556 1236.52 32.7556 Q1230.2 32.7556 1226.79 36.8875 Q1223.43 40.9789 1223.43 48.6757 L1223.43 72.576 L1215.94 72.576 L1215.94 27.2059 L1223.43 27.2059 L1223.43 34.2544 Q1225.78 30.1225 1229.55 28.1376 Q1233.31 26.1121 1238.7 26.1121 Q1239.47 26.1121 1240.4 26.2337 Q1241.34 26.3147 1242.47 26.5172 L1242.51 34.1734 Z\" fill=\"#000000\" fill-rule=\"nonzero\" fill-opacity=\"1\" /><path clip-path=\"url(#clip880)\" d=\"M1281.16 28.9478 L1281.16 35.9153 Q1278 34.1734 1274.8 33.3227 Q1271.64 32.4315 1268.4 32.4315 Q1261.14 32.4315 1257.13 37.0496 Q1253.12 41.6271 1253.12 49.9314 Q1253.12 58.2358 1257.13 62.8538 Q1261.14 67.4314 1268.4 67.4314 Q1271.64 67.4314 1274.8 66.5807 Q1278 65.6895 1281.16 63.9476 L1281.16 70.8341 Q1278.04 72.2924 1274.67 73.0216 Q1271.35 73.7508 1267.59 73.7508 Q1257.34 73.7508 1251.3 67.3098 Q1245.27 60.8689 1245.27 49.9314 Q1245.27 38.832 1251.34 32.472 Q1257.46 26.1121 1268.07 26.1121 Q1271.52 26.1121 1274.8 26.8413 Q1278.08 27.5299 1281.16 28.9478 Z\" fill=\"#000000\" fill-rule=\"nonzero\" fill-opacity=\"1\" /><path clip-path=\"url(#clip880)\" d=\"M1311.7 32.4315 Q1305.7 32.4315 1302.22 37.1306 Q1298.74 41.7891 1298.74 49.9314 Q1298.74 58.0738 1302.18 62.7728 Q1305.66 67.4314 1311.7 67.4314 Q1317.65 67.4314 1321.14 62.7323 Q1324.62 58.0333 1324.62 49.9314 Q1324.62 41.8701 1321.14 37.1711 Q1317.65 32.4315 1311.7 32.4315 M1311.7 26.1121 Q1321.42 26.1121 1326.97 32.4315 Q1332.52 38.7509 1332.52 49.9314 Q1332.52 61.0714 1326.97 67.4314 Q1321.42 73.7508 1311.7 73.7508 Q1301.94 73.7508 1296.39 67.4314 Q1290.88 61.0714 1290.88 49.9314 Q1290.88 38.7509 1296.39 32.4315 Q1301.94 26.1121 1311.7 26.1121 Z\" fill=\"#000000\" fill-rule=\"nonzero\" fill-opacity=\"1\" /><path clip-path=\"url(#clip880)\" d=\"M1374.73 34.0924 L1374.73 9.54393 L1382.19 9.54393 L1382.19 72.576 L1374.73 72.576 L1374.73 65.7705 Q1372.38 69.8214 1368.78 71.8063 Q1365.21 73.7508 1360.19 73.7508 Q1351.97 73.7508 1346.78 67.1883 Q1341.64 60.6258 1341.64 49.9314 Q1341.64 39.2371 1346.78 32.6746 Q1351.97 26.1121 1360.19 26.1121 Q1365.21 26.1121 1368.78 28.0971 Q1372.38 30.0415 1374.73 34.0924 M1349.33 49.9314 Q1349.33 58.1548 1352.7 62.8538 Q1356.1 67.5124 1362.01 67.5124 Q1367.93 67.5124 1371.33 62.8538 Q1374.73 58.1548 1374.73 49.9314 Q1374.73 41.7081 1371.33 37.0496 Q1367.93 32.3505 1362.01 32.3505 Q1356.1 32.3505 1352.7 37.0496 Q1349.33 41.7081 1349.33 49.9314 Z\" fill=\"#000000\" fill-rule=\"nonzero\" fill-opacity=\"1\" /><path clip-path=\"url(#clip880)\" d=\"M1436.35 48.0275 L1436.35 51.6733 L1402.08 51.6733 Q1402.56 59.3701 1406.69 63.421 Q1410.87 67.4314 1418.28 67.4314 Q1422.57 67.4314 1426.58 66.3781 Q1430.63 65.3249 1434.6 63.2184 L1434.6 70.267 Q1430.59 71.9684 1426.38 72.8596 Q1422.17 73.7508 1417.83 73.7508 Q1406.98 73.7508 1400.62 67.4314 Q1394.3 61.1119 1394.3 50.3365 Q1394.3 39.1965 1400.29 32.6746 Q1406.33 26.1121 1416.54 26.1121 Q1425.69 26.1121 1431 32.0264 Q1436.35 37.9003 1436.35 48.0275 M1428.89 45.84 Q1428.81 39.7232 1425.45 36.0774 Q1422.13 32.4315 1416.62 32.4315 Q1410.38 32.4315 1406.61 35.9558 Q1402.89 39.4801 1402.32 45.8805 L1428.89 45.84 Z\" fill=\"#000000\" fill-rule=\"nonzero\" fill-opacity=\"1\" /><polyline clip-path=\"url(#clip882)\" style=\"stroke:#808080; stroke-linecap:round; stroke-linejoin:round; stroke-width:4; stroke-opacity:1; fill:none\" stroke-dasharray=\"2, 4\" points=\"1941.82,2722.89 1941.82,-1176.24 \"/>\n",
       "<polyline clip-path=\"url(#clip882)\" style=\"stroke:#009af9; stroke-linecap:round; stroke-linejoin:round; stroke-width:4; stroke-opacity:1; fill:none\" points=\"102.426,1362.04 124.978,1362.04 \"/>\n",
       "<polyline clip-path=\"url(#clip882)\" style=\"stroke:#009af9; stroke-linecap:round; stroke-linejoin:round; stroke-width:4; stroke-opacity:1; fill:none\" points=\"102.426,1316.76 140.635,1316.76 \"/>\n",
       "<polyline clip-path=\"url(#clip882)\" style=\"stroke:#009af9; stroke-linecap:round; stroke-linejoin:round; stroke-width:4; stroke-opacity:1; fill:none\" points=\"102.426,1271.47 147.53,1271.47 \"/>\n",
       "<polyline clip-path=\"url(#clip882)\" style=\"stroke:#009af9; stroke-linecap:round; stroke-linejoin:round; stroke-width:4; stroke-opacity:1; fill:none\" points=\"102.426,1226.19 148.579,1226.19 \"/>\n",
       "<polyline clip-path=\"url(#clip882)\" style=\"stroke:#009af9; stroke-linecap:round; stroke-linejoin:round; stroke-width:4; stroke-opacity:1; fill:none\" points=\"102.426,1180.9 151.409,1180.9 \"/>\n",
       "<polyline clip-path=\"url(#clip882)\" style=\"stroke:#009af9; stroke-linecap:round; stroke-linejoin:round; stroke-width:4; stroke-opacity:1; fill:none\" points=\"102.426,1135.61 151.592,1135.61 \"/>\n",
       "<polyline clip-path=\"url(#clip882)\" style=\"stroke:#009af9; stroke-linecap:round; stroke-linejoin:round; stroke-width:4; stroke-opacity:1; fill:none\" points=\"102.426,1090.33 156.24,1090.33 \"/>\n",
       "<polyline clip-path=\"url(#clip882)\" style=\"stroke:#009af9; stroke-linecap:round; stroke-linejoin:round; stroke-width:4; stroke-opacity:1; fill:none\" points=\"102.426,1045.04 158.205,1045.04 \"/>\n",
       "<polyline clip-path=\"url(#clip882)\" style=\"stroke:#009af9; stroke-linecap:round; stroke-linejoin:round; stroke-width:4; stroke-opacity:1; fill:none\" points=\"102.426,999.756 170.96,999.756 \"/>\n",
       "<polyline clip-path=\"url(#clip882)\" style=\"stroke:#009af9; stroke-linecap:round; stroke-linejoin:round; stroke-width:4; stroke-opacity:1; fill:none\" points=\"102.426,954.47 171.957,954.47 \"/>\n",
       "<polyline clip-path=\"url(#clip882)\" style=\"stroke:#009af9; stroke-linecap:round; stroke-linejoin:round; stroke-width:4; stroke-opacity:1; fill:none\" points=\"102.426,909.184 172.471,909.184 \"/>\n",
       "<polyline clip-path=\"url(#clip882)\" style=\"stroke:#009af9; stroke-linecap:round; stroke-linejoin:round; stroke-width:4; stroke-opacity:1; fill:none\" points=\"102.426,863.898 178.844,863.898 \"/>\n",
       "<polyline clip-path=\"url(#clip882)\" style=\"stroke:#009af9; stroke-linecap:round; stroke-linejoin:round; stroke-width:4; stroke-opacity:1; fill:none\" points=\"102.426,818.612 180.854,818.612 \"/>\n",
       "<polyline clip-path=\"url(#clip882)\" style=\"stroke:#009af9; stroke-linecap:round; stroke-linejoin:round; stroke-width:4; stroke-opacity:1; fill:none\" points=\"102.426,773.326 181.31,773.326 \"/>\n",
       "<polyline clip-path=\"url(#clip882)\" style=\"stroke:#009af9; stroke-linecap:round; stroke-linejoin:round; stroke-width:4; stroke-opacity:1; fill:none\" points=\"102.426,728.04 234.061,728.04 \"/>\n",
       "<polyline clip-path=\"url(#clip882)\" style=\"stroke:#009af9; stroke-linecap:round; stroke-linejoin:round; stroke-width:4; stroke-opacity:1; fill:none\" points=\"102.426,682.754 234.605,682.754 \"/>\n",
       "<polyline clip-path=\"url(#clip882)\" style=\"stroke:#009af9; stroke-linecap:round; stroke-linejoin:round; stroke-width:4; stroke-opacity:1; fill:none\" points=\"102.426,637.468 236.961,637.468 \"/>\n",
       "<polyline clip-path=\"url(#clip882)\" style=\"stroke:#009af9; stroke-linecap:round; stroke-linejoin:round; stroke-width:4; stroke-opacity:1; fill:none\" points=\"102.426,592.182 243.283,592.182 \"/>\n",
       "<polyline clip-path=\"url(#clip882)\" style=\"stroke:#009af9; stroke-linecap:round; stroke-linejoin:round; stroke-width:4; stroke-opacity:1; fill:none\" points=\"102.426,546.896 251.537,546.896 \"/>\n",
       "<polyline clip-path=\"url(#clip882)\" style=\"stroke:#009af9; stroke-linecap:round; stroke-linejoin:round; stroke-width:4; stroke-opacity:1; fill:none\" points=\"102.426,501.61 255.966,501.61 \"/>\n",
       "<polyline clip-path=\"url(#clip882)\" style=\"stroke:#009af9; stroke-linecap:round; stroke-linejoin:round; stroke-width:4; stroke-opacity:1; fill:none\" points=\"102.426,456.324 302.049,456.324 \"/>\n",
       "<polyline clip-path=\"url(#clip882)\" style=\"stroke:#009af9; stroke-linecap:round; stroke-linejoin:round; stroke-width:4; stroke-opacity:1; fill:none\" points=\"102.426,411.038 454.298,411.038 \"/>\n",
       "<polyline clip-path=\"url(#clip882)\" style=\"stroke:#009af9; stroke-linecap:round; stroke-linejoin:round; stroke-width:4; stroke-opacity:1; fill:none\" points=\"102.426,365.752 554.655,365.752 \"/>\n",
       "<polyline clip-path=\"url(#clip882)\" style=\"stroke:#009af9; stroke-linecap:round; stroke-linejoin:round; stroke-width:4; stroke-opacity:1; fill:none\" points=\"102.426,320.466 748.676,320.466 \"/>\n",
       "<polyline clip-path=\"url(#clip882)\" style=\"stroke:#009af9; stroke-linecap:round; stroke-linejoin:round; stroke-width:4; stroke-opacity:1; fill:none\" points=\"102.426,275.18 749.694,275.18 \"/>\n",
       "<polyline clip-path=\"url(#clip882)\" style=\"stroke:#009af9; stroke-linecap:round; stroke-linejoin:round; stroke-width:4; stroke-opacity:1; fill:none\" points=\"102.426,229.894 753.748,229.894 \"/>\n",
       "<polyline clip-path=\"url(#clip882)\" style=\"stroke:#009af9; stroke-linecap:round; stroke-linejoin:round; stroke-width:4; stroke-opacity:1; fill:none\" points=\"102.426,184.608 1941.82,184.608 \"/>\n",
       "<path clip-path=\"url(#clip880)\" d=\"M2073.85 270.476 L2352.76 270.476 L2352.76 166.796 L2073.85 166.796  Z\" fill=\"#ffffff\" fill-rule=\"evenodd\" fill-opacity=\"1\"/>\n",
       "<polyline clip-path=\"url(#clip880)\" style=\"stroke:#000000; stroke-linecap:round; stroke-linejoin:round; stroke-width:4; stroke-opacity:1; fill:none\" points=\"2073.85,270.476 2352.76,270.476 2352.76,166.796 2073.85,166.796 2073.85,270.476 \"/>\n",
       "<polyline clip-path=\"url(#clip880)\" style=\"stroke:#009af9; stroke-linecap:round; stroke-linejoin:round; stroke-width:4; stroke-opacity:1; fill:none\" points=\"2099.47,218.636 2253.17,218.636 \"/>\n",
       "<path clip-path=\"url(#clip880)\" d=\"M2278.78 201.356 L2283.46 201.356 L2283.46 215.522 L2300.45 215.522 L2300.45 201.356 L2305.13 201.356 L2305.13 235.916 L2300.45 235.916 L2300.45 219.457 L2283.46 219.457 L2283.46 235.916 L2278.78 235.916 L2278.78 201.356 Z\" fill=\"#000000\" fill-rule=\"nonzero\" fill-opacity=\"1\" /><path clip-path=\"url(#clip880)\" d=\"M2322.97 220.245 Q2321.82 218.254 2319.48 218.254 Q2317.14 218.254 2315.98 220.245 Q2314.8 222.235 2314.8 226.217 Q2314.8 230.221 2315.98 232.212 Q2317.14 234.203 2319.48 234.203 Q2321.82 234.203 2322.97 232.212 Q2324.15 230.221 2324.15 226.217 Q2324.15 222.235 2322.97 220.245 M2319.48 216.194 Q2323.2 216.194 2325.17 218.763 Q2327.14 221.332 2327.14 226.217 Q2327.14 231.124 2325.17 233.694 Q2323.2 236.263 2319.48 236.263 Q2315.73 236.263 2313.76 233.694 Q2311.79 231.124 2311.79 226.217 Q2311.79 221.332 2313.76 218.763 Q2315.73 216.194 2319.48 216.194 Z\" fill=\"#000000\" fill-rule=\"nonzero\" fill-opacity=\"1\" /></svg>\n"
      ],
      "text/html": [
       "<?xml version=\"1.0\" encoding=\"utf-8\"?>\n",
       "<svg xmlns=\"http://www.w3.org/2000/svg\" xmlns:xlink=\"http://www.w3.org/1999/xlink\" width=\"600\" height=\"400\" viewBox=\"0 0 2400 1600\">\n",
       "<defs>\n",
       "  <clipPath id=\"clip930\">\n",
       "    <rect x=\"0\" y=\"0\" width=\"2400\" height=\"1600\"/>\n",
       "  </clipPath>\n",
       "</defs>\n",
       "<path clip-path=\"url(#clip930)\" d=\"M0 1600 L2400 1600 L2400 0 L0 0  Z\" fill=\"#ffffff\" fill-rule=\"evenodd\" fill-opacity=\"1\"/>\n",
       "<defs>\n",
       "  <clipPath id=\"clip931\">\n",
       "    <rect x=\"480\" y=\"0\" width=\"1681\" height=\"1600\"/>\n",
       "  </clipPath>\n",
       "</defs>\n",
       "<path clip-path=\"url(#clip930)\" d=\"M47.2441 1423.18 L1997 1423.18 L1997 123.472 L47.2441 123.472  Z\" fill=\"#ffffff\" fill-rule=\"evenodd\" fill-opacity=\"1\"/>\n",
       "<defs>\n",
       "  <clipPath id=\"clip932\">\n",
       "    <rect x=\"47\" y=\"123\" width=\"1951\" height=\"1301\"/>\n",
       "  </clipPath>\n",
       "</defs>\n",
       "<polyline clip-path=\"url(#clip932)\" style=\"stroke:#000000; stroke-linecap:round; stroke-linejoin:round; stroke-width:2; stroke-opacity:0.1; fill:none\" points=\"102.426,1423.18 102.426,123.472 \"/>\n",
       "<polyline clip-path=\"url(#clip932)\" style=\"stroke:#000000; stroke-linecap:round; stroke-linejoin:round; stroke-width:2; stroke-opacity:0.1; fill:none\" points=\"591.644,1423.18 591.644,123.472 \"/>\n",
       "<polyline clip-path=\"url(#clip932)\" style=\"stroke:#000000; stroke-linecap:round; stroke-linejoin:round; stroke-width:2; stroke-opacity:0.1; fill:none\" points=\"1080.86,1423.18 1080.86,123.472 \"/>\n",
       "<polyline clip-path=\"url(#clip932)\" style=\"stroke:#000000; stroke-linecap:round; stroke-linejoin:round; stroke-width:2; stroke-opacity:0.1; fill:none\" points=\"1570.08,1423.18 1570.08,123.472 \"/>\n",
       "<polyline clip-path=\"url(#clip930)\" style=\"stroke:#000000; stroke-linecap:round; stroke-linejoin:round; stroke-width:4; stroke-opacity:1; fill:none\" points=\"47.2441,1423.18 1997,1423.18 \"/>\n",
       "<polyline clip-path=\"url(#clip930)\" style=\"stroke:#000000; stroke-linecap:round; stroke-linejoin:round; stroke-width:4; stroke-opacity:1; fill:none\" points=\"102.426,1423.18 102.426,1404.28 \"/>\n",
       "<polyline clip-path=\"url(#clip930)\" style=\"stroke:#000000; stroke-linecap:round; stroke-linejoin:round; stroke-width:4; stroke-opacity:1; fill:none\" points=\"591.644,1423.18 591.644,1404.28 \"/>\n",
       "<polyline clip-path=\"url(#clip930)\" style=\"stroke:#000000; stroke-linecap:round; stroke-linejoin:round; stroke-width:4; stroke-opacity:1; fill:none\" points=\"1080.86,1423.18 1080.86,1404.28 \"/>\n",
       "<polyline clip-path=\"url(#clip930)\" style=\"stroke:#000000; stroke-linecap:round; stroke-linejoin:round; stroke-width:4; stroke-opacity:1; fill:none\" points=\"1570.08,1423.18 1570.08,1404.28 \"/>\n",
       "<path clip-path=\"url(#clip930)\" d=\"M102.426 1454.1 Q98.8147 1454.1 96.986 1457.66 Q95.1805 1461.2 95.1805 1468.33 Q95.1805 1475.44 96.986 1479.01 Q98.8147 1482.55 102.426 1482.55 Q106.06 1482.55 107.866 1479.01 Q109.694 1475.44 109.694 1468.33 Q109.694 1461.2 107.866 1457.66 Q106.06 1454.1 102.426 1454.1 M102.426 1450.39 Q108.236 1450.39 111.292 1455 Q114.37 1459.58 114.37 1468.33 Q114.37 1477.06 111.292 1481.67 Q108.236 1486.25 102.426 1486.25 Q96.6157 1486.25 93.537 1481.67 Q90.4814 1477.06 90.4814 1468.33 Q90.4814 1459.58 93.537 1455 Q96.6157 1450.39 102.426 1450.39 Z\" fill=\"#000000\" fill-rule=\"nonzero\" fill-opacity=\"1\" /><path clip-path=\"url(#clip930)\" d=\"M582.026 1481.64 L589.665 1481.64 L589.665 1455.28 L581.355 1456.95 L581.355 1452.69 L589.619 1451.02 L594.295 1451.02 L594.295 1481.64 L601.934 1481.64 L601.934 1485.58 L582.026 1485.58 L582.026 1481.64 Z\" fill=\"#000000\" fill-rule=\"nonzero\" fill-opacity=\"1\" /><path clip-path=\"url(#clip930)\" d=\"M1075.52 1481.64 L1091.84 1481.64 L1091.84 1485.58 L1069.89 1485.58 L1069.89 1481.64 Q1072.55 1478.89 1077.14 1474.26 Q1081.74 1469.61 1082.92 1468.27 Q1085.17 1465.74 1086.05 1464.01 Q1086.95 1462.25 1086.95 1460.56 Q1086.95 1457.8 1085.01 1456.07 Q1083.09 1454.33 1079.98 1454.33 Q1077.78 1454.33 1075.33 1455.09 Q1072.9 1455.86 1070.12 1457.41 L1070.12 1452.69 Q1072.95 1451.55 1075.4 1450.97 Q1077.85 1450.39 1079.89 1450.39 Q1085.26 1450.39 1088.46 1453.08 Q1091.65 1455.77 1091.65 1460.26 Q1091.65 1462.39 1090.84 1464.31 Q1090.05 1466.2 1087.95 1468.8 Q1087.37 1469.47 1084.27 1472.69 Q1081.16 1475.88 1075.52 1481.64 Z\" fill=\"#000000\" fill-rule=\"nonzero\" fill-opacity=\"1\" /><path clip-path=\"url(#clip930)\" d=\"M1574.33 1466.95 Q1577.69 1467.66 1579.56 1469.93 Q1581.46 1472.2 1581.46 1475.53 Q1581.46 1480.65 1577.94 1483.45 Q1574.42 1486.25 1567.94 1486.25 Q1565.76 1486.25 1563.45 1485.81 Q1561.16 1485.39 1558.7 1484.54 L1558.7 1480.02 Q1560.65 1481.16 1562.96 1481.74 Q1565.28 1482.32 1567.8 1482.32 Q1572.2 1482.32 1574.49 1480.58 Q1576.81 1478.84 1576.81 1475.53 Q1576.81 1472.48 1574.65 1470.77 Q1572.52 1469.03 1568.7 1469.03 L1564.68 1469.03 L1564.68 1465.19 L1568.89 1465.19 Q1572.34 1465.19 1574.17 1463.82 Q1576 1462.43 1576 1459.84 Q1576 1457.18 1574.1 1455.77 Q1572.22 1454.33 1568.7 1454.33 Q1566.78 1454.33 1564.58 1454.75 Q1562.39 1455.16 1559.75 1456.04 L1559.75 1451.88 Q1562.41 1451.14 1564.72 1450.77 Q1567.06 1450.39 1569.12 1450.39 Q1574.45 1450.39 1577.55 1452.83 Q1580.65 1455.23 1580.65 1459.35 Q1580.65 1462.22 1579.01 1464.21 Q1577.36 1466.18 1574.33 1466.95 Z\" fill=\"#000000\" fill-rule=\"nonzero\" fill-opacity=\"1\" /><path clip-path=\"url(#clip930)\" d=\"M1021.18 1522.27 L1021.18 1532.4 L1033.25 1532.4 L1033.25 1536.95 L1021.18 1536.95 L1021.18 1556.3 Q1021.18 1560.66 1022.36 1561.9 Q1023.57 1563.14 1027.23 1563.14 L1033.25 1563.14 L1033.25 1568.04 L1027.23 1568.04 Q1020.45 1568.04 1017.87 1565.53 Q1015.29 1562.98 1015.29 1556.3 L1015.29 1536.95 L1011 1536.95 L1011 1532.4 L1015.29 1532.4 L1015.29 1522.27 L1021.18 1522.27 Z\" fill=\"#000000\" fill-rule=\"nonzero\" fill-opacity=\"1\" /><polyline clip-path=\"url(#clip930)\" style=\"stroke:#000000; stroke-linecap:round; stroke-linejoin:round; stroke-width:4; stroke-opacity:1; fill:none\" points=\"47.2441,1423.18 47.2441,123.472 \"/>\n",
       "<path clip-path=\"url(#clip930)\" d=\"M616.079 18.8205 L616.079 41.5461 L626.368 41.5461 Q632.08 41.5461 635.199 38.5889 Q638.318 35.6318 638.318 30.163 Q638.318 24.7348 635.199 21.7777 Q632.08 18.8205 626.368 18.8205 L616.079 18.8205 M607.896 12.096 L626.368 12.096 Q636.536 12.096 641.721 16.714 Q646.947 21.2916 646.947 30.163 Q646.947 39.1155 641.721 43.6931 Q636.536 48.2706 626.368 48.2706 L616.079 48.2706 L616.079 72.576 L607.896 72.576 L607.896 12.096 Z\" fill=\"#000000\" fill-rule=\"nonzero\" fill-opacity=\"1\" /><path clip-path=\"url(#clip930)\" d=\"M693.451 48.0275 L693.451 51.6733 L659.18 51.6733 Q659.666 59.3701 663.798 63.421 Q667.971 67.4314 675.384 67.4314 Q679.678 67.4314 683.688 66.3781 Q687.739 65.3249 691.709 63.2184 L691.709 70.267 Q687.699 71.9684 683.486 72.8596 Q679.273 73.7508 674.938 73.7508 Q664.082 73.7508 657.722 67.4314 Q651.403 61.1119 651.403 50.3365 Q651.403 39.1965 657.398 32.6746 Q663.434 26.1121 673.642 26.1121 Q682.797 26.1121 688.104 32.0264 Q693.451 37.9003 693.451 48.0275 M685.997 45.84 Q685.916 39.7232 682.554 36.0774 Q679.232 32.4315 673.723 32.4315 Q667.485 32.4315 663.717 35.9558 Q659.991 39.4801 659.423 45.8805 L685.997 45.84 Z\" fill=\"#000000\" fill-rule=\"nonzero\" fill-opacity=\"1\" /><path clip-path=\"url(#clip930)\" d=\"M731.975 34.1734 Q730.719 33.4443 729.22 33.1202 Q727.762 32.7556 725.98 32.7556 Q719.66 32.7556 716.258 36.8875 Q712.895 40.9789 712.895 48.6757 L712.895 72.576 L705.401 72.576 L705.401 27.2059 L712.895 27.2059 L712.895 34.2544 Q715.245 30.1225 719.012 28.1376 Q722.78 26.1121 728.167 26.1121 Q728.937 26.1121 729.869 26.2337 Q730.8 26.3147 731.935 26.5172 L731.975 34.1734 Z\" fill=\"#000000\" fill-rule=\"nonzero\" fill-opacity=\"1\" /><path clip-path=\"url(#clip930)\" d=\"M768.717 28.5427 L768.717 35.5912 Q765.557 33.9709 762.154 33.1607 Q758.752 32.3505 755.106 32.3505 Q749.556 32.3505 746.761 34.0519 Q744.006 35.7533 744.006 39.156 Q744.006 41.7486 745.991 43.2475 Q747.976 44.7058 753.971 46.0426 L756.524 46.6097 Q764.463 48.3111 767.785 51.4303 Q771.147 54.509 771.147 60.0587 Q771.147 66.3781 766.124 70.0644 Q761.142 73.7508 752.392 73.7508 Q748.746 73.7508 744.776 73.0216 Q740.847 72.3329 736.472 70.9151 L736.472 63.2184 Q740.604 65.3654 744.614 66.4591 Q748.624 67.5124 752.554 67.5124 Q757.82 67.5124 760.655 65.73 Q763.491 63.9071 763.491 60.6258 Q763.491 57.5877 761.425 55.9673 Q759.4 54.3469 752.473 52.8481 L749.88 52.2405 Q742.953 50.7821 739.874 47.7845 Q736.796 44.7463 736.796 39.4801 Q736.796 33.0797 741.333 29.5959 Q745.87 26.1121 754.215 26.1121 Q758.346 26.1121 761.992 26.7198 Q765.638 27.3274 768.717 28.5427 Z\" fill=\"#000000\" fill-rule=\"nonzero\" fill-opacity=\"1\" /><path clip-path=\"url(#clip930)\" d=\"M783.016 27.2059 L790.47 27.2059 L790.47 72.576 L783.016 72.576 L783.016 27.2059 M783.016 9.54393 L790.47 9.54393 L790.47 18.9825 L783.016 18.9825 L783.016 9.54393 Z\" fill=\"#000000\" fill-rule=\"nonzero\" fill-opacity=\"1\" /><path clip-path=\"url(#clip930)\" d=\"M834.99 28.5427 L834.99 35.5912 Q831.83 33.9709 828.427 33.1607 Q825.024 32.3505 821.379 32.3505 Q815.829 32.3505 813.034 34.0519 Q810.279 35.7533 810.279 39.156 Q810.279 41.7486 812.264 43.2475 Q814.249 44.7058 820.244 46.0426 L822.796 46.6097 Q830.736 48.3111 834.058 51.4303 Q837.42 54.509 837.42 60.0587 Q837.42 66.3781 832.397 70.0644 Q827.414 73.7508 818.664 73.7508 Q815.019 73.7508 811.049 73.0216 Q807.119 72.3329 802.744 70.9151 L802.744 63.2184 Q806.876 65.3654 810.887 66.4591 Q814.897 67.5124 818.826 67.5124 Q824.093 67.5124 826.928 65.73 Q829.764 63.9071 829.764 60.6258 Q829.764 57.5877 827.698 55.9673 Q825.673 54.3469 818.745 52.8481 L816.153 52.2405 Q809.226 50.7821 806.147 47.7845 Q803.068 44.7463 803.068 39.4801 Q803.068 33.0797 807.605 29.5959 Q812.142 26.1121 820.487 26.1121 Q824.619 26.1121 828.265 26.7198 Q831.911 27.3274 834.99 28.5427 Z\" fill=\"#000000\" fill-rule=\"nonzero\" fill-opacity=\"1\" /><path clip-path=\"url(#clip930)\" d=\"M856.662 14.324 L856.662 27.2059 L872.015 27.2059 L872.015 32.9987 L856.662 32.9987 L856.662 57.6282 Q856.662 63.1779 858.161 64.7578 Q859.7 66.3376 864.359 66.3376 L872.015 66.3376 L872.015 72.576 L864.359 72.576 Q855.73 72.576 852.449 69.3758 Q849.168 66.1351 849.168 57.6282 L849.168 32.9987 L843.699 32.9987 L843.699 27.2059 L849.168 27.2059 L849.168 14.324 L856.662 14.324 Z\" fill=\"#000000\" fill-rule=\"nonzero\" fill-opacity=\"1\" /><path clip-path=\"url(#clip930)\" d=\"M920.626 48.0275 L920.626 51.6733 L886.355 51.6733 Q886.841 59.3701 890.973 63.421 Q895.146 67.4314 902.559 67.4314 Q906.853 67.4314 910.863 66.3781 Q914.914 65.3249 918.884 63.2184 L918.884 70.267 Q914.873 71.9684 910.66 72.8596 Q906.448 73.7508 902.113 73.7508 Q891.257 73.7508 884.897 67.4314 Q878.577 61.1119 878.577 50.3365 Q878.577 39.1965 884.573 32.6746 Q890.608 26.1121 900.817 26.1121 Q909.972 26.1121 915.279 32.0264 Q920.626 37.9003 920.626 48.0275 M913.172 45.84 Q913.091 39.7232 909.729 36.0774 Q906.407 32.4315 900.898 32.4315 Q894.659 32.4315 890.892 35.9558 Q887.165 39.4801 886.598 45.8805 L913.172 45.84 Z\" fill=\"#000000\" fill-rule=\"nonzero\" fill-opacity=\"1\" /><path clip-path=\"url(#clip930)\" d=\"M970.573 45.1919 L970.573 72.576 L963.12 72.576 L963.12 45.4349 Q963.12 38.994 960.608 35.7938 Q958.097 32.5936 953.073 32.5936 Q947.038 32.5936 943.554 36.4419 Q940.07 40.2903 940.07 46.9338 L940.07 72.576 L932.576 72.576 L932.576 27.2059 L940.07 27.2059 L940.07 34.2544 Q942.744 30.163 946.349 28.1376 Q949.995 26.1121 954.734 26.1121 Q962.553 26.1121 966.563 30.9732 Q970.573 35.7938 970.573 45.1919 Z\" fill=\"#000000\" fill-rule=\"nonzero\" fill-opacity=\"1\" /><path clip-path=\"url(#clip930)\" d=\"M1018.09 28.9478 L1018.09 35.9153 Q1014.93 34.1734 1011.73 33.3227 Q1008.57 32.4315 1005.33 32.4315 Q998.079 32.4315 994.069 37.0496 Q990.058 41.6271 990.058 49.9314 Q990.058 58.2358 994.069 62.8538 Q998.079 67.4314 1005.33 67.4314 Q1008.57 67.4314 1011.73 66.5807 Q1014.93 65.6895 1018.09 63.9476 L1018.09 70.8341 Q1014.97 72.2924 1011.61 73.0216 Q1008.29 73.7508 1004.52 73.7508 Q994.271 73.7508 988.235 67.3098 Q982.199 60.8689 982.199 49.9314 Q982.199 38.832 988.276 32.472 Q994.393 26.1121 1005.01 26.1121 Q1008.45 26.1121 1011.73 26.8413 Q1015.01 27.5299 1018.09 28.9478 Z\" fill=\"#000000\" fill-rule=\"nonzero\" fill-opacity=\"1\" /><path clip-path=\"url(#clip930)\" d=\"M1069.86 48.0275 L1069.86 51.6733 L1035.59 51.6733 Q1036.08 59.3701 1040.21 63.421 Q1044.38 67.4314 1051.79 67.4314 Q1056.09 67.4314 1060.1 66.3781 Q1064.15 65.3249 1068.12 63.2184 L1068.12 70.267 Q1064.11 71.9684 1059.9 72.8596 Q1055.68 73.7508 1051.35 73.7508 Q1040.49 73.7508 1034.13 67.4314 Q1027.81 61.1119 1027.81 50.3365 Q1027.81 39.1965 1033.81 32.6746 Q1039.84 26.1121 1050.05 26.1121 Q1059.21 26.1121 1064.51 32.0264 Q1069.86 37.9003 1069.86 48.0275 M1062.41 45.84 Q1062.33 39.7232 1058.96 36.0774 Q1055.64 32.4315 1050.13 32.4315 Q1043.89 32.4315 1040.13 35.9558 Q1036.4 39.4801 1035.83 45.8805 L1062.41 45.84 Z\" fill=\"#000000\" fill-rule=\"nonzero\" fill-opacity=\"1\" /><path clip-path=\"url(#clip930)\" d=\"M1116.97 43.6931 L1116.97 65.8515 L1130.1 65.8515 Q1136.7 65.8515 1139.86 63.1374 Q1143.06 60.3828 1143.06 54.752 Q1143.06 49.0808 1139.86 46.4072 Q1136.7 43.6931 1130.1 43.6931 L1116.97 43.6931 M1116.97 18.8205 L1116.97 37.0496 L1129.09 37.0496 Q1135.08 37.0496 1138 34.8216 Q1140.95 32.5531 1140.95 27.935 Q1140.95 23.3575 1138 21.089 Q1135.08 18.8205 1129.09 18.8205 L1116.97 18.8205 M1108.79 12.096 L1129.69 12.096 Q1139.05 12.096 1144.11 15.9849 Q1149.18 19.8737 1149.18 27.0438 Q1149.18 32.5936 1146.59 35.8748 Q1143.99 39.156 1138.97 39.9662 Q1145.01 41.2625 1148.33 45.3944 Q1151.69 49.4858 1151.69 55.6432 Q1151.69 63.745 1146.18 68.1605 Q1140.67 72.576 1130.5 72.576 L1108.79 72.576 L1108.79 12.096 Z\" fill=\"#000000\" fill-rule=\"nonzero\" fill-opacity=\"1\" /><path clip-path=\"url(#clip930)\" d=\"M1186 49.7694 Q1176.97 49.7694 1173.48 51.8354 Q1170 53.9013 1170 58.8839 Q1170 62.8538 1172.59 65.2034 Q1175.23 67.5124 1179.72 67.5124 Q1185.92 67.5124 1189.65 63.1374 Q1193.41 58.7219 1193.41 51.4303 L1193.41 49.7694 L1186 49.7694 M1200.87 46.6907 L1200.87 72.576 L1193.41 72.576 L1193.41 65.6895 Q1190.86 69.8214 1187.05 71.8063 Q1183.25 73.7508 1177.74 73.7508 Q1170.77 73.7508 1166.64 69.8619 Q1162.55 65.9325 1162.55 59.3701 Q1162.55 51.7138 1167.65 47.825 Q1172.79 43.9361 1182.96 43.9361 L1193.41 43.9361 L1193.41 43.2069 Q1193.41 38.0623 1190.01 35.2672 Q1186.65 32.4315 1180.53 32.4315 Q1176.64 32.4315 1172.96 33.3632 Q1169.27 34.295 1165.87 36.1584 L1165.87 29.2718 Q1169.96 27.692 1173.81 26.9223 Q1177.66 26.1121 1181.3 26.1121 Q1191.15 26.1121 1196.01 31.2163 Q1200.87 36.3204 1200.87 46.6907 Z\" fill=\"#000000\" fill-rule=\"nonzero\" fill-opacity=\"1\" /><path clip-path=\"url(#clip930)\" d=\"M1242.51 34.1734 Q1241.25 33.4443 1239.76 33.1202 Q1238.3 32.7556 1236.52 32.7556 Q1230.2 32.7556 1226.79 36.8875 Q1223.43 40.9789 1223.43 48.6757 L1223.43 72.576 L1215.94 72.576 L1215.94 27.2059 L1223.43 27.2059 L1223.43 34.2544 Q1225.78 30.1225 1229.55 28.1376 Q1233.31 26.1121 1238.7 26.1121 Q1239.47 26.1121 1240.4 26.2337 Q1241.34 26.3147 1242.47 26.5172 L1242.51 34.1734 Z\" fill=\"#000000\" fill-rule=\"nonzero\" fill-opacity=\"1\" /><path clip-path=\"url(#clip930)\" d=\"M1281.16 28.9478 L1281.16 35.9153 Q1278 34.1734 1274.8 33.3227 Q1271.64 32.4315 1268.4 32.4315 Q1261.14 32.4315 1257.13 37.0496 Q1253.12 41.6271 1253.12 49.9314 Q1253.12 58.2358 1257.13 62.8538 Q1261.14 67.4314 1268.4 67.4314 Q1271.64 67.4314 1274.8 66.5807 Q1278 65.6895 1281.16 63.9476 L1281.16 70.8341 Q1278.04 72.2924 1274.67 73.0216 Q1271.35 73.7508 1267.59 73.7508 Q1257.34 73.7508 1251.3 67.3098 Q1245.27 60.8689 1245.27 49.9314 Q1245.27 38.832 1251.34 32.472 Q1257.46 26.1121 1268.07 26.1121 Q1271.52 26.1121 1274.8 26.8413 Q1278.08 27.5299 1281.16 28.9478 Z\" fill=\"#000000\" fill-rule=\"nonzero\" fill-opacity=\"1\" /><path clip-path=\"url(#clip930)\" d=\"M1311.7 32.4315 Q1305.7 32.4315 1302.22 37.1306 Q1298.74 41.7891 1298.74 49.9314 Q1298.74 58.0738 1302.18 62.7728 Q1305.66 67.4314 1311.7 67.4314 Q1317.65 67.4314 1321.14 62.7323 Q1324.62 58.0333 1324.62 49.9314 Q1324.62 41.8701 1321.14 37.1711 Q1317.65 32.4315 1311.7 32.4315 M1311.7 26.1121 Q1321.42 26.1121 1326.97 32.4315 Q1332.52 38.7509 1332.52 49.9314 Q1332.52 61.0714 1326.97 67.4314 Q1321.42 73.7508 1311.7 73.7508 Q1301.94 73.7508 1296.39 67.4314 Q1290.88 61.0714 1290.88 49.9314 Q1290.88 38.7509 1296.39 32.4315 Q1301.94 26.1121 1311.7 26.1121 Z\" fill=\"#000000\" fill-rule=\"nonzero\" fill-opacity=\"1\" /><path clip-path=\"url(#clip930)\" d=\"M1374.73 34.0924 L1374.73 9.54393 L1382.19 9.54393 L1382.19 72.576 L1374.73 72.576 L1374.73 65.7705 Q1372.38 69.8214 1368.78 71.8063 Q1365.21 73.7508 1360.19 73.7508 Q1351.97 73.7508 1346.78 67.1883 Q1341.64 60.6258 1341.64 49.9314 Q1341.64 39.2371 1346.78 32.6746 Q1351.97 26.1121 1360.19 26.1121 Q1365.21 26.1121 1368.78 28.0971 Q1372.38 30.0415 1374.73 34.0924 M1349.33 49.9314 Q1349.33 58.1548 1352.7 62.8538 Q1356.1 67.5124 1362.01 67.5124 Q1367.93 67.5124 1371.33 62.8538 Q1374.73 58.1548 1374.73 49.9314 Q1374.73 41.7081 1371.33 37.0496 Q1367.93 32.3505 1362.01 32.3505 Q1356.1 32.3505 1352.7 37.0496 Q1349.33 41.7081 1349.33 49.9314 Z\" fill=\"#000000\" fill-rule=\"nonzero\" fill-opacity=\"1\" /><path clip-path=\"url(#clip930)\" d=\"M1436.35 48.0275 L1436.35 51.6733 L1402.08 51.6733 Q1402.56 59.3701 1406.69 63.421 Q1410.87 67.4314 1418.28 67.4314 Q1422.57 67.4314 1426.58 66.3781 Q1430.63 65.3249 1434.6 63.2184 L1434.6 70.267 Q1430.59 71.9684 1426.38 72.8596 Q1422.17 73.7508 1417.83 73.7508 Q1406.98 73.7508 1400.62 67.4314 Q1394.3 61.1119 1394.3 50.3365 Q1394.3 39.1965 1400.29 32.6746 Q1406.33 26.1121 1416.54 26.1121 Q1425.69 26.1121 1431 32.0264 Q1436.35 37.9003 1436.35 48.0275 M1428.89 45.84 Q1428.81 39.7232 1425.45 36.0774 Q1422.13 32.4315 1416.62 32.4315 Q1410.38 32.4315 1406.61 35.9558 Q1402.89 39.4801 1402.32 45.8805 L1428.89 45.84 Z\" fill=\"#000000\" fill-rule=\"nonzero\" fill-opacity=\"1\" /><polyline clip-path=\"url(#clip932)\" style=\"stroke:#808080; stroke-linecap:round; stroke-linejoin:round; stroke-width:4; stroke-opacity:1; fill:none\" stroke-dasharray=\"2, 4\" points=\"1941.82,2722.89 1941.82,-1176.24 \"/>\n",
       "<polyline clip-path=\"url(#clip932)\" style=\"stroke:#009af9; stroke-linecap:round; stroke-linejoin:round; stroke-width:4; stroke-opacity:1; fill:none\" points=\"102.426,1362.04 124.978,1362.04 \"/>\n",
       "<polyline clip-path=\"url(#clip932)\" style=\"stroke:#009af9; stroke-linecap:round; stroke-linejoin:round; stroke-width:4; stroke-opacity:1; fill:none\" points=\"102.426,1316.76 140.635,1316.76 \"/>\n",
       "<polyline clip-path=\"url(#clip932)\" style=\"stroke:#009af9; stroke-linecap:round; stroke-linejoin:round; stroke-width:4; stroke-opacity:1; fill:none\" points=\"102.426,1271.47 147.53,1271.47 \"/>\n",
       "<polyline clip-path=\"url(#clip932)\" style=\"stroke:#009af9; stroke-linecap:round; stroke-linejoin:round; stroke-width:4; stroke-opacity:1; fill:none\" points=\"102.426,1226.19 148.579,1226.19 \"/>\n",
       "<polyline clip-path=\"url(#clip932)\" style=\"stroke:#009af9; stroke-linecap:round; stroke-linejoin:round; stroke-width:4; stroke-opacity:1; fill:none\" points=\"102.426,1180.9 151.409,1180.9 \"/>\n",
       "<polyline clip-path=\"url(#clip932)\" style=\"stroke:#009af9; stroke-linecap:round; stroke-linejoin:round; stroke-width:4; stroke-opacity:1; fill:none\" points=\"102.426,1135.61 151.592,1135.61 \"/>\n",
       "<polyline clip-path=\"url(#clip932)\" style=\"stroke:#009af9; stroke-linecap:round; stroke-linejoin:round; stroke-width:4; stroke-opacity:1; fill:none\" points=\"102.426,1090.33 156.24,1090.33 \"/>\n",
       "<polyline clip-path=\"url(#clip932)\" style=\"stroke:#009af9; stroke-linecap:round; stroke-linejoin:round; stroke-width:4; stroke-opacity:1; fill:none\" points=\"102.426,1045.04 158.205,1045.04 \"/>\n",
       "<polyline clip-path=\"url(#clip932)\" style=\"stroke:#009af9; stroke-linecap:round; stroke-linejoin:round; stroke-width:4; stroke-opacity:1; fill:none\" points=\"102.426,999.756 170.96,999.756 \"/>\n",
       "<polyline clip-path=\"url(#clip932)\" style=\"stroke:#009af9; stroke-linecap:round; stroke-linejoin:round; stroke-width:4; stroke-opacity:1; fill:none\" points=\"102.426,954.47 171.957,954.47 \"/>\n",
       "<polyline clip-path=\"url(#clip932)\" style=\"stroke:#009af9; stroke-linecap:round; stroke-linejoin:round; stroke-width:4; stroke-opacity:1; fill:none\" points=\"102.426,909.184 172.471,909.184 \"/>\n",
       "<polyline clip-path=\"url(#clip932)\" style=\"stroke:#009af9; stroke-linecap:round; stroke-linejoin:round; stroke-width:4; stroke-opacity:1; fill:none\" points=\"102.426,863.898 178.844,863.898 \"/>\n",
       "<polyline clip-path=\"url(#clip932)\" style=\"stroke:#009af9; stroke-linecap:round; stroke-linejoin:round; stroke-width:4; stroke-opacity:1; fill:none\" points=\"102.426,818.612 180.854,818.612 \"/>\n",
       "<polyline clip-path=\"url(#clip932)\" style=\"stroke:#009af9; stroke-linecap:round; stroke-linejoin:round; stroke-width:4; stroke-opacity:1; fill:none\" points=\"102.426,773.326 181.31,773.326 \"/>\n",
       "<polyline clip-path=\"url(#clip932)\" style=\"stroke:#009af9; stroke-linecap:round; stroke-linejoin:round; stroke-width:4; stroke-opacity:1; fill:none\" points=\"102.426,728.04 234.061,728.04 \"/>\n",
       "<polyline clip-path=\"url(#clip932)\" style=\"stroke:#009af9; stroke-linecap:round; stroke-linejoin:round; stroke-width:4; stroke-opacity:1; fill:none\" points=\"102.426,682.754 234.605,682.754 \"/>\n",
       "<polyline clip-path=\"url(#clip932)\" style=\"stroke:#009af9; stroke-linecap:round; stroke-linejoin:round; stroke-width:4; stroke-opacity:1; fill:none\" points=\"102.426,637.468 236.961,637.468 \"/>\n",
       "<polyline clip-path=\"url(#clip932)\" style=\"stroke:#009af9; stroke-linecap:round; stroke-linejoin:round; stroke-width:4; stroke-opacity:1; fill:none\" points=\"102.426,592.182 243.283,592.182 \"/>\n",
       "<polyline clip-path=\"url(#clip932)\" style=\"stroke:#009af9; stroke-linecap:round; stroke-linejoin:round; stroke-width:4; stroke-opacity:1; fill:none\" points=\"102.426,546.896 251.537,546.896 \"/>\n",
       "<polyline clip-path=\"url(#clip932)\" style=\"stroke:#009af9; stroke-linecap:round; stroke-linejoin:round; stroke-width:4; stroke-opacity:1; fill:none\" points=\"102.426,501.61 255.966,501.61 \"/>\n",
       "<polyline clip-path=\"url(#clip932)\" style=\"stroke:#009af9; stroke-linecap:round; stroke-linejoin:round; stroke-width:4; stroke-opacity:1; fill:none\" points=\"102.426,456.324 302.049,456.324 \"/>\n",
       "<polyline clip-path=\"url(#clip932)\" style=\"stroke:#009af9; stroke-linecap:round; stroke-linejoin:round; stroke-width:4; stroke-opacity:1; fill:none\" points=\"102.426,411.038 454.298,411.038 \"/>\n",
       "<polyline clip-path=\"url(#clip932)\" style=\"stroke:#009af9; stroke-linecap:round; stroke-linejoin:round; stroke-width:4; stroke-opacity:1; fill:none\" points=\"102.426,365.752 554.655,365.752 \"/>\n",
       "<polyline clip-path=\"url(#clip932)\" style=\"stroke:#009af9; stroke-linecap:round; stroke-linejoin:round; stroke-width:4; stroke-opacity:1; fill:none\" points=\"102.426,320.466 748.676,320.466 \"/>\n",
       "<polyline clip-path=\"url(#clip932)\" style=\"stroke:#009af9; stroke-linecap:round; stroke-linejoin:round; stroke-width:4; stroke-opacity:1; fill:none\" points=\"102.426,275.18 749.694,275.18 \"/>\n",
       "<polyline clip-path=\"url(#clip932)\" style=\"stroke:#009af9; stroke-linecap:round; stroke-linejoin:round; stroke-width:4; stroke-opacity:1; fill:none\" points=\"102.426,229.894 753.748,229.894 \"/>\n",
       "<polyline clip-path=\"url(#clip932)\" style=\"stroke:#009af9; stroke-linecap:round; stroke-linejoin:round; stroke-width:4; stroke-opacity:1; fill:none\" points=\"102.426,184.608 1941.82,184.608 \"/>\n",
       "<path clip-path=\"url(#clip930)\" d=\"M2073.85 270.476 L2352.76 270.476 L2352.76 166.796 L2073.85 166.796  Z\" fill=\"#ffffff\" fill-rule=\"evenodd\" fill-opacity=\"1\"/>\n",
       "<polyline clip-path=\"url(#clip930)\" style=\"stroke:#000000; stroke-linecap:round; stroke-linejoin:round; stroke-width:4; stroke-opacity:1; fill:none\" points=\"2073.85,270.476 2352.76,270.476 2352.76,166.796 2073.85,166.796 2073.85,270.476 \"/>\n",
       "<polyline clip-path=\"url(#clip930)\" style=\"stroke:#009af9; stroke-linecap:round; stroke-linejoin:round; stroke-width:4; stroke-opacity:1; fill:none\" points=\"2099.47,218.636 2253.17,218.636 \"/>\n",
       "<path clip-path=\"url(#clip930)\" d=\"M2278.78 201.356 L2283.46 201.356 L2283.46 215.522 L2300.45 215.522 L2300.45 201.356 L2305.13 201.356 L2305.13 235.916 L2300.45 235.916 L2300.45 219.457 L2283.46 219.457 L2283.46 235.916 L2278.78 235.916 L2278.78 201.356 Z\" fill=\"#000000\" fill-rule=\"nonzero\" fill-opacity=\"1\" /><path clip-path=\"url(#clip930)\" d=\"M2322.97 220.245 Q2321.82 218.254 2319.48 218.254 Q2317.14 218.254 2315.98 220.245 Q2314.8 222.235 2314.8 226.217 Q2314.8 230.221 2315.98 232.212 Q2317.14 234.203 2319.48 234.203 Q2321.82 234.203 2322.97 232.212 Q2324.15 230.221 2324.15 226.217 Q2324.15 222.235 2322.97 220.245 M2319.48 216.194 Q2323.2 216.194 2325.17 218.763 Q2327.14 221.332 2327.14 226.217 Q2327.14 231.124 2325.17 233.694 Q2323.2 236.263 2319.48 236.263 Q2315.73 236.263 2313.76 233.694 Q2311.79 231.124 2311.79 226.217 Q2311.79 221.332 2313.76 218.763 Q2315.73 216.194 2319.48 216.194 Z\" fill=\"#000000\" fill-rule=\"nonzero\" fill-opacity=\"1\" /></svg>\n"
      ]
     },
     "execution_count": 137,
     "metadata": {},
     "output_type": "execute_result"
    }
   ],
   "source": [
    "barcode(diagram)"
   ]
  },
  {
   "cell_type": "markdown",
   "id": "c2d8ef13",
   "metadata": {},
   "source": [
    "PersistenceDiagrams.jl also offers functionality for computing bottlenecks and Wasserstein matchings and also has vectorization methods which can lead to Betti curves and landscapes.\n",
    "\n",
    "source:https://mtsch.github.io/PersistenceDiagrams.jl/dev/"
   ]
  },
  {
   "cell_type": "markdown",
   "id": "6ec9fb29",
   "metadata": {},
   "source": [
    "### Hodge.jl\n",
    "Hodge.jl is a package that can compute betti numbers of simplicial complexes, as well as calculating the discrete hodge decomposition of a cochain. \n",
    "\n",
    "source: https://docs.juliahub.com/General/Hodge/stable/"
   ]
  },
  {
   "cell_type": "raw",
   "id": "859933d4",
   "metadata": {},
   "source": [
    "] add Hodge"
   ]
  },
  {
   "cell_type": "code",
   "execution_count": 138,
   "id": "9c3e1301",
   "metadata": {},
   "outputs": [],
   "source": [
    "using Hodge\n",
    "#documentation source:\n",
    "#https://iagoleal.com/Hodge.jl/dev/refs-api/#Hodge.betti"
   ]
  },
  {
   "cell_type": "code",
   "execution_count": 139,
   "id": "7aa7717b",
   "metadata": {},
   "outputs": [],
   "source": [
    "simpcomp=SimplicialComplex([(1,2,3), (1,2,4), [1], [1,5,9,6], (2,6)]);"
   ]
  },
  {
   "cell_type": "code",
   "execution_count": 140,
   "id": "390d5285",
   "metadata": {},
   "outputs": [
    {
     "data": {
      "text/plain": [
       "SimplicialComplex(3, Hodge.SimplexTrees.STRoot(Hodge.SimplexTrees.STNode[Hodge.SimplexTrees.STNode(1, Hodge.SimplexTrees.STNode[Hodge.SimplexTrees.STNode(2, Hodge.SimplexTrees.STNode[Hodge.SimplexTrees.STNode(3, Hodge.SimplexTrees.STNode[], Hodge.SimplexTrees.STNode(#= circular reference @-3 =#)), Hodge.SimplexTrees.STNode(4, Hodge.SimplexTrees.STNode[], Hodge.SimplexTrees.STNode(#= circular reference @-3 =#))], Hodge.SimplexTrees.STNode(#= circular reference @-3 =#)), Hodge.SimplexTrees.STNode(3, Hodge.SimplexTrees.STNode[], Hodge.SimplexTrees.STNode(#= circular reference @-3 =#)), Hodge.SimplexTrees.STNode(4, Hodge.SimplexTrees.STNode[], Hodge.SimplexTrees.STNode(#= circular reference @-3 =#)), Hodge.SimplexTrees.STNode(5, Hodge.SimplexTrees.STNode[Hodge.SimplexTrees.STNode(6, Hodge.SimplexTrees.STNode[Hodge.SimplexTrees.STNode(9, Hodge.SimplexTrees.STNode[], Hodge.SimplexTrees.STNode(#= circular reference @-3 =#))], Hodge.SimplexTrees.STNode(#= circular reference @-3 =#)), Hodge.SimplexTrees.STNode(9, Hodge.SimplexTrees.STNode[], Hodge.SimplexTrees.STNode(#= circular reference @-3 =#))], Hodge.SimplexTrees.STNode(#= circular reference @-3 =#)), Hodge.SimplexTrees.STNode(6, Hodge.SimplexTrees.STNode[Hodge.SimplexTrees.STNode(9, Hodge.SimplexTrees.STNode[], Hodge.SimplexTrees.STNode(#= circular reference @-3 =#))], Hodge.SimplexTrees.STNode(#= circular reference @-3 =#)), Hodge.SimplexTrees.STNode(9, Hodge.SimplexTrees.STNode[], Hodge.SimplexTrees.STNode(#= circular reference @-3 =#))], Hodge.SimplexTrees.STRoot(#= circular reference @-3 =#)), Hodge.SimplexTrees.STNode(2, Hodge.SimplexTrees.STNode[Hodge.SimplexTrees.STNode(3, Hodge.SimplexTrees.STNode[], Hodge.SimplexTrees.STNode(#= circular reference @-3 =#)), Hodge.SimplexTrees.STNode(4, Hodge.SimplexTrees.STNode[], Hodge.SimplexTrees.STNode(#= circular reference @-3 =#)), Hodge.SimplexTrees.STNode(6, Hodge.SimplexTrees.STNode[], Hodge.SimplexTrees.STNode(#= circular reference @-3 =#))], Hodge.SimplexTrees.STRoot(#= circular reference @-3 =#)), Hodge.SimplexTrees.STNode(3, Hodge.SimplexTrees.STNode[], Hodge.SimplexTrees.STRoot(#= circular reference @-3 =#)), Hodge.SimplexTrees.STNode(4, Hodge.SimplexTrees.STNode[], Hodge.SimplexTrees.STRoot(#= circular reference @-3 =#)), Hodge.SimplexTrees.STNode(5, Hodge.SimplexTrees.STNode[Hodge.SimplexTrees.STNode(6, Hodge.SimplexTrees.STNode[Hodge.SimplexTrees.STNode(9, Hodge.SimplexTrees.STNode[], Hodge.SimplexTrees.STNode(#= circular reference @-3 =#))], Hodge.SimplexTrees.STNode(#= circular reference @-3 =#)), Hodge.SimplexTrees.STNode(9, Hodge.SimplexTrees.STNode[], Hodge.SimplexTrees.STNode(#= circular reference @-3 =#))], Hodge.SimplexTrees.STRoot(#= circular reference @-3 =#)), Hodge.SimplexTrees.STNode(6, Hodge.SimplexTrees.STNode[Hodge.SimplexTrees.STNode(9, Hodge.SimplexTrees.STNode[], Hodge.SimplexTrees.STNode(#= circular reference @-3 =#))], Hodge.SimplexTrees.STRoot(#= circular reference @-3 =#)), Hodge.SimplexTrees.STNode(9, Hodge.SimplexTrees.STNode[], Hodge.SimplexTrees.STRoot(#= circular reference @-3 =#))]))"
      ]
     },
     "execution_count": 140,
     "metadata": {},
     "output_type": "execute_result"
    }
   ],
   "source": [
    "simpcomp"
   ]
  },
  {
   "cell_type": "code",
   "execution_count": 141,
   "id": "43f139d5",
   "metadata": {},
   "outputs": [
    {
     "data": {
      "text/plain": [
       "27-element Vector{Vector{Int64}}:\n",
       " []\n",
       " [1]\n",
       " [2]\n",
       " [3]\n",
       " [4]\n",
       " [5]\n",
       " [6]\n",
       " [9]\n",
       " [1, 2]\n",
       " [1, 3]\n",
       " [1, 4]\n",
       " [1, 5]\n",
       " [1, 6]\n",
       " ⋮\n",
       " [2, 4]\n",
       " [2, 6]\n",
       " [5, 6]\n",
       " [5, 9]\n",
       " [6, 9]\n",
       " [1, 2, 3]\n",
       " [1, 2, 4]\n",
       " [1, 5, 6]\n",
       " [1, 5, 9]\n",
       " [1, 6, 9]\n",
       " [5, 6, 9]\n",
       " [1, 5, 6, 9]"
      ]
     },
     "execution_count": 141,
     "metadata": {},
     "output_type": "execute_result"
    }
   ],
   "source": [
    "simplices(simpcomp)"
   ]
  },
  {
   "cell_type": "code",
   "execution_count": 142,
   "id": "6efa552e",
   "metadata": {},
   "outputs": [
    {
     "data": {
      "text/plain": [
       "0"
      ]
     },
     "execution_count": 142,
     "metadata": {},
     "output_type": "execute_result"
    }
   ],
   "source": [
    "euler_characteristic(simpcomp)"
   ]
  },
  {
   "cell_type": "code",
   "execution_count": 143,
   "id": "294bf746",
   "metadata": {},
   "outputs": [
    {
     "data": {
      "text/plain": [
       "4-element Vector{Int64}:\n",
       " 1\n",
       " 1\n",
       " 0\n",
       " 0"
      ]
     },
     "execution_count": 143,
     "metadata": {},
     "output_type": "execute_result"
    }
   ],
   "source": [
    "betti(simpcomp)"
   ]
  },
  {
   "cell_type": "code",
   "execution_count": 144,
   "id": "79303ffa",
   "metadata": {},
   "outputs": [],
   "source": [
    "circle=SimplicialComplex([(1,2),(1,3),(2,3)]);\n",
    "#circle=SimplicialComplex([(1,2,3,4)])\n",
    "#no way to remove 3-dim simplex (1,2,3,4) after creation, be careful."
   ]
  },
  {
   "cell_type": "code",
   "execution_count": 145,
   "id": "0c860028",
   "metadata": {},
   "outputs": [
    {
     "data": {
      "text/plain": [
       "7-element Vector{Vector{Int64}}:\n",
       " []\n",
       " [1]\n",
       " [2]\n",
       " [3]\n",
       " [1, 2]\n",
       " [1, 3]\n",
       " [2, 3]"
      ]
     },
     "execution_count": 145,
     "metadata": {},
     "output_type": "execute_result"
    }
   ],
   "source": [
    "simplices(circle)"
   ]
  },
  {
   "cell_type": "code",
   "execution_count": 146,
   "id": "b83fa49c",
   "metadata": {},
   "outputs": [
    {
     "data": {
      "text/plain": [
       "0"
      ]
     },
     "execution_count": 146,
     "metadata": {},
     "output_type": "execute_result"
    }
   ],
   "source": [
    "euler_characteristic(circle)"
   ]
  },
  {
   "cell_type": "code",
   "execution_count": 147,
   "id": "562242f0",
   "metadata": {},
   "outputs": [
    {
     "data": {
      "text/plain": [
       "2-element Vector{Int64}:\n",
       " 1\n",
       " 1"
      ]
     },
     "execution_count": 147,
     "metadata": {},
     "output_type": "execute_result"
    }
   ],
   "source": [
    "betti(circle)"
   ]
  },
  {
   "cell_type": "code",
   "execution_count": 148,
   "id": "b3259de6",
   "metadata": {},
   "outputs": [],
   "source": [
    "sphere=SimplicialComplex([(1,2,3),(1,2,4),(1,3,4),(2,3,4)]);"
   ]
  },
  {
   "cell_type": "code",
   "execution_count": 149,
   "id": "821784c0",
   "metadata": {},
   "outputs": [
    {
     "data": {
      "text/plain": [
       "15-element Vector{Vector{Int64}}:\n",
       " []\n",
       " [1]\n",
       " [2]\n",
       " [3]\n",
       " [4]\n",
       " [1, 2]\n",
       " [1, 3]\n",
       " [1, 4]\n",
       " [2, 3]\n",
       " [2, 4]\n",
       " [3, 4]\n",
       " [1, 2, 3]\n",
       " [1, 2, 4]\n",
       " [1, 3, 4]\n",
       " [2, 3, 4]"
      ]
     },
     "execution_count": 149,
     "metadata": {},
     "output_type": "execute_result"
    }
   ],
   "source": [
    "simplices(sphere)"
   ]
  },
  {
   "cell_type": "code",
   "execution_count": 150,
   "id": "a8b32ac7",
   "metadata": {},
   "outputs": [
    {
     "data": {
      "text/plain": [
       "2"
      ]
     },
     "execution_count": 150,
     "metadata": {},
     "output_type": "execute_result"
    }
   ],
   "source": [
    "euler_characteristic(sphere)"
   ]
  },
  {
   "cell_type": "code",
   "execution_count": 151,
   "id": "8fd5dd55",
   "metadata": {},
   "outputs": [
    {
     "data": {
      "text/plain": [
       "3-element Vector{Int64}:\n",
       " 1\n",
       " 0\n",
       " 1"
      ]
     },
     "execution_count": 151,
     "metadata": {},
     "output_type": "execute_result"
    }
   ],
   "source": [
    "betti(sphere)"
   ]
  },
  {
   "cell_type": "code",
   "execution_count": 152,
   "id": "8cb80933",
   "metadata": {},
   "outputs": [],
   "source": [
    "rpp=SimplicialComplex([\n",
    "(0,3,5),(0,1,5),(1,5,6),(1,2,6),(2,6,4),(2,0,4),\n",
    "(3,4,7),(3,5,7),(5,7,8),(5,6,8),(6,8,3),(6,4,3),\n",
    "(0,4,2),(4,2,7),(7,2,1),(7,8,1),(8,1,0),(8,3,0)\n",
    "]);"
   ]
  },
  {
   "cell_type": "code",
   "execution_count": 153,
   "id": "bec87e15",
   "metadata": {},
   "outputs": [
    {
     "data": {
      "text/plain": [
       "53-element Vector{Vector{Int64}}:\n",
       " []\n",
       " [0]\n",
       " [3]\n",
       " [5]\n",
       " [1]\n",
       " [6]\n",
       " [2]\n",
       " [4]\n",
       " [7]\n",
       " [8]\n",
       " [0, 3]\n",
       " [0, 5]\n",
       " [0, 1]\n",
       " ⋮\n",
       " [3, 5, 7]\n",
       " [3, 4, 7]\n",
       " [3, 4, 6]\n",
       " [3, 6, 8]\n",
       " [5, 6, 8]\n",
       " [5, 7, 8]\n",
       " [1, 5, 6]\n",
       " [1, 2, 6]\n",
       " [1, 2, 7]\n",
       " [1, 7, 8]\n",
       " [2, 4, 6]\n",
       " [2, 4, 7]"
      ]
     },
     "execution_count": 153,
     "metadata": {},
     "output_type": "execute_result"
    }
   ],
   "source": [
    "simplices(rpp)"
   ]
  },
  {
   "cell_type": "code",
   "execution_count": 154,
   "id": "389ddf51",
   "metadata": {},
   "outputs": [
    {
     "data": {
      "text/plain": [
       "0"
      ]
     },
     "execution_count": 154,
     "metadata": {},
     "output_type": "execute_result"
    }
   ],
   "source": [
    "euler_characteristic(rpp)"
   ]
  },
  {
   "cell_type": "code",
   "execution_count": 155,
   "id": "31880763",
   "metadata": {},
   "outputs": [
    {
     "data": {
      "text/plain": [
       "3-element Vector{Int64}:\n",
       " 1\n",
       " 1\n",
       " 0"
      ]
     },
     "execution_count": 155,
     "metadata": {},
     "output_type": "execute_result"
    }
   ],
   "source": [
    "betti(rpp)"
   ]
  },
  {
   "cell_type": "code",
   "execution_count": 157,
   "id": "1f7db80d",
   "metadata": {},
   "outputs": [
    {
     "data": {
      "text/plain": [
       "17-element Vector{Vector{Int64}}:\n",
       " [0, 3, 5]\n",
       " [0, 3, 8]\n",
       " [0, 1, 5]\n",
       " [0, 1, 8]\n",
       " [0, 2, 4]\n",
       " [3, 5, 7]\n",
       " [3, 4, 7]\n",
       " [3, 4, 6]\n",
       " [3, 6, 8]\n",
       " [5, 6, 8]\n",
       " [5, 7, 8]\n",
       " [1, 5, 6]\n",
       " [1, 2, 6]\n",
       " [1, 2, 7]\n",
       " [1, 7, 8]\n",
       " [2, 4, 6]\n",
       " [2, 4, 7]"
      ]
     },
     "execution_count": 157,
     "metadata": {},
     "output_type": "execute_result"
    }
   ],
   "source": [
    "simplices(rpp,2)"
   ]
  },
  {
   "cell_type": "raw",
   "id": "29e15a97",
   "metadata": {},
   "source": [
    "using Hodge\n",
    "sphere=SimplicialComplex([(1,2,3),(1,2,4),(1,3,4),(2,3,4)]);\n",
    "betti(sphere)"
   ]
  }
 ],
 "metadata": {
  "kernelspec": {
   "display_name": "Julia 1.9.2",
   "language": "julia",
   "name": "julia-1.9"
  },
  "language_info": {
   "file_extension": ".jl",
   "mimetype": "application/julia",
   "name": "julia",
   "version": "1.9.2"
  }
 },
 "nbformat": 4,
 "nbformat_minor": 5
}
